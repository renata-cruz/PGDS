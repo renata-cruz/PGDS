{
 "cells": [
  {
   "cell_type": "markdown",
   "metadata": {},
   "source": [
    "# Task 2 (Unsupervised Learning) - Characterizing Donors and Donation Type"
   ]
  },
  {
   "cell_type": "markdown",
   "metadata": {},
   "source": [
    "In this task you should **use unsupervised learning algorithms and try to characterize donors (people who really did a donation) and their donation type**. You can use:\n",
    "* **Association rule mining** to find **associations between the features and the target Donation/DonationTYPE**.\n",
    "* **Clustering algorithms to find similar groups of donors**. Is it possible to find groups of donors with the same/similar DonationTYPE?\n",
    "* **Be creative and define your own unsupervised analysis!** What would it be interesting to find out ?"
   ]
  },
  {
   "cell_type": "code",
   "execution_count": 1,
   "metadata": {
    "ExecuteTime": {
     "end_time": "2020-12-30T22:56:02.931432Z",
     "start_time": "2020-12-30T22:56:01.406116Z"
    }
   },
   "outputs": [],
   "source": [
    "import pandas as pd\n",
    "import numpy as np\n",
    "import matplotlib.pyplot as plt\n",
    "import seaborn as sns\n",
    "from sklearn.cluster import KMeans\n",
    "from sklearn.decomposition import PCA\n",
    "from sklearn.preprocessing import StandardScaler\n",
    "from sklearn.preprocessing import OrdinalEncoder\n",
    "from sklearn.metrics import confusion_matrix\n",
    "from sklearn.metrics import cluster\n",
    "from sklearn.metrics.cluster import homogeneity_score\n",
    "from sklearn.metrics.cluster import v_measure_score\n",
    "from sklearn.cluster import AgglomerativeClustering\n",
    "import scipy.cluster.hierarchy as shc"
   ]
  },
  {
   "cell_type": "markdown",
   "metadata": {},
   "source": [
    "In Task 2.2 we were not able to find any groups in the data. However, we were interested in learning if by applying clustering algorithms to a subset of our dataset, we could improve performance and find specific groups. Thus, contructing the subset using variables that could more likely be related to either being a donor, or a particular donation type, could potentially help in the clustering task.\n",
    "For example, financially speaking, even if a person is sensitized to donate, they will not if they do not possess the means to do so. On the other hand, we found in previous studies that the income of each individual had a strong impact in the likelihood of donating. Therefore, we decided to test the quality of the dataset using variables related to such conditions."
   ]
  },
  {
   "cell_type": "markdown",
   "metadata": {},
   "source": [
    "## Donors vs Not Donors"
   ]
  },
  {
   "cell_type": "markdown",
   "metadata": {},
   "source": [
    "### Preprocessing Data for Clustering"
   ]
  },
  {
   "cell_type": "code",
   "execution_count": 2,
   "metadata": {
    "ExecuteTime": {
     "end_time": "2020-12-30T22:56:03.237682Z",
     "start_time": "2020-12-30T22:56:02.934546Z"
    }
   },
   "outputs": [
    {
     "data": {
      "text/html": [
       "<div>\n",
       "<style scoped>\n",
       "    .dataframe tbody tr th:only-of-type {\n",
       "        vertical-align: middle;\n",
       "    }\n",
       "\n",
       "    .dataframe tbody tr th {\n",
       "        vertical-align: top;\n",
       "    }\n",
       "\n",
       "    .dataframe thead th {\n",
       "        text-align: right;\n",
       "    }\n",
       "</style>\n",
       "<table border=\"1\" class=\"dataframe\">\n",
       "  <thead>\n",
       "    <tr style=\"text-align: right;\">\n",
       "      <th></th>\n",
       "      <th>TARGET_B</th>\n",
       "      <th>TARGET_D</th>\n",
       "      <th>MONTHS_SINCE_ORIGIN</th>\n",
       "      <th>DONOR_AGE</th>\n",
       "      <th>IN_HOUSE</th>\n",
       "      <th>SES</th>\n",
       "      <th>CLUSTER_CODE</th>\n",
       "      <th>INCOME_GROUP</th>\n",
       "      <th>MOR_HIT_RATE</th>\n",
       "      <th>MEDIAN_HOME_VALUE</th>\n",
       "      <th>...</th>\n",
       "      <th>LIFETIME_GIFT_RANGE_BIN</th>\n",
       "      <th>LAST_GIFT_AMT_BIN</th>\n",
       "      <th>CARD_PROM_12_BIN</th>\n",
       "      <th>NUMBER_PROM_12_BIN</th>\n",
       "      <th>MONTHS_SINCE_LAST_GIFT_BIN</th>\n",
       "      <th>MONTHS_SINCE_FIRST_GIFT_BIN</th>\n",
       "      <th>FILE_CARD_GIFT_BIN</th>\n",
       "      <th>INCOME_GROUP_BIN</th>\n",
       "      <th>RECENCY_STATUS_96NK_e</th>\n",
       "      <th>DONATION_TYPE</th>\n",
       "    </tr>\n",
       "  </thead>\n",
       "  <tbody>\n",
       "    <tr>\n",
       "      <th>0</th>\n",
       "      <td>1.0</td>\n",
       "      <td>10.0</td>\n",
       "      <td>137.0</td>\n",
       "      <td>79.000000</td>\n",
       "      <td>0.0</td>\n",
       "      <td>2.0</td>\n",
       "      <td>45.0</td>\n",
       "      <td>7.0</td>\n",
       "      <td>0.0</td>\n",
       "      <td>334.0</td>\n",
       "      <td>...</td>\n",
       "      <td>(15.0, 30.0]</td>\n",
       "      <td>(15.0, 30.0]</td>\n",
       "      <td>(3.0, 9.0]</td>\n",
       "      <td>(20.0, 30.0]</td>\n",
       "      <td>(-0.1, 8.0]</td>\n",
       "      <td>(120.0, 260.0]</td>\n",
       "      <td>(10.0, 20.0]</td>\n",
       "      <td>(6.4, 8.337]</td>\n",
       "      <td>4.0</td>\n",
       "      <td>D</td>\n",
       "    </tr>\n",
       "    <tr>\n",
       "      <th>1</th>\n",
       "      <td>0.0</td>\n",
       "      <td>0.0</td>\n",
       "      <td>113.0</td>\n",
       "      <td>75.000000</td>\n",
       "      <td>0.0</td>\n",
       "      <td>1.0</td>\n",
       "      <td>11.0</td>\n",
       "      <td>5.0</td>\n",
       "      <td>0.0</td>\n",
       "      <td>2388.0</td>\n",
       "      <td>...</td>\n",
       "      <td>(15.0, 30.0]</td>\n",
       "      <td>(15.0, 30.0]</td>\n",
       "      <td>(9.0, 14.0]</td>\n",
       "      <td>(30.0, 64.0]</td>\n",
       "      <td>(-0.1, 8.0]</td>\n",
       "      <td>(80.0, 120.0]</td>\n",
       "      <td>(10.0, 20.0]</td>\n",
       "      <td>(4.4, 5.4]</td>\n",
       "      <td>4.0</td>\n",
       "      <td>NaN</td>\n",
       "    </tr>\n",
       "    <tr>\n",
       "      <th>2</th>\n",
       "      <td>0.0</td>\n",
       "      <td>0.0</td>\n",
       "      <td>92.0</td>\n",
       "      <td>62.695162</td>\n",
       "      <td>0.0</td>\n",
       "      <td>2.0</td>\n",
       "      <td>4.0</td>\n",
       "      <td>6.0</td>\n",
       "      <td>0.0</td>\n",
       "      <td>1688.0</td>\n",
       "      <td>...</td>\n",
       "      <td>(-0.1, 15.0]</td>\n",
       "      <td>(-0.1, 15.0]</td>\n",
       "      <td>(9.0, 14.0]</td>\n",
       "      <td>(30.0, 64.0]</td>\n",
       "      <td>(-0.1, 8.0]</td>\n",
       "      <td>(80.0, 120.0]</td>\n",
       "      <td>(10.0, 20.0]</td>\n",
       "      <td>(5.4, 6.4]</td>\n",
       "      <td>0.0</td>\n",
       "      <td>NaN</td>\n",
       "    </tr>\n",
       "    <tr>\n",
       "      <th>3</th>\n",
       "      <td>0.0</td>\n",
       "      <td>0.0</td>\n",
       "      <td>101.0</td>\n",
       "      <td>74.000000</td>\n",
       "      <td>0.0</td>\n",
       "      <td>2.0</td>\n",
       "      <td>49.0</td>\n",
       "      <td>2.0</td>\n",
       "      <td>8.0</td>\n",
       "      <td>514.0</td>\n",
       "      <td>...</td>\n",
       "      <td>(15.0, 30.0]</td>\n",
       "      <td>(15.0, 30.0]</td>\n",
       "      <td>(3.0, 9.0]</td>\n",
       "      <td>(10.0, 20.0]</td>\n",
       "      <td>(16.0, 24.0]</td>\n",
       "      <td>(80.0, 120.0]</td>\n",
       "      <td>(-0.1, 10.0]</td>\n",
       "      <td>(1.4, 2.4]</td>\n",
       "      <td>0.0</td>\n",
       "      <td>NaN</td>\n",
       "    </tr>\n",
       "    <tr>\n",
       "      <th>4</th>\n",
       "      <td>0.0</td>\n",
       "      <td>0.0</td>\n",
       "      <td>101.0</td>\n",
       "      <td>63.000000</td>\n",
       "      <td>0.0</td>\n",
       "      <td>3.0</td>\n",
       "      <td>8.0</td>\n",
       "      <td>3.0</td>\n",
       "      <td>0.0</td>\n",
       "      <td>452.0</td>\n",
       "      <td>...</td>\n",
       "      <td>(-0.1, 15.0]</td>\n",
       "      <td>(-0.1, 15.0]</td>\n",
       "      <td>(3.0, 9.0]</td>\n",
       "      <td>(10.0, 20.0]</td>\n",
       "      <td>(16.0, 24.0]</td>\n",
       "      <td>(80.0, 120.0]</td>\n",
       "      <td>(-0.1, 10.0]</td>\n",
       "      <td>(2.4, 3.4]</td>\n",
       "      <td>0.0</td>\n",
       "      <td>NaN</td>\n",
       "    </tr>\n",
       "  </tbody>\n",
       "</table>\n",
       "<p>5 rows × 75 columns</p>\n",
       "</div>"
      ],
      "text/plain": [
       "   TARGET_B  TARGET_D  MONTHS_SINCE_ORIGIN  DONOR_AGE  IN_HOUSE  SES  \\\n",
       "0       1.0      10.0                137.0  79.000000       0.0  2.0   \n",
       "1       0.0       0.0                113.0  75.000000       0.0  1.0   \n",
       "2       0.0       0.0                 92.0  62.695162       0.0  2.0   \n",
       "3       0.0       0.0                101.0  74.000000       0.0  2.0   \n",
       "4       0.0       0.0                101.0  63.000000       0.0  3.0   \n",
       "\n",
       "   CLUSTER_CODE  INCOME_GROUP  MOR_HIT_RATE  MEDIAN_HOME_VALUE  ...  \\\n",
       "0          45.0           7.0           0.0              334.0  ...   \n",
       "1          11.0           5.0           0.0             2388.0  ...   \n",
       "2           4.0           6.0           0.0             1688.0  ...   \n",
       "3          49.0           2.0           8.0              514.0  ...   \n",
       "4           8.0           3.0           0.0              452.0  ...   \n",
       "\n",
       "   LIFETIME_GIFT_RANGE_BIN  LAST_GIFT_AMT_BIN  CARD_PROM_12_BIN  \\\n",
       "0             (15.0, 30.0]       (15.0, 30.0]        (3.0, 9.0]   \n",
       "1             (15.0, 30.0]       (15.0, 30.0]       (9.0, 14.0]   \n",
       "2             (-0.1, 15.0]       (-0.1, 15.0]       (9.0, 14.0]   \n",
       "3             (15.0, 30.0]       (15.0, 30.0]        (3.0, 9.0]   \n",
       "4             (-0.1, 15.0]       (-0.1, 15.0]        (3.0, 9.0]   \n",
       "\n",
       "   NUMBER_PROM_12_BIN  MONTHS_SINCE_LAST_GIFT_BIN  \\\n",
       "0        (20.0, 30.0]                 (-0.1, 8.0]   \n",
       "1        (30.0, 64.0]                 (-0.1, 8.0]   \n",
       "2        (30.0, 64.0]                 (-0.1, 8.0]   \n",
       "3        (10.0, 20.0]                (16.0, 24.0]   \n",
       "4        (10.0, 20.0]                (16.0, 24.0]   \n",
       "\n",
       "   MONTHS_SINCE_FIRST_GIFT_BIN  FILE_CARD_GIFT_BIN  INCOME_GROUP_BIN  \\\n",
       "0               (120.0, 260.0]        (10.0, 20.0]      (6.4, 8.337]   \n",
       "1                (80.0, 120.0]        (10.0, 20.0]        (4.4, 5.4]   \n",
       "2                (80.0, 120.0]        (10.0, 20.0]        (5.4, 6.4]   \n",
       "3                (80.0, 120.0]        (-0.1, 10.0]        (1.4, 2.4]   \n",
       "4                (80.0, 120.0]        (-0.1, 10.0]        (2.4, 3.4]   \n",
       "\n",
       "   RECENCY_STATUS_96NK_e  DONATION_TYPE  \n",
       "0                    4.0              D  \n",
       "1                    4.0            NaN  \n",
       "2                    0.0            NaN  \n",
       "3                    0.0            NaN  \n",
       "4                    0.0            NaN  \n",
       "\n",
       "[5 rows x 75 columns]"
      ]
     },
     "execution_count": 2,
     "metadata": {},
     "output_type": "execute_result"
    }
   ],
   "source": [
    "df_clean = pd.read_csv('donors_dataset_clean.csv') \n",
    "df_clean.head()"
   ]
  },
  {
   "cell_type": "code",
   "execution_count": 3,
   "metadata": {
    "ExecuteTime": {
     "end_time": "2020-12-30T22:56:03.266091Z",
     "start_time": "2020-12-30T22:56:03.246868Z"
    }
   },
   "outputs": [
    {
     "data": {
      "text/html": [
       "<div>\n",
       "<style scoped>\n",
       "    .dataframe tbody tr th:only-of-type {\n",
       "        vertical-align: middle;\n",
       "    }\n",
       "\n",
       "    .dataframe tbody tr th {\n",
       "        vertical-align: top;\n",
       "    }\n",
       "\n",
       "    .dataframe thead th {\n",
       "        text-align: right;\n",
       "    }\n",
       "</style>\n",
       "<table border=\"1\" class=\"dataframe\">\n",
       "  <thead>\n",
       "    <tr style=\"text-align: right;\">\n",
       "      <th></th>\n",
       "      <th>SES</th>\n",
       "      <th>PER_CAPITA_INCOME</th>\n",
       "      <th>MEDIAN_HOUSEHOLD_INCOME</th>\n",
       "      <th>LAST_GIFT_AMT</th>\n",
       "      <th>INCOME_GROUP</th>\n",
       "      <th>TARGET_B</th>\n",
       "    </tr>\n",
       "  </thead>\n",
       "  <tbody>\n",
       "    <tr>\n",
       "      <th>0</th>\n",
       "      <td>2.0</td>\n",
       "      <td>10385.0</td>\n",
       "      <td>212.0</td>\n",
       "      <td>17.0</td>\n",
       "      <td>7.0</td>\n",
       "      <td>1.0</td>\n",
       "    </tr>\n",
       "    <tr>\n",
       "      <th>1</th>\n",
       "      <td>1.0</td>\n",
       "      <td>30855.0</td>\n",
       "      <td>405.0</td>\n",
       "      <td>19.0</td>\n",
       "      <td>5.0</td>\n",
       "      <td>0.0</td>\n",
       "    </tr>\n",
       "    <tr>\n",
       "      <th>2</th>\n",
       "      <td>2.0</td>\n",
       "      <td>16342.0</td>\n",
       "      <td>153.0</td>\n",
       "      <td>15.0</td>\n",
       "      <td>6.0</td>\n",
       "      <td>0.0</td>\n",
       "    </tr>\n",
       "    <tr>\n",
       "      <th>3</th>\n",
       "      <td>2.0</td>\n",
       "      <td>12107.0</td>\n",
       "      <td>328.0</td>\n",
       "      <td>25.0</td>\n",
       "      <td>2.0</td>\n",
       "      <td>0.0</td>\n",
       "    </tr>\n",
       "    <tr>\n",
       "      <th>4</th>\n",
       "      <td>3.0</td>\n",
       "      <td>6851.0</td>\n",
       "      <td>182.0</td>\n",
       "      <td>10.0</td>\n",
       "      <td>3.0</td>\n",
       "      <td>0.0</td>\n",
       "    </tr>\n",
       "  </tbody>\n",
       "</table>\n",
       "</div>"
      ],
      "text/plain": [
       "   SES  PER_CAPITA_INCOME  MEDIAN_HOUSEHOLD_INCOME  LAST_GIFT_AMT  \\\n",
       "0  2.0            10385.0                    212.0           17.0   \n",
       "1  1.0            30855.0                    405.0           19.0   \n",
       "2  2.0            16342.0                    153.0           15.0   \n",
       "3  2.0            12107.0                    328.0           25.0   \n",
       "4  3.0             6851.0                    182.0           10.0   \n",
       "\n",
       "   INCOME_GROUP  TARGET_B  \n",
       "0           7.0       1.0  \n",
       "1           5.0       0.0  \n",
       "2           6.0       0.0  \n",
       "3           2.0       0.0  \n",
       "4           3.0       0.0  "
      ]
     },
     "execution_count": 3,
     "metadata": {},
     "output_type": "execute_result"
    }
   ],
   "source": [
    "# Create the subset\n",
    "df_targetb = df_clean[['SES', 'PER_CAPITA_INCOME', 'MEDIAN_HOUSEHOLD_INCOME', 'LAST_GIFT_AMT', \n",
    "                       'INCOME_GROUP', 'TARGET_B']]\n",
    "df_targetb.head()"
   ]
  },
  {
   "cell_type": "code",
   "execution_count": 4,
   "metadata": {
    "ExecuteTime": {
     "end_time": "2020-12-30T22:56:03.279444Z",
     "start_time": "2020-12-30T22:56:03.269597Z"
    }
   },
   "outputs": [],
   "source": [
    "# Data preparation: from dataframe to arrays\n",
    "nc = df_targetb.shape[1] \n",
    "matrix = df_targetb.values \n",
    "X_targetb = matrix [:, 0:nc-1]\n",
    "y_targetb = matrix [:, nc-1]       \n",
    "features_targetb = df_targetb.columns.values[0:nc-1]\n",
    "target_targetb = df_targetb.columns.values[nc-1]"
   ]
  },
  {
   "cell_type": "markdown",
   "metadata": {},
   "source": [
    "### K-means Clustering"
   ]
  },
  {
   "cell_type": "code",
   "execution_count": 5,
   "metadata": {
    "ExecuteTime": {
     "end_time": "2020-12-30T22:56:04.357501Z",
     "start_time": "2020-12-30T22:56:03.282176Z"
    }
   },
   "outputs": [
    {
     "name": "stdout",
     "output_type": "stream",
     "text": [
      "Homogeneity Score:  0.00411264170618574\n",
      "V Measure Score:  0.0019094961597882715\n"
     ]
    },
    {
     "data": {
      "text/plain": [
       "Text(0.5, 1.0, 'Contingency Matrix - Donors vs. Not Donors')"
      ]
     },
     "execution_count": 5,
     "metadata": {},
     "output_type": "execute_result"
    },
    {
     "data": {
      "image/png": "[encoded data removed]",
      "text/plain": [
       "<Figure size 432x288 with 1 Axes>"
      ]
     },
     "metadata": {
      "needs_background": "light"
     },
     "output_type": "display_data"
    }
   ],
   "source": [
    "# Standardize the data to have a mean of ~0 and a variance of 1\n",
    "X_std = StandardScaler().fit_transform(X_targetb)\n",
    "\n",
    "# Perform K-Means\n",
    "km = KMeans(n_clusters=9)\n",
    "km = km.fit(X_std)\n",
    "labels_targetb = km.predict(X_std)\n",
    "\n",
    "# Scores\n",
    "print('Homogeneity Score: ', homogeneity_score(y_targetb, labels_targetb))\n",
    "print('V Measure Score: ', v_measure_score(y_targetb, labels_targetb))\n",
    "\n",
    "# Contingency Matrix\n",
    "cont_m = cluster.contingency_matrix(y_targetb, labels_targetb)\n",
    "\n",
    "sns.heatmap(cont_m.T, square=True, annot=True, fmt='d', cbar=False,cmap='Blues')\n",
    "plt.xlabel('True Label')\n",
    "plt.ylabel('Predicted Label');\n",
    "plt.title('Contingency Matrix - Donors vs. Not Donors')"
   ]
  },
  {
   "cell_type": "markdown",
   "metadata": {},
   "source": [
    "### Hierarchical Clustering"
   ]
  },
  {
   "cell_type": "code",
   "execution_count": 6,
   "metadata": {
    "ExecuteTime": {
     "end_time": "2020-12-30T23:03:09.929900Z",
     "start_time": "2020-12-30T22:56:04.361780Z"
    }
   },
   "outputs": [
    {
     "data": {
      "image/png": "[encoded data removed]",
      "text/plain": [
       "<Figure size 720x504 with 1 Axes>"
      ]
     },
     "metadata": {
      "needs_background": "light"
     },
     "output_type": "display_data"
    }
   ],
   "source": [
    "plt.figure(figsize=(10, 7))\n",
    "plt.title('Donors vs. Non-Donors')\n",
    "dend = shc.dendrogram(shc.linkage(X_std, method='ward'))"
   ]
  },
  {
   "cell_type": "markdown",
   "metadata": {},
   "source": [
    "The number of clusters is calculated using the maximum traversing distance up and down without intersecting the merging points. The dendogram automatically gives the number of clusters, evidencing them by color (3 in our case)."
   ]
  },
  {
   "cell_type": "code",
   "execution_count": 7,
   "metadata": {
    "ExecuteTime": {
     "end_time": "2020-12-30T23:03:32.664371Z",
     "start_time": "2020-12-30T23:03:09.933375Z"
    }
   },
   "outputs": [],
   "source": [
    "# Perform Agglomerative Clustering\n",
    "ag_cluster = AgglomerativeClustering(n_clusters=3, affinity='euclidean', linkage='ward')\n",
    "labels_ac = ag_cluster.fit_predict(X_std)"
   ]
  },
  {
   "cell_type": "code",
   "execution_count": 8,
   "metadata": {
    "ExecuteTime": {
     "end_time": "2020-12-30T23:03:32.834880Z",
     "start_time": "2020-12-30T23:03:32.668223Z"
    }
   },
   "outputs": [
    {
     "name": "stdout",
     "output_type": "stream",
     "text": [
      "Homogeneity Score:  0.0013106444680580768\n",
      "V Measure Score:  0.001054016879936887\n"
     ]
    },
    {
     "data": {
      "text/plain": [
       "Text(0.5, 1.0, 'Contingency Matrix - Donors vs. Not Donors')"
      ]
     },
     "execution_count": 8,
     "metadata": {},
     "output_type": "execute_result"
    },
    {
     "data": {
      "image/png": "[encoded data removed]",
      "text/plain": [
       "<Figure size 432x288 with 1 Axes>"
      ]
     },
     "metadata": {
      "needs_background": "light"
     },
     "output_type": "display_data"
    }
   ],
   "source": [
    "# Scores\n",
    "print('Homogeneity Score: ', homogeneity_score(y_targetb, labels_ac))\n",
    "print('V Measure Score: ', v_measure_score(y_targetb, labels_ac))\n",
    "\n",
    "# Contingency Matrix\n",
    "cont_m = cluster.contingency_matrix(y_targetb, labels_ac)\n",
    "\n",
    "sns.heatmap(cont_m.T, square=True, annot=True, fmt='d', cbar=False,cmap='Blues')\n",
    "plt.xlabel('True Label')\n",
    "plt.ylabel('Predicted Label');\n",
    "plt.title('Contingency Matrix - Donors vs. Not Donors')"
   ]
  },
  {
   "cell_type": "markdown",
   "metadata": {},
   "source": [
    "### Results and Discussion "
   ]
  },
  {
   "cell_type": "markdown",
   "metadata": {},
   "source": [
    "K-Means Homogeneity Score is very low, showing the clusters contain data points that are members of several classes. Crossing homogeneity with completeness gives the V Measure Score, which is very low as well. This means there is no tendency to cluster the same class in the same cluster. Hierarchical Clustering presents similar results for Homogeneity Score and V Measure Score. With such small score values, for both K-means and Hierarchical Clustering, the way we calculate proximity might not even be the most relevant factor. The results of both models reveal little correlation between income variables and the propensity to donate. Since these variables usually have a big impact on such propensity, we believe our dataset needed further pre-processing. "
   ]
  },
  {
   "cell_type": "markdown",
   "metadata": {},
   "source": [
    "## Donation Type"
   ]
  },
  {
   "cell_type": "markdown",
   "metadata": {},
   "source": [
    "### Preprocessing Data for Clustering"
   ]
  },
  {
   "cell_type": "code",
   "execution_count": 9,
   "metadata": {
    "ExecuteTime": {
     "end_time": "2020-12-30T23:03:33.161375Z",
     "start_time": "2020-12-30T23:03:32.838661Z"
    }
   },
   "outputs": [
    {
     "data": {
      "text/html": [
       "<div>\n",
       "<style scoped>\n",
       "    .dataframe tbody tr th:only-of-type {\n",
       "        vertical-align: middle;\n",
       "    }\n",
       "\n",
       "    .dataframe tbody tr th {\n",
       "        vertical-align: top;\n",
       "    }\n",
       "\n",
       "    .dataframe thead th {\n",
       "        text-align: right;\n",
       "    }\n",
       "</style>\n",
       "<table border=\"1\" class=\"dataframe\">\n",
       "  <thead>\n",
       "    <tr style=\"text-align: right;\">\n",
       "      <th></th>\n",
       "      <th>TARGET_B</th>\n",
       "      <th>TARGET_D</th>\n",
       "      <th>MONTHS_SINCE_ORIGIN</th>\n",
       "      <th>DONOR_AGE</th>\n",
       "      <th>IN_HOUSE</th>\n",
       "      <th>SES</th>\n",
       "      <th>CLUSTER_CODE</th>\n",
       "      <th>INCOME_GROUP</th>\n",
       "      <th>MOR_HIT_RATE</th>\n",
       "      <th>MEDIAN_HOME_VALUE</th>\n",
       "      <th>...</th>\n",
       "      <th>LIFETIME_GIFT_RANGE_BIN</th>\n",
       "      <th>LAST_GIFT_AMT_BIN</th>\n",
       "      <th>CARD_PROM_12_BIN</th>\n",
       "      <th>NUMBER_PROM_12_BIN</th>\n",
       "      <th>MONTHS_SINCE_LAST_GIFT_BIN</th>\n",
       "      <th>MONTHS_SINCE_FIRST_GIFT_BIN</th>\n",
       "      <th>FILE_CARD_GIFT_BIN</th>\n",
       "      <th>INCOME_GROUP_BIN</th>\n",
       "      <th>RECENCY_STATUS_96NK_e</th>\n",
       "      <th>DONATION_TYPE</th>\n",
       "    </tr>\n",
       "  </thead>\n",
       "  <tbody>\n",
       "    <tr>\n",
       "      <th>0</th>\n",
       "      <td>1.0</td>\n",
       "      <td>10.0</td>\n",
       "      <td>137.0</td>\n",
       "      <td>79.000000</td>\n",
       "      <td>0.0</td>\n",
       "      <td>2.0</td>\n",
       "      <td>45.0</td>\n",
       "      <td>7.0</td>\n",
       "      <td>0.0</td>\n",
       "      <td>334.0</td>\n",
       "      <td>...</td>\n",
       "      <td>(15.0, 30.0]</td>\n",
       "      <td>(15.0, 30.0]</td>\n",
       "      <td>(3.0, 9.0]</td>\n",
       "      <td>(20.0, 30.0]</td>\n",
       "      <td>(-0.1, 8.0]</td>\n",
       "      <td>(120.0, 260.0]</td>\n",
       "      <td>(10.0, 20.0]</td>\n",
       "      <td>(6.4, 8.337]</td>\n",
       "      <td>4.0</td>\n",
       "      <td>D</td>\n",
       "    </tr>\n",
       "    <tr>\n",
       "      <th>1</th>\n",
       "      <td>0.0</td>\n",
       "      <td>0.0</td>\n",
       "      <td>113.0</td>\n",
       "      <td>75.000000</td>\n",
       "      <td>0.0</td>\n",
       "      <td>1.0</td>\n",
       "      <td>11.0</td>\n",
       "      <td>5.0</td>\n",
       "      <td>0.0</td>\n",
       "      <td>2388.0</td>\n",
       "      <td>...</td>\n",
       "      <td>(15.0, 30.0]</td>\n",
       "      <td>(15.0, 30.0]</td>\n",
       "      <td>(9.0, 14.0]</td>\n",
       "      <td>(30.0, 64.0]</td>\n",
       "      <td>(-0.1, 8.0]</td>\n",
       "      <td>(80.0, 120.0]</td>\n",
       "      <td>(10.0, 20.0]</td>\n",
       "      <td>(4.4, 5.4]</td>\n",
       "      <td>4.0</td>\n",
       "      <td>NaN</td>\n",
       "    </tr>\n",
       "    <tr>\n",
       "      <th>2</th>\n",
       "      <td>0.0</td>\n",
       "      <td>0.0</td>\n",
       "      <td>92.0</td>\n",
       "      <td>62.695162</td>\n",
       "      <td>0.0</td>\n",
       "      <td>2.0</td>\n",
       "      <td>4.0</td>\n",
       "      <td>6.0</td>\n",
       "      <td>0.0</td>\n",
       "      <td>1688.0</td>\n",
       "      <td>...</td>\n",
       "      <td>(-0.1, 15.0]</td>\n",
       "      <td>(-0.1, 15.0]</td>\n",
       "      <td>(9.0, 14.0]</td>\n",
       "      <td>(30.0, 64.0]</td>\n",
       "      <td>(-0.1, 8.0]</td>\n",
       "      <td>(80.0, 120.0]</td>\n",
       "      <td>(10.0, 20.0]</td>\n",
       "      <td>(5.4, 6.4]</td>\n",
       "      <td>0.0</td>\n",
       "      <td>NaN</td>\n",
       "    </tr>\n",
       "    <tr>\n",
       "      <th>3</th>\n",
       "      <td>0.0</td>\n",
       "      <td>0.0</td>\n",
       "      <td>101.0</td>\n",
       "      <td>74.000000</td>\n",
       "      <td>0.0</td>\n",
       "      <td>2.0</td>\n",
       "      <td>49.0</td>\n",
       "      <td>2.0</td>\n",
       "      <td>8.0</td>\n",
       "      <td>514.0</td>\n",
       "      <td>...</td>\n",
       "      <td>(15.0, 30.0]</td>\n",
       "      <td>(15.0, 30.0]</td>\n",
       "      <td>(3.0, 9.0]</td>\n",
       "      <td>(10.0, 20.0]</td>\n",
       "      <td>(16.0, 24.0]</td>\n",
       "      <td>(80.0, 120.0]</td>\n",
       "      <td>(-0.1, 10.0]</td>\n",
       "      <td>(1.4, 2.4]</td>\n",
       "      <td>0.0</td>\n",
       "      <td>NaN</td>\n",
       "    </tr>\n",
       "    <tr>\n",
       "      <th>4</th>\n",
       "      <td>0.0</td>\n",
       "      <td>0.0</td>\n",
       "      <td>101.0</td>\n",
       "      <td>63.000000</td>\n",
       "      <td>0.0</td>\n",
       "      <td>3.0</td>\n",
       "      <td>8.0</td>\n",
       "      <td>3.0</td>\n",
       "      <td>0.0</td>\n",
       "      <td>452.0</td>\n",
       "      <td>...</td>\n",
       "      <td>(-0.1, 15.0]</td>\n",
       "      <td>(-0.1, 15.0]</td>\n",
       "      <td>(3.0, 9.0]</td>\n",
       "      <td>(10.0, 20.0]</td>\n",
       "      <td>(16.0, 24.0]</td>\n",
       "      <td>(80.0, 120.0]</td>\n",
       "      <td>(-0.1, 10.0]</td>\n",
       "      <td>(2.4, 3.4]</td>\n",
       "      <td>0.0</td>\n",
       "      <td>NaN</td>\n",
       "    </tr>\n",
       "  </tbody>\n",
       "</table>\n",
       "<p>5 rows × 75 columns</p>\n",
       "</div>"
      ],
      "text/plain": [
       "   TARGET_B  TARGET_D  MONTHS_SINCE_ORIGIN  DONOR_AGE  IN_HOUSE  SES  \\\n",
       "0       1.0      10.0                137.0  79.000000       0.0  2.0   \n",
       "1       0.0       0.0                113.0  75.000000       0.0  1.0   \n",
       "2       0.0       0.0                 92.0  62.695162       0.0  2.0   \n",
       "3       0.0       0.0                101.0  74.000000       0.0  2.0   \n",
       "4       0.0       0.0                101.0  63.000000       0.0  3.0   \n",
       "\n",
       "   CLUSTER_CODE  INCOME_GROUP  MOR_HIT_RATE  MEDIAN_HOME_VALUE  ...  \\\n",
       "0          45.0           7.0           0.0              334.0  ...   \n",
       "1          11.0           5.0           0.0             2388.0  ...   \n",
       "2           4.0           6.0           0.0             1688.0  ...   \n",
       "3          49.0           2.0           8.0              514.0  ...   \n",
       "4           8.0           3.0           0.0              452.0  ...   \n",
       "\n",
       "   LIFETIME_GIFT_RANGE_BIN  LAST_GIFT_AMT_BIN  CARD_PROM_12_BIN  \\\n",
       "0             (15.0, 30.0]       (15.0, 30.0]        (3.0, 9.0]   \n",
       "1             (15.0, 30.0]       (15.0, 30.0]       (9.0, 14.0]   \n",
       "2             (-0.1, 15.0]       (-0.1, 15.0]       (9.0, 14.0]   \n",
       "3             (15.0, 30.0]       (15.0, 30.0]        (3.0, 9.0]   \n",
       "4             (-0.1, 15.0]       (-0.1, 15.0]        (3.0, 9.0]   \n",
       "\n",
       "   NUMBER_PROM_12_BIN  MONTHS_SINCE_LAST_GIFT_BIN  \\\n",
       "0        (20.0, 30.0]                 (-0.1, 8.0]   \n",
       "1        (30.0, 64.0]                 (-0.1, 8.0]   \n",
       "2        (30.0, 64.0]                 (-0.1, 8.0]   \n",
       "3        (10.0, 20.0]                (16.0, 24.0]   \n",
       "4        (10.0, 20.0]                (16.0, 24.0]   \n",
       "\n",
       "   MONTHS_SINCE_FIRST_GIFT_BIN  FILE_CARD_GIFT_BIN  INCOME_GROUP_BIN  \\\n",
       "0               (120.0, 260.0]        (10.0, 20.0]      (6.4, 8.337]   \n",
       "1                (80.0, 120.0]        (10.0, 20.0]        (4.4, 5.4]   \n",
       "2                (80.0, 120.0]        (10.0, 20.0]        (5.4, 6.4]   \n",
       "3                (80.0, 120.0]        (-0.1, 10.0]        (1.4, 2.4]   \n",
       "4                (80.0, 120.0]        (-0.1, 10.0]        (2.4, 3.4]   \n",
       "\n",
       "   RECENCY_STATUS_96NK_e  DONATION_TYPE  \n",
       "0                    4.0              D  \n",
       "1                    4.0            NaN  \n",
       "2                    0.0            NaN  \n",
       "3                    0.0            NaN  \n",
       "4                    0.0            NaN  \n",
       "\n",
       "[5 rows x 75 columns]"
      ]
     },
     "execution_count": 9,
     "metadata": {},
     "output_type": "execute_result"
    }
   ],
   "source": [
    "df_clean = pd.read_csv('donors_dataset_clean.csv') \n",
    "df_clean.head()"
   ]
  },
  {
   "cell_type": "code",
   "execution_count": 10,
   "metadata": {
    "ExecuteTime": {
     "end_time": "2020-12-30T23:03:33.201314Z",
     "start_time": "2020-12-30T23:03:33.164459Z"
    }
   },
   "outputs": [
    {
     "name": "stderr",
     "output_type": "stream",
     "text": [
      "/anaconda3/envs/pgds/lib/python3.7/site-packages/pandas/core/frame.py:3997: SettingWithCopyWarning: \n",
      "A value is trying to be set on a copy of a slice from a DataFrame\n",
      "\n",
      "See the caveats in the documentation: https://pandas.pydata.org/pandas-docs/stable/user_guide/indexing.html#returning-a-view-versus-a-copy\n",
      "  errors=errors,\n"
     ]
    },
    {
     "data": {
      "text/html": [
       "<div>\n",
       "<style scoped>\n",
       "    .dataframe tbody tr th:only-of-type {\n",
       "        vertical-align: middle;\n",
       "    }\n",
       "\n",
       "    .dataframe tbody tr th {\n",
       "        vertical-align: top;\n",
       "    }\n",
       "\n",
       "    .dataframe thead th {\n",
       "        text-align: right;\n",
       "    }\n",
       "</style>\n",
       "<table border=\"1\" class=\"dataframe\">\n",
       "  <thead>\n",
       "    <tr style=\"text-align: right;\">\n",
       "      <th></th>\n",
       "      <th>SES</th>\n",
       "      <th>PER_CAPITA_INCOME</th>\n",
       "      <th>MEDIAN_HOUSEHOLD_INCOME</th>\n",
       "      <th>LAST_GIFT_AMT</th>\n",
       "      <th>INCOME_GROUP</th>\n",
       "      <th>DONATION_TYPE</th>\n",
       "    </tr>\n",
       "  </thead>\n",
       "  <tbody>\n",
       "    <tr>\n",
       "      <th>0</th>\n",
       "      <td>2.0</td>\n",
       "      <td>10385.0</td>\n",
       "      <td>212.0</td>\n",
       "      <td>17.0</td>\n",
       "      <td>7.000000</td>\n",
       "      <td>D</td>\n",
       "    </tr>\n",
       "    <tr>\n",
       "      <th>6</th>\n",
       "      <td>2.0</td>\n",
       "      <td>12667.0</td>\n",
       "      <td>189.0</td>\n",
       "      <td>5.0</td>\n",
       "      <td>1.000000</td>\n",
       "      <td>E</td>\n",
       "    </tr>\n",
       "    <tr>\n",
       "      <th>8</th>\n",
       "      <td>2.0</td>\n",
       "      <td>11428.0</td>\n",
       "      <td>307.0</td>\n",
       "      <td>8.0</td>\n",
       "      <td>4.000000</td>\n",
       "      <td>C</td>\n",
       "    </tr>\n",
       "    <tr>\n",
       "      <th>13</th>\n",
       "      <td>2.0</td>\n",
       "      <td>10221.0</td>\n",
       "      <td>227.0</td>\n",
       "      <td>10.0</td>\n",
       "      <td>3.346812</td>\n",
       "      <td>E</td>\n",
       "    </tr>\n",
       "    <tr>\n",
       "      <th>14</th>\n",
       "      <td>2.0</td>\n",
       "      <td>12208.0</td>\n",
       "      <td>236.0</td>\n",
       "      <td>15.0</td>\n",
       "      <td>4.000000</td>\n",
       "      <td>D</td>\n",
       "    </tr>\n",
       "  </tbody>\n",
       "</table>\n",
       "</div>"
      ],
      "text/plain": [
       "    SES  PER_CAPITA_INCOME  MEDIAN_HOUSEHOLD_INCOME  LAST_GIFT_AMT  \\\n",
       "0   2.0            10385.0                    212.0           17.0   \n",
       "6   2.0            12667.0                    189.0            5.0   \n",
       "8   2.0            11428.0                    307.0            8.0   \n",
       "13  2.0            10221.0                    227.0           10.0   \n",
       "14  2.0            12208.0                    236.0           15.0   \n",
       "\n",
       "    INCOME_GROUP DONATION_TYPE  \n",
       "0       7.000000             D  \n",
       "6       1.000000             E  \n",
       "8       4.000000             C  \n",
       "13      3.346812             E  \n",
       "14      4.000000             D  "
      ]
     },
     "execution_count": 10,
     "metadata": {},
     "output_type": "execute_result"
    }
   ],
   "source": [
    "# Create the subset\n",
    "df_donation = df_clean[['SES', 'PER_CAPITA_INCOME', 'MEDIAN_HOUSEHOLD_INCOME', 'LAST_GIFT_AMT', \n",
    "                            'INCOME_GROUP', 'DONATION_TYPE']]\n",
    "df_donation.drop(df_donation[df_donation['DONATION_TYPE'].isnull()].index, inplace=True)\n",
    "df_donation.head()"
   ]
  },
  {
   "cell_type": "code",
   "execution_count": 11,
   "metadata": {
    "ExecuteTime": {
     "end_time": "2020-12-30T23:03:33.216079Z",
     "start_time": "2020-12-30T23:03:33.205220Z"
    }
   },
   "outputs": [],
   "source": [
    "# Data preparation: from dataframe to arrays\n",
    "nc = df_donation.shape[1]\n",
    "matrix = df_donation.values \n",
    "X_donation = matrix [:, 0:nc-1] \n",
    "y_donation = matrix [:, nc-1]        \n",
    "features_donationtype = df_donation.columns.values[0:nc-1]\n",
    "target_donationtype = df_donation.columns.values[nc-1]"
   ]
  },
  {
   "cell_type": "markdown",
   "metadata": {},
   "source": [
    "### K-means"
   ]
  },
  {
   "cell_type": "code",
   "execution_count": 12,
   "metadata": {
    "ExecuteTime": {
     "end_time": "2020-12-30T23:03:33.940412Z",
     "start_time": "2020-12-30T23:03:33.220305Z"
    }
   },
   "outputs": [
    {
     "name": "stdout",
     "output_type": "stream",
     "text": [
      "Homogeneity Score:  0.038940874772140886\n",
      "V Measure Score:  0.034932368309027934\n"
     ]
    },
    {
     "data": {
      "text/plain": [
       "Text(0.5, 1.0, 'Contingency Matrix - Donation Type')"
      ]
     },
     "execution_count": 12,
     "metadata": {},
     "output_type": "execute_result"
    },
    {
     "data": {
      "image/png": "[encoded data removed]",
      "text/plain": [
       "<Figure size 432x288 with 1 Axes>"
      ]
     },
     "metadata": {
      "needs_background": "light"
     },
     "output_type": "display_data"
    }
   ],
   "source": [
    "# Standardize the data to have a mean of ~0 and a variance of 1\n",
    "X_std = StandardScaler().fit_transform(X_donation)\n",
    "\n",
    "# Perform K-Means\n",
    "km = KMeans(n_clusters=9)\n",
    "km = km.fit(X_std)\n",
    "labels_donation = km.predict(X_std)\n",
    "\n",
    "# Scores\n",
    "print('Homogeneity Score: ', homogeneity_score(y_donation, labels_donation))\n",
    "print('V Measure Score: ', v_measure_score(y_donation, labels_donation))\n",
    "\n",
    "# Contingency Matrix donation_type\n",
    "cont_m_donation = cluster.contingency_matrix(y_donation, labels_donation)\n",
    "\n",
    "sns.heatmap(cont_m_donation.T, square=True, annot=True, fmt='d', cbar=False,cmap='Blues')\n",
    "plt.xlabel('True Label')\n",
    "plt.ylabel('Predicted Label');\n",
    "plt.title('Contingency Matrix - Donation Type')"
   ]
  },
  {
   "cell_type": "markdown",
   "metadata": {},
   "source": [
    "### Hierarchical Clustering"
   ]
  },
  {
   "cell_type": "code",
   "execution_count": 13,
   "metadata": {
    "ExecuteTime": {
     "end_time": "2020-12-30T23:05:13.656386Z",
     "start_time": "2020-12-30T23:03:33.942811Z"
    }
   },
   "outputs": [
    {
     "data": {
      "image/png": "[encoded data removed]",
      "text/plain": [
       "<Figure size 720x504 with 1 Axes>"
      ]
     },
     "metadata": {
      "needs_background": "light"
     },
     "output_type": "display_data"
    }
   ],
   "source": [
    "plt.figure(figsize=(10, 7))\n",
    "plt.title('Donation Type')\n",
    "dend = shc.dendrogram(shc.linkage(X_std, method='ward'))"
   ]
  },
  {
   "cell_type": "code",
   "execution_count": 14,
   "metadata": {
    "ExecuteTime": {
     "end_time": "2020-12-30T23:05:14.429411Z",
     "start_time": "2020-12-30T23:05:13.660113Z"
    }
   },
   "outputs": [],
   "source": [
    "# Perform Agglomerative Clustering\n",
    "ag_cluster = AgglomerativeClustering(n_clusters=2, affinity='euclidean', linkage='ward')\n",
    "labels_ac = ag_cluster.fit_predict(X_std)"
   ]
  },
  {
   "cell_type": "code",
   "execution_count": 15,
   "metadata": {
    "ExecuteTime": {
     "end_time": "2020-12-30T23:05:14.585233Z",
     "start_time": "2020-12-30T23:05:14.431388Z"
    }
   },
   "outputs": [
    {
     "name": "stdout",
     "output_type": "stream",
     "text": [
      "Homogeneity Score:  0.018318072315088585\n",
      "V Measure Score:  0.02479924404828882\n"
     ]
    },
    {
     "data": {
      "text/plain": [
       "Text(0.5, 1.0, 'Contingency Matrix - Donors vs. Not Donors')"
      ]
     },
     "execution_count": 15,
     "metadata": {},
     "output_type": "execute_result"
    },
    {
     "data": {
      "image/png": "[encoded data removed]",
      "text/plain": [
       "<Figure size 432x288 with 1 Axes>"
      ]
     },
     "metadata": {
      "needs_background": "light"
     },
     "output_type": "display_data"
    }
   ],
   "source": [
    "# Scores\n",
    "print('Homogeneity Score: ', homogeneity_score(y_donation, labels_ac))\n",
    "print('V Measure Score: ', v_measure_score(y_donation, labels_ac))\n",
    "\n",
    "# Contingency Matrix\n",
    "cont_m = cluster.contingency_matrix(y_donation, labels_ac)\n",
    "\n",
    "sns.heatmap(cont_m.T, square=True, annot=True, fmt='d', cbar=False,cmap='Blues')\n",
    "plt.xlabel('True Label')\n",
    "plt.ylabel('Predicted Label');\n",
    "plt.title('Contingency Matrix - Donors vs. Not Donors')"
   ]
  },
  {
   "cell_type": "markdown",
   "metadata": {},
   "source": [
    "### Results and Discussion "
   ]
  },
  {
   "cell_type": "markdown",
   "metadata": {},
   "source": [
    "The results for this task were similar to Task 2.2. The slight increase in the results might point to the importance of the chosen features in the amount of donation given to charity. Curiously, even though we had more targets for Donation Type when compared to Donating, our Hierarchical Cluster dendrogram produced less clusters, two to be precise, showing the largest distance value is between 2 joining clusters. If the scores had been higher, it would have been interesting to inspect their content to find how they alone would separate donation types into clusters. Once again, we assume the bad results are due to deficient data pre-processing. On a different note, in both tasks K-means obtained better results than Hierachical Clustering and took less time to compute."
   ]
  },
  {
   "cell_type": "code",
   "execution_count": null,
   "metadata": {},
   "outputs": [],
   "source": []
  }
 ],
 "metadata": {
  "kernelspec": {
   "display_name": "Python 3",
   "language": "python",
   "name": "python3"
  },
  "language_info": {
   "codemirror_mode": {
    "name": "ipython",
    "version": 3
   },
   "file_extension": ".py",
   "mimetype": "text/x-python",
   "name": "python",
   "nbconvert_exporter": "python",
   "pygments_lexer": "ipython3",
   "version": "3.7.7"
  },
  "toc": {
   "base_numbering": 1,
   "nav_menu": {},
   "number_sections": true,
   "sideBar": true,
   "skip_h1_title": true,
   "title_cell": "Table of Contents",
   "title_sidebar": "Contents",
   "toc_cell": false,
   "toc_position": {},
   "toc_section_display": true,
   "toc_window_display": true
  }
 },
 "nbformat": 4,
 "nbformat_minor": 4
}
