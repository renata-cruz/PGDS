{
 "cells": [
  {
   "cell_type": "markdown",
   "metadata": {},
   "source": [
    "## Task 1.3.2 (Supervised Learning) - Predicting Adoption Speed For Cats and Dogs Separately\n",
    "3.2 **Train specialized models for cats and dogs**: train with cat/dog instances and check whether the classification performance changes when Predicting Adoption and Predicting AdoptionSpeed."
   ]
  },
  {
   "cell_type": "code",
   "execution_count": 1,
   "metadata": {},
   "outputs": [],
   "source": [
    "import numpy as np\n",
    "import scipy as sp\n",
    "import pandas as pd\n",
    "import matplotlib.pyplot as plt\n",
    "import matplotlib\n",
    "import seaborn as sns\n",
    "import pandas_profiling\n",
    "from sklearn.metrics import accuracy_score\n",
    "from sklearn.model_selection import train_test_split\n",
    "from sklearn.tree import DecisionTreeClassifier\n",
    "from sklearn.model_selection import cross_val_score\n",
    "from sklearn.linear_model import LinearRegression\n",
    "from sklearn.metrics import accuracy_score\n",
    "from sklearn.metrics import classification_report\n",
    "from sklearn import metrics\n",
    "from sklearn.pipeline import Pipeline\n",
    "from sklearn.linear_model import LogisticRegression\n",
    "from sklearn.decomposition import PCA\n",
    "from sklearn.naive_bayes import MultinomialNB\n",
    "from xgboost import XGBClassifier\n",
    "from sklearn.ensemble import RandomForestClassifier\n",
    "from sklearn.gaussian_process import GaussianProcessClassifier\n",
    "import itertools\n",
    "from nltk import NaiveBayesClassifier\n",
    "from sklearn.feature_extraction.text import CountVectorizer, TfidfVectorizer, HashingVectorizer\n",
    "from sklearn.model_selection import train_test_split\n",
    "from sklearn.linear_model import PassiveAggressiveClassifier, SGDClassifier\n",
    "from sklearn.svm import LinearSVC\n",
    "from sklearn.naive_bayes import MultinomialNB\n",
    "from sklearn.naive_bayes import GaussianNB\n",
    "from sklearn.naive_bayes import BernoulliNB\n",
    "from sklearn.model_selection import GridSearchCV\n",
    "from sklearn import metrics\n",
    "import matplotlib.pyplot as plt\n",
    "import warnings\n",
    "from sklearn.neighbors import KNeighborsClassifier\n",
    "from textblob import TextBlob\n",
    "from sklearn.ensemble import AdaBoostClassifier , VotingClassifier\n",
    "from sklearn import preprocessing\n",
    "from sklearn import tree\n",
    "import warnings\n",
    "import pydot\n",
    "from imblearn.over_sampling import RandomOverSampler\n",
    "from imblearn.over_sampling import SMOTE,ADASYN,SMOTENC\n",
    "from collections import Counter\n",
    "import random\n",
    "from IPython.display import HTML, display\n",
    "%matplotlib inline\n",
    "warnings.filterwarnings('ignore')"
   ]
  },
  {
   "cell_type": "markdown",
   "metadata": {},
   "source": [
    "## Read the preprocessed dataset"
   ]
  },
  {
   "cell_type": "code",
   "execution_count": 2,
   "metadata": {},
   "outputs": [],
   "source": [
    "PetFinder_dataset = pd.read_csv(\"PetFinder_dataset_pp.csv\")"
   ]
  },
  {
   "cell_type": "code",
   "execution_count": 3,
   "metadata": {},
   "outputs": [],
   "source": [
    "MultiClassClassification = PetFinder_dataset.drop(['Adopted','InitialAdoptionSpeed','AgeBin','FeeBin','PhotoAmtBin','PolarityBin','DescwordsBin','SubjectivityBin'],axis=1).copy(deep=True)"
   ]
  },
  {
   "cell_type": "code",
   "execution_count": 4,
   "metadata": {},
   "outputs": [
    {
     "data": {
      "text/html": [
       "<div>\n",
       "<style scoped>\n",
       "    .dataframe tbody tr th:only-of-type {\n",
       "        vertical-align: middle;\n",
       "    }\n",
       "\n",
       "    .dataframe tbody tr th {\n",
       "        vertical-align: top;\n",
       "    }\n",
       "\n",
       "    .dataframe thead th {\n",
       "        text-align: right;\n",
       "    }\n",
       "</style>\n",
       "<table border=\"1\" class=\"dataframe\">\n",
       "  <thead>\n",
       "    <tr style=\"text-align: right;\">\n",
       "      <th></th>\n",
       "      <th>Type</th>\n",
       "      <th>Age</th>\n",
       "      <th>Gender</th>\n",
       "      <th>MaturitySize</th>\n",
       "      <th>FurLength</th>\n",
       "      <th>Vaccinated</th>\n",
       "      <th>Dewormed</th>\n",
       "      <th>Sterilized</th>\n",
       "      <th>Health</th>\n",
       "      <th>Quantity</th>\n",
       "      <th>Fee</th>\n",
       "      <th>State</th>\n",
       "      <th>PhotoAmt</th>\n",
       "      <th>Hasname</th>\n",
       "      <th>Breed</th>\n",
       "      <th>Color</th>\n",
       "      <th>Polarity</th>\n",
       "      <th>Subjectivity</th>\n",
       "      <th>DescWords</th>\n",
       "      <th>AdoptionSpeed</th>\n",
       "    </tr>\n",
       "  </thead>\n",
       "  <tbody>\n",
       "    <tr>\n",
       "      <th>0</th>\n",
       "      <td>Cat</td>\n",
       "      <td>3</td>\n",
       "      <td>Male</td>\n",
       "      <td>Small</td>\n",
       "      <td>Short</td>\n",
       "      <td>No</td>\n",
       "      <td>No</td>\n",
       "      <td>No</td>\n",
       "      <td>Healthy</td>\n",
       "      <td>1</td>\n",
       "      <td>100</td>\n",
       "      <td>Selangor</td>\n",
       "      <td>1.0</td>\n",
       "      <td>1</td>\n",
       "      <td>Purebreed</td>\n",
       "      <td>BlackOther</td>\n",
       "      <td>0.130357</td>\n",
       "      <td>0.407143</td>\n",
       "      <td>69</td>\n",
       "      <td>instant adoption</td>\n",
       "    </tr>\n",
       "    <tr>\n",
       "      <th>1</th>\n",
       "      <td>Cat</td>\n",
       "      <td>1</td>\n",
       "      <td>Male</td>\n",
       "      <td>Medium</td>\n",
       "      <td>Medium</td>\n",
       "      <td>Not Sure</td>\n",
       "      <td>Not Sure</td>\n",
       "      <td>Not Sure</td>\n",
       "      <td>Healthy</td>\n",
       "      <td>1</td>\n",
       "      <td>0</td>\n",
       "      <td>Kuala Lumpur</td>\n",
       "      <td>2.0</td>\n",
       "      <td>0</td>\n",
       "      <td>Domestic</td>\n",
       "      <td>BlackOther</td>\n",
       "      <td>0.100000</td>\n",
       "      <td>0.400000</td>\n",
       "      <td>23</td>\n",
       "      <td>instant adoption</td>\n",
       "    </tr>\n",
       "    <tr>\n",
       "      <th>2</th>\n",
       "      <td>Dog</td>\n",
       "      <td>1</td>\n",
       "      <td>Male</td>\n",
       "      <td>Medium</td>\n",
       "      <td>Medium</td>\n",
       "      <td>Yes</td>\n",
       "      <td>Yes</td>\n",
       "      <td>No</td>\n",
       "      <td>Healthy</td>\n",
       "      <td>1</td>\n",
       "      <td>0</td>\n",
       "      <td>Selangor</td>\n",
       "      <td>7.0</td>\n",
       "      <td>1</td>\n",
       "      <td>Mixed Breed</td>\n",
       "      <td>BrownOther</td>\n",
       "      <td>0.261905</td>\n",
       "      <td>0.542857</td>\n",
       "      <td>69</td>\n",
       "      <td>delayed adoption</td>\n",
       "    </tr>\n",
       "    <tr>\n",
       "      <th>3</th>\n",
       "      <td>Dog</td>\n",
       "      <td>4</td>\n",
       "      <td>Female</td>\n",
       "      <td>Medium</td>\n",
       "      <td>Short</td>\n",
       "      <td>Yes</td>\n",
       "      <td>Yes</td>\n",
       "      <td>No</td>\n",
       "      <td>Healthy</td>\n",
       "      <td>1</td>\n",
       "      <td>150</td>\n",
       "      <td>Kuala Lumpur</td>\n",
       "      <td>8.0</td>\n",
       "      <td>1</td>\n",
       "      <td>Mixed Breed</td>\n",
       "      <td>BlackOther</td>\n",
       "      <td>0.341146</td>\n",
       "      <td>0.437500</td>\n",
       "      <td>25</td>\n",
       "      <td>instant adoption</td>\n",
       "    </tr>\n",
       "    <tr>\n",
       "      <th>4</th>\n",
       "      <td>Dog</td>\n",
       "      <td>1</td>\n",
       "      <td>Male</td>\n",
       "      <td>Medium</td>\n",
       "      <td>Short</td>\n",
       "      <td>No</td>\n",
       "      <td>No</td>\n",
       "      <td>No</td>\n",
       "      <td>Healthy</td>\n",
       "      <td>1</td>\n",
       "      <td>0</td>\n",
       "      <td>Selangor</td>\n",
       "      <td>3.0</td>\n",
       "      <td>1</td>\n",
       "      <td>Mixed Breed</td>\n",
       "      <td>Black</td>\n",
       "      <td>0.400000</td>\n",
       "      <td>0.743750</td>\n",
       "      <td>81</td>\n",
       "      <td>instant adoption</td>\n",
       "    </tr>\n",
       "    <tr>\n",
       "      <th>5</th>\n",
       "      <td>Cat</td>\n",
       "      <td>3</td>\n",
       "      <td>Female</td>\n",
       "      <td>Medium</td>\n",
       "      <td>Short</td>\n",
       "      <td>No</td>\n",
       "      <td>No</td>\n",
       "      <td>No</td>\n",
       "      <td>Healthy</td>\n",
       "      <td>1</td>\n",
       "      <td>0</td>\n",
       "      <td>Selangor</td>\n",
       "      <td>2.0</td>\n",
       "      <td>0</td>\n",
       "      <td>Domestic</td>\n",
       "      <td>CreamOther</td>\n",
       "      <td>0.000000</td>\n",
       "      <td>0.000000</td>\n",
       "      <td>18</td>\n",
       "      <td>instant adoption</td>\n",
       "    </tr>\n",
       "    <tr>\n",
       "      <th>6</th>\n",
       "      <td>Cat</td>\n",
       "      <td>12</td>\n",
       "      <td>Male</td>\n",
       "      <td>Medium</td>\n",
       "      <td>Long</td>\n",
       "      <td>No</td>\n",
       "      <td>No</td>\n",
       "      <td>Not Sure</td>\n",
       "      <td>Healthy</td>\n",
       "      <td>1</td>\n",
       "      <td>300</td>\n",
       "      <td>Selangor</td>\n",
       "      <td>3.0</td>\n",
       "      <td>1</td>\n",
       "      <td>Domestic</td>\n",
       "      <td>Black</td>\n",
       "      <td>0.250000</td>\n",
       "      <td>0.390000</td>\n",
       "      <td>78</td>\n",
       "      <td>instant adoption</td>\n",
       "    </tr>\n",
       "    <tr>\n",
       "      <th>7</th>\n",
       "      <td>Cat</td>\n",
       "      <td>2</td>\n",
       "      <td>Female</td>\n",
       "      <td>Medium</td>\n",
       "      <td>Medium</td>\n",
       "      <td>No</td>\n",
       "      <td>No</td>\n",
       "      <td>No</td>\n",
       "      <td>Healthy</td>\n",
       "      <td>1</td>\n",
       "      <td>0</td>\n",
       "      <td>Selangor</td>\n",
       "      <td>6.0</td>\n",
       "      <td>0</td>\n",
       "      <td>Domestic</td>\n",
       "      <td>Gray</td>\n",
       "      <td>0.038889</td>\n",
       "      <td>0.662963</td>\n",
       "      <td>13</td>\n",
       "      <td>instant adoption</td>\n",
       "    </tr>\n",
       "    <tr>\n",
       "      <th>8</th>\n",
       "      <td>Cat</td>\n",
       "      <td>12</td>\n",
       "      <td>Female</td>\n",
       "      <td>Medium</td>\n",
       "      <td>Medium</td>\n",
       "      <td>Not Sure</td>\n",
       "      <td>Not Sure</td>\n",
       "      <td>Not Sure</td>\n",
       "      <td>Healthy</td>\n",
       "      <td>1</td>\n",
       "      <td>0</td>\n",
       "      <td>Selangor</td>\n",
       "      <td>2.0</td>\n",
       "      <td>1</td>\n",
       "      <td>Domestic</td>\n",
       "      <td>BlackOther</td>\n",
       "      <td>0.213750</td>\n",
       "      <td>0.511250</td>\n",
       "      <td>45</td>\n",
       "      <td>very late adoption</td>\n",
       "    </tr>\n",
       "    <tr>\n",
       "      <th>9</th>\n",
       "      <td>Dog</td>\n",
       "      <td>2</td>\n",
       "      <td>Male</td>\n",
       "      <td>Medium</td>\n",
       "      <td>Short</td>\n",
       "      <td>No</td>\n",
       "      <td>Yes</td>\n",
       "      <td>No</td>\n",
       "      <td>Healthy</td>\n",
       "      <td>1</td>\n",
       "      <td>0</td>\n",
       "      <td>Kuala Lumpur</td>\n",
       "      <td>7.0</td>\n",
       "      <td>1</td>\n",
       "      <td>Mixed Breed</td>\n",
       "      <td>BlackOther</td>\n",
       "      <td>0.138889</td>\n",
       "      <td>0.455556</td>\n",
       "      <td>12</td>\n",
       "      <td>instant adoption</td>\n",
       "    </tr>\n",
       "    <tr>\n",
       "      <th>10</th>\n",
       "      <td>Cat</td>\n",
       "      <td>3</td>\n",
       "      <td>Female</td>\n",
       "      <td>Large</td>\n",
       "      <td>Long</td>\n",
       "      <td>Yes</td>\n",
       "      <td>Yes</td>\n",
       "      <td>No</td>\n",
       "      <td>Healthy</td>\n",
       "      <td>1</td>\n",
       "      <td>50</td>\n",
       "      <td>Selangor</td>\n",
       "      <td>2.0</td>\n",
       "      <td>1</td>\n",
       "      <td>Domestic</td>\n",
       "      <td>BlackOther</td>\n",
       "      <td>0.065798</td>\n",
       "      <td>0.505742</td>\n",
       "      <td>126</td>\n",
       "      <td>instant adoption</td>\n",
       "    </tr>\n",
       "    <tr>\n",
       "      <th>11</th>\n",
       "      <td>Dog</td>\n",
       "      <td>2</td>\n",
       "      <td>Male</td>\n",
       "      <td>Medium</td>\n",
       "      <td>Long</td>\n",
       "      <td>Yes</td>\n",
       "      <td>Yes</td>\n",
       "      <td>No</td>\n",
       "      <td>Healthy</td>\n",
       "      <td>1</td>\n",
       "      <td>0</td>\n",
       "      <td>Selangor</td>\n",
       "      <td>1.0</td>\n",
       "      <td>1</td>\n",
       "      <td>Mixed Breed</td>\n",
       "      <td>BrownOther</td>\n",
       "      <td>0.408333</td>\n",
       "      <td>0.712500</td>\n",
       "      <td>49</td>\n",
       "      <td>instant adoption</td>\n",
       "    </tr>\n",
       "    <tr>\n",
       "      <th>12</th>\n",
       "      <td>Dog</td>\n",
       "      <td>3</td>\n",
       "      <td>Female</td>\n",
       "      <td>Medium</td>\n",
       "      <td>Medium</td>\n",
       "      <td>Not Sure</td>\n",
       "      <td>Not Sure</td>\n",
       "      <td>Not Sure</td>\n",
       "      <td>Healthy</td>\n",
       "      <td>1</td>\n",
       "      <td>0</td>\n",
       "      <td>Kuala Lumpur</td>\n",
       "      <td>2.0</td>\n",
       "      <td>1</td>\n",
       "      <td>Mixed Breed</td>\n",
       "      <td>BrownOther</td>\n",
       "      <td>0.166667</td>\n",
       "      <td>0.300000</td>\n",
       "      <td>67</td>\n",
       "      <td>instant adoption</td>\n",
       "    </tr>\n",
       "    <tr>\n",
       "      <th>13</th>\n",
       "      <td>Dog</td>\n",
       "      <td>78</td>\n",
       "      <td>Male</td>\n",
       "      <td>Medium</td>\n",
       "      <td>Medium</td>\n",
       "      <td>Not Sure</td>\n",
       "      <td>Not Sure</td>\n",
       "      <td>Not Sure</td>\n",
       "      <td>Healthy</td>\n",
       "      <td>1</td>\n",
       "      <td>0</td>\n",
       "      <td>Selangor</td>\n",
       "      <td>2.0</td>\n",
       "      <td>1</td>\n",
       "      <td>Mixed Breed</td>\n",
       "      <td>BlackOther</td>\n",
       "      <td>0.502083</td>\n",
       "      <td>0.645833</td>\n",
       "      <td>68</td>\n",
       "      <td>very late adoption</td>\n",
       "    </tr>\n",
       "    <tr>\n",
       "      <th>14</th>\n",
       "      <td>Cat</td>\n",
       "      <td>6</td>\n",
       "      <td>Female</td>\n",
       "      <td>Small</td>\n",
       "      <td>Short</td>\n",
       "      <td>Yes</td>\n",
       "      <td>Yes</td>\n",
       "      <td>Yes</td>\n",
       "      <td>Healthy</td>\n",
       "      <td>1</td>\n",
       "      <td>0</td>\n",
       "      <td>Selangor</td>\n",
       "      <td>1.0</td>\n",
       "      <td>1</td>\n",
       "      <td>Domestic</td>\n",
       "      <td>Brown</td>\n",
       "      <td>0.437500</td>\n",
       "      <td>0.750000</td>\n",
       "      <td>8</td>\n",
       "      <td>delayed adoption</td>\n",
       "    </tr>\n",
       "    <tr>\n",
       "      <th>15</th>\n",
       "      <td>Dog</td>\n",
       "      <td>8</td>\n",
       "      <td>Female</td>\n",
       "      <td>Medium</td>\n",
       "      <td>Short</td>\n",
       "      <td>No</td>\n",
       "      <td>Yes</td>\n",
       "      <td>Yes</td>\n",
       "      <td>Healthy</td>\n",
       "      <td>1</td>\n",
       "      <td>10</td>\n",
       "      <td>Perak</td>\n",
       "      <td>2.0</td>\n",
       "      <td>1</td>\n",
       "      <td>Mixed Breed</td>\n",
       "      <td>Brown</td>\n",
       "      <td>0.213333</td>\n",
       "      <td>0.460000</td>\n",
       "      <td>71</td>\n",
       "      <td>very late adoption</td>\n",
       "    </tr>\n",
       "    <tr>\n",
       "      <th>16</th>\n",
       "      <td>Dog</td>\n",
       "      <td>2</td>\n",
       "      <td>Female</td>\n",
       "      <td>Medium</td>\n",
       "      <td>Short</td>\n",
       "      <td>No</td>\n",
       "      <td>Yes</td>\n",
       "      <td>No</td>\n",
       "      <td>Healthy</td>\n",
       "      <td>1</td>\n",
       "      <td>0</td>\n",
       "      <td>Kuala Lumpur</td>\n",
       "      <td>8.0</td>\n",
       "      <td>1</td>\n",
       "      <td>Mixed Breed</td>\n",
       "      <td>Black</td>\n",
       "      <td>0.300595</td>\n",
       "      <td>0.565476</td>\n",
       "      <td>139</td>\n",
       "      <td>instant adoption</td>\n",
       "    </tr>\n",
       "    <tr>\n",
       "      <th>17</th>\n",
       "      <td>Dog</td>\n",
       "      <td>12</td>\n",
       "      <td>Female</td>\n",
       "      <td>Medium</td>\n",
       "      <td>Medium</td>\n",
       "      <td>No</td>\n",
       "      <td>Yes</td>\n",
       "      <td>Yes</td>\n",
       "      <td>Healthy</td>\n",
       "      <td>1</td>\n",
       "      <td>0</td>\n",
       "      <td>Selangor</td>\n",
       "      <td>7.0</td>\n",
       "      <td>1</td>\n",
       "      <td>Mixed Breed</td>\n",
       "      <td>BrownOther</td>\n",
       "      <td>0.427778</td>\n",
       "      <td>0.672222</td>\n",
       "      <td>79</td>\n",
       "      <td>instant adoption</td>\n",
       "    </tr>\n",
       "    <tr>\n",
       "      <th>18</th>\n",
       "      <td>Dog</td>\n",
       "      <td>10</td>\n",
       "      <td>Female</td>\n",
       "      <td>Medium</td>\n",
       "      <td>Medium</td>\n",
       "      <td>Yes</td>\n",
       "      <td>Yes</td>\n",
       "      <td>Yes</td>\n",
       "      <td>Healthy</td>\n",
       "      <td>1</td>\n",
       "      <td>0</td>\n",
       "      <td>Selangor</td>\n",
       "      <td>0.0</td>\n",
       "      <td>1</td>\n",
       "      <td>Mixed Breed</td>\n",
       "      <td>BlackOther</td>\n",
       "      <td>0.191667</td>\n",
       "      <td>0.266667</td>\n",
       "      <td>65</td>\n",
       "      <td>very late adoption</td>\n",
       "    </tr>\n",
       "    <tr>\n",
       "      <th>19</th>\n",
       "      <td>Cat</td>\n",
       "      <td>3</td>\n",
       "      <td>Male</td>\n",
       "      <td>Small</td>\n",
       "      <td>Short</td>\n",
       "      <td>No</td>\n",
       "      <td>Yes</td>\n",
       "      <td>No</td>\n",
       "      <td>Healthy</td>\n",
       "      <td>1</td>\n",
       "      <td>0</td>\n",
       "      <td>Kuala Lumpur</td>\n",
       "      <td>19.0</td>\n",
       "      <td>1</td>\n",
       "      <td>Domestic</td>\n",
       "      <td>BrownOther</td>\n",
       "      <td>0.750000</td>\n",
       "      <td>0.800000</td>\n",
       "      <td>42</td>\n",
       "      <td>instant adoption</td>\n",
       "    </tr>\n",
       "  </tbody>\n",
       "</table>\n",
       "</div>"
      ],
      "text/plain": [
       "   Type  Age  Gender MaturitySize FurLength Vaccinated  Dewormed Sterilized  \\\n",
       "0   Cat    3    Male        Small     Short         No        No         No   \n",
       "1   Cat    1    Male       Medium    Medium   Not Sure  Not Sure   Not Sure   \n",
       "2   Dog    1    Male       Medium    Medium        Yes       Yes         No   \n",
       "3   Dog    4  Female       Medium     Short        Yes       Yes         No   \n",
       "4   Dog    1    Male       Medium     Short         No        No         No   \n",
       "5   Cat    3  Female       Medium     Short         No        No         No   \n",
       "6   Cat   12    Male       Medium      Long         No        No   Not Sure   \n",
       "7   Cat    2  Female       Medium    Medium         No        No         No   \n",
       "8   Cat   12  Female       Medium    Medium   Not Sure  Not Sure   Not Sure   \n",
       "9   Dog    2    Male       Medium     Short         No       Yes         No   \n",
       "10  Cat    3  Female        Large      Long        Yes       Yes         No   \n",
       "11  Dog    2    Male       Medium      Long        Yes       Yes         No   \n",
       "12  Dog    3  Female       Medium    Medium   Not Sure  Not Sure   Not Sure   \n",
       "13  Dog   78    Male       Medium    Medium   Not Sure  Not Sure   Not Sure   \n",
       "14  Cat    6  Female        Small     Short        Yes       Yes        Yes   \n",
       "15  Dog    8  Female       Medium     Short         No       Yes        Yes   \n",
       "16  Dog    2  Female       Medium     Short         No       Yes         No   \n",
       "17  Dog   12  Female       Medium    Medium         No       Yes        Yes   \n",
       "18  Dog   10  Female       Medium    Medium        Yes       Yes        Yes   \n",
       "19  Cat    3    Male        Small     Short         No       Yes         No   \n",
       "\n",
       "     Health  Quantity  Fee         State  PhotoAmt  Hasname        Breed  \\\n",
       "0   Healthy         1  100      Selangor       1.0        1    Purebreed   \n",
       "1   Healthy         1    0  Kuala Lumpur       2.0        0     Domestic   \n",
       "2   Healthy         1    0      Selangor       7.0        1  Mixed Breed   \n",
       "3   Healthy         1  150  Kuala Lumpur       8.0        1  Mixed Breed   \n",
       "4   Healthy         1    0      Selangor       3.0        1  Mixed Breed   \n",
       "5   Healthy         1    0      Selangor       2.0        0     Domestic   \n",
       "6   Healthy         1  300      Selangor       3.0        1     Domestic   \n",
       "7   Healthy         1    0      Selangor       6.0        0     Domestic   \n",
       "8   Healthy         1    0      Selangor       2.0        1     Domestic   \n",
       "9   Healthy         1    0  Kuala Lumpur       7.0        1  Mixed Breed   \n",
       "10  Healthy         1   50      Selangor       2.0        1     Domestic   \n",
       "11  Healthy         1    0      Selangor       1.0        1  Mixed Breed   \n",
       "12  Healthy         1    0  Kuala Lumpur       2.0        1  Mixed Breed   \n",
       "13  Healthy         1    0      Selangor       2.0        1  Mixed Breed   \n",
       "14  Healthy         1    0      Selangor       1.0        1     Domestic   \n",
       "15  Healthy         1   10         Perak       2.0        1  Mixed Breed   \n",
       "16  Healthy         1    0  Kuala Lumpur       8.0        1  Mixed Breed   \n",
       "17  Healthy         1    0      Selangor       7.0        1  Mixed Breed   \n",
       "18  Healthy         1    0      Selangor       0.0        1  Mixed Breed   \n",
       "19  Healthy         1    0  Kuala Lumpur      19.0        1     Domestic   \n",
       "\n",
       "         Color  Polarity  Subjectivity  DescWords       AdoptionSpeed  \n",
       "0   BlackOther  0.130357      0.407143         69    instant adoption  \n",
       "1   BlackOther  0.100000      0.400000         23    instant adoption  \n",
       "2   BrownOther  0.261905      0.542857         69    delayed adoption  \n",
       "3   BlackOther  0.341146      0.437500         25    instant adoption  \n",
       "4        Black  0.400000      0.743750         81    instant adoption  \n",
       "5   CreamOther  0.000000      0.000000         18    instant adoption  \n",
       "6        Black  0.250000      0.390000         78    instant adoption  \n",
       "7         Gray  0.038889      0.662963         13    instant adoption  \n",
       "8   BlackOther  0.213750      0.511250         45  very late adoption  \n",
       "9   BlackOther  0.138889      0.455556         12    instant adoption  \n",
       "10  BlackOther  0.065798      0.505742        126    instant adoption  \n",
       "11  BrownOther  0.408333      0.712500         49    instant adoption  \n",
       "12  BrownOther  0.166667      0.300000         67    instant adoption  \n",
       "13  BlackOther  0.502083      0.645833         68  very late adoption  \n",
       "14       Brown  0.437500      0.750000          8    delayed adoption  \n",
       "15       Brown  0.213333      0.460000         71  very late adoption  \n",
       "16       Black  0.300595      0.565476        139    instant adoption  \n",
       "17  BrownOther  0.427778      0.672222         79    instant adoption  \n",
       "18  BlackOther  0.191667      0.266667         65  very late adoption  \n",
       "19  BrownOther  0.750000      0.800000         42    instant adoption  "
      ]
     },
     "execution_count": 4,
     "metadata": {},
     "output_type": "execute_result"
    }
   ],
   "source": [
    "MultiClassClassification.head(20)"
   ]
  },
  {
   "cell_type": "code",
   "execution_count": 5,
   "metadata": {},
   "outputs": [
    {
     "data": {
      "text/plain": [
       "(12987, 20)"
      ]
     },
     "execution_count": 5,
     "metadata": {},
     "output_type": "execute_result"
    }
   ],
   "source": [
    "MultiClassClassification.shape"
   ]
  },
  {
   "cell_type": "markdown",
   "metadata": {},
   "source": [
    "### Converted 5 class Problem to 3 class by binning and Performed Data Analysis against the target variable"
   ]
  },
  {
   "cell_type": "code",
   "execution_count": 6,
   "metadata": {},
   "outputs": [
    {
     "data": {
      "image/png": "[encoded data removed]",
      "text/plain": [
       "<Figure size 432x288 with 1 Axes>"
      ]
     },
     "metadata": {
      "needs_background": "light"
     },
     "output_type": "display_data"
    }
   ],
   "source": [
    "sns.countplot(x=MultiClassClassification['AdoptionSpeed'])\n",
    "plt.show()"
   ]
  },
  {
   "cell_type": "code",
   "execution_count": 7,
   "metadata": {},
   "outputs": [
    {
     "data": {
      "text/plain": [
       "instant adoption      6620\n",
       "very late adoption    3508\n",
       "delayed adoption      2859\n",
       "Name: AdoptionSpeed, dtype: int64"
      ]
     },
     "execution_count": 7,
     "metadata": {},
     "output_type": "execute_result"
    }
   ],
   "source": [
    "MultiClassClassification['AdoptionSpeed'].value_counts()"
   ]
  },
  {
   "cell_type": "code",
   "execution_count": 8,
   "metadata": {},
   "outputs": [],
   "source": [
    "n=min(MultiClassClassification['AdoptionSpeed'].value_counts())\n",
    "sample_instant = MultiClassClassification.ix[MultiClassClassification.AdoptionSpeed == 'instant adoption'].sample(n=n, replace=True, random_state=None)\n",
    "sample_delayed = MultiClassClassification.ix[MultiClassClassification.AdoptionSpeed == 'delayed adoption'].sample(n=n, replace=True, random_state=None)\n",
    "sample_late = MultiClassClassification.ix[MultiClassClassification.AdoptionSpeed == 'very late adoption'].sample(n=n, replace=True, random_state=None)\n",
    "\n",
    "MultiClassClassification = pd.concat([sample_instant, sample_delayed ,sample_late])\n",
    "labels=['instant adoption', 'delayed adoption' ,'very late adoption']"
   ]
  },
  {
   "cell_type": "code",
   "execution_count": 9,
   "metadata": {},
   "outputs": [
    {
     "data": {
      "text/plain": [
       "Type             0\n",
       "Age              0\n",
       "Gender           0\n",
       "MaturitySize     0\n",
       "FurLength        0\n",
       "Vaccinated       0\n",
       "Dewormed         0\n",
       "Sterilized       0\n",
       "Health           0\n",
       "Quantity         0\n",
       "Fee              0\n",
       "State            0\n",
       "PhotoAmt         0\n",
       "Hasname          0\n",
       "Breed            0\n",
       "Color            0\n",
       "Polarity         0\n",
       "Subjectivity     0\n",
       "DescWords        0\n",
       "AdoptionSpeed    0\n",
       "dtype: int64"
      ]
     },
     "execution_count": 9,
     "metadata": {},
     "output_type": "execute_result"
    }
   ],
   "source": [
    "MultiClassClassification.isna().sum()"
   ]
  },
  {
   "cell_type": "code",
   "execution_count": 10,
   "metadata": {},
   "outputs": [],
   "source": [
    "mm_scaler = preprocessing.MinMaxScaler()\n",
    "MultiClassClassification[['Age','Quantity' , 'Fee' , 'PhotoAmt','DescWords']] = mm_scaler.fit_transform(MultiClassClassification[['Age','Quantity' , 'Fee' , 'PhotoAmt','DescWords']])"
   ]
  },
  {
   "cell_type": "code",
   "execution_count": 11,
   "metadata": {},
   "outputs": [
    {
     "data": {
      "text/html": [
       "<div>\n",
       "<style scoped>\n",
       "    .dataframe tbody tr th:only-of-type {\n",
       "        vertical-align: middle;\n",
       "    }\n",
       "\n",
       "    .dataframe tbody tr th {\n",
       "        vertical-align: top;\n",
       "    }\n",
       "\n",
       "    .dataframe thead th {\n",
       "        text-align: right;\n",
       "    }\n",
       "</style>\n",
       "<table border=\"1\" class=\"dataframe\">\n",
       "  <thead>\n",
       "    <tr style=\"text-align: right;\">\n",
       "      <th></th>\n",
       "      <th>Type</th>\n",
       "      <th>Age</th>\n",
       "      <th>Gender</th>\n",
       "      <th>MaturitySize</th>\n",
       "      <th>FurLength</th>\n",
       "      <th>Vaccinated</th>\n",
       "      <th>Dewormed</th>\n",
       "      <th>Sterilized</th>\n",
       "      <th>Health</th>\n",
       "      <th>Quantity</th>\n",
       "      <th>Fee</th>\n",
       "      <th>State</th>\n",
       "      <th>PhotoAmt</th>\n",
       "      <th>Hasname</th>\n",
       "      <th>Breed</th>\n",
       "      <th>Color</th>\n",
       "      <th>Polarity</th>\n",
       "      <th>Subjectivity</th>\n",
       "      <th>DescWords</th>\n",
       "      <th>AdoptionSpeed</th>\n",
       "    </tr>\n",
       "  </thead>\n",
       "  <tbody>\n",
       "    <tr>\n",
       "      <th>7617</th>\n",
       "      <td>Cat</td>\n",
       "      <td>0.015686</td>\n",
       "      <td>Female</td>\n",
       "      <td>Medium</td>\n",
       "      <td>Medium</td>\n",
       "      <td>No</td>\n",
       "      <td>No</td>\n",
       "      <td>No</td>\n",
       "      <td>Healthy</td>\n",
       "      <td>0.0</td>\n",
       "      <td>0.075</td>\n",
       "      <td>Terengganu</td>\n",
       "      <td>0.100000</td>\n",
       "      <td>1</td>\n",
       "      <td>Domestic</td>\n",
       "      <td>GoldenOther</td>\n",
       "      <td>0.044444</td>\n",
       "      <td>0.691667</td>\n",
       "      <td>0.030231</td>\n",
       "      <td>instant adoption</td>\n",
       "    </tr>\n",
       "    <tr>\n",
       "      <th>12354</th>\n",
       "      <td>Cat</td>\n",
       "      <td>0.015686</td>\n",
       "      <td>Female</td>\n",
       "      <td>Medium</td>\n",
       "      <td>Short</td>\n",
       "      <td>No</td>\n",
       "      <td>No</td>\n",
       "      <td>No</td>\n",
       "      <td>Healthy</td>\n",
       "      <td>1.0</td>\n",
       "      <td>0.000</td>\n",
       "      <td>Selangor</td>\n",
       "      <td>0.033333</td>\n",
       "      <td>0</td>\n",
       "      <td>Purebreed</td>\n",
       "      <td>YellowOther</td>\n",
       "      <td>0.364719</td>\n",
       "      <td>0.714935</td>\n",
       "      <td>0.023866</td>\n",
       "      <td>instant adoption</td>\n",
       "    </tr>\n",
       "    <tr>\n",
       "      <th>8187</th>\n",
       "      <td>Dog</td>\n",
       "      <td>0.011765</td>\n",
       "      <td>Male</td>\n",
       "      <td>Medium</td>\n",
       "      <td>Short</td>\n",
       "      <td>Not Sure</td>\n",
       "      <td>Yes</td>\n",
       "      <td>No</td>\n",
       "      <td>Healthy</td>\n",
       "      <td>0.0</td>\n",
       "      <td>0.000</td>\n",
       "      <td>Kuala Lumpur</td>\n",
       "      <td>0.200000</td>\n",
       "      <td>1</td>\n",
       "      <td>Mixed Breed</td>\n",
       "      <td>Cream</td>\n",
       "      <td>0.222500</td>\n",
       "      <td>0.500000</td>\n",
       "      <td>0.029435</td>\n",
       "      <td>instant adoption</td>\n",
       "    </tr>\n",
       "  </tbody>\n",
       "</table>\n",
       "</div>"
      ],
      "text/plain": [
       "      Type       Age  Gender MaturitySize FurLength Vaccinated Dewormed  \\\n",
       "7617   Cat  0.015686  Female       Medium    Medium         No       No   \n",
       "12354  Cat  0.015686  Female       Medium     Short         No       No   \n",
       "8187   Dog  0.011765    Male       Medium     Short   Not Sure      Yes   \n",
       "\n",
       "      Sterilized   Health  Quantity    Fee         State  PhotoAmt  Hasname  \\\n",
       "7617          No  Healthy       0.0  0.075    Terengganu  0.100000        1   \n",
       "12354         No  Healthy       1.0  0.000      Selangor  0.033333        0   \n",
       "8187          No  Healthy       0.0  0.000  Kuala Lumpur  0.200000        1   \n",
       "\n",
       "             Breed        Color  Polarity  Subjectivity  DescWords  \\\n",
       "7617      Domestic  GoldenOther  0.044444      0.691667   0.030231   \n",
       "12354    Purebreed  YellowOther  0.364719      0.714935   0.023866   \n",
       "8187   Mixed Breed        Cream  0.222500      0.500000   0.029435   \n",
       "\n",
       "          AdoptionSpeed  \n",
       "7617   instant adoption  \n",
       "12354  instant adoption  \n",
       "8187   instant adoption  "
      ]
     },
     "execution_count": 11,
     "metadata": {},
     "output_type": "execute_result"
    }
   ],
   "source": [
    "MultiClassClassification.head(3)"
   ]
  },
  {
   "cell_type": "code",
   "execution_count": 12,
   "metadata": {},
   "outputs": [],
   "source": [
    "grouped = MultiClassClassification.groupby('Type') \n",
    "cat = grouped.get_group('Cat') \n",
    "dog = grouped.get_group('Dog') \n",
    "\n",
    "y_cat = cat['AdoptionSpeed']\n",
    "y_dog = dog['AdoptionSpeed']"
   ]
  },
  {
   "cell_type": "code",
   "execution_count": 13,
   "metadata": {},
   "outputs": [],
   "source": [
    "cat.drop([ 'AdoptionSpeed'], axis=1 , inplace=True)\n",
    "dog.drop([ 'AdoptionSpeed'], axis=1 , inplace=True)"
   ]
  },
  {
   "cell_type": "code",
   "execution_count": 14,
   "metadata": {},
   "outputs": [],
   "source": [
    "#BinaryClassification.profile_report(style={'full_width':True})"
   ]
  },
  {
   "cell_type": "code",
   "execution_count": 15,
   "metadata": {},
   "outputs": [],
   "source": [
    "one_hot = pd.get_dummies(cat)"
   ]
  },
  {
   "cell_type": "code",
   "execution_count": 16,
   "metadata": {},
   "outputs": [
    {
     "data": {
      "text/html": [
       "<div>\n",
       "<style scoped>\n",
       "    .dataframe tbody tr th:only-of-type {\n",
       "        vertical-align: middle;\n",
       "    }\n",
       "\n",
       "    .dataframe tbody tr th {\n",
       "        vertical-align: top;\n",
       "    }\n",
       "\n",
       "    .dataframe thead th {\n",
       "        text-align: right;\n",
       "    }\n",
       "</style>\n",
       "<table border=\"1\" class=\"dataframe\">\n",
       "  <thead>\n",
       "    <tr style=\"text-align: right;\">\n",
       "      <th></th>\n",
       "      <th>Age</th>\n",
       "      <th>Quantity</th>\n",
       "      <th>Fee</th>\n",
       "      <th>PhotoAmt</th>\n",
       "      <th>Hasname</th>\n",
       "      <th>Polarity</th>\n",
       "      <th>Subjectivity</th>\n",
       "      <th>DescWords</th>\n",
       "      <th>Type_Cat</th>\n",
       "      <th>Gender_Female</th>\n",
       "      <th>...</th>\n",
       "      <th>Color_BrownOther</th>\n",
       "      <th>Color_Cream</th>\n",
       "      <th>Color_CreamOther</th>\n",
       "      <th>Color_Golden</th>\n",
       "      <th>Color_GoldenOther</th>\n",
       "      <th>Color_Gray</th>\n",
       "      <th>Color_GrayOther</th>\n",
       "      <th>Color_White</th>\n",
       "      <th>Color_Yellow</th>\n",
       "      <th>Color_YellowOther</th>\n",
       "    </tr>\n",
       "  </thead>\n",
       "  <tbody>\n",
       "    <tr>\n",
       "      <th>7617</th>\n",
       "      <td>0.015686</td>\n",
       "      <td>0.0</td>\n",
       "      <td>0.075</td>\n",
       "      <td>0.100000</td>\n",
       "      <td>1</td>\n",
       "      <td>0.044444</td>\n",
       "      <td>0.691667</td>\n",
       "      <td>0.030231</td>\n",
       "      <td>1</td>\n",
       "      <td>1</td>\n",
       "      <td>...</td>\n",
       "      <td>0</td>\n",
       "      <td>0</td>\n",
       "      <td>0</td>\n",
       "      <td>0</td>\n",
       "      <td>1</td>\n",
       "      <td>0</td>\n",
       "      <td>0</td>\n",
       "      <td>0</td>\n",
       "      <td>0</td>\n",
       "      <td>0</td>\n",
       "    </tr>\n",
       "    <tr>\n",
       "      <th>12354</th>\n",
       "      <td>0.015686</td>\n",
       "      <td>1.0</td>\n",
       "      <td>0.000</td>\n",
       "      <td>0.033333</td>\n",
       "      <td>0</td>\n",
       "      <td>0.364719</td>\n",
       "      <td>0.714935</td>\n",
       "      <td>0.023866</td>\n",
       "      <td>1</td>\n",
       "      <td>1</td>\n",
       "      <td>...</td>\n",
       "      <td>0</td>\n",
       "      <td>0</td>\n",
       "      <td>0</td>\n",
       "      <td>0</td>\n",
       "      <td>0</td>\n",
       "      <td>0</td>\n",
       "      <td>0</td>\n",
       "      <td>0</td>\n",
       "      <td>0</td>\n",
       "      <td>1</td>\n",
       "    </tr>\n",
       "    <tr>\n",
       "      <th>12086</th>\n",
       "      <td>0.011765</td>\n",
       "      <td>0.0</td>\n",
       "      <td>0.000</td>\n",
       "      <td>0.133333</td>\n",
       "      <td>1</td>\n",
       "      <td>0.000000</td>\n",
       "      <td>0.000000</td>\n",
       "      <td>0.007955</td>\n",
       "      <td>1</td>\n",
       "      <td>0</td>\n",
       "      <td>...</td>\n",
       "      <td>0</td>\n",
       "      <td>0</td>\n",
       "      <td>0</td>\n",
       "      <td>0</td>\n",
       "      <td>0</td>\n",
       "      <td>0</td>\n",
       "      <td>0</td>\n",
       "      <td>0</td>\n",
       "      <td>0</td>\n",
       "      <td>1</td>\n",
       "    </tr>\n",
       "    <tr>\n",
       "      <th>4195</th>\n",
       "      <td>0.011765</td>\n",
       "      <td>0.0</td>\n",
       "      <td>0.000</td>\n",
       "      <td>0.066667</td>\n",
       "      <td>1</td>\n",
       "      <td>0.163021</td>\n",
       "      <td>0.545833</td>\n",
       "      <td>0.039777</td>\n",
       "      <td>1</td>\n",
       "      <td>1</td>\n",
       "      <td>...</td>\n",
       "      <td>0</td>\n",
       "      <td>0</td>\n",
       "      <td>0</td>\n",
       "      <td>0</td>\n",
       "      <td>0</td>\n",
       "      <td>0</td>\n",
       "      <td>1</td>\n",
       "      <td>0</td>\n",
       "      <td>0</td>\n",
       "      <td>0</td>\n",
       "    </tr>\n",
       "    <tr>\n",
       "      <th>11423</th>\n",
       "      <td>0.007843</td>\n",
       "      <td>1.0</td>\n",
       "      <td>0.000</td>\n",
       "      <td>0.066667</td>\n",
       "      <td>1</td>\n",
       "      <td>0.500000</td>\n",
       "      <td>1.000000</td>\n",
       "      <td>0.008751</td>\n",
       "      <td>1</td>\n",
       "      <td>0</td>\n",
       "      <td>...</td>\n",
       "      <td>0</td>\n",
       "      <td>0</td>\n",
       "      <td>0</td>\n",
       "      <td>0</td>\n",
       "      <td>0</td>\n",
       "      <td>1</td>\n",
       "      <td>0</td>\n",
       "      <td>0</td>\n",
       "      <td>0</td>\n",
       "      <td>0</td>\n",
       "    </tr>\n",
       "    <tr>\n",
       "      <th>...</th>\n",
       "      <td>...</td>\n",
       "      <td>...</td>\n",
       "      <td>...</td>\n",
       "      <td>...</td>\n",
       "      <td>...</td>\n",
       "      <td>...</td>\n",
       "      <td>...</td>\n",
       "      <td>...</td>\n",
       "      <td>...</td>\n",
       "      <td>...</td>\n",
       "      <td>...</td>\n",
       "      <td>...</td>\n",
       "      <td>...</td>\n",
       "      <td>...</td>\n",
       "      <td>...</td>\n",
       "      <td>...</td>\n",
       "      <td>...</td>\n",
       "      <td>...</td>\n",
       "      <td>...</td>\n",
       "      <td>...</td>\n",
       "      <td>...</td>\n",
       "    </tr>\n",
       "    <tr>\n",
       "      <th>5531</th>\n",
       "      <td>0.027451</td>\n",
       "      <td>0.0</td>\n",
       "      <td>0.000</td>\n",
       "      <td>0.000000</td>\n",
       "      <td>1</td>\n",
       "      <td>0.194318</td>\n",
       "      <td>0.444102</td>\n",
       "      <td>0.062053</td>\n",
       "      <td>1</td>\n",
       "      <td>0</td>\n",
       "      <td>...</td>\n",
       "      <td>0</td>\n",
       "      <td>0</td>\n",
       "      <td>0</td>\n",
       "      <td>1</td>\n",
       "      <td>0</td>\n",
       "      <td>0</td>\n",
       "      <td>0</td>\n",
       "      <td>0</td>\n",
       "      <td>0</td>\n",
       "      <td>0</td>\n",
       "    </tr>\n",
       "    <tr>\n",
       "      <th>2357</th>\n",
       "      <td>0.141176</td>\n",
       "      <td>0.0</td>\n",
       "      <td>0.000</td>\n",
       "      <td>0.333333</td>\n",
       "      <td>1</td>\n",
       "      <td>0.029750</td>\n",
       "      <td>0.276833</td>\n",
       "      <td>0.065235</td>\n",
       "      <td>1</td>\n",
       "      <td>1</td>\n",
       "      <td>...</td>\n",
       "      <td>0</td>\n",
       "      <td>0</td>\n",
       "      <td>0</td>\n",
       "      <td>0</td>\n",
       "      <td>0</td>\n",
       "      <td>0</td>\n",
       "      <td>0</td>\n",
       "      <td>0</td>\n",
       "      <td>0</td>\n",
       "      <td>0</td>\n",
       "    </tr>\n",
       "    <tr>\n",
       "      <th>5810</th>\n",
       "      <td>0.043137</td>\n",
       "      <td>1.0</td>\n",
       "      <td>0.100</td>\n",
       "      <td>0.166667</td>\n",
       "      <td>1</td>\n",
       "      <td>0.002083</td>\n",
       "      <td>0.541667</td>\n",
       "      <td>0.023866</td>\n",
       "      <td>1</td>\n",
       "      <td>0</td>\n",
       "      <td>...</td>\n",
       "      <td>0</td>\n",
       "      <td>0</td>\n",
       "      <td>0</td>\n",
       "      <td>0</td>\n",
       "      <td>0</td>\n",
       "      <td>0</td>\n",
       "      <td>0</td>\n",
       "      <td>0</td>\n",
       "      <td>0</td>\n",
       "      <td>1</td>\n",
       "    </tr>\n",
       "    <tr>\n",
       "      <th>6726</th>\n",
       "      <td>0.011765</td>\n",
       "      <td>0.0</td>\n",
       "      <td>0.000</td>\n",
       "      <td>0.166667</td>\n",
       "      <td>1</td>\n",
       "      <td>0.024021</td>\n",
       "      <td>0.464044</td>\n",
       "      <td>0.085123</td>\n",
       "      <td>1</td>\n",
       "      <td>0</td>\n",
       "      <td>...</td>\n",
       "      <td>0</td>\n",
       "      <td>0</td>\n",
       "      <td>0</td>\n",
       "      <td>0</td>\n",
       "      <td>0</td>\n",
       "      <td>0</td>\n",
       "      <td>0</td>\n",
       "      <td>0</td>\n",
       "      <td>0</td>\n",
       "      <td>0</td>\n",
       "    </tr>\n",
       "    <tr>\n",
       "      <th>8531</th>\n",
       "      <td>0.007843</td>\n",
       "      <td>0.0</td>\n",
       "      <td>0.000</td>\n",
       "      <td>0.166667</td>\n",
       "      <td>1</td>\n",
       "      <td>0.067449</td>\n",
       "      <td>0.425833</td>\n",
       "      <td>0.029435</td>\n",
       "      <td>1</td>\n",
       "      <td>0</td>\n",
       "      <td>...</td>\n",
       "      <td>0</td>\n",
       "      <td>0</td>\n",
       "      <td>0</td>\n",
       "      <td>0</td>\n",
       "      <td>0</td>\n",
       "      <td>0</td>\n",
       "      <td>0</td>\n",
       "      <td>1</td>\n",
       "      <td>0</td>\n",
       "      <td>0</td>\n",
       "    </tr>\n",
       "  </tbody>\n",
       "</table>\n",
       "<p>3686 rows × 60 columns</p>\n",
       "</div>"
      ],
      "text/plain": [
       "            Age  Quantity    Fee  PhotoAmt  Hasname  Polarity  Subjectivity  \\\n",
       "7617   0.015686       0.0  0.075  0.100000        1  0.044444      0.691667   \n",
       "12354  0.015686       1.0  0.000  0.033333        0  0.364719      0.714935   \n",
       "12086  0.011765       0.0  0.000  0.133333        1  0.000000      0.000000   \n",
       "4195   0.011765       0.0  0.000  0.066667        1  0.163021      0.545833   \n",
       "11423  0.007843       1.0  0.000  0.066667        1  0.500000      1.000000   \n",
       "...         ...       ...    ...       ...      ...       ...           ...   \n",
       "5531   0.027451       0.0  0.000  0.000000        1  0.194318      0.444102   \n",
       "2357   0.141176       0.0  0.000  0.333333        1  0.029750      0.276833   \n",
       "5810   0.043137       1.0  0.100  0.166667        1  0.002083      0.541667   \n",
       "6726   0.011765       0.0  0.000  0.166667        1  0.024021      0.464044   \n",
       "8531   0.007843       0.0  0.000  0.166667        1  0.067449      0.425833   \n",
       "\n",
       "       DescWords  Type_Cat  Gender_Female  ...  Color_BrownOther  Color_Cream  \\\n",
       "7617    0.030231         1              1  ...                 0            0   \n",
       "12354   0.023866         1              1  ...                 0            0   \n",
       "12086   0.007955         1              0  ...                 0            0   \n",
       "4195    0.039777         1              1  ...                 0            0   \n",
       "11423   0.008751         1              0  ...                 0            0   \n",
       "...          ...       ...            ...  ...               ...          ...   \n",
       "5531    0.062053         1              0  ...                 0            0   \n",
       "2357    0.065235         1              1  ...                 0            0   \n",
       "5810    0.023866         1              0  ...                 0            0   \n",
       "6726    0.085123         1              0  ...                 0            0   \n",
       "8531    0.029435         1              0  ...                 0            0   \n",
       "\n",
       "       Color_CreamOther  Color_Golden  Color_GoldenOther  Color_Gray  \\\n",
       "7617                  0             0                  1           0   \n",
       "12354                 0             0                  0           0   \n",
       "12086                 0             0                  0           0   \n",
       "4195                  0             0                  0           0   \n",
       "11423                 0             0                  0           1   \n",
       "...                 ...           ...                ...         ...   \n",
       "5531                  0             1                  0           0   \n",
       "2357                  0             0                  0           0   \n",
       "5810                  0             0                  0           0   \n",
       "6726                  0             0                  0           0   \n",
       "8531                  0             0                  0           0   \n",
       "\n",
       "       Color_GrayOther  Color_White  Color_Yellow  Color_YellowOther  \n",
       "7617                 0            0             0                  0  \n",
       "12354                0            0             0                  1  \n",
       "12086                0            0             0                  1  \n",
       "4195                 1            0             0                  0  \n",
       "11423                0            0             0                  0  \n",
       "...                ...          ...           ...                ...  \n",
       "5531                 0            0             0                  0  \n",
       "2357                 0            0             0                  0  \n",
       "5810                 0            0             0                  1  \n",
       "6726                 0            0             0                  0  \n",
       "8531                 0            1             0                  0  \n",
       "\n",
       "[3686 rows x 60 columns]"
      ]
     },
     "execution_count": 16,
     "metadata": {},
     "output_type": "execute_result"
    }
   ],
   "source": [
    "one_hot"
   ]
  },
  {
   "cell_type": "code",
   "execution_count": 17,
   "metadata": {},
   "outputs": [],
   "source": [
    "X_train, X_test, y_train, y_test = train_test_split(one_hot, y_cat, test_size=0.20, shuffle = True)"
   ]
  },
  {
   "cell_type": "code",
   "execution_count": 18,
   "metadata": {},
   "outputs": [],
   "source": [
    "def plot_confusion_matrix(cm, classes,\n",
    "                          normalize=False,\n",
    "                          title='Confusion matrix',\n",
    "                          cmap=plt.cm.Blues):\n",
    "    \"\"\"\n",
    "    See full source and example: \n",
    "    http://scikit-learn.org/stable/auto_examples/model_selection/plot_confusion_matrix.html\n",
    "    \n",
    "    This function prints and plots the confusion matrix.\n",
    "    Normalization can be applied by setting `normalize=True`.\n",
    "    \"\"\"\n",
    "    plt.imshow(cm, interpolation='nearest', cmap=cmap)\n",
    "    plt.title(title)\n",
    "    plt.colorbar()\n",
    "    tick_marks = np.arange(len(classes))\n",
    "    plt.xticks(tick_marks, classes, rotation=45)\n",
    "    plt.yticks(tick_marks, classes)\n",
    "\n",
    "    if normalize:\n",
    "        cm = cm.astype('float') / cm.sum(axis=1)[:, np.newaxis]\n",
    "        print(\"Normalized confusion matrix\")\n",
    "    else:\n",
    "        print('Confusion matrix, without normalization')\n",
    "\n",
    "    thresh = cm.max() / 2.\n",
    "    for i, j in itertools.product(range(cm.shape[0]), range(cm.shape[1])):\n",
    "        plt.text(j, i, cm[i, j],\n",
    "                 horizontalalignment=\"center\",\n",
    "                 color=\"white\" if cm[i, j] > thresh else \"black\")\n",
    "\n",
    "    plt.tight_layout()\n",
    "    plt.ylabel('True label')\n",
    "    plt.xlabel('Predicted label')"
   ]
  },
  {
   "cell_type": "markdown",
   "metadata": {},
   "source": [
    "## 1.2. Learning Classifiers"
   ]
  },
  {
   "cell_type": "markdown",
   "metadata": {},
   "source": [
    "## Results on Cat Data"
   ]
  },
  {
   "cell_type": "markdown",
   "metadata": {},
   "source": [
    "### Decision Tree Classifier"
   ]
  },
  {
   "cell_type": "code",
   "execution_count": 19,
   "metadata": {},
   "outputs": [
    {
     "name": "stdout",
     "output_type": "stream",
     "text": [
      "# Tuning hyper-parameters for accuracy\n",
      "\n",
      "Best parameters set found on Train set:\n",
      "\n",
      "{'criterion': 'gini', 'max_leaf_nodes': 80}\n",
      "\n",
      "Grid scores on Train set:\n",
      "\n",
      "0.493 (+/-0.024) for {'criterion': 'gini', 'max_leaf_nodes': 20}\n",
      "0.491 (+/-0.035) for {'criterion': 'gini', 'max_leaf_nodes': 40}\n",
      "0.507 (+/-0.023) for {'criterion': 'gini', 'max_leaf_nodes': 80}\n",
      "0.490 (+/-0.024) for {'criterion': 'entropy', 'max_leaf_nodes': 20}\n",
      "0.500 (+/-0.019) for {'criterion': 'entropy', 'max_leaf_nodes': 40}\n",
      "0.506 (+/-0.013) for {'criterion': 'entropy', 'max_leaf_nodes': 80}\n",
      "\n",
      "Detailed classification report on Test Set:\n",
      "                    precision    recall  f1-score   support\n",
      "\n",
      "  instant adoption       0.50      0.32      0.39       228\n",
      "  delayed adoption       0.48      0.58      0.53       269\n",
      "very late adoption       0.51      0.57      0.54       241\n",
      "\n",
      "          accuracy                           0.50       738\n",
      "         macro avg       0.50      0.49      0.49       738\n",
      "      weighted avg       0.50      0.50      0.49       738\n",
      "\n",
      "\n"
     ]
    }
   ],
   "source": [
    "# Set the parameters by cross-validation\n",
    "tuned_parameters = [{'criterion':['gini','entropy'],'max_leaf_nodes': [20,40,80]}]\n",
    "\n",
    "scores = ['accuracy']\n",
    "\n",
    "for score in scores:\n",
    "    print(\"# Tuning hyper-parameters for %s\" % score)\n",
    "    print()\n",
    "\n",
    "    clf_DTC = GridSearchCV(\n",
    "        DecisionTreeClassifier(), tuned_parameters, cv=5, scoring='%s' % score)\n",
    "    clf_DTC.fit(X_train, y_train)\n",
    "\n",
    "    print(\"Best parameters set found on Train set:\")\n",
    "    print()\n",
    "    print(clf_DTC.best_params_)\n",
    "    print()\n",
    "    print(\"Grid scores on Train set:\")\n",
    "    print()\n",
    "    means = clf_DTC.cv_results_['mean_test_score']\n",
    "    stds = clf_DTC.cv_results_['std_test_score']\n",
    "    for mean, std, params in zip(means, stds, clf_DTC.cv_results_['params']):\n",
    "        print(\"%0.3f (+/-%0.03f) for %r\"\n",
    "              % (mean, std * 2, params))\n",
    "    print()\n",
    "\n",
    "    print(\"Detailed classification report on Test Set:\")\n",
    "    pred = clf_DTC.predict(X_test)\n",
    "    print(classification_report(y_test, pred,target_names=labels))\n",
    "    print()"
   ]
  },
  {
   "cell_type": "code",
   "execution_count": 20,
   "metadata": {},
   "outputs": [
    {
     "data": {
      "text/html": [
       "<img src=\"clf_DTC.png?1895607594\" alt=\"clf_DTC.png\" height=\"100\">"
      ],
      "text/plain": [
       "<IPython.core.display.HTML object>"
      ]
     },
     "metadata": {},
     "output_type": "display_data"
    }
   ],
   "source": [
    "clf_DTC = DecisionTreeClassifier(criterion='gini',max_leaf_nodes=80)\n",
    "clf_DTC.fit(X_train, y_train)\n",
    "dot_data = tree.export_graphviz(clf_DTC, out_file=\"clf_DTC.dot\",\n",
    "                                feature_names=one_hot.columns,\n",
    "                                class_names=labels,\n",
    "                                filled=True, rounded=True,\n",
    "                                special_characters=True)\n",
    "(clf_DTC_graph,) = pydot.graph_from_dot_file('clf_DTC.dot')\n",
    "clf_DTC_graph.write_png('clf_DTC.png')\n",
    "display(HTML('<img src=\"clf_DTC.png?%d\" alt=\"clf_DTC.png\" height=\"100\">' % random.randint(0,2e9)))"
   ]
  },
  {
   "cell_type": "code",
   "execution_count": 21,
   "metadata": {},
   "outputs": [],
   "source": [
    "scores = cross_val_score(clf_DTC, X_train, y_train, cv=5)"
   ]
  },
  {
   "cell_type": "code",
   "execution_count": 22,
   "metadata": {},
   "outputs": [
    {
     "name": "stdout",
     "output_type": "stream",
     "text": [
      "Accuracy: 0.51 (+/- 0.02)\n"
     ]
    }
   ],
   "source": [
    "print(\"Accuracy: %0.2f (+/- %0.2f)\" % (scores.mean(), scores.std() * 2))"
   ]
  },
  {
   "cell_type": "code",
   "execution_count": 23,
   "metadata": {},
   "outputs": [
    {
     "name": "stdout",
     "output_type": "stream",
     "text": [
      "                    precision    recall  f1-score   support\n",
      "\n",
      "  instant adoption       0.50      0.32      0.39       228\n",
      "  delayed adoption       0.48      0.58      0.53       269\n",
      "very late adoption       0.51      0.57      0.54       241\n",
      "\n",
      "          accuracy                           0.50       738\n",
      "         macro avg       0.50      0.49      0.49       738\n",
      "      weighted avg       0.50      0.50      0.49       738\n",
      "\n"
     ]
    }
   ],
   "source": [
    "pred = clf_DTC.predict(X_test)\n",
    "#generate classification report\n",
    "print(classification_report(y_test, pred, target_names=labels))"
   ]
  },
  {
   "cell_type": "code",
   "execution_count": 24,
   "metadata": {},
   "outputs": [
    {
     "name": "stdout",
     "output_type": "stream",
     "text": [
      "Confusion matrix, without normalization\n"
     ]
    },
    {
     "data": {
      "image/png": "[encoded data removed]",
      "text/plain": [
       "<Figure size 432x288 with 2 Axes>"
      ]
     },
     "metadata": {
      "needs_background": "light"
     },
     "output_type": "display_data"
    }
   ],
   "source": [
    "cm = metrics.confusion_matrix(y_test, pred, labels=labels)\n",
    "plot_confusion_matrix(cm, classes=labels)"
   ]
  },
  {
   "cell_type": "markdown",
   "metadata": {},
   "source": [
    "### Linear SVM"
   ]
  },
  {
   "cell_type": "code",
   "execution_count": 25,
   "metadata": {},
   "outputs": [
    {
     "name": "stdout",
     "output_type": "stream",
     "text": [
      "# Tuning hyper-parameters for accuracy\n",
      "\n",
      "Best parameters set found on Train set:\n",
      "\n",
      "{'alpha': 0.001, 'loss': 'hinge', 'penalty': 'l1'}\n",
      "\n",
      "Grid scores on Train set:\n",
      "\n",
      "0.428 (+/-0.023) for {'alpha': 0.1, 'loss': 'hinge', 'penalty': 'l2'}\n",
      "0.342 (+/-0.070) for {'alpha': 0.1, 'loss': 'hinge', 'penalty': 'l1'}\n",
      "0.373 (+/-0.025) for {'alpha': 0.1, 'loss': 'squared_hinge', 'penalty': 'l2'}\n",
      "0.392 (+/-0.055) for {'alpha': 0.1, 'loss': 'squared_hinge', 'penalty': 'l1'}\n",
      "0.445 (+/-0.067) for {'alpha': 0.01, 'loss': 'hinge', 'penalty': 'l2'}\n",
      "0.373 (+/-0.123) for {'alpha': 0.01, 'loss': 'hinge', 'penalty': 'l1'}\n",
      "0.384 (+/-0.051) for {'alpha': 0.01, 'loss': 'squared_hinge', 'penalty': 'l2'}\n",
      "0.413 (+/-0.048) for {'alpha': 0.01, 'loss': 'squared_hinge', 'penalty': 'l1'}\n",
      "0.437 (+/-0.023) for {'alpha': 0.001, 'loss': 'hinge', 'penalty': 'l2'}\n",
      "0.446 (+/-0.064) for {'alpha': 0.001, 'loss': 'hinge', 'penalty': 'l1'}\n",
      "0.391 (+/-0.037) for {'alpha': 0.001, 'loss': 'squared_hinge', 'penalty': 'l2'}\n",
      "0.422 (+/-0.032) for {'alpha': 0.001, 'loss': 'squared_hinge', 'penalty': 'l1'}\n",
      "0.411 (+/-0.043) for {'alpha': 0.0001, 'loss': 'hinge', 'penalty': 'l2'}\n",
      "0.440 (+/-0.025) for {'alpha': 0.0001, 'loss': 'hinge', 'penalty': 'l1'}\n",
      "0.365 (+/-0.036) for {'alpha': 0.0001, 'loss': 'squared_hinge', 'penalty': 'l2'}\n",
      "0.410 (+/-0.009) for {'alpha': 0.0001, 'loss': 'squared_hinge', 'penalty': 'l1'}\n",
      "0.387 (+/-0.078) for {'alpha': 1e-05, 'loss': 'hinge', 'penalty': 'l2'}\n",
      "0.388 (+/-0.035) for {'alpha': 1e-05, 'loss': 'hinge', 'penalty': 'l1'}\n",
      "0.417 (+/-0.021) for {'alpha': 1e-05, 'loss': 'squared_hinge', 'penalty': 'l2'}\n",
      "0.388 (+/-0.077) for {'alpha': 1e-05, 'loss': 'squared_hinge', 'penalty': 'l1'}\n",
      "0.372 (+/-0.070) for {'alpha': 1e-06, 'loss': 'hinge', 'penalty': 'l2'}\n",
      "0.383 (+/-0.092) for {'alpha': 1e-06, 'loss': 'hinge', 'penalty': 'l1'}\n",
      "0.388 (+/-0.021) for {'alpha': 1e-06, 'loss': 'squared_hinge', 'penalty': 'l2'}\n",
      "0.386 (+/-0.062) for {'alpha': 1e-06, 'loss': 'squared_hinge', 'penalty': 'l1'}\n",
      "\n",
      "Detailed classification report on Test Set:\n",
      "                    precision    recall  f1-score   support\n",
      "\n",
      "  instant adoption       0.47      0.25      0.33       228\n",
      "  delayed adoption       0.53      0.15      0.24       269\n",
      "very late adoption       0.39      0.87      0.53       241\n",
      "\n",
      "          accuracy                           0.42       738\n",
      "         macro avg       0.46      0.42      0.37       738\n",
      "      weighted avg       0.47      0.42      0.36       738\n",
      "\n",
      "\n"
     ]
    }
   ],
   "source": [
    "# Set the parameters by cross-validation\n",
    "tuned_parameters = [{'loss':['hinge','squared_hinge'],'alpha': 10.0**-np.arange(1,7),'penalty':['l2','l1']}]\n",
    "\n",
    "scores = ['accuracy']\n",
    "\n",
    "for score in scores:\n",
    "    print(\"# Tuning hyper-parameters for %s\" % score)\n",
    "    print()\n",
    "\n",
    "    sgd_clf = GridSearchCV(\n",
    "        SGDClassifier(max_iter= np.ceil(10**6 / X_train.shape[0])), tuned_parameters, cv=5, scoring='%s' % score)\n",
    "    sgd_clf.fit(X_train, y_train)\n",
    "\n",
    "    print(\"Best parameters set found on Train set:\")\n",
    "    print()\n",
    "    print(sgd_clf.best_params_)\n",
    "    print()\n",
    "    print(\"Grid scores on Train set:\")\n",
    "    print()\n",
    "    means = sgd_clf.cv_results_['mean_test_score']\n",
    "    stds = sgd_clf.cv_results_['std_test_score']\n",
    "    for mean, std, params in zip(means, stds, sgd_clf.cv_results_['params']):\n",
    "        print(\"%0.3f (+/-%0.03f) for %r\"\n",
    "              % (mean, std * 2, params))\n",
    "    print()\n",
    "\n",
    "    print(\"Detailed classification report on Test Set:\")\n",
    "    pred = sgd_clf.predict(X_test)\n",
    "    print(classification_report(y_test, pred,target_names=labels))\n",
    "    print()"
   ]
  },
  {
   "cell_type": "code",
   "execution_count": 26,
   "metadata": {},
   "outputs": [
    {
     "name": "stdout",
     "output_type": "stream",
     "text": [
      "Confusion matrix, without normalization\n"
     ]
    },
    {
     "data": {
      "image/png": "[encoded data removed]",
      "text/plain": [
       "<Figure size 432x288 with 2 Axes>"
      ]
     },
     "metadata": {
      "needs_background": "light"
     },
     "output_type": "display_data"
    }
   ],
   "source": [
    "cm = metrics.confusion_matrix(y_test, pred, labels=labels)\n",
    "plot_confusion_matrix(cm, classes=labels)"
   ]
  },
  {
   "cell_type": "markdown",
   "metadata": {},
   "source": [
    "### Logistic Regression"
   ]
  },
  {
   "cell_type": "code",
   "execution_count": 27,
   "metadata": {},
   "outputs": [
    {
     "name": "stdout",
     "output_type": "stream",
     "text": [
      "# Tuning hyper-parameters for accuracy\n",
      "\n",
      "Best parameters set found on Train set:\n",
      "\n",
      "{'C': 10.0, 'penalty': 'l1', 'solver': 'liblinear'}\n",
      "\n",
      "Grid scores on Train set:\n",
      "\n",
      "0.455 (+/-0.023) for {'C': 1.0, 'penalty': 'l2', 'solver': 'liblinear'}\n",
      "0.463 (+/-0.018) for {'C': 1.0, 'penalty': 'l2', 'solver': 'lbfgs'}\n",
      "0.463 (+/-0.023) for {'C': 1.0, 'penalty': 'l1', 'solver': 'liblinear'}\n",
      "nan (+/-nan) for {'C': 1.0, 'penalty': 'l1', 'solver': 'lbfgs'}\n",
      "0.466 (+/-0.026) for {'C': 10.0, 'penalty': 'l2', 'solver': 'liblinear'}\n",
      "0.467 (+/-0.022) for {'C': 10.0, 'penalty': 'l2', 'solver': 'lbfgs'}\n",
      "0.468 (+/-0.028) for {'C': 10.0, 'penalty': 'l1', 'solver': 'liblinear'}\n",
      "nan (+/-nan) for {'C': 10.0, 'penalty': 'l1', 'solver': 'lbfgs'}\n",
      "0.466 (+/-0.028) for {'C': 100.0, 'penalty': 'l2', 'solver': 'liblinear'}\n",
      "0.467 (+/-0.024) for {'C': 100.0, 'penalty': 'l2', 'solver': 'lbfgs'}\n",
      "0.466 (+/-0.025) for {'C': 100.0, 'penalty': 'l1', 'solver': 'liblinear'}\n",
      "nan (+/-nan) for {'C': 100.0, 'penalty': 'l1', 'solver': 'lbfgs'}\n",
      "0.466 (+/-0.026) for {'C': 1000.0, 'penalty': 'l2', 'solver': 'liblinear'}\n",
      "0.467 (+/-0.025) for {'C': 1000.0, 'penalty': 'l2', 'solver': 'lbfgs'}\n",
      "0.466 (+/-0.026) for {'C': 1000.0, 'penalty': 'l1', 'solver': 'liblinear'}\n",
      "nan (+/-nan) for {'C': 1000.0, 'penalty': 'l1', 'solver': 'lbfgs'}\n",
      "0.466 (+/-0.025) for {'C': 10000.0, 'penalty': 'l2', 'solver': 'liblinear'}\n",
      "0.467 (+/-0.023) for {'C': 10000.0, 'penalty': 'l2', 'solver': 'lbfgs'}\n",
      "0.466 (+/-0.025) for {'C': 10000.0, 'penalty': 'l1', 'solver': 'liblinear'}\n",
      "nan (+/-nan) for {'C': 10000.0, 'penalty': 'l1', 'solver': 'lbfgs'}\n",
      "0.466 (+/-0.025) for {'C': 100000.0, 'penalty': 'l2', 'solver': 'liblinear'}\n",
      "0.467 (+/-0.024) for {'C': 100000.0, 'penalty': 'l2', 'solver': 'lbfgs'}\n",
      "0.466 (+/-0.025) for {'C': 100000.0, 'penalty': 'l1', 'solver': 'liblinear'}\n",
      "nan (+/-nan) for {'C': 100000.0, 'penalty': 'l1', 'solver': 'lbfgs'}\n",
      "0.466 (+/-0.025) for {'C': 1000000.0, 'penalty': 'l2', 'solver': 'liblinear'}\n",
      "0.468 (+/-0.023) for {'C': 1000000.0, 'penalty': 'l2', 'solver': 'lbfgs'}\n",
      "0.466 (+/-0.026) for {'C': 1000000.0, 'penalty': 'l1', 'solver': 'liblinear'}\n",
      "nan (+/-nan) for {'C': 1000000.0, 'penalty': 'l1', 'solver': 'lbfgs'}\n",
      "\n",
      "Detailed classification report on Test Set:\n",
      "                    precision    recall  f1-score   support\n",
      "\n",
      "  instant adoption       0.42      0.18      0.26       228\n",
      "  delayed adoption       0.43      0.63      0.51       269\n",
      "very late adoption       0.45      0.45      0.45       241\n",
      "\n",
      "          accuracy                           0.43       738\n",
      "         macro avg       0.43      0.42      0.41       738\n",
      "      weighted avg       0.43      0.43      0.41       738\n",
      "\n",
      "\n"
     ]
    }
   ],
   "source": [
    "# Set the parameters by cross-validation\n",
    "tuned_parameters = [{'C': 10.0**np.arange(0,7),'penalty':['l2','l1'],'solver':['liblinear','lbfgs']}]\n",
    "\n",
    "scores = ['accuracy']\n",
    "\n",
    "for score in scores:\n",
    "    print(\"# Tuning hyper-parameters for %s\" % score)\n",
    "    print()\n",
    "\n",
    "    lr_clf = GridSearchCV(\n",
    "        LogisticRegression(max_iter= np.ceil(10**6 / X_train.shape[0])), tuned_parameters, cv=5, scoring='%s' % score)\n",
    "    lr_clf.fit(X_train, y_train)\n",
    "\n",
    "    print(\"Best parameters set found on Train set:\")\n",
    "    print()\n",
    "    print(lr_clf.best_params_)\n",
    "    print()\n",
    "    print(\"Grid scores on Train set:\")\n",
    "    print()\n",
    "    means = lr_clf.cv_results_['mean_test_score']\n",
    "    stds = lr_clf.cv_results_['std_test_score']\n",
    "    for mean, std, params in zip(means, stds, lr_clf.cv_results_['params']):\n",
    "        print(\"%0.3f (+/-%0.03f) for %r\"\n",
    "              % (mean, std * 2, params))\n",
    "    print()\n",
    "\n",
    "    print(\"Detailed classification report on Test Set:\")\n",
    "    pred = lr_clf.predict(X_test)\n",
    "    print(classification_report(y_test, pred,target_names=labels))\n",
    "    print()"
   ]
  },
  {
   "cell_type": "code",
   "execution_count": 28,
   "metadata": {},
   "outputs": [
    {
     "name": "stdout",
     "output_type": "stream",
     "text": [
      "Confusion matrix, without normalization\n"
     ]
    },
    {
     "data": {
      "image/png": "[encoded data removed]",
      "text/plain": [
       "<Figure size 432x288 with 2 Axes>"
      ]
     },
     "metadata": {
      "needs_background": "light"
     },
     "output_type": "display_data"
    }
   ],
   "source": [
    "cm = metrics.confusion_matrix(y_test, pred, labels=labels)\n",
    "plot_confusion_matrix(cm, classes=labels)"
   ]
  },
  {
   "cell_type": "markdown",
   "metadata": {},
   "source": [
    "### Random Forest Classifier"
   ]
  },
  {
   "cell_type": "code",
   "execution_count": 29,
   "metadata": {},
   "outputs": [
    {
     "name": "stdout",
     "output_type": "stream",
     "text": [
      "# Tuning hyper-parameters for accuracy\n",
      "\n",
      "Best parameters set found on Train set:\n",
      "\n",
      "{'n_estimators': 400}\n",
      "\n",
      "Grid scores on Train set:\n",
      "\n",
      "0.712 (+/-0.035) for {'n_estimators': 400}\n",
      "0.710 (+/-0.027) for {'n_estimators': 500}\n",
      "\n",
      "Detailed classification report on Test Set:\n",
      "                    precision    recall  f1-score   support\n",
      "\n",
      "  instant adoption       0.83      0.63      0.71       228\n",
      "  delayed adoption       0.67      0.75      0.71       269\n",
      "very late adoption       0.71      0.78      0.74       241\n",
      "\n",
      "          accuracy                           0.72       738\n",
      "         macro avg       0.74      0.72      0.72       738\n",
      "      weighted avg       0.73      0.72      0.72       738\n",
      "\n",
      "\n"
     ]
    }
   ],
   "source": [
    "# Set the parameters by cross-validation\n",
    "tuned_parameters = [{'n_estimators': [400,500]}]\n",
    "\n",
    "scores = ['accuracy']\n",
    "\n",
    "for score in scores:\n",
    "    print(\"# Tuning hyper-parameters for %s\" % score)\n",
    "    print()\n",
    "\n",
    "    rf_clf = GridSearchCV(\n",
    "        RandomForestClassifier(), tuned_parameters, cv=5, scoring='%s' % score)\n",
    "    rf_clf.fit(X_train, y_train)\n",
    "\n",
    "    print(\"Best parameters set found on Train set:\")\n",
    "    print()\n",
    "    print(rf_clf.best_params_)\n",
    "    print()\n",
    "    print(\"Grid scores on Train set:\")\n",
    "    print()\n",
    "    means = rf_clf.cv_results_['mean_test_score']\n",
    "    stds = rf_clf.cv_results_['std_test_score']\n",
    "    for mean, std, params in zip(means, stds, rf_clf.cv_results_['params']):\n",
    "        print(\"%0.3f (+/-%0.03f) for %r\"\n",
    "              % (mean, std * 2, params))\n",
    "    print()\n",
    "\n",
    "    print(\"Detailed classification report on Test Set:\")\n",
    "    pred = rf_clf.predict(X_test)\n",
    "    print(classification_report(y_test, pred,target_names=labels))\n",
    "    print()"
   ]
  },
  {
   "cell_type": "code",
   "execution_count": 30,
   "metadata": {},
   "outputs": [
    {
     "name": "stdout",
     "output_type": "stream",
     "text": [
      "Confusion matrix, without normalization\n"
     ]
    },
    {
     "data": {
      "image/png": "[encoded data removed]",
      "text/plain": [
       "<Figure size 432x288 with 2 Axes>"
      ]
     },
     "metadata": {
      "needs_background": "light"
     },
     "output_type": "display_data"
    }
   ],
   "source": [
    "cm = metrics.confusion_matrix(y_test, pred, labels=labels)\n",
    "plot_confusion_matrix(cm, classes=labels)"
   ]
  },
  {
   "cell_type": "markdown",
   "metadata": {},
   "source": [
    "### KNN Classifier"
   ]
  },
  {
   "cell_type": "code",
   "execution_count": 31,
   "metadata": {},
   "outputs": [
    {
     "name": "stdout",
     "output_type": "stream",
     "text": [
      "# Tuning hyper-parameters for accuracy\n",
      "\n",
      "Best parameters set found on Train set:\n",
      "\n",
      "{'n_neighbors': 20, 'weights': 'distance'}\n",
      "\n",
      "Grid scores on Train set:\n",
      "\n",
      "0.468 (+/-0.026) for {'n_neighbors': 5, 'weights': 'uniform'}\n",
      "0.621 (+/-0.029) for {'n_neighbors': 5, 'weights': 'distance'}\n",
      "0.451 (+/-0.014) for {'n_neighbors': 10, 'weights': 'uniform'}\n",
      "0.631 (+/-0.025) for {'n_neighbors': 10, 'weights': 'distance'}\n",
      "0.435 (+/-0.041) for {'n_neighbors': 20, 'weights': 'uniform'}\n",
      "0.636 (+/-0.040) for {'n_neighbors': 20, 'weights': 'distance'}\n",
      "\n",
      "Detailed classification report on Test Set:\n",
      "                    precision    recall  f1-score   support\n",
      "\n",
      "  instant adoption       0.69      0.65      0.67       228\n",
      "  delayed adoption       0.65      0.71      0.68       269\n",
      "very late adoption       0.73      0.70      0.71       241\n",
      "\n",
      "          accuracy                           0.69       738\n",
      "         macro avg       0.69      0.69      0.69       738\n",
      "      weighted avg       0.69      0.69      0.69       738\n",
      "\n",
      "\n"
     ]
    }
   ],
   "source": [
    "# Set the parameters by cross-validation\n",
    "tuned_parameters = [{'n_neighbors': [5,10,20],'weights':['uniform','distance']}]\n",
    "\n",
    "scores = ['accuracy']\n",
    "\n",
    "for score in scores:\n",
    "    print(\"# Tuning hyper-parameters for %s\" % score)\n",
    "    print()\n",
    "\n",
    "    knn_clf = GridSearchCV(\n",
    "        KNeighborsClassifier(), tuned_parameters, cv=5, scoring='%s' % score)\n",
    "    knn_clf.fit(X_train, y_train)\n",
    "\n",
    "    print(\"Best parameters set found on Train set:\")\n",
    "    print()\n",
    "    print(knn_clf.best_params_)\n",
    "    print()\n",
    "    print(\"Grid scores on Train set:\")\n",
    "    print()\n",
    "    means = knn_clf.cv_results_['mean_test_score']\n",
    "    stds = knn_clf.cv_results_['std_test_score']\n",
    "    for mean, std, params in zip(means, stds, knn_clf.cv_results_['params']):\n",
    "        print(\"%0.3f (+/-%0.03f) for %r\"\n",
    "              % (mean, std * 2, params))\n",
    "    print()\n",
    "\n",
    "    print(\"Detailed classification report on Test Set:\")\n",
    "    pred = knn_clf.predict(X_test)\n",
    "    print(classification_report(y_test, pred,target_names=labels))\n",
    "    print()"
   ]
  },
  {
   "cell_type": "code",
   "execution_count": 32,
   "metadata": {},
   "outputs": [
    {
     "name": "stdout",
     "output_type": "stream",
     "text": [
      "Confusion matrix, without normalization\n"
     ]
    },
    {
     "data": {
      "image/png": "[encoded data removed]",
      "text/plain": [
       "<Figure size 432x288 with 2 Axes>"
      ]
     },
     "metadata": {
      "needs_background": "light"
     },
     "output_type": "display_data"
    }
   ],
   "source": [
    "cm = metrics.confusion_matrix(y_test, pred, labels=labels)\n",
    "plot_confusion_matrix(cm, classes=labels)"
   ]
  },
  {
   "cell_type": "markdown",
   "metadata": {},
   "source": [
    "### Adaboost Classifier"
   ]
  },
  {
   "cell_type": "code",
   "execution_count": 33,
   "metadata": {},
   "outputs": [],
   "source": [
    "ada_clf = AdaBoostClassifier(n_estimators=100, random_state=0)"
   ]
  },
  {
   "cell_type": "code",
   "execution_count": 34,
   "metadata": {},
   "outputs": [
    {
     "name": "stdout",
     "output_type": "stream",
     "text": [
      "Accuracy: 0.49 (+/- 0.04)\n"
     ]
    }
   ],
   "source": [
    "ada_clf.fit(X_train, y_train)\n",
    "scores = cross_val_score(ada_clf, X_train, y_train, cv=5)\n",
    "print(\"Accuracy: %0.2f (+/- %0.2f)\" % (scores.mean(), scores.std() * 2))"
   ]
  },
  {
   "cell_type": "code",
   "execution_count": 35,
   "metadata": {},
   "outputs": [
    {
     "name": "stdout",
     "output_type": "stream",
     "text": [
      "                    precision    recall  f1-score   support\n",
      "\n",
      "  instant adoption       0.45      0.25      0.32       228\n",
      "  delayed adoption       0.49      0.58      0.53       269\n",
      "very late adoption       0.50      0.60      0.55       241\n",
      "\n",
      "          accuracy                           0.49       738\n",
      "         macro avg       0.48      0.48      0.47       738\n",
      "      weighted avg       0.48      0.49      0.47       738\n",
      "\n"
     ]
    }
   ],
   "source": [
    "pred = ada_clf.predict(X_test)\n",
    "#generate classification report\n",
    "print(classification_report(y_test, pred, target_names=labels))"
   ]
  },
  {
   "cell_type": "code",
   "execution_count": 36,
   "metadata": {
    "scrolled": true
   },
   "outputs": [
    {
     "name": "stdout",
     "output_type": "stream",
     "text": [
      "Confusion matrix, without normalization\n"
     ]
    },
    {
     "data": {
      "image/png": "[encoded data removed]",
      "text/plain": [
       "<Figure size 432x288 with 2 Axes>"
      ]
     },
     "metadata": {
      "needs_background": "light"
     },
     "output_type": "display_data"
    }
   ],
   "source": [
    "cm = metrics.confusion_matrix(y_test, pred, labels=labels)\n",
    "plot_confusion_matrix(cm, classes=labels)"
   ]
  },
  {
   "cell_type": "markdown",
   "metadata": {},
   "source": [
    "### Voting Classifier"
   ]
  },
  {
   "cell_type": "code",
   "execution_count": 37,
   "metadata": {},
   "outputs": [
    {
     "name": "stdout",
     "output_type": "stream",
     "text": [
      "Accuracy: 0.42 (+/- 0.05) [DecisionTree]\n",
      "Accuracy: 0.42 (+/- 0.04) [Logistic Regression]\n",
      "Accuracy: 0.53 (+/- 0.06) [Random Forest]\n",
      "Accuracy: 0.51 (+/- 0.05) [Knn]\n",
      "Accuracy: 0.46 (+/- 0.04) [Adaboost]\n",
      "Accuracy: 0.50 (+/- 0.04) [Voting]\n"
     ]
    }
   ],
   "source": [
    "eclf = VotingClassifier(estimators=[('onehot-clf1', clf_DTC), ('onehot-clf3', lr_clf) , ('onehot-clf4', rf_clf) , ('onehot-clf5', knn_clf) ,('onehot-clf6', ada_clf)], voting='soft')\n",
    "eclf.fit(X_train, y_train)\n",
    "for clf, label in zip([clf_DTC, lr_clf, rf_clf, knn_clf, ada_clf, eclf], ['DecisionTree', 'Logistic Regression', 'Random Forest', 'Knn', 'Adaboost','Voting']):\n",
    "    scores = cross_val_score(clf, X_test, y_test, scoring='accuracy', cv=5)\n",
    "    print(\"Accuracy: %0.2f (+/- %0.2f) [%s]\" % (scores.mean(), scores.std(), label))"
   ]
  },
  {
   "cell_type": "code",
   "execution_count": 38,
   "metadata": {},
   "outputs": [
    {
     "name": "stdout",
     "output_type": "stream",
     "text": [
      "Confusion matrix, without normalization\n"
     ]
    },
    {
     "data": {
      "image/png": "[encoded data removed]",
      "text/plain": [
       "<Figure size 432x288 with 2 Axes>"
      ]
     },
     "metadata": {
      "needs_background": "light"
     },
     "output_type": "display_data"
    }
   ],
   "source": [
    "pred=eclf.predict(X_test)\n",
    "cm = metrics.confusion_matrix(y_test, pred, labels=labels)\n",
    "plot_confusion_matrix(cm, classes=labels)"
   ]
  },
  {
   "cell_type": "markdown",
   "metadata": {},
   "source": [
    "## Results on Dog Group"
   ]
  },
  {
   "cell_type": "code",
   "execution_count": 39,
   "metadata": {},
   "outputs": [],
   "source": [
    "one_hot = pd.get_dummies(dog)"
   ]
  },
  {
   "cell_type": "code",
   "execution_count": 40,
   "metadata": {},
   "outputs": [],
   "source": [
    "X_train, X_test, y_train, y_test = train_test_split(one_hot, y_dog, test_size=0.20, shuffle = True)"
   ]
  },
  {
   "cell_type": "markdown",
   "metadata": {},
   "source": [
    "### Decision Tree Classifier"
   ]
  },
  {
   "cell_type": "code",
   "execution_count": 41,
   "metadata": {},
   "outputs": [
    {
     "name": "stdout",
     "output_type": "stream",
     "text": [
      "# Tuning hyper-parameters for accuracy\n",
      "\n",
      "Best parameters set found on Train set:\n",
      "\n",
      "{'criterion': 'gini', 'max_leaf_nodes': 80}\n",
      "\n",
      "Grid scores on Train set:\n",
      "\n",
      "0.496 (+/-0.035) for {'criterion': 'gini', 'max_leaf_nodes': 20}\n",
      "0.499 (+/-0.026) for {'criterion': 'gini', 'max_leaf_nodes': 40}\n",
      "0.517 (+/-0.018) for {'criterion': 'gini', 'max_leaf_nodes': 80}\n",
      "0.492 (+/-0.039) for {'criterion': 'entropy', 'max_leaf_nodes': 20}\n",
      "0.493 (+/-0.038) for {'criterion': 'entropy', 'max_leaf_nodes': 40}\n",
      "0.512 (+/-0.035) for {'criterion': 'entropy', 'max_leaf_nodes': 80}\n",
      "\n",
      "Detailed classification report on Test Set:\n",
      "                    precision    recall  f1-score   support\n",
      "\n",
      "  instant adoption       0.49      0.57      0.53       350\n",
      "  delayed adoption       0.52      0.45      0.48       291\n",
      "very late adoption       0.64      0.61      0.62       338\n",
      "\n",
      "          accuracy                           0.55       979\n",
      "         macro avg       0.55      0.54      0.54       979\n",
      "      weighted avg       0.55      0.55      0.55       979\n",
      "\n",
      "\n"
     ]
    }
   ],
   "source": [
    "# Set the parameters by cross-validation\n",
    "tuned_parameters = [{'criterion':['gini','entropy'],'max_leaf_nodes': [20,40,80]}]\n",
    "\n",
    "scores = ['accuracy']\n",
    "\n",
    "for score in scores:\n",
    "    print(\"# Tuning hyper-parameters for %s\" % score)\n",
    "    print()\n",
    "\n",
    "    clf_DTC = GridSearchCV(\n",
    "        DecisionTreeClassifier(), tuned_parameters, cv=5, scoring='%s' % score)\n",
    "    clf_DTC.fit(X_train, y_train)\n",
    "\n",
    "    print(\"Best parameters set found on Train set:\")\n",
    "    print()\n",
    "    print(clf_DTC.best_params_)\n",
    "    print()\n",
    "    print(\"Grid scores on Train set:\")\n",
    "    print()\n",
    "    means = clf_DTC.cv_results_['mean_test_score']\n",
    "    stds = clf_DTC.cv_results_['std_test_score']\n",
    "    for mean, std, params in zip(means, stds, clf_DTC.cv_results_['params']):\n",
    "        print(\"%0.3f (+/-%0.03f) for %r\"\n",
    "              % (mean, std * 2, params))\n",
    "    print()\n",
    "\n",
    "    print(\"Detailed classification report on Test Set:\")\n",
    "    pred = clf_DTC.predict(X_test)\n",
    "    print(classification_report(y_test, pred,target_names=labels))\n",
    "    print()"
   ]
  },
  {
   "cell_type": "code",
   "execution_count": 42,
   "metadata": {},
   "outputs": [
    {
     "data": {
      "text/html": [
       "<img src=\"clf_DTC.png?347348286\" alt=\"clf_DTC.png\" height=\"100\">"
      ],
      "text/plain": [
       "<IPython.core.display.HTML object>"
      ]
     },
     "metadata": {},
     "output_type": "display_data"
    }
   ],
   "source": [
    "clf_DTC = DecisionTreeClassifier(criterion='gini',max_leaf_nodes=80)\n",
    "clf_DTC.fit(X_train, y_train)\n",
    "dot_data = tree.export_graphviz(clf_DTC, out_file=\"clf_DTC.dot\",\n",
    "                                feature_names=one_hot.columns,\n",
    "                                class_names=labels,\n",
    "                                filled=True, rounded=True,\n",
    "                                special_characters=True)\n",
    "(clf_DTC_graph,) = pydot.graph_from_dot_file('clf_DTC.dot')\n",
    "clf_DTC_graph.write_png('clf_DTC.png')\n",
    "display(HTML('<img src=\"clf_DTC.png?%d\" alt=\"clf_DTC.png\" height=\"100\">' % random.randint(0,2e9)))"
   ]
  },
  {
   "cell_type": "code",
   "execution_count": 43,
   "metadata": {},
   "outputs": [],
   "source": [
    "scores = cross_val_score(clf_DTC, X_train, y_train, cv=5)"
   ]
  },
  {
   "cell_type": "code",
   "execution_count": 44,
   "metadata": {},
   "outputs": [
    {
     "name": "stdout",
     "output_type": "stream",
     "text": [
      "Accuracy: 0.52 (+/- 0.02)\n"
     ]
    }
   ],
   "source": [
    "print(\"Accuracy: %0.2f (+/- %0.2f)\" % (scores.mean(), scores.std() * 2))"
   ]
  },
  {
   "cell_type": "code",
   "execution_count": 45,
   "metadata": {},
   "outputs": [
    {
     "name": "stdout",
     "output_type": "stream",
     "text": [
      "                    precision    recall  f1-score   support\n",
      "\n",
      "  instant adoption       0.49      0.57      0.53       350\n",
      "  delayed adoption       0.52      0.45      0.48       291\n",
      "very late adoption       0.64      0.61      0.62       338\n",
      "\n",
      "          accuracy                           0.55       979\n",
      "         macro avg       0.55      0.54      0.54       979\n",
      "      weighted avg       0.55      0.55      0.55       979\n",
      "\n"
     ]
    }
   ],
   "source": [
    "pred = clf_DTC.predict(X_test)\n",
    "#generate classification report\n",
    "print(classification_report(y_test, pred, target_names=labels))"
   ]
  },
  {
   "cell_type": "code",
   "execution_count": 46,
   "metadata": {},
   "outputs": [
    {
     "name": "stdout",
     "output_type": "stream",
     "text": [
      "Confusion matrix, without normalization\n"
     ]
    },
    {
     "data": {
      "image/png": "[encoded data removed]",
      "text/plain": [
       "<Figure size 432x288 with 2 Axes>"
      ]
     },
     "metadata": {
      "needs_background": "light"
     },
     "output_type": "display_data"
    }
   ],
   "source": [
    "cm = metrics.confusion_matrix(y_test, pred, labels=labels)\n",
    "plot_confusion_matrix(cm, classes=labels)"
   ]
  },
  {
   "cell_type": "markdown",
   "metadata": {},
   "source": [
    "### Linear SVM"
   ]
  },
  {
   "cell_type": "code",
   "execution_count": 47,
   "metadata": {},
   "outputs": [
    {
     "name": "stdout",
     "output_type": "stream",
     "text": [
      "# Tuning hyper-parameters for accuracy\n",
      "\n",
      "Best parameters set found on Train set:\n",
      "\n",
      "{'alpha': 0.001, 'loss': 'hinge', 'penalty': 'l1'}\n",
      "\n",
      "Grid scores on Train set:\n",
      "\n",
      "0.466 (+/-0.038) for {'alpha': 0.1, 'loss': 'hinge', 'penalty': 'l2'}\n",
      "0.357 (+/-0.020) for {'alpha': 0.1, 'loss': 'hinge', 'penalty': 'l1'}\n",
      "0.393 (+/-0.047) for {'alpha': 0.1, 'loss': 'squared_hinge', 'penalty': 'l2'}\n",
      "0.433 (+/-0.041) for {'alpha': 0.1, 'loss': 'squared_hinge', 'penalty': 'l1'}\n",
      "0.466 (+/-0.024) for {'alpha': 0.01, 'loss': 'hinge', 'penalty': 'l2'}\n",
      "0.417 (+/-0.048) for {'alpha': 0.01, 'loss': 'hinge', 'penalty': 'l1'}\n",
      "0.420 (+/-0.044) for {'alpha': 0.01, 'loss': 'squared_hinge', 'penalty': 'l2'}\n",
      "0.435 (+/-0.035) for {'alpha': 0.01, 'loss': 'squared_hinge', 'penalty': 'l1'}\n",
      "0.467 (+/-0.015) for {'alpha': 0.001, 'loss': 'hinge', 'penalty': 'l2'}\n",
      "0.476 (+/-0.025) for {'alpha': 0.001, 'loss': 'hinge', 'penalty': 'l1'}\n",
      "0.425 (+/-0.038) for {'alpha': 0.001, 'loss': 'squared_hinge', 'penalty': 'l2'}\n",
      "0.395 (+/-0.041) for {'alpha': 0.001, 'loss': 'squared_hinge', 'penalty': 'l1'}\n",
      "0.467 (+/-0.045) for {'alpha': 0.0001, 'loss': 'hinge', 'penalty': 'l2'}\n",
      "0.463 (+/-0.039) for {'alpha': 0.0001, 'loss': 'hinge', 'penalty': 'l1'}\n",
      "0.400 (+/-0.040) for {'alpha': 0.0001, 'loss': 'squared_hinge', 'penalty': 'l2'}\n",
      "0.385 (+/-0.053) for {'alpha': 0.0001, 'loss': 'squared_hinge', 'penalty': 'l1'}\n",
      "0.415 (+/-0.050) for {'alpha': 1e-05, 'loss': 'hinge', 'penalty': 'l2'}\n",
      "0.424 (+/-0.064) for {'alpha': 1e-05, 'loss': 'hinge', 'penalty': 'l1'}\n",
      "0.371 (+/-0.031) for {'alpha': 1e-05, 'loss': 'squared_hinge', 'penalty': 'l2'}\n",
      "0.407 (+/-0.036) for {'alpha': 1e-05, 'loss': 'squared_hinge', 'penalty': 'l1'}\n",
      "0.378 (+/-0.055) for {'alpha': 1e-06, 'loss': 'hinge', 'penalty': 'l2'}\n",
      "0.427 (+/-0.051) for {'alpha': 1e-06, 'loss': 'hinge', 'penalty': 'l1'}\n",
      "0.416 (+/-0.059) for {'alpha': 1e-06, 'loss': 'squared_hinge', 'penalty': 'l2'}\n",
      "0.414 (+/-0.059) for {'alpha': 1e-06, 'loss': 'squared_hinge', 'penalty': 'l1'}\n",
      "\n",
      "Detailed classification report on Test Set:\n",
      "                    precision    recall  f1-score   support\n",
      "\n",
      "  instant adoption       0.52      0.21      0.30       350\n",
      "  delayed adoption       0.42      0.45      0.44       291\n",
      "very late adoption       0.48      0.74      0.58       338\n",
      "\n",
      "          accuracy                           0.47       979\n",
      "         macro avg       0.47      0.47      0.44       979\n",
      "      weighted avg       0.48      0.47      0.44       979\n",
      "\n",
      "\n"
     ]
    }
   ],
   "source": [
    "# Set the parameters by cross-validation\n",
    "tuned_parameters = [{'loss':['hinge','squared_hinge'],'alpha': 10.0**-np.arange(1,7),'penalty':['l2','l1']}]\n",
    "\n",
    "scores = ['accuracy']\n",
    "\n",
    "for score in scores:\n",
    "    print(\"# Tuning hyper-parameters for %s\" % score)\n",
    "    print()\n",
    "\n",
    "    sgd_clf = GridSearchCV(\n",
    "        SGDClassifier(max_iter= np.ceil(10**6 / X_train.shape[0])), tuned_parameters, cv=5, scoring='%s' % score)\n",
    "    sgd_clf.fit(X_train, y_train)\n",
    "\n",
    "    print(\"Best parameters set found on Train set:\")\n",
    "    print()\n",
    "    print(sgd_clf.best_params_)\n",
    "    print()\n",
    "    print(\"Grid scores on Train set:\")\n",
    "    print()\n",
    "    means = sgd_clf.cv_results_['mean_test_score']\n",
    "    stds = sgd_clf.cv_results_['std_test_score']\n",
    "    for mean, std, params in zip(means, stds, sgd_clf.cv_results_['params']):\n",
    "        print(\"%0.3f (+/-%0.03f) for %r\"\n",
    "              % (mean, std * 2, params))\n",
    "    print()\n",
    "\n",
    "    print(\"Detailed classification report on Test Set:\")\n",
    "    pred = sgd_clf.predict(X_test)\n",
    "    print(classification_report(y_test, pred,target_names=labels))\n",
    "    print()"
   ]
  },
  {
   "cell_type": "code",
   "execution_count": 48,
   "metadata": {},
   "outputs": [
    {
     "name": "stdout",
     "output_type": "stream",
     "text": [
      "Confusion matrix, without normalization\n"
     ]
    },
    {
     "data": {
      "image/png": "[encoded data removed]",
      "text/plain": [
       "<Figure size 432x288 with 2 Axes>"
      ]
     },
     "metadata": {
      "needs_background": "light"
     },
     "output_type": "display_data"
    }
   ],
   "source": [
    "cm = metrics.confusion_matrix(y_test, pred, labels=labels)\n",
    "plot_confusion_matrix(cm, classes=labels)"
   ]
  },
  {
   "cell_type": "markdown",
   "metadata": {},
   "source": [
    "### Logistic Regression"
   ]
  },
  {
   "cell_type": "code",
   "execution_count": 49,
   "metadata": {},
   "outputs": [
    {
     "name": "stdout",
     "output_type": "stream",
     "text": [
      "# Tuning hyper-parameters for accuracy\n",
      "\n",
      "Best parameters set found on Train set:\n",
      "\n",
      "{'C': 10.0, 'penalty': 'l1', 'solver': 'liblinear'}\n",
      "\n",
      "Grid scores on Train set:\n",
      "\n",
      "0.491 (+/-0.040) for {'C': 1.0, 'penalty': 'l2', 'solver': 'liblinear'}\n",
      "0.495 (+/-0.040) for {'C': 1.0, 'penalty': 'l2', 'solver': 'lbfgs'}\n",
      "0.490 (+/-0.033) for {'C': 1.0, 'penalty': 'l1', 'solver': 'liblinear'}\n",
      "nan (+/-nan) for {'C': 1.0, 'penalty': 'l1', 'solver': 'lbfgs'}\n",
      "0.498 (+/-0.039) for {'C': 10.0, 'penalty': 'l2', 'solver': 'liblinear'}\n",
      "0.498 (+/-0.038) for {'C': 10.0, 'penalty': 'l2', 'solver': 'lbfgs'}\n",
      "0.499 (+/-0.038) for {'C': 10.0, 'penalty': 'l1', 'solver': 'liblinear'}\n",
      "nan (+/-nan) for {'C': 10.0, 'penalty': 'l1', 'solver': 'lbfgs'}\n",
      "0.497 (+/-0.040) for {'C': 100.0, 'penalty': 'l2', 'solver': 'liblinear'}\n",
      "0.497 (+/-0.038) for {'C': 100.0, 'penalty': 'l2', 'solver': 'lbfgs'}\n",
      "0.497 (+/-0.040) for {'C': 100.0, 'penalty': 'l1', 'solver': 'liblinear'}\n",
      "nan (+/-nan) for {'C': 100.0, 'penalty': 'l1', 'solver': 'lbfgs'}\n",
      "0.497 (+/-0.041) for {'C': 1000.0, 'penalty': 'l2', 'solver': 'liblinear'}\n",
      "0.497 (+/-0.037) for {'C': 1000.0, 'penalty': 'l2', 'solver': 'lbfgs'}\n",
      "0.498 (+/-0.040) for {'C': 1000.0, 'penalty': 'l1', 'solver': 'liblinear'}\n",
      "nan (+/-nan) for {'C': 1000.0, 'penalty': 'l1', 'solver': 'lbfgs'}\n",
      "0.497 (+/-0.041) for {'C': 10000.0, 'penalty': 'l2', 'solver': 'liblinear'}\n",
      "0.497 (+/-0.035) for {'C': 10000.0, 'penalty': 'l2', 'solver': 'lbfgs'}\n",
      "0.497 (+/-0.041) for {'C': 10000.0, 'penalty': 'l1', 'solver': 'liblinear'}\n",
      "nan (+/-nan) for {'C': 10000.0, 'penalty': 'l1', 'solver': 'lbfgs'}\n",
      "0.497 (+/-0.041) for {'C': 100000.0, 'penalty': 'l2', 'solver': 'liblinear'}\n",
      "0.498 (+/-0.039) for {'C': 100000.0, 'penalty': 'l2', 'solver': 'lbfgs'}\n",
      "0.498 (+/-0.040) for {'C': 100000.0, 'penalty': 'l1', 'solver': 'liblinear'}\n",
      "nan (+/-nan) for {'C': 100000.0, 'penalty': 'l1', 'solver': 'lbfgs'}\n",
      "0.497 (+/-0.041) for {'C': 1000000.0, 'penalty': 'l2', 'solver': 'liblinear'}\n",
      "0.497 (+/-0.038) for {'C': 1000000.0, 'penalty': 'l2', 'solver': 'lbfgs'}\n",
      "0.497 (+/-0.040) for {'C': 1000000.0, 'penalty': 'l1', 'solver': 'liblinear'}\n",
      "nan (+/-nan) for {'C': 1000000.0, 'penalty': 'l1', 'solver': 'lbfgs'}\n",
      "\n",
      "Detailed classification report on Test Set:\n",
      "                    precision    recall  f1-score   support\n",
      "\n",
      "  instant adoption       0.45      0.47      0.46       350\n",
      "  delayed adoption       0.44      0.36      0.40       291\n",
      "very late adoption       0.52      0.57      0.54       338\n",
      "\n",
      "          accuracy                           0.47       979\n",
      "         macro avg       0.47      0.47      0.47       979\n",
      "      weighted avg       0.47      0.47      0.47       979\n",
      "\n",
      "\n"
     ]
    }
   ],
   "source": [
    "# Set the parameters by cross-validation\n",
    "tuned_parameters = [{'C': 10.0**np.arange(0,7),'penalty':['l2','l1'],'solver':['liblinear','lbfgs']}]\n",
    "\n",
    "scores = ['accuracy']\n",
    "\n",
    "for score in scores:\n",
    "    print(\"# Tuning hyper-parameters for %s\" % score)\n",
    "    print()\n",
    "\n",
    "    lr_clf = GridSearchCV(\n",
    "        LogisticRegression(max_iter= np.ceil(10**6 / X_train.shape[0])), tuned_parameters, cv=5, scoring='%s' % score)\n",
    "    lr_clf.fit(X_train, y_train)\n",
    "\n",
    "    print(\"Best parameters set found on Train set:\")\n",
    "    print()\n",
    "    print(lr_clf.best_params_)\n",
    "    print()\n",
    "    print(\"Grid scores on Train set:\")\n",
    "    print()\n",
    "    means = lr_clf.cv_results_['mean_test_score']\n",
    "    stds = lr_clf.cv_results_['std_test_score']\n",
    "    for mean, std, params in zip(means, stds, lr_clf.cv_results_['params']):\n",
    "        print(\"%0.3f (+/-%0.03f) for %r\"\n",
    "              % (mean, std * 2, params))\n",
    "    print()\n",
    "\n",
    "    print(\"Detailed classification report on Test Set:\")\n",
    "    pred = lr_clf.predict(X_test)\n",
    "    print(classification_report(y_test, pred,target_names=labels))\n",
    "    print()"
   ]
  },
  {
   "cell_type": "code",
   "execution_count": 50,
   "metadata": {},
   "outputs": [
    {
     "name": "stdout",
     "output_type": "stream",
     "text": [
      "Confusion matrix, without normalization\n"
     ]
    },
    {
     "data": {
      "image/png": "[encoded data removed]",
      "text/plain": [
       "<Figure size 432x288 with 2 Axes>"
      ]
     },
     "metadata": {
      "needs_background": "light"
     },
     "output_type": "display_data"
    }
   ],
   "source": [
    "cm = metrics.confusion_matrix(y_test, pred, labels=labels)\n",
    "plot_confusion_matrix(cm, classes=labels)"
   ]
  },
  {
   "cell_type": "markdown",
   "metadata": {},
   "source": [
    "### Random Forest Classifier"
   ]
  },
  {
   "cell_type": "code",
   "execution_count": 51,
   "metadata": {},
   "outputs": [
    {
     "name": "stdout",
     "output_type": "stream",
     "text": [
      "# Tuning hyper-parameters for accuracy\n",
      "\n",
      "Best parameters set found on Train set:\n",
      "\n",
      "{'n_estimators': 400}\n",
      "\n",
      "Grid scores on Train set:\n",
      "\n",
      "0.703 (+/-0.019) for {'n_estimators': 400}\n",
      "0.701 (+/-0.025) for {'n_estimators': 500}\n",
      "\n",
      "Detailed classification report on Test Set:\n",
      "                    precision    recall  f1-score   support\n",
      "\n",
      "  instant adoption       0.71      0.71      0.71       350\n",
      "  delayed adoption       0.69      0.66      0.68       291\n",
      "very late adoption       0.75      0.78      0.76       338\n",
      "\n",
      "          accuracy                           0.72       979\n",
      "         macro avg       0.72      0.72      0.72       979\n",
      "      weighted avg       0.72      0.72      0.72       979\n",
      "\n",
      "\n"
     ]
    }
   ],
   "source": [
    "# Set the parameters by cross-validation\n",
    "tuned_parameters = [{'n_estimators': [400,500]}]\n",
    "\n",
    "scores = ['accuracy']\n",
    "\n",
    "for score in scores:\n",
    "    print(\"# Tuning hyper-parameters for %s\" % score)\n",
    "    print()\n",
    "\n",
    "    rf_clf = GridSearchCV(\n",
    "        RandomForestClassifier(), tuned_parameters, cv=5, scoring='%s' % score)\n",
    "    rf_clf.fit(X_train, y_train)\n",
    "\n",
    "    print(\"Best parameters set found on Train set:\")\n",
    "    print()\n",
    "    print(rf_clf.best_params_)\n",
    "    print()\n",
    "    print(\"Grid scores on Train set:\")\n",
    "    print()\n",
    "    means = rf_clf.cv_results_['mean_test_score']\n",
    "    stds = rf_clf.cv_results_['std_test_score']\n",
    "    for mean, std, params in zip(means, stds, rf_clf.cv_results_['params']):\n",
    "        print(\"%0.3f (+/-%0.03f) for %r\"\n",
    "              % (mean, std * 2, params))\n",
    "    print()\n",
    "\n",
    "    print(\"Detailed classification report on Test Set:\")\n",
    "    pred = rf_clf.predict(X_test)\n",
    "    print(classification_report(y_test, pred,target_names=labels))\n",
    "    print()"
   ]
  },
  {
   "cell_type": "code",
   "execution_count": 52,
   "metadata": {},
   "outputs": [
    {
     "name": "stdout",
     "output_type": "stream",
     "text": [
      "Confusion matrix, without normalization\n"
     ]
    },
    {
     "data": {
      "image/png": "[encoded data removed]",
      "text/plain": [
       "<Figure size 432x288 with 2 Axes>"
      ]
     },
     "metadata": {
      "needs_background": "light"
     },
     "output_type": "display_data"
    }
   ],
   "source": [
    "cm = metrics.confusion_matrix(y_test, pred, labels=labels)\n",
    "plot_confusion_matrix(cm, classes=labels)"
   ]
  },
  {
   "cell_type": "markdown",
   "metadata": {},
   "source": [
    "### KNN Classifier"
   ]
  },
  {
   "cell_type": "code",
   "execution_count": 53,
   "metadata": {},
   "outputs": [
    {
     "name": "stdout",
     "output_type": "stream",
     "text": [
      "# Tuning hyper-parameters for accuracy\n",
      "\n",
      "Best parameters set found on Train set:\n",
      "\n",
      "{'n_neighbors': 20, 'weights': 'distance'}\n",
      "\n",
      "Grid scores on Train set:\n",
      "\n",
      "0.521 (+/-0.036) for {'n_neighbors': 5, 'weights': 'uniform'}\n",
      "0.650 (+/-0.037) for {'n_neighbors': 5, 'weights': 'distance'}\n",
      "0.504 (+/-0.032) for {'n_neighbors': 10, 'weights': 'uniform'}\n",
      "0.658 (+/-0.026) for {'n_neighbors': 10, 'weights': 'distance'}\n",
      "0.497 (+/-0.032) for {'n_neighbors': 20, 'weights': 'uniform'}\n",
      "0.658 (+/-0.023) for {'n_neighbors': 20, 'weights': 'distance'}\n",
      "\n",
      "Detailed classification report on Test Set:\n",
      "                    precision    recall  f1-score   support\n",
      "\n",
      "  instant adoption       0.62      0.73      0.67       350\n",
      "  delayed adoption       0.70      0.54      0.61       291\n",
      "very late adoption       0.69      0.70      0.70       338\n",
      "\n",
      "          accuracy                           0.66       979\n",
      "         macro avg       0.67      0.66      0.66       979\n",
      "      weighted avg       0.67      0.66      0.66       979\n",
      "\n",
      "\n"
     ]
    }
   ],
   "source": [
    "# Set the parameters by cross-validation\n",
    "tuned_parameters = [{'n_neighbors': [5,10,20],'weights':['uniform','distance']}]\n",
    "\n",
    "scores = ['accuracy']\n",
    "\n",
    "for score in scores:\n",
    "    print(\"# Tuning hyper-parameters for %s\" % score)\n",
    "    print()\n",
    "\n",
    "    knn_clf = GridSearchCV(\n",
    "        KNeighborsClassifier(), tuned_parameters, cv=5, scoring='%s' % score)\n",
    "    knn_clf.fit(X_train, y_train)\n",
    "\n",
    "    print(\"Best parameters set found on Train set:\")\n",
    "    print()\n",
    "    print(knn_clf.best_params_)\n",
    "    print()\n",
    "    print(\"Grid scores on Train set:\")\n",
    "    print()\n",
    "    means = knn_clf.cv_results_['mean_test_score']\n",
    "    stds = knn_clf.cv_results_['std_test_score']\n",
    "    for mean, std, params in zip(means, stds, knn_clf.cv_results_['params']):\n",
    "        print(\"%0.3f (+/-%0.03f) for %r\"\n",
    "              % (mean, std * 2, params))\n",
    "    print()\n",
    "\n",
    "    print(\"Detailed classification report on Test Set:\")\n",
    "    pred = knn_clf.predict(X_test)\n",
    "    print(classification_report(y_test, pred,target_names=labels))\n",
    "    print()"
   ]
  },
  {
   "cell_type": "code",
   "execution_count": 54,
   "metadata": {},
   "outputs": [
    {
     "name": "stdout",
     "output_type": "stream",
     "text": [
      "Confusion matrix, without normalization\n"
     ]
    },
    {
     "data": {
      "image/png": "[encoded data removed]",
      "text/plain": [
       "<Figure size 432x288 with 2 Axes>"
      ]
     },
     "metadata": {
      "needs_background": "light"
     },
     "output_type": "display_data"
    }
   ],
   "source": [
    "cm = metrics.confusion_matrix(y_test, pred, labels=labels)\n",
    "plot_confusion_matrix(cm, classes=labels)"
   ]
  },
  {
   "cell_type": "markdown",
   "metadata": {},
   "source": [
    "### Adaboost Classifier"
   ]
  },
  {
   "cell_type": "code",
   "execution_count": 55,
   "metadata": {},
   "outputs": [],
   "source": [
    "ada_clf = AdaBoostClassifier(n_estimators=100, random_state=0)"
   ]
  },
  {
   "cell_type": "code",
   "execution_count": 56,
   "metadata": {},
   "outputs": [
    {
     "name": "stdout",
     "output_type": "stream",
     "text": [
      "Accuracy: 0.51 (+/- 0.05)\n"
     ]
    }
   ],
   "source": [
    "ada_clf.fit(X_train, y_train)\n",
    "scores = cross_val_score(ada_clf, X_train, y_train, cv=5)\n",
    "print(\"Accuracy: %0.2f (+/- %0.2f)\" % (scores.mean(), scores.std() * 2))"
   ]
  },
  {
   "cell_type": "code",
   "execution_count": 57,
   "metadata": {},
   "outputs": [
    {
     "name": "stdout",
     "output_type": "stream",
     "text": [
      "                    precision    recall  f1-score   support\n",
      "\n",
      "  instant adoption       0.51      0.50      0.50       350\n",
      "  delayed adoption       0.48      0.48      0.48       291\n",
      "very late adoption       0.58      0.59      0.59       338\n",
      "\n",
      "          accuracy                           0.53       979\n",
      "         macro avg       0.52      0.53      0.52       979\n",
      "      weighted avg       0.53      0.53      0.53       979\n",
      "\n"
     ]
    }
   ],
   "source": [
    "pred = ada_clf.predict(X_test)\n",
    "#generate classification report\n",
    "print(classification_report(y_test, pred, target_names=labels))"
   ]
  },
  {
   "cell_type": "code",
   "execution_count": 58,
   "metadata": {
    "scrolled": true
   },
   "outputs": [
    {
     "name": "stdout",
     "output_type": "stream",
     "text": [
      "Confusion matrix, without normalization\n"
     ]
    },
    {
     "data": {
      "image/png": "[encoded data removed]",
      "text/plain": [
       "<Figure size 432x288 with 2 Axes>"
      ]
     },
     "metadata": {
      "needs_background": "light"
     },
     "output_type": "display_data"
    }
   ],
   "source": [
    "cm = metrics.confusion_matrix(y_test, pred, labels=labels)\n",
    "plot_confusion_matrix(cm, classes=labels)"
   ]
  },
  {
   "cell_type": "markdown",
   "metadata": {},
   "source": [
    "### Voting Classifier"
   ]
  },
  {
   "cell_type": "code",
   "execution_count": 59,
   "metadata": {},
   "outputs": [
    {
     "name": "stdout",
     "output_type": "stream",
     "text": [
      "Accuracy: 0.47 (+/- 0.02) [DecisionTree]\n",
      "Accuracy: 0.46 (+/- 0.02) [Logistic Regression]\n",
      "Accuracy: 0.54 (+/- 0.02) [Random Forest]\n",
      "Accuracy: 0.48 (+/- 0.02) [Knn]\n",
      "Accuracy: 0.49 (+/- 0.03) [Adaboost]\n",
      "Accuracy: 0.50 (+/- 0.02) [Voting]\n"
     ]
    }
   ],
   "source": [
    "eclf = VotingClassifier(estimators=[('onehot-clf1', clf_DTC), ('onehot-clf3', lr_clf) , ('onehot-clf4', rf_clf) , ('onehot-clf5', knn_clf) ,('onehot-clf6', ada_clf)], voting='soft')\n",
    "eclf.fit(X_train, y_train)\n",
    "for clf, label in zip([clf_DTC, lr_clf, rf_clf, knn_clf, ada_clf, eclf], ['DecisionTree', 'Logistic Regression', 'Random Forest', 'Knn', 'Adaboost','Voting']):\n",
    "    scores = cross_val_score(clf, X_test, y_test, scoring='accuracy', cv=5)\n",
    "    print(\"Accuracy: %0.2f (+/- %0.2f) [%s]\" % (scores.mean(), scores.std(), label))"
   ]
  },
  {
   "cell_type": "code",
   "execution_count": 60,
   "metadata": {},
   "outputs": [
    {
     "name": "stdout",
     "output_type": "stream",
     "text": [
      "Confusion matrix, without normalization\n"
     ]
    },
    {
     "data": {
      "image/png": "[encoded data removed]",
      "text/plain": [
       "<Figure size 432x288 with 2 Axes>"
      ]
     },
     "metadata": {
      "needs_background": "light"
     },
     "output_type": "display_data"
    }
   ],
   "source": [
    "pred=eclf.predict(X_test)\n",
    "cm = metrics.confusion_matrix(y_test, pred, labels=labels)\n",
    "plot_confusion_matrix(cm, classes=labels)"
   ]
  },
  {
   "cell_type": "markdown",
   "metadata": {},
   "source": [
    "## 1.3. Classification - Results and Discussion "
   ]
  },
  {
   "cell_type": "markdown",
   "metadata": {},
   "source": [
    "In this task we first divided the data in separate cat class and dog class and then performed multi-class classification on the target variable of AdoptionSpeed.\n",
    "We have performed complete Exploratory Data Analysis and feature pre-processing to make a good input for ML Algorithm.\n",
    "We have applied one classifier from each of the category described as well as the cross validation and hyper parameter tuning to get best results out of our Algorithms."
   ]
  },
  {
   "cell_type": "code",
   "execution_count": null,
   "metadata": {},
   "outputs": [],
   "source": []
  }
 ],
 "metadata": {
  "kernelspec": {
   "display_name": "Python 3",
   "language": "python",
   "name": "python3"
  },
  "language_info": {
   "codemirror_mode": {
    "name": "ipython",
    "version": 3
   },
   "file_extension": ".py",
   "mimetype": "text/x-python",
   "name": "python",
   "nbconvert_exporter": "python",
   "pygments_lexer": "ipython3",
   "version": "3.8.3"
  }
 },
 "nbformat": 4,
 "nbformat_minor": 2
}
