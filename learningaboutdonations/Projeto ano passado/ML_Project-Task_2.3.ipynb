{
 "cells": [
  {
   "cell_type": "markdown",
   "metadata": {},
   "source": [
    "# Machine Learning\n",
    "\n",
    "## Task 2.3 - Own Approach\n",
    "We will follow two distinct approaches.\n",
    " 2.3.1 - Apply Custering model (Kmodes) to find centroids of clusters on subsets of the dataset, groupped by Adoption speed. The idea is to determine the most common characteristics of the members of each class.\n",
    " 2.3.2 - Use association rule mining together with CAR to perform classification. "
   ]
  },
  {
   "cell_type": "code",
   "execution_count": 84,
   "metadata": {},
   "outputs": [],
   "source": [
    "import numpy as np\n",
    "import pandas as pd\n",
    "from sklearn.cluster import KMeans\n",
    "import seaborn as sns\n",
    "import matplotlib.pyplot as plt\n",
    "from kmodes.kmodes import KModes\n",
    "from imblearn.under_sampling import TomekLinks\n",
    "import category_encoders as ce\n",
    "from sklearn.metrics import accuracy_score"
   ]
  },
  {
   "cell_type": "code",
   "execution_count": 85,
   "metadata": {},
   "outputs": [
    {
     "data": {
      "text/plain": [
       "(12987, 28)"
      ]
     },
     "execution_count": 85,
     "metadata": {},
     "output_type": "execute_result"
    }
   ],
   "source": [
    "PetFinder_dataset = pd.read_csv(\"PetFinder_dataset_pp.csv\")\n",
    "PetFinder_dataset.shape"
   ]
  },
  {
   "cell_type": "code",
   "execution_count": 86,
   "metadata": {},
   "outputs": [],
   "source": [
    "groupedBy_AdoptionSpeed=PetFinder_dataset.drop(['Age','Quantity','Fee','State','PhotoAmt','Polarity','Subjectivity','DescWords','Adopted','AdoptionSpeed','SubjectivityBin','PolarityBin'],axis=1).groupby('InitialAdoptionSpeed')\n"
   ]
  },
  {
   "cell_type": "code",
   "execution_count": 87,
   "metadata": {},
   "outputs": [
    {
     "data": {
      "text/html": [
       "<div>\n",
       "<style scoped>\n",
       "    .dataframe tbody tr th:only-of-type {\n",
       "        vertical-align: middle;\n",
       "    }\n",
       "\n",
       "    .dataframe tbody tr th {\n",
       "        vertical-align: top;\n",
       "    }\n",
       "\n",
       "    .dataframe thead th {\n",
       "        text-align: right;\n",
       "    }\n",
       "</style>\n",
       "<table border=\"1\" class=\"dataframe\">\n",
       "  <thead>\n",
       "    <tr style=\"text-align: right;\">\n",
       "      <th></th>\n",
       "      <th>Type</th>\n",
       "      <th>Gender</th>\n",
       "      <th>MaturitySize</th>\n",
       "      <th>FurLength</th>\n",
       "      <th>Vaccinated</th>\n",
       "      <th>Dewormed</th>\n",
       "      <th>Sterilized</th>\n",
       "      <th>Health</th>\n",
       "      <th>Hasname</th>\n",
       "      <th>Breed</th>\n",
       "      <th>Color</th>\n",
       "      <th>AgeBin</th>\n",
       "      <th>FeeBin</th>\n",
       "      <th>PhotoAmtBin</th>\n",
       "      <th>DescwordsBin</th>\n",
       "    </tr>\n",
       "    <tr>\n",
       "      <th>InitialAdoptionSpeed</th>\n",
       "      <th></th>\n",
       "      <th></th>\n",
       "      <th></th>\n",
       "      <th></th>\n",
       "      <th></th>\n",
       "      <th></th>\n",
       "      <th></th>\n",
       "      <th></th>\n",
       "      <th></th>\n",
       "      <th></th>\n",
       "      <th></th>\n",
       "      <th></th>\n",
       "      <th></th>\n",
       "      <th></th>\n",
       "      <th></th>\n",
       "    </tr>\n",
       "  </thead>\n",
       "  <tbody>\n",
       "    <tr>\n",
       "      <th>0</th>\n",
       "      <td>Cat</td>\n",
       "      <td>Male</td>\n",
       "      <td>Medium</td>\n",
       "      <td>Medium</td>\n",
       "      <td>Not Sure</td>\n",
       "      <td>Not Sure</td>\n",
       "      <td>Not Sure</td>\n",
       "      <td>Healthy</td>\n",
       "      <td>0</td>\n",
       "      <td>Domestic</td>\n",
       "      <td>BlackOther</td>\n",
       "      <td>(-0.1, 3.0]</td>\n",
       "      <td>(-0.1, 0.0]</td>\n",
       "      <td>(0.99, 3.99]</td>\n",
       "      <td>(17.0, 25.0]</td>\n",
       "    </tr>\n",
       "    <tr>\n",
       "      <th>1</th>\n",
       "      <td>Cat</td>\n",
       "      <td>Male</td>\n",
       "      <td>Medium</td>\n",
       "      <td>Long</td>\n",
       "      <td>No</td>\n",
       "      <td>No</td>\n",
       "      <td>Not Sure</td>\n",
       "      <td>Healthy</td>\n",
       "      <td>1</td>\n",
       "      <td>Domestic</td>\n",
       "      <td>Black</td>\n",
       "      <td>(3.0, 12.0]</td>\n",
       "      <td>(0.0, 300.0]</td>\n",
       "      <td>(0.99, 3.99]</td>\n",
       "      <td>(71.0, 93.0]</td>\n",
       "    </tr>\n",
       "    <tr>\n",
       "      <th>2</th>\n",
       "      <td>Cat</td>\n",
       "      <td>Male</td>\n",
       "      <td>Small</td>\n",
       "      <td>Short</td>\n",
       "      <td>No</td>\n",
       "      <td>No</td>\n",
       "      <td>No</td>\n",
       "      <td>Healthy</td>\n",
       "      <td>1</td>\n",
       "      <td>Purebreed</td>\n",
       "      <td>BlackOther</td>\n",
       "      <td>(-0.1, 3.0]</td>\n",
       "      <td>(0.0, 300.0]</td>\n",
       "      <td>(0.99, 3.99]</td>\n",
       "      <td>(56.0, 71.0]</td>\n",
       "    </tr>\n",
       "    <tr>\n",
       "      <th>3</th>\n",
       "      <td>Dog</td>\n",
       "      <td>Male</td>\n",
       "      <td>Medium</td>\n",
       "      <td>Medium</td>\n",
       "      <td>Yes</td>\n",
       "      <td>Yes</td>\n",
       "      <td>No</td>\n",
       "      <td>Healthy</td>\n",
       "      <td>1</td>\n",
       "      <td>Mixed Breed</td>\n",
       "      <td>BrownOther</td>\n",
       "      <td>(-0.1, 3.0]</td>\n",
       "      <td>(-0.1, 0.0]</td>\n",
       "      <td>(3.99, 30.0]</td>\n",
       "      <td>(56.0, 71.0]</td>\n",
       "    </tr>\n",
       "    <tr>\n",
       "      <th>4</th>\n",
       "      <td>Cat</td>\n",
       "      <td>Female</td>\n",
       "      <td>Medium</td>\n",
       "      <td>Medium</td>\n",
       "      <td>Not Sure</td>\n",
       "      <td>Not Sure</td>\n",
       "      <td>Not Sure</td>\n",
       "      <td>Healthy</td>\n",
       "      <td>1</td>\n",
       "      <td>Domestic</td>\n",
       "      <td>BlackOther</td>\n",
       "      <td>(3.0, 12.0]</td>\n",
       "      <td>(-0.1, 0.0]</td>\n",
       "      <td>(0.99, 3.99]</td>\n",
       "      <td>(44.0, 56.0]</td>\n",
       "    </tr>\n",
       "  </tbody>\n",
       "</table>\n",
       "</div>"
      ],
      "text/plain": [
       "                     Type  Gender MaturitySize FurLength Vaccinated  Dewormed  \\\n",
       "InitialAdoptionSpeed                                                            \n",
       "0                     Cat    Male       Medium    Medium   Not Sure  Not Sure   \n",
       "1                     Cat    Male       Medium      Long         No        No   \n",
       "2                     Cat    Male        Small     Short         No        No   \n",
       "3                     Dog    Male       Medium    Medium        Yes       Yes   \n",
       "4                     Cat  Female       Medium    Medium   Not Sure  Not Sure   \n",
       "\n",
       "                     Sterilized   Health  Hasname        Breed       Color  \\\n",
       "InitialAdoptionSpeed                                                         \n",
       "0                      Not Sure  Healthy        0     Domestic  BlackOther   \n",
       "1                      Not Sure  Healthy        1     Domestic       Black   \n",
       "2                            No  Healthy        1    Purebreed  BlackOther   \n",
       "3                            No  Healthy        1  Mixed Breed  BrownOther   \n",
       "4                      Not Sure  Healthy        1     Domestic  BlackOther   \n",
       "\n",
       "                           AgeBin        FeeBin   PhotoAmtBin  DescwordsBin  \n",
       "InitialAdoptionSpeed                                                         \n",
       "0                     (-0.1, 3.0]   (-0.1, 0.0]  (0.99, 3.99]  (17.0, 25.0]  \n",
       "1                     (3.0, 12.0]  (0.0, 300.0]  (0.99, 3.99]  (71.0, 93.0]  \n",
       "2                     (-0.1, 3.0]  (0.0, 300.0]  (0.99, 3.99]  (56.0, 71.0]  \n",
       "3                     (-0.1, 3.0]   (-0.1, 0.0]  (3.99, 30.0]  (56.0, 71.0]  \n",
       "4                     (3.0, 12.0]   (-0.1, 0.0]  (0.99, 3.99]  (44.0, 56.0]  "
      ]
     },
     "execution_count": 87,
     "metadata": {},
     "output_type": "execute_result"
    }
   ],
   "source": [
    "groupedBy_AdoptionSpeed.first()"
   ]
  },
  {
   "cell_type": "markdown",
   "metadata": {},
   "source": [
    "## 2.3.1 - Clustering Data - Binary Classification"
   ]
  },
  {
   "cell_type": "code",
   "execution_count": 88,
   "metadata": {},
   "outputs": [
    {
     "name": "stdout",
     "output_type": "stream",
     "text": [
      "Initialization method and algorithm are deterministic. Setting n_init to 1.\n"
     ]
    }
   ],
   "source": [
    "km = KModes(n_clusters=1, init='Cao', n_init=10, verbose=1)"
   ]
  },
  {
   "cell_type": "markdown",
   "metadata": {},
   "source": [
    "### Cluster of data where adoption speed is 0"
   ]
  },
  {
   "cell_type": "code",
   "execution_count": 89,
   "metadata": {},
   "outputs": [
    {
     "name": "stdout",
     "output_type": "stream",
     "text": [
      "Init: initializing centroids\n",
      "Init: initializing clusters\n",
      "Starting iterations...\n",
      "Run 1, iteration: 1/100, moves: 0, cost: 2360.0\n"
     ]
    }
   ],
   "source": [
    "cluster_0 = km.fit_predict(groupedBy_AdoptionSpeed.get_group(0))"
   ]
  },
  {
   "cell_type": "code",
   "execution_count": 90,
   "metadata": {},
   "outputs": [
    {
     "name": "stdout",
     "output_type": "stream",
     "text": [
      "[['Cat' 'Female' 'Medium' 'Short' 'No' 'Yes' 'No' 'Healthy' '1'\n",
      "  'Mixed Breed' 'BlackOther' '(-0.1, 3.0]' '(-0.1, 0.0]' '(0.99, 3.99]'\n",
      "  '(-0.001, 9.0]']]\n"
     ]
    }
   ],
   "source": [
    "# Print the cluster centroids\n",
    "print(km.cluster_centroids_)"
   ]
  },
  {
   "cell_type": "markdown",
   "metadata": {},
   "source": [
    "### Cluster of data where adoption speed is 1"
   ]
  },
  {
   "cell_type": "code",
   "execution_count": 91,
   "metadata": {},
   "outputs": [
    {
     "name": "stdout",
     "output_type": "stream",
     "text": [
      "Init: initializing centroids\n",
      "Init: initializing clusters\n",
      "Starting iterations...\n",
      "Run 1, iteration: 1/100, moves: 0, cost: 16838.0\n"
     ]
    }
   ],
   "source": [
    "cluster_1 = km.fit_predict(groupedBy_AdoptionSpeed.get_group(1))"
   ]
  },
  {
   "cell_type": "code",
   "execution_count": 92,
   "metadata": {},
   "outputs": [
    {
     "name": "stdout",
     "output_type": "stream",
     "text": [
      "[['Cat' 'Female' 'Medium' 'Short' 'No' 'Yes' 'No' 'Healthy' '1'\n",
      "  'Mixed Breed' 'BlackOther' '(-0.1, 3.0]' '(-0.1, 0.0]' '(0.99, 3.99]'\n",
      "  '(-0.001, 9.0]']]\n"
     ]
    }
   ],
   "source": [
    "# Print the cluster centroids\n",
    "print(km.cluster_centroids_)"
   ]
  },
  {
   "cell_type": "markdown",
   "metadata": {},
   "source": [
    "### Cluster of data where adoption speed is 2"
   ]
  },
  {
   "cell_type": "code",
   "execution_count": 93,
   "metadata": {},
   "outputs": [
    {
     "name": "stdout",
     "output_type": "stream",
     "text": [
      "Init: initializing centroids\n",
      "Init: initializing clusters\n",
      "Starting iterations...\n",
      "Run 1, iteration: 1/100, moves: 0, cost: 20866.0\n"
     ]
    }
   ],
   "source": [
    "cluster_2 = km.fit_predict(groupedBy_AdoptionSpeed.get_group(2))"
   ]
  },
  {
   "cell_type": "code",
   "execution_count": 94,
   "metadata": {},
   "outputs": [
    {
     "name": "stdout",
     "output_type": "stream",
     "text": [
      "[['Dog' 'Female' 'Medium' 'Short' 'No' 'Yes' 'No' 'Healthy' '1'\n",
      "  'Mixed Breed' 'BlackOther' '(-0.1, 3.0]' '(-0.1, 0.0]' '(0.99, 3.99]'\n",
      "  '(17.0, 25.0]']]\n"
     ]
    }
   ],
   "source": [
    "# Print the cluster centroids\n",
    "print(km.cluster_centroids_)"
   ]
  },
  {
   "cell_type": "markdown",
   "metadata": {},
   "source": [
    "### Cluster of data where adoption speed is 3"
   ]
  },
  {
   "cell_type": "code",
   "execution_count": 95,
   "metadata": {},
   "outputs": [
    {
     "name": "stdout",
     "output_type": "stream",
     "text": [
      "Init: initializing centroids\n",
      "Init: initializing clusters\n",
      "Starting iterations...\n",
      "Run 1, iteration: 1/100, moves: 0, cost: 16666.0\n"
     ]
    }
   ],
   "source": [
    "cluster_3 = km.fit_predict(groupedBy_AdoptionSpeed.get_group(3))"
   ]
  },
  {
   "cell_type": "code",
   "execution_count": 96,
   "metadata": {},
   "outputs": [
    {
     "name": "stdout",
     "output_type": "stream",
     "text": [
      "[['Dog' 'Female' 'Medium' 'Short' 'Yes' 'Yes' 'No' 'Healthy' '1'\n",
      "  'Mixed Breed' 'BlackOther' '(-0.1, 3.0]' '(-0.1, 0.0]' '(0.99, 3.99]'\n",
      "  '(135.0, 1257.0]']]\n"
     ]
    }
   ],
   "source": [
    "# Print the cluster centroids\n",
    "print(km.cluster_centroids_)"
   ]
  },
  {
   "cell_type": "markdown",
   "metadata": {},
   "source": [
    "### Cluster of data where adoption speed is 4"
   ]
  },
  {
   "cell_type": "code",
   "execution_count": 97,
   "metadata": {},
   "outputs": [
    {
     "name": "stdout",
     "output_type": "stream",
     "text": [
      "Init: initializing centroids\n",
      "Init: initializing clusters\n",
      "Starting iterations...\n",
      "Run 1, iteration: 1/100, moves: 0, cost: 21379.0\n"
     ]
    }
   ],
   "source": [
    "cluster_4 = km.fit_predict(groupedBy_AdoptionSpeed.get_group(4))"
   ]
  },
  {
   "cell_type": "code",
   "execution_count": 98,
   "metadata": {},
   "outputs": [
    {
     "name": "stdout",
     "output_type": "stream",
     "text": [
      "[['Dog' 'Female' 'Medium' 'Short' 'Yes' 'Yes' 'No' 'Healthy' '1'\n",
      "  'Mixed Breed' 'BlackOther' '(3.0, 12.0]' '(-0.1, 0.0]' '(0.99, 3.99]'\n",
      "  '(-0.001, 9.0]']]\n"
     ]
    }
   ],
   "source": [
    "# Print the cluster centroids\n",
    "print(km.cluster_centroids_)"
   ]
  },
  {
   "cell_type": "markdown",
   "metadata": {},
   "source": [
    "# Results and Discussion"
   ]
  },
  {
   "cell_type": "markdown",
   "metadata": {},
   "source": [
    "These centroids gave us very deeper insight out of the data For Example:\n",
    "\n",
    "Cluster 0 has this centroid \n",
    "[['Cat' 'Female' 'Medium' 'Short' 'No' 'Yes' 'No' 'Healthy' '1' 'Mixed Breed' 'BlackOther' '(-0.1, 3.0]' '(-0.1, 0.0]' '(0.99, 3.99]' '(-0.001, 9.0]']]\n",
    "It tells us that mostly Female newborn Cats, Maturity Size Medium and Fur Length short have AdoptionSpeed of 0\n",
    "\n",
    "Cluster 4 has this centroid\n",
    "[['Dog' 'Female' 'Medium' 'Short' 'Yes' 'Yes' 'No' 'Healthy' '1' 'Mixed Breed' 'BlackOther' '(3.0, 12.0]' '(-0.1, 0.0]' '(0.99, 3.99]' '(-0.001, 9.0]']]\n",
    "It tells us that mostly young (3-12 months) Female Dogs have adoption speed of 4.\n",
    "\n",
    "This data gives us information that as AdoptionSpeed moves from 0 to 4 , people adopt cats faster than dogs because Mostly cats have AdoptionSpeed of 0 and 1 while Dogs have AdoptionSpeed 2, 3 , 4.\n",
    "This gives a very good insight about our data.\n",
    "\n",
    "Applying KMODES algorithm directly to our data has a drawback that it missed class 0(AdoptionSpeed = 0) because it has less number of instances. In this case we have seperately clustered the data to check what attributes do the classes posess separately"
   ]
  },
  {
   "cell_type": "markdown",
   "metadata": {},
   "source": [
    "## 2.3.2 - Association Rule Binary Classification"
   ]
  },
  {
   "cell_type": "code",
   "execution_count": 124,
   "metadata": {},
   "outputs": [],
   "source": [
    "encoder = ce.BinaryEncoder(cols=['Type' ,'Age' ,'Gender' , 'MaturitySize' , 'FurLength' , 'Vaccinated' ,'Dewormed' , 'Sterilized' , 'Health' , 'Fee' , 'PhotoAmt' , 'Breed' , 'Color'])\n",
    "df_binary = encoder.fit_transform(PetFinder_dataset).drop(['DescWords','AgeBin','FeeBin','PhotoAmtBin','PolarityBin','SubjectivityBin','DescwordsBin','AdoptionSpeed','Polarity','Subjectivity','InitialAdoptionSpeed'],axis=1)"
   ]
  },
  {
   "cell_type": "code",
   "execution_count": 125,
   "metadata": {},
   "outputs": [
    {
     "data": {
      "text/html": [
       "<div>\n",
       "<style scoped>\n",
       "    .dataframe tbody tr th:only-of-type {\n",
       "        vertical-align: middle;\n",
       "    }\n",
       "\n",
       "    .dataframe tbody tr th {\n",
       "        vertical-align: top;\n",
       "    }\n",
       "\n",
       "    .dataframe thead th {\n",
       "        text-align: right;\n",
       "    }\n",
       "</style>\n",
       "<table border=\"1\" class=\"dataframe\">\n",
       "  <thead>\n",
       "    <tr style=\"text-align: right;\">\n",
       "      <th></th>\n",
       "      <th>Type_0</th>\n",
       "      <th>Type_1</th>\n",
       "      <th>Age_0</th>\n",
       "      <th>Age_1</th>\n",
       "      <th>Age_2</th>\n",
       "      <th>Age_3</th>\n",
       "      <th>Age_4</th>\n",
       "      <th>Age_5</th>\n",
       "      <th>Age_6</th>\n",
       "      <th>Age_7</th>\n",
       "      <th>...</th>\n",
       "      <th>Hasname</th>\n",
       "      <th>Breed_0</th>\n",
       "      <th>Breed_1</th>\n",
       "      <th>Breed_2</th>\n",
       "      <th>Color_0</th>\n",
       "      <th>Color_1</th>\n",
       "      <th>Color_2</th>\n",
       "      <th>Color_3</th>\n",
       "      <th>Color_4</th>\n",
       "      <th>Adopted</th>\n",
       "    </tr>\n",
       "  </thead>\n",
       "  <tbody>\n",
       "    <tr>\n",
       "      <th>0</th>\n",
       "      <td>0</td>\n",
       "      <td>1</td>\n",
       "      <td>0</td>\n",
       "      <td>0</td>\n",
       "      <td>0</td>\n",
       "      <td>0</td>\n",
       "      <td>0</td>\n",
       "      <td>0</td>\n",
       "      <td>0</td>\n",
       "      <td>1</td>\n",
       "      <td>...</td>\n",
       "      <td>1</td>\n",
       "      <td>0</td>\n",
       "      <td>0</td>\n",
       "      <td>1</td>\n",
       "      <td>0</td>\n",
       "      <td>0</td>\n",
       "      <td>0</td>\n",
       "      <td>0</td>\n",
       "      <td>1</td>\n",
       "      <td>True</td>\n",
       "    </tr>\n",
       "    <tr>\n",
       "      <th>1</th>\n",
       "      <td>0</td>\n",
       "      <td>1</td>\n",
       "      <td>0</td>\n",
       "      <td>0</td>\n",
       "      <td>0</td>\n",
       "      <td>0</td>\n",
       "      <td>0</td>\n",
       "      <td>0</td>\n",
       "      <td>1</td>\n",
       "      <td>0</td>\n",
       "      <td>...</td>\n",
       "      <td>0</td>\n",
       "      <td>0</td>\n",
       "      <td>1</td>\n",
       "      <td>0</td>\n",
       "      <td>0</td>\n",
       "      <td>0</td>\n",
       "      <td>0</td>\n",
       "      <td>0</td>\n",
       "      <td>1</td>\n",
       "      <td>True</td>\n",
       "    </tr>\n",
       "    <tr>\n",
       "      <th>2</th>\n",
       "      <td>1</td>\n",
       "      <td>0</td>\n",
       "      <td>0</td>\n",
       "      <td>0</td>\n",
       "      <td>0</td>\n",
       "      <td>0</td>\n",
       "      <td>0</td>\n",
       "      <td>0</td>\n",
       "      <td>1</td>\n",
       "      <td>0</td>\n",
       "      <td>...</td>\n",
       "      <td>1</td>\n",
       "      <td>0</td>\n",
       "      <td>1</td>\n",
       "      <td>1</td>\n",
       "      <td>0</td>\n",
       "      <td>0</td>\n",
       "      <td>0</td>\n",
       "      <td>1</td>\n",
       "      <td>0</td>\n",
       "      <td>True</td>\n",
       "    </tr>\n",
       "  </tbody>\n",
       "</table>\n",
       "<p>3 rows × 57 columns</p>\n",
       "</div>"
      ],
      "text/plain": [
       "   Type_0  Type_1  Age_0  Age_1  Age_2  Age_3  Age_4  Age_5  Age_6  Age_7  \\\n",
       "0       0       1      0      0      0      0      0      0      0      1   \n",
       "1       0       1      0      0      0      0      0      0      1      0   \n",
       "2       1       0      0      0      0      0      0      0      1      0   \n",
       "\n",
       "   ...  Hasname  Breed_0  Breed_1  Breed_2  Color_0  Color_1  Color_2  \\\n",
       "0  ...        1        0        0        1        0        0        0   \n",
       "1  ...        0        0        1        0        0        0        0   \n",
       "2  ...        1        0        1        1        0        0        0   \n",
       "\n",
       "   Color_3  Color_4  Adopted  \n",
       "0        0        1     True  \n",
       "1        0        1     True  \n",
       "2        1        0     True  \n",
       "\n",
       "[3 rows x 57 columns]"
      ]
     },
     "execution_count": 125,
     "metadata": {},
     "output_type": "execute_result"
    }
   ],
   "source": [
    "df_binary.head(3)"
   ]
  },
  {
   "cell_type": "code",
   "execution_count": 126,
   "metadata": {},
   "outputs": [],
   "source": [
    "from pyarc import TransactionDB\n",
    "from pyarc.algorithms import (\n",
    "    top_rules,\n",
    "    createCARs,\n",
    "    M1Algorithm,\n",
    "    M2Algorithm\n",
    ")"
   ]
  },
  {
   "cell_type": "code",
   "execution_count": 127,
   "metadata": {},
   "outputs": [],
   "source": [
    "df_binary = df_binary.sample(frac=1)"
   ]
  },
  {
   "cell_type": "code",
   "execution_count": 128,
   "metadata": {},
   "outputs": [],
   "source": [
    "a = df_binary.head(12993)"
   ]
  },
  {
   "cell_type": "code",
   "execution_count": 129,
   "metadata": {},
   "outputs": [],
   "source": [
    "b = df_binary.tail(2000)"
   ]
  },
  {
   "cell_type": "markdown",
   "metadata": {},
   "source": [
    "## 2.3.2.1 Finding Associations"
   ]
  },
  {
   "cell_type": "code",
   "execution_count": 130,
   "metadata": {},
   "outputs": [
    {
     "name": "stdout",
     "output_type": "stream",
     "text": [
      "Running apriori with setting: confidence=0.8, support=0.8, minlen=2, maxlen=3, MAX_RULE_LEN=57\n",
      "Rule count: 9126, Iteration: 1\n",
      "Target rule count satisfied: 1000\n",
      "len(rules) 1000\n"
     ]
    }
   ],
   "source": [
    "txns_train = TransactionDB.from_DataFrame(a)\n",
    "txns_test = TransactionDB.from_DataFrame(b)\n",
    "\n",
    "# get the best association rules\n",
    "rules = top_rules(txns_train.string_representation , appearance=txns_train.appeardict ,init_conf=0.8 , init_support=0.8)\n",
    "rules.sort(reverse=True)\n",
    "\n",
    "# convert them to class association rules\n",
    "cars = createCARs(rules)\n",
    "cars.sort(reverse=True)\n",
    "if len(cars) > 1000:\n",
    "        cars = cars[:1000]\n",
    "        \n",
    "print(\"len(rules)\", len(cars))\n",
    "\n",
    "#classifier = M1Algorithm(cars, txns_train).build()\n",
    "# classifier = M2Algorithm(cars, txns_train).build()\n",
    "m1 = M1Algorithm(cars, txns_train)\n",
    "    \n",
    "m2 = M2Algorithm(cars, txns_train)\n",
    "    \n",
    "m1clf = m1.build()\n",
    "m2clf = m2.build()\n",
    "\n",
    "\n",
    "actual = list(map(lambda i: i.value, txns_test.class_labels))\n",
    "\n",
    "pred = m1clf.predict_all(txns_test)\n",
    "predM2 = m2clf.predict_all(txns_test)\n",
    "    \n",
    "acc = accuracy_score(pred, actual)    \n",
    "accM2 = accuracy_score(predM2, actual)\n",
    "    "
   ]
  },
  {
   "cell_type": "code",
   "execution_count": 131,
   "metadata": {},
   "outputs": [
    {
     "data": {
      "text/plain": [
       "0.728"
      ]
     },
     "execution_count": 131,
     "metadata": {},
     "output_type": "execute_result"
    }
   ],
   "source": [
    "acc"
   ]
  },
  {
   "cell_type": "code",
   "execution_count": 132,
   "metadata": {},
   "outputs": [
    {
     "data": {
      "text/plain": [
       "0.728"
      ]
     },
     "execution_count": 132,
     "metadata": {},
     "output_type": "execute_result"
    }
   ],
   "source": [
    "accM2"
   ]
  },
  {
   "cell_type": "markdown",
   "metadata": {},
   "source": [
    "# Results and Discussion"
   ]
  },
  {
   "cell_type": "markdown",
   "metadata": {},
   "source": [
    "In this task we have used an Association Rule model for classification. We have to apply some association rule mining approach for this classification So we have used CAR method (Classification based on Association Rule). We have set the confidence to be 0.8 , support is also 0.8 and we have maximum rule length of 68.The value of support and confidence is set too high in this case to get only those rules which have high chances of occurance and they give us good accuracy.\n",
    "We have used top 1000 rules which have higher support confidence and lift and our results are quite reliable "
   ]
  },
  {
   "cell_type": "markdown",
   "metadata": {},
   "source": [
    "## 2.3.3 - Association Rule Multiclass Classification"
   ]
  },
  {
   "cell_type": "code",
   "execution_count": 109,
   "metadata": {},
   "outputs": [],
   "source": [
    "encoder = ce.BinaryEncoder(cols=['Type' ,'Age' ,'Gender' , 'MaturitySize' , 'FurLength' , 'Vaccinated' ,'Dewormed' , 'Sterilized' , 'Health' , 'Fee' , 'PhotoAmt' , 'Breed' , 'Color'])\n",
    "df_binary = encoder.fit_transform(PetFinder_dataset).drop(['DescWords','AgeBin','FeeBin','PhotoAmtBin','PolarityBin','SubjectivityBin','DescwordsBin','AdoptionSpeed','Polarity','Subjectivity','Adopted'],axis=1)"
   ]
  },
  {
   "cell_type": "code",
   "execution_count": 110,
   "metadata": {},
   "outputs": [
    {
     "data": {
      "text/html": [
       "<div>\n",
       "<style scoped>\n",
       "    .dataframe tbody tr th:only-of-type {\n",
       "        vertical-align: middle;\n",
       "    }\n",
       "\n",
       "    .dataframe tbody tr th {\n",
       "        vertical-align: top;\n",
       "    }\n",
       "\n",
       "    .dataframe thead th {\n",
       "        text-align: right;\n",
       "    }\n",
       "</style>\n",
       "<table border=\"1\" class=\"dataframe\">\n",
       "  <thead>\n",
       "    <tr style=\"text-align: right;\">\n",
       "      <th></th>\n",
       "      <th>Type_0</th>\n",
       "      <th>Type_1</th>\n",
       "      <th>Age_0</th>\n",
       "      <th>Age_1</th>\n",
       "      <th>Age_2</th>\n",
       "      <th>Age_3</th>\n",
       "      <th>Age_4</th>\n",
       "      <th>Age_5</th>\n",
       "      <th>Age_6</th>\n",
       "      <th>Age_7</th>\n",
       "      <th>...</th>\n",
       "      <th>Hasname</th>\n",
       "      <th>Breed_0</th>\n",
       "      <th>Breed_1</th>\n",
       "      <th>Breed_2</th>\n",
       "      <th>Color_0</th>\n",
       "      <th>Color_1</th>\n",
       "      <th>Color_2</th>\n",
       "      <th>Color_3</th>\n",
       "      <th>Color_4</th>\n",
       "      <th>InitialAdoptionSpeed</th>\n",
       "    </tr>\n",
       "  </thead>\n",
       "  <tbody>\n",
       "    <tr>\n",
       "      <th>0</th>\n",
       "      <td>0</td>\n",
       "      <td>1</td>\n",
       "      <td>0</td>\n",
       "      <td>0</td>\n",
       "      <td>0</td>\n",
       "      <td>0</td>\n",
       "      <td>0</td>\n",
       "      <td>0</td>\n",
       "      <td>0</td>\n",
       "      <td>1</td>\n",
       "      <td>...</td>\n",
       "      <td>1</td>\n",
       "      <td>0</td>\n",
       "      <td>0</td>\n",
       "      <td>1</td>\n",
       "      <td>0</td>\n",
       "      <td>0</td>\n",
       "      <td>0</td>\n",
       "      <td>0</td>\n",
       "      <td>1</td>\n",
       "      <td>2</td>\n",
       "    </tr>\n",
       "    <tr>\n",
       "      <th>1</th>\n",
       "      <td>0</td>\n",
       "      <td>1</td>\n",
       "      <td>0</td>\n",
       "      <td>0</td>\n",
       "      <td>0</td>\n",
       "      <td>0</td>\n",
       "      <td>0</td>\n",
       "      <td>0</td>\n",
       "      <td>1</td>\n",
       "      <td>0</td>\n",
       "      <td>...</td>\n",
       "      <td>0</td>\n",
       "      <td>0</td>\n",
       "      <td>1</td>\n",
       "      <td>0</td>\n",
       "      <td>0</td>\n",
       "      <td>0</td>\n",
       "      <td>0</td>\n",
       "      <td>0</td>\n",
       "      <td>1</td>\n",
       "      <td>0</td>\n",
       "    </tr>\n",
       "    <tr>\n",
       "      <th>2</th>\n",
       "      <td>1</td>\n",
       "      <td>0</td>\n",
       "      <td>0</td>\n",
       "      <td>0</td>\n",
       "      <td>0</td>\n",
       "      <td>0</td>\n",
       "      <td>0</td>\n",
       "      <td>0</td>\n",
       "      <td>1</td>\n",
       "      <td>0</td>\n",
       "      <td>...</td>\n",
       "      <td>1</td>\n",
       "      <td>0</td>\n",
       "      <td>1</td>\n",
       "      <td>1</td>\n",
       "      <td>0</td>\n",
       "      <td>0</td>\n",
       "      <td>0</td>\n",
       "      <td>1</td>\n",
       "      <td>0</td>\n",
       "      <td>3</td>\n",
       "    </tr>\n",
       "  </tbody>\n",
       "</table>\n",
       "<p>3 rows × 57 columns</p>\n",
       "</div>"
      ],
      "text/plain": [
       "   Type_0  Type_1  Age_0  Age_1  Age_2  Age_3  Age_4  Age_5  Age_6  Age_7  \\\n",
       "0       0       1      0      0      0      0      0      0      0      1   \n",
       "1       0       1      0      0      0      0      0      0      1      0   \n",
       "2       1       0      0      0      0      0      0      0      1      0   \n",
       "\n",
       "   ...  Hasname  Breed_0  Breed_1  Breed_2  Color_0  Color_1  Color_2  \\\n",
       "0  ...        1        0        0        1        0        0        0   \n",
       "1  ...        0        0        1        0        0        0        0   \n",
       "2  ...        1        0        1        1        0        0        0   \n",
       "\n",
       "   Color_3  Color_4  InitialAdoptionSpeed  \n",
       "0        0        1                     2  \n",
       "1        0        1                     0  \n",
       "2        1        0                     3  \n",
       "\n",
       "[3 rows x 57 columns]"
      ]
     },
     "execution_count": 110,
     "metadata": {},
     "output_type": "execute_result"
    }
   ],
   "source": [
    "df_binary.head(3)"
   ]
  },
  {
   "cell_type": "code",
   "execution_count": 111,
   "metadata": {},
   "outputs": [],
   "source": [
    "from pyarc import TransactionDB\n",
    "from pyarc.algorithms import (\n",
    "    top_rules,\n",
    "    createCARs,\n",
    "    M1Algorithm,\n",
    "    M2Algorithm\n",
    ")"
   ]
  },
  {
   "cell_type": "code",
   "execution_count": 112,
   "metadata": {},
   "outputs": [],
   "source": [
    "df_binary = df_binary.sample(frac=1)"
   ]
  },
  {
   "cell_type": "code",
   "execution_count": 113,
   "metadata": {},
   "outputs": [],
   "source": [
    "a = df_binary.head(12993)"
   ]
  },
  {
   "cell_type": "code",
   "execution_count": 114,
   "metadata": {},
   "outputs": [],
   "source": [
    "b = df_binary.tail(2000)"
   ]
  },
  {
   "cell_type": "markdown",
   "metadata": {},
   "source": [
    "## 2.3.2.1 Finding Associations"
   ]
  },
  {
   "cell_type": "code",
   "execution_count": 115,
   "metadata": {},
   "outputs": [
    {
     "name": "stdout",
     "output_type": "stream",
     "text": [
      "Running apriori with setting: confidence=0.8, support=0.5, minlen=2, maxlen=3, MAX_RULE_LEN=57\n",
      "Rule count: 20960, Iteration: 1\n",
      "Target rule count satisfied: 1000\n",
      "len(rules) 1000\n"
     ]
    }
   ],
   "source": [
    "txns_train = TransactionDB.from_DataFrame(a)\n",
    "txns_test = TransactionDB.from_DataFrame(b)\n",
    "\n",
    "# get the best association rules\n",
    "rules = top_rules(txns_train.string_representation , appearance=txns_train.appeardict ,init_conf=0.8 , init_support=0.5)\n",
    "rules.sort(reverse=True)\n",
    "\n",
    "# convert them to class association rules\n",
    "cars = createCARs(rules)\n",
    "cars.sort(reverse=True)\n",
    "if len(cars) > 1000:\n",
    "        cars = cars[:1000]\n",
    "        \n",
    "print(\"len(rules)\", len(cars))\n",
    "\n",
    "#classifier = M1Algorithm(cars, txns_train).build()\n",
    "# classifier = M2Algorithm(cars, txns_train).build()\n",
    "m1 = M1Algorithm(cars, txns_train)\n",
    "    \n",
    "m2 = M2Algorithm(cars, txns_train)\n",
    "    \n",
    "m1clf = m1.build()\n",
    "m2clf = m2.build()\n",
    "\n",
    "\n",
    "actual = list(map(lambda i: i.value, txns_test.class_labels))\n",
    "\n",
    "pred = m1clf.predict_all(txns_test)\n",
    "predM2 = m2clf.predict_all(txns_test)\n",
    "    \n",
    "acc = accuracy_score(pred, actual)    \n",
    "accM2 = accuracy_score(predM2, actual)\n",
    "    "
   ]
  },
  {
   "cell_type": "code",
   "execution_count": 116,
   "metadata": {},
   "outputs": [
    {
     "data": {
      "text/plain": [
       "0.366"
      ]
     },
     "execution_count": 116,
     "metadata": {},
     "output_type": "execute_result"
    }
   ],
   "source": [
    "acc"
   ]
  },
  {
   "cell_type": "code",
   "execution_count": 117,
   "metadata": {},
   "outputs": [
    {
     "data": {
      "text/plain": [
       "0.366"
      ]
     },
     "execution_count": 117,
     "metadata": {},
     "output_type": "execute_result"
    }
   ],
   "source": [
    "accM2"
   ]
  },
  {
   "cell_type": "markdown",
   "metadata": {},
   "source": [
    "# Results and Discussion"
   ]
  },
  {
   "cell_type": "markdown",
   "metadata": {},
   "source": [
    "We have to apply some association rule mining approach for this classification So we have used CAR methond (Classification based on Association Rule). We have set the confidence to be 0.8 , support is 0.5 and we have maximum rule length of 57.In this case the support value is kept lower as we have Multi Class Association Rules and the occurance of patterns is bit lower in this case.\n",
    "Upon checking the results we have a low accuracy (around 40%) and almost same as the accuracy we have achieved in supervised learning for multi class classification task."
   ]
  },
  {
   "cell_type": "code",
   "execution_count": null,
   "metadata": {},
   "outputs": [],
   "source": []
  }
 ],
 "metadata": {
  "kernelspec": {
   "display_name": "Python 3",
   "language": "python",
   "name": "python3"
  },
  "language_info": {
   "codemirror_mode": {
    "name": "ipython",
    "version": 3
   },
   "file_extension": ".py",
   "mimetype": "text/x-python",
   "name": "python",
   "nbconvert_exporter": "python",
   "pygments_lexer": "ipython3",
   "version": "3.7.6"
  }
 },
 "nbformat": 4,
 "nbformat_minor": 2
}
