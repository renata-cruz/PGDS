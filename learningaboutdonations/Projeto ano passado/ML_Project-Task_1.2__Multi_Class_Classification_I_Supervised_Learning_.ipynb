{
 "cells": [
  {
   "cell_type": "markdown",
   "metadata": {},
   "source": [
    "## Task 1.2 (Supervised Learning) - Predicting Adoption Speed\n",
    "\n",
    "2. **Predicting AdoptionSpeed (multiclass classification)**: in this task you should you the original target AdoptionSpeed, whose values are in the set {0, 1, 2, 3 , 4} (5 classes). This is a very difficult problem. You might also want to consider 3 classes (for instance {0-1, 2-3, 4}, or other sets that make sense). "
   ]
  },
  {
   "cell_type": "code",
   "execution_count": 1,
   "metadata": {},
   "outputs": [],
   "source": [
    "import numpy as np\n",
    "import scipy as sp\n",
    "import pandas as pd\n",
    "import matplotlib.pyplot as plt\n",
    "import matplotlib\n",
    "import seaborn as sns\n",
    "import pandas_profiling\n",
    "from sklearn.metrics import accuracy_score\n",
    "from sklearn.model_selection import train_test_split\n",
    "from sklearn.tree import DecisionTreeClassifier\n",
    "from sklearn.model_selection import cross_val_score\n",
    "from sklearn.linear_model import LinearRegression\n",
    "from sklearn.metrics import accuracy_score\n",
    "from sklearn.metrics import classification_report\n",
    "from sklearn import metrics\n",
    "from sklearn.pipeline import Pipeline\n",
    "from sklearn.linear_model import LogisticRegression\n",
    "from sklearn.decomposition import PCA\n",
    "from sklearn.naive_bayes import MultinomialNB\n",
    "from xgboost import XGBClassifier\n",
    "from sklearn.ensemble import RandomForestClassifier\n",
    "from sklearn.gaussian_process import GaussianProcessClassifier\n",
    "import itertools\n",
    "from nltk import NaiveBayesClassifier\n",
    "from sklearn.feature_extraction.text import CountVectorizer, TfidfVectorizer, HashingVectorizer\n",
    "from sklearn.model_selection import train_test_split\n",
    "from sklearn.linear_model import PassiveAggressiveClassifier, SGDClassifier\n",
    "from sklearn.svm import LinearSVC\n",
    "from sklearn.naive_bayes import MultinomialNB\n",
    "from sklearn.naive_bayes import GaussianNB\n",
    "from sklearn.naive_bayes import BernoulliNB\n",
    "from sklearn.model_selection import GridSearchCV\n",
    "from sklearn import metrics\n",
    "import matplotlib.pyplot as plt\n",
    "import warnings\n",
    "from sklearn.neighbors import KNeighborsClassifier\n",
    "from textblob import TextBlob\n",
    "from sklearn.ensemble import AdaBoostClassifier , VotingClassifier\n",
    "from sklearn import preprocessing\n",
    "from sklearn import tree\n",
    "import warnings\n",
    "import pydot\n",
    "from imblearn.over_sampling import RandomOverSampler\n",
    "from imblearn.over_sampling import SMOTE,ADASYN,SMOTENC\n",
    "from collections import Counter\n",
    "import random\n",
    "from IPython.display import HTML, display\n",
    "%matplotlib inline\n",
    "warnings.filterwarnings('ignore')\n",
    "from imblearn.under_sampling import TomekLinks"
   ]
  },
  {
   "cell_type": "markdown",
   "metadata": {},
   "source": [
    "## Read the preprocessed dataset"
   ]
  },
  {
   "cell_type": "code",
   "execution_count": 2,
   "metadata": {},
   "outputs": [],
   "source": [
    "PetFinder_dataset = pd.read_csv(\"PetFinder_dataset_pp.csv\")"
   ]
  },
  {
   "cell_type": "code",
   "execution_count": 3,
   "metadata": {},
   "outputs": [],
   "source": [
    "MulticlassClassification = PetFinder_dataset.drop(['Adopted','InitialAdoptionSpeed','AgeBin','FeeBin','PhotoAmtBin','PolarityBin','DescwordsBin','SubjectivityBin'],axis=1).copy(deep=True)"
   ]
  },
  {
   "cell_type": "code",
   "execution_count": 4,
   "metadata": {},
   "outputs": [
    {
     "data": {
      "text/html": [
       "<div>\n",
       "<style scoped>\n",
       "    .dataframe tbody tr th:only-of-type {\n",
       "        vertical-align: middle;\n",
       "    }\n",
       "\n",
       "    .dataframe tbody tr th {\n",
       "        vertical-align: top;\n",
       "    }\n",
       "\n",
       "    .dataframe thead th {\n",
       "        text-align: right;\n",
       "    }\n",
       "</style>\n",
       "<table border=\"1\" class=\"dataframe\">\n",
       "  <thead>\n",
       "    <tr style=\"text-align: right;\">\n",
       "      <th></th>\n",
       "      <th>Type</th>\n",
       "      <th>Age</th>\n",
       "      <th>Gender</th>\n",
       "      <th>MaturitySize</th>\n",
       "      <th>FurLength</th>\n",
       "      <th>Vaccinated</th>\n",
       "      <th>Dewormed</th>\n",
       "      <th>Sterilized</th>\n",
       "      <th>Health</th>\n",
       "      <th>Quantity</th>\n",
       "      <th>Fee</th>\n",
       "      <th>State</th>\n",
       "      <th>PhotoAmt</th>\n",
       "      <th>Hasname</th>\n",
       "      <th>Breed</th>\n",
       "      <th>Color</th>\n",
       "      <th>Polarity</th>\n",
       "      <th>Subjectivity</th>\n",
       "      <th>DescWords</th>\n",
       "      <th>AdoptionSpeed</th>\n",
       "    </tr>\n",
       "  </thead>\n",
       "  <tbody>\n",
       "    <tr>\n",
       "      <th>0</th>\n",
       "      <td>Cat</td>\n",
       "      <td>3</td>\n",
       "      <td>Male</td>\n",
       "      <td>Small</td>\n",
       "      <td>Short</td>\n",
       "      <td>No</td>\n",
       "      <td>No</td>\n",
       "      <td>No</td>\n",
       "      <td>Healthy</td>\n",
       "      <td>1</td>\n",
       "      <td>100</td>\n",
       "      <td>Selangor</td>\n",
       "      <td>1.0</td>\n",
       "      <td>1</td>\n",
       "      <td>Purebreed</td>\n",
       "      <td>BlackOther</td>\n",
       "      <td>0.130357</td>\n",
       "      <td>0.407143</td>\n",
       "      <td>69</td>\n",
       "      <td>instant adoption</td>\n",
       "    </tr>\n",
       "    <tr>\n",
       "      <th>1</th>\n",
       "      <td>Cat</td>\n",
       "      <td>1</td>\n",
       "      <td>Male</td>\n",
       "      <td>Medium</td>\n",
       "      <td>Medium</td>\n",
       "      <td>Not Sure</td>\n",
       "      <td>Not Sure</td>\n",
       "      <td>Not Sure</td>\n",
       "      <td>Healthy</td>\n",
       "      <td>1</td>\n",
       "      <td>0</td>\n",
       "      <td>Kuala Lumpur</td>\n",
       "      <td>2.0</td>\n",
       "      <td>0</td>\n",
       "      <td>Domestic</td>\n",
       "      <td>BlackOther</td>\n",
       "      <td>0.100000</td>\n",
       "      <td>0.400000</td>\n",
       "      <td>23</td>\n",
       "      <td>instant adoption</td>\n",
       "    </tr>\n",
       "    <tr>\n",
       "      <th>2</th>\n",
       "      <td>Dog</td>\n",
       "      <td>1</td>\n",
       "      <td>Male</td>\n",
       "      <td>Medium</td>\n",
       "      <td>Medium</td>\n",
       "      <td>Yes</td>\n",
       "      <td>Yes</td>\n",
       "      <td>No</td>\n",
       "      <td>Healthy</td>\n",
       "      <td>1</td>\n",
       "      <td>0</td>\n",
       "      <td>Selangor</td>\n",
       "      <td>7.0</td>\n",
       "      <td>1</td>\n",
       "      <td>Mixed Breed</td>\n",
       "      <td>BrownOther</td>\n",
       "      <td>0.261905</td>\n",
       "      <td>0.542857</td>\n",
       "      <td>69</td>\n",
       "      <td>delayed adoption</td>\n",
       "    </tr>\n",
       "  </tbody>\n",
       "</table>\n",
       "</div>"
      ],
      "text/plain": [
       "  Type  Age Gender MaturitySize FurLength Vaccinated  Dewormed Sterilized  \\\n",
       "0  Cat    3   Male        Small     Short         No        No         No   \n",
       "1  Cat    1   Male       Medium    Medium   Not Sure  Not Sure   Not Sure   \n",
       "2  Dog    1   Male       Medium    Medium        Yes       Yes         No   \n",
       "\n",
       "    Health  Quantity  Fee         State  PhotoAmt  Hasname        Breed  \\\n",
       "0  Healthy         1  100      Selangor       1.0        1    Purebreed   \n",
       "1  Healthy         1    0  Kuala Lumpur       2.0        0     Domestic   \n",
       "2  Healthy         1    0      Selangor       7.0        1  Mixed Breed   \n",
       "\n",
       "        Color  Polarity  Subjectivity  DescWords     AdoptionSpeed  \n",
       "0  BlackOther  0.130357      0.407143         69  instant adoption  \n",
       "1  BlackOther  0.100000      0.400000         23  instant adoption  \n",
       "2  BrownOther  0.261905      0.542857         69  delayed adoption  "
      ]
     },
     "execution_count": 4,
     "metadata": {},
     "output_type": "execute_result"
    }
   ],
   "source": [
    "MulticlassClassification.head(3)"
   ]
  },
  {
   "cell_type": "markdown",
   "metadata": {},
   "source": [
    "### Converted 5 class Problem to 3 class by binning and Performed Data Analysis against the target variable"
   ]
  },
  {
   "cell_type": "code",
   "execution_count": 5,
   "metadata": {},
   "outputs": [
    {
     "data": {
      "image/png": "[encoded data removed]",
      "text/plain": [
       "<Figure size 432x288 with 1 Axes>"
      ]
     },
     "metadata": {
      "needs_background": "light"
     },
     "output_type": "display_data"
    }
   ],
   "source": [
    "sns.countplot(x=MulticlassClassification['AdoptionSpeed'])\n",
    "plt.show()"
   ]
  },
  {
   "cell_type": "code",
   "execution_count": 6,
   "metadata": {},
   "outputs": [
    {
     "data": {
      "text/plain": [
       "instant adoption      6620\n",
       "very late adoption    3508\n",
       "delayed adoption      2859\n",
       "Name: AdoptionSpeed, dtype: int64"
      ]
     },
     "execution_count": 6,
     "metadata": {},
     "output_type": "execute_result"
    }
   ],
   "source": [
    "MulticlassClassification['AdoptionSpeed'].value_counts()\n"
   ]
  },
  {
   "cell_type": "markdown",
   "metadata": {},
   "source": [
    "## Perform undersampling of the majority classes.\n",
    "Under Sampling will be performed."
   ]
  },
  {
   "cell_type": "code",
   "execution_count": 7,
   "metadata": {},
   "outputs": [],
   "source": [
    "n = min(MulticlassClassification[MulticlassClassification['AdoptionSpeed']=='instant adoption']['AdoptionSpeed'].count(),\n",
    "   MulticlassClassification[MulticlassClassification['AdoptionSpeed']=='delayed adoption']['AdoptionSpeed'].count(),\n",
    "   MulticlassClassification[MulticlassClassification['AdoptionSpeed']=='very late adoption']['AdoptionSpeed'].count())\n",
    "sample_instant = MulticlassClassification.ix[MulticlassClassification.AdoptionSpeed == 'instant adoption'].sample(n=n, replace=True, random_state=None)\n",
    "sample_delayed = MulticlassClassification.ix[MulticlassClassification.AdoptionSpeed == 'delayed adoption'].sample(n=n, replace=True, random_state=None)\n",
    "sample_late = MulticlassClassification.ix[MulticlassClassification.AdoptionSpeed == 'very late adoption'].sample(n=n, replace=True, random_state=None)\n",
    "\n",
    "MulticlassClassification = pd.concat([sample_instant, sample_delayed ,sample_late])\n",
    "labels=['instant adoption', 'delayed adoption' ,'very late adoption']"
   ]
  },
  {
   "cell_type": "code",
   "execution_count": 8,
   "metadata": {},
   "outputs": [
    {
     "data": {
      "text/plain": [
       "Type             0\n",
       "Age              0\n",
       "Gender           0\n",
       "MaturitySize     0\n",
       "FurLength        0\n",
       "Vaccinated       0\n",
       "Dewormed         0\n",
       "Sterilized       0\n",
       "Health           0\n",
       "Quantity         0\n",
       "Fee              0\n",
       "State            0\n",
       "PhotoAmt         0\n",
       "Hasname          0\n",
       "Breed            0\n",
       "Color            0\n",
       "Polarity         0\n",
       "Subjectivity     0\n",
       "DescWords        0\n",
       "AdoptionSpeed    0\n",
       "dtype: int64"
      ]
     },
     "execution_count": 8,
     "metadata": {},
     "output_type": "execute_result"
    }
   ],
   "source": [
    "MulticlassClassification.isna().sum()"
   ]
  },
  {
   "cell_type": "code",
   "execution_count": 9,
   "metadata": {},
   "outputs": [],
   "source": [
    "mm_scaler = preprocessing.MinMaxScaler()\n",
    "MulticlassClassification[['Age','Quantity' , 'Fee' , 'PhotoAmt','DescWords']] = mm_scaler.fit_transform(MulticlassClassification[['Age','Quantity' , 'Fee' , 'PhotoAmt','DescWords']])"
   ]
  },
  {
   "cell_type": "code",
   "execution_count": 10,
   "metadata": {},
   "outputs": [
    {
     "data": {
      "text/html": [
       "<div>\n",
       "<style scoped>\n",
       "    .dataframe tbody tr th:only-of-type {\n",
       "        vertical-align: middle;\n",
       "    }\n",
       "\n",
       "    .dataframe tbody tr th {\n",
       "        vertical-align: top;\n",
       "    }\n",
       "\n",
       "    .dataframe thead th {\n",
       "        text-align: right;\n",
       "    }\n",
       "</style>\n",
       "<table border=\"1\" class=\"dataframe\">\n",
       "  <thead>\n",
       "    <tr style=\"text-align: right;\">\n",
       "      <th></th>\n",
       "      <th>Type</th>\n",
       "      <th>Age</th>\n",
       "      <th>Gender</th>\n",
       "      <th>MaturitySize</th>\n",
       "      <th>FurLength</th>\n",
       "      <th>Vaccinated</th>\n",
       "      <th>Dewormed</th>\n",
       "      <th>Sterilized</th>\n",
       "      <th>Health</th>\n",
       "      <th>Quantity</th>\n",
       "      <th>Fee</th>\n",
       "      <th>State</th>\n",
       "      <th>PhotoAmt</th>\n",
       "      <th>Hasname</th>\n",
       "      <th>Breed</th>\n",
       "      <th>Color</th>\n",
       "      <th>Polarity</th>\n",
       "      <th>Subjectivity</th>\n",
       "      <th>DescWords</th>\n",
       "      <th>AdoptionSpeed</th>\n",
       "    </tr>\n",
       "  </thead>\n",
       "  <tbody>\n",
       "    <tr>\n",
       "      <th>9845</th>\n",
       "      <td>Dog</td>\n",
       "      <td>0.003922</td>\n",
       "      <td>Male</td>\n",
       "      <td>Small</td>\n",
       "      <td>Short</td>\n",
       "      <td>Not Sure</td>\n",
       "      <td>Not Sure</td>\n",
       "      <td>Not Sure</td>\n",
       "      <td>Healthy</td>\n",
       "      <td>1.0</td>\n",
       "      <td>0.0</td>\n",
       "      <td>Kuala Lumpur</td>\n",
       "      <td>0.066667</td>\n",
       "      <td>1</td>\n",
       "      <td>Mixed Breed</td>\n",
       "      <td>BlackOther</td>\n",
       "      <td>0.301190</td>\n",
       "      <td>0.419048</td>\n",
       "      <td>0.031822</td>\n",
       "      <td>instant adoption</td>\n",
       "    </tr>\n",
       "    <tr>\n",
       "      <th>5358</th>\n",
       "      <td>Dog</td>\n",
       "      <td>0.003922</td>\n",
       "      <td>Male</td>\n",
       "      <td>Medium</td>\n",
       "      <td>Medium</td>\n",
       "      <td>No</td>\n",
       "      <td>No</td>\n",
       "      <td>No</td>\n",
       "      <td>Healthy</td>\n",
       "      <td>0.0</td>\n",
       "      <td>0.0</td>\n",
       "      <td>Pulau Pinang</td>\n",
       "      <td>0.033333</td>\n",
       "      <td>0</td>\n",
       "      <td>Mixed Breed</td>\n",
       "      <td>BlackOther</td>\n",
       "      <td>-0.125000</td>\n",
       "      <td>0.550000</td>\n",
       "      <td>0.017502</td>\n",
       "      <td>instant adoption</td>\n",
       "    </tr>\n",
       "    <tr>\n",
       "      <th>9795</th>\n",
       "      <td>Cat</td>\n",
       "      <td>0.015686</td>\n",
       "      <td>Female</td>\n",
       "      <td>Medium</td>\n",
       "      <td>Medium</td>\n",
       "      <td>No</td>\n",
       "      <td>Yes</td>\n",
       "      <td>No</td>\n",
       "      <td>Healthy</td>\n",
       "      <td>0.0</td>\n",
       "      <td>0.0</td>\n",
       "      <td>Selangor</td>\n",
       "      <td>0.066667</td>\n",
       "      <td>1</td>\n",
       "      <td>Mixed Breed</td>\n",
       "      <td>White</td>\n",
       "      <td>0.361111</td>\n",
       "      <td>0.550000</td>\n",
       "      <td>0.067621</td>\n",
       "      <td>instant adoption</td>\n",
       "    </tr>\n",
       "  </tbody>\n",
       "</table>\n",
       "</div>"
      ],
      "text/plain": [
       "     Type       Age  Gender MaturitySize FurLength Vaccinated  Dewormed  \\\n",
       "9845  Dog  0.003922    Male        Small     Short   Not Sure  Not Sure   \n",
       "5358  Dog  0.003922    Male       Medium    Medium         No        No   \n",
       "9795  Cat  0.015686  Female       Medium    Medium         No       Yes   \n",
       "\n",
       "     Sterilized   Health  Quantity  Fee         State  PhotoAmt  Hasname  \\\n",
       "9845   Not Sure  Healthy       1.0  0.0  Kuala Lumpur  0.066667        1   \n",
       "5358         No  Healthy       0.0  0.0  Pulau Pinang  0.033333        0   \n",
       "9795         No  Healthy       0.0  0.0      Selangor  0.066667        1   \n",
       "\n",
       "            Breed       Color  Polarity  Subjectivity  DescWords  \\\n",
       "9845  Mixed Breed  BlackOther  0.301190      0.419048   0.031822   \n",
       "5358  Mixed Breed  BlackOther -0.125000      0.550000   0.017502   \n",
       "9795  Mixed Breed       White  0.361111      0.550000   0.067621   \n",
       "\n",
       "         AdoptionSpeed  \n",
       "9845  instant adoption  \n",
       "5358  instant adoption  \n",
       "9795  instant adoption  "
      ]
     },
     "execution_count": 10,
     "metadata": {},
     "output_type": "execute_result"
    }
   ],
   "source": [
    "MulticlassClassification.head(3)"
   ]
  },
  {
   "cell_type": "code",
   "execution_count": 11,
   "metadata": {},
   "outputs": [],
   "source": [
    "y = MulticlassClassification['AdoptionSpeed']"
   ]
  },
  {
   "cell_type": "code",
   "execution_count": 12,
   "metadata": {},
   "outputs": [],
   "source": [
    "MulticlassClassification.drop([ 'AdoptionSpeed'], axis=1 , inplace=True)"
   ]
  },
  {
   "cell_type": "code",
   "execution_count": 13,
   "metadata": {},
   "outputs": [],
   "source": [
    "one_hot = pd.get_dummies(MulticlassClassification)"
   ]
  },
  {
   "cell_type": "code",
   "execution_count": 14,
   "metadata": {},
   "outputs": [
    {
     "data": {
      "text/html": [
       "<div>\n",
       "<style scoped>\n",
       "    .dataframe tbody tr th:only-of-type {\n",
       "        vertical-align: middle;\n",
       "    }\n",
       "\n",
       "    .dataframe tbody tr th {\n",
       "        vertical-align: top;\n",
       "    }\n",
       "\n",
       "    .dataframe thead th {\n",
       "        text-align: right;\n",
       "    }\n",
       "</style>\n",
       "<table border=\"1\" class=\"dataframe\">\n",
       "  <thead>\n",
       "    <tr style=\"text-align: right;\">\n",
       "      <th></th>\n",
       "      <th>Age</th>\n",
       "      <th>Quantity</th>\n",
       "      <th>Fee</th>\n",
       "      <th>PhotoAmt</th>\n",
       "      <th>Hasname</th>\n",
       "      <th>Polarity</th>\n",
       "      <th>Subjectivity</th>\n",
       "      <th>DescWords</th>\n",
       "      <th>Type_Cat</th>\n",
       "      <th>Type_Dog</th>\n",
       "      <th>...</th>\n",
       "      <th>Color_BrownOther</th>\n",
       "      <th>Color_Cream</th>\n",
       "      <th>Color_CreamOther</th>\n",
       "      <th>Color_Golden</th>\n",
       "      <th>Color_GoldenOther</th>\n",
       "      <th>Color_Gray</th>\n",
       "      <th>Color_GrayOther</th>\n",
       "      <th>Color_White</th>\n",
       "      <th>Color_Yellow</th>\n",
       "      <th>Color_YellowOther</th>\n",
       "    </tr>\n",
       "  </thead>\n",
       "  <tbody>\n",
       "    <tr>\n",
       "      <th>9845</th>\n",
       "      <td>0.003922</td>\n",
       "      <td>1.0</td>\n",
       "      <td>0.0</td>\n",
       "      <td>0.066667</td>\n",
       "      <td>1</td>\n",
       "      <td>0.301190</td>\n",
       "      <td>0.419048</td>\n",
       "      <td>0.031822</td>\n",
       "      <td>0</td>\n",
       "      <td>1</td>\n",
       "      <td>...</td>\n",
       "      <td>0</td>\n",
       "      <td>0</td>\n",
       "      <td>0</td>\n",
       "      <td>0</td>\n",
       "      <td>0</td>\n",
       "      <td>0</td>\n",
       "      <td>0</td>\n",
       "      <td>0</td>\n",
       "      <td>0</td>\n",
       "      <td>0</td>\n",
       "    </tr>\n",
       "    <tr>\n",
       "      <th>5358</th>\n",
       "      <td>0.003922</td>\n",
       "      <td>0.0</td>\n",
       "      <td>0.0</td>\n",
       "      <td>0.033333</td>\n",
       "      <td>0</td>\n",
       "      <td>-0.125000</td>\n",
       "      <td>0.550000</td>\n",
       "      <td>0.017502</td>\n",
       "      <td>0</td>\n",
       "      <td>1</td>\n",
       "      <td>...</td>\n",
       "      <td>0</td>\n",
       "      <td>0</td>\n",
       "      <td>0</td>\n",
       "      <td>0</td>\n",
       "      <td>0</td>\n",
       "      <td>0</td>\n",
       "      <td>0</td>\n",
       "      <td>0</td>\n",
       "      <td>0</td>\n",
       "      <td>0</td>\n",
       "    </tr>\n",
       "    <tr>\n",
       "      <th>9795</th>\n",
       "      <td>0.015686</td>\n",
       "      <td>0.0</td>\n",
       "      <td>0.0</td>\n",
       "      <td>0.066667</td>\n",
       "      <td>1</td>\n",
       "      <td>0.361111</td>\n",
       "      <td>0.550000</td>\n",
       "      <td>0.067621</td>\n",
       "      <td>1</td>\n",
       "      <td>0</td>\n",
       "      <td>...</td>\n",
       "      <td>0</td>\n",
       "      <td>0</td>\n",
       "      <td>0</td>\n",
       "      <td>0</td>\n",
       "      <td>0</td>\n",
       "      <td>0</td>\n",
       "      <td>0</td>\n",
       "      <td>1</td>\n",
       "      <td>0</td>\n",
       "      <td>0</td>\n",
       "    </tr>\n",
       "    <tr>\n",
       "      <th>6942</th>\n",
       "      <td>0.023529</td>\n",
       "      <td>0.0</td>\n",
       "      <td>0.0</td>\n",
       "      <td>0.166667</td>\n",
       "      <td>1</td>\n",
       "      <td>0.145833</td>\n",
       "      <td>0.779630</td>\n",
       "      <td>0.007955</td>\n",
       "      <td>1</td>\n",
       "      <td>0</td>\n",
       "      <td>...</td>\n",
       "      <td>0</td>\n",
       "      <td>0</td>\n",
       "      <td>0</td>\n",
       "      <td>0</td>\n",
       "      <td>0</td>\n",
       "      <td>0</td>\n",
       "      <td>1</td>\n",
       "      <td>0</td>\n",
       "      <td>0</td>\n",
       "      <td>0</td>\n",
       "    </tr>\n",
       "    <tr>\n",
       "      <th>10235</th>\n",
       "      <td>0.007843</td>\n",
       "      <td>0.0</td>\n",
       "      <td>0.0</td>\n",
       "      <td>0.100000</td>\n",
       "      <td>1</td>\n",
       "      <td>0.000000</td>\n",
       "      <td>0.000000</td>\n",
       "      <td>0.053302</td>\n",
       "      <td>1</td>\n",
       "      <td>0</td>\n",
       "      <td>...</td>\n",
       "      <td>0</td>\n",
       "      <td>0</td>\n",
       "      <td>0</td>\n",
       "      <td>0</td>\n",
       "      <td>0</td>\n",
       "      <td>0</td>\n",
       "      <td>0</td>\n",
       "      <td>0</td>\n",
       "      <td>0</td>\n",
       "      <td>0</td>\n",
       "    </tr>\n",
       "    <tr>\n",
       "      <th>...</th>\n",
       "      <td>...</td>\n",
       "      <td>...</td>\n",
       "      <td>...</td>\n",
       "      <td>...</td>\n",
       "      <td>...</td>\n",
       "      <td>...</td>\n",
       "      <td>...</td>\n",
       "      <td>...</td>\n",
       "      <td>...</td>\n",
       "      <td>...</td>\n",
       "      <td>...</td>\n",
       "      <td>...</td>\n",
       "      <td>...</td>\n",
       "      <td>...</td>\n",
       "      <td>...</td>\n",
       "      <td>...</td>\n",
       "      <td>...</td>\n",
       "      <td>...</td>\n",
       "      <td>...</td>\n",
       "      <td>...</td>\n",
       "      <td>...</td>\n",
       "    </tr>\n",
       "    <tr>\n",
       "      <th>7890</th>\n",
       "      <td>0.027451</td>\n",
       "      <td>0.0</td>\n",
       "      <td>0.0</td>\n",
       "      <td>0.033333</td>\n",
       "      <td>1</td>\n",
       "      <td>0.000000</td>\n",
       "      <td>0.000000</td>\n",
       "      <td>0.003978</td>\n",
       "      <td>0</td>\n",
       "      <td>1</td>\n",
       "      <td>...</td>\n",
       "      <td>0</td>\n",
       "      <td>0</td>\n",
       "      <td>0</td>\n",
       "      <td>0</td>\n",
       "      <td>0</td>\n",
       "      <td>0</td>\n",
       "      <td>0</td>\n",
       "      <td>0</td>\n",
       "      <td>0</td>\n",
       "      <td>0</td>\n",
       "    </tr>\n",
       "    <tr>\n",
       "      <th>3276</th>\n",
       "      <td>0.047059</td>\n",
       "      <td>0.0</td>\n",
       "      <td>0.0</td>\n",
       "      <td>0.133333</td>\n",
       "      <td>1</td>\n",
       "      <td>0.500000</td>\n",
       "      <td>0.500000</td>\n",
       "      <td>0.010342</td>\n",
       "      <td>0</td>\n",
       "      <td>1</td>\n",
       "      <td>...</td>\n",
       "      <td>0</td>\n",
       "      <td>0</td>\n",
       "      <td>0</td>\n",
       "      <td>0</td>\n",
       "      <td>0</td>\n",
       "      <td>0</td>\n",
       "      <td>0</td>\n",
       "      <td>0</td>\n",
       "      <td>0</td>\n",
       "      <td>0</td>\n",
       "    </tr>\n",
       "    <tr>\n",
       "      <th>11530</th>\n",
       "      <td>0.023529</td>\n",
       "      <td>0.0</td>\n",
       "      <td>0.0</td>\n",
       "      <td>0.033333</td>\n",
       "      <td>1</td>\n",
       "      <td>0.266667</td>\n",
       "      <td>0.583333</td>\n",
       "      <td>0.023866</td>\n",
       "      <td>0</td>\n",
       "      <td>1</td>\n",
       "      <td>...</td>\n",
       "      <td>0</td>\n",
       "      <td>0</td>\n",
       "      <td>0</td>\n",
       "      <td>0</td>\n",
       "      <td>0</td>\n",
       "      <td>0</td>\n",
       "      <td>0</td>\n",
       "      <td>0</td>\n",
       "      <td>0</td>\n",
       "      <td>0</td>\n",
       "    </tr>\n",
       "    <tr>\n",
       "      <th>5850</th>\n",
       "      <td>0.007843</td>\n",
       "      <td>0.0</td>\n",
       "      <td>0.0</td>\n",
       "      <td>0.033333</td>\n",
       "      <td>1</td>\n",
       "      <td>0.406667</td>\n",
       "      <td>0.690833</td>\n",
       "      <td>0.027844</td>\n",
       "      <td>0</td>\n",
       "      <td>1</td>\n",
       "      <td>...</td>\n",
       "      <td>0</td>\n",
       "      <td>0</td>\n",
       "      <td>0</td>\n",
       "      <td>0</td>\n",
       "      <td>0</td>\n",
       "      <td>0</td>\n",
       "      <td>0</td>\n",
       "      <td>0</td>\n",
       "      <td>0</td>\n",
       "      <td>0</td>\n",
       "    </tr>\n",
       "    <tr>\n",
       "      <th>10803</th>\n",
       "      <td>0.047059</td>\n",
       "      <td>0.0</td>\n",
       "      <td>0.0</td>\n",
       "      <td>0.133333</td>\n",
       "      <td>1</td>\n",
       "      <td>0.063131</td>\n",
       "      <td>0.409512</td>\n",
       "      <td>0.141607</td>\n",
       "      <td>0</td>\n",
       "      <td>1</td>\n",
       "      <td>...</td>\n",
       "      <td>0</td>\n",
       "      <td>0</td>\n",
       "      <td>0</td>\n",
       "      <td>0</td>\n",
       "      <td>0</td>\n",
       "      <td>0</td>\n",
       "      <td>1</td>\n",
       "      <td>0</td>\n",
       "      <td>0</td>\n",
       "      <td>0</td>\n",
       "    </tr>\n",
       "  </tbody>\n",
       "</table>\n",
       "<p>8577 rows × 62 columns</p>\n",
       "</div>"
      ],
      "text/plain": [
       "            Age  Quantity  Fee  PhotoAmt  Hasname  Polarity  Subjectivity  \\\n",
       "9845   0.003922       1.0  0.0  0.066667        1  0.301190      0.419048   \n",
       "5358   0.003922       0.0  0.0  0.033333        0 -0.125000      0.550000   \n",
       "9795   0.015686       0.0  0.0  0.066667        1  0.361111      0.550000   \n",
       "6942   0.023529       0.0  0.0  0.166667        1  0.145833      0.779630   \n",
       "10235  0.007843       0.0  0.0  0.100000        1  0.000000      0.000000   \n",
       "...         ...       ...  ...       ...      ...       ...           ...   \n",
       "7890   0.027451       0.0  0.0  0.033333        1  0.000000      0.000000   \n",
       "3276   0.047059       0.0  0.0  0.133333        1  0.500000      0.500000   \n",
       "11530  0.023529       0.0  0.0  0.033333        1  0.266667      0.583333   \n",
       "5850   0.007843       0.0  0.0  0.033333        1  0.406667      0.690833   \n",
       "10803  0.047059       0.0  0.0  0.133333        1  0.063131      0.409512   \n",
       "\n",
       "       DescWords  Type_Cat  Type_Dog  ...  Color_BrownOther  Color_Cream  \\\n",
       "9845    0.031822         0         1  ...                 0            0   \n",
       "5358    0.017502         0         1  ...                 0            0   \n",
       "9795    0.067621         1         0  ...                 0            0   \n",
       "6942    0.007955         1         0  ...                 0            0   \n",
       "10235   0.053302         1         0  ...                 0            0   \n",
       "...          ...       ...       ...  ...               ...          ...   \n",
       "7890    0.003978         0         1  ...                 0            0   \n",
       "3276    0.010342         0         1  ...                 0            0   \n",
       "11530   0.023866         0         1  ...                 0            0   \n",
       "5850    0.027844         0         1  ...                 0            0   \n",
       "10803   0.141607         0         1  ...                 0            0   \n",
       "\n",
       "       Color_CreamOther  Color_Golden  Color_GoldenOther  Color_Gray  \\\n",
       "9845                  0             0                  0           0   \n",
       "5358                  0             0                  0           0   \n",
       "9795                  0             0                  0           0   \n",
       "6942                  0             0                  0           0   \n",
       "10235                 0             0                  0           0   \n",
       "...                 ...           ...                ...         ...   \n",
       "7890                  0             0                  0           0   \n",
       "3276                  0             0                  0           0   \n",
       "11530                 0             0                  0           0   \n",
       "5850                  0             0                  0           0   \n",
       "10803                 0             0                  0           0   \n",
       "\n",
       "       Color_GrayOther  Color_White  Color_Yellow  Color_YellowOther  \n",
       "9845                 0            0             0                  0  \n",
       "5358                 0            0             0                  0  \n",
       "9795                 0            1             0                  0  \n",
       "6942                 1            0             0                  0  \n",
       "10235                0            0             0                  0  \n",
       "...                ...          ...           ...                ...  \n",
       "7890                 0            0             0                  0  \n",
       "3276                 0            0             0                  0  \n",
       "11530                0            0             0                  0  \n",
       "5850                 0            0             0                  0  \n",
       "10803                1            0             0                  0  \n",
       "\n",
       "[8577 rows x 62 columns]"
      ]
     },
     "execution_count": 14,
     "metadata": {},
     "output_type": "execute_result"
    }
   ],
   "source": [
    "one_hot"
   ]
  },
  {
   "cell_type": "code",
   "execution_count": 15,
   "metadata": {},
   "outputs": [],
   "source": [
    "X_train, X_test, y_train, y_test = train_test_split(one_hot, y, test_size=0.20, shuffle = True)"
   ]
  },
  {
   "cell_type": "code",
   "execution_count": 16,
   "metadata": {},
   "outputs": [],
   "source": [
    "def plot_confusion_matrix(cm, classes,\n",
    "                          normalize=False,\n",
    "                          title='Confusion matrix',\n",
    "                          cmap=plt.cm.Blues):\n",
    "    \"\"\"\n",
    "    See full source and example: \n",
    "    http://scikit-learn.org/stable/auto_examples/model_selection/plot_confusion_matrix.html\n",
    "    \n",
    "    This function prints and plots the confusion matrix.\n",
    "    Normalization can be applied by setting `normalize=True`.\n",
    "    \"\"\"\n",
    "    plt.imshow(cm, interpolation='nearest', cmap=cmap)\n",
    "    plt.title(title)\n",
    "    plt.colorbar()\n",
    "    tick_marks = np.arange(len(classes))\n",
    "    plt.xticks(tick_marks, classes, rotation=45)\n",
    "    plt.yticks(tick_marks, classes)\n",
    "\n",
    "    if normalize:\n",
    "        cm = cm.astype('float') / cm.sum(axis=1)[:, np.newaxis]\n",
    "        print(\"Normalized confusion matrix\")\n",
    "    else:\n",
    "        print('Confusion matrix, without normalization')\n",
    "\n",
    "    thresh = cm.max() / 2.\n",
    "    for i, j in itertools.product(range(cm.shape[0]), range(cm.shape[1])):\n",
    "        plt.text(j, i, cm[i, j],\n",
    "                 horizontalalignment=\"center\",\n",
    "                 color=\"white\" if cm[i, j] > thresh else \"black\")\n",
    "\n",
    "    plt.tight_layout()\n",
    "    plt.ylabel('True label')\n",
    "    plt.xlabel('Predicted label')"
   ]
  },
  {
   "cell_type": "markdown",
   "metadata": {},
   "source": [
    "## 1.2. Learning Classifiers"
   ]
  },
  {
   "cell_type": "markdown",
   "metadata": {},
   "source": [
    "### Decision Tree Classifier"
   ]
  },
  {
   "cell_type": "code",
   "execution_count": 17,
   "metadata": {},
   "outputs": [
    {
     "name": "stdout",
     "output_type": "stream",
     "text": [
      "# Tuning hyper-parameters for accuracy\n",
      "\n",
      "Best parameters set found on Train set:\n",
      "\n",
      "{'criterion': 'entropy', 'max_leaf_nodes': 80}\n",
      "\n",
      "Grid scores on Train set:\n",
      "\n",
      "0.480 (+/-0.015) for {'criterion': 'gini', 'max_leaf_nodes': 20}\n",
      "0.494 (+/-0.019) for {'criterion': 'gini', 'max_leaf_nodes': 40}\n",
      "0.506 (+/-0.030) for {'criterion': 'gini', 'max_leaf_nodes': 80}\n",
      "0.482 (+/-0.023) for {'criterion': 'entropy', 'max_leaf_nodes': 20}\n",
      "0.487 (+/-0.022) for {'criterion': 'entropy', 'max_leaf_nodes': 40}\n",
      "0.509 (+/-0.015) for {'criterion': 'entropy', 'max_leaf_nodes': 80}\n",
      "\n",
      "Detailed classification report on Test Set:\n",
      "                    precision    recall  f1-score   support\n",
      "\n",
      "  instant adoption       0.50      0.38      0.43       580\n",
      "  delayed adoption       0.48      0.50      0.49       582\n",
      "very late adoption       0.48      0.58      0.52       554\n",
      "\n",
      "          accuracy                           0.49      1716\n",
      "         macro avg       0.49      0.49      0.48      1716\n",
      "      weighted avg       0.49      0.49      0.48      1716\n",
      "\n",
      "\n"
     ]
    }
   ],
   "source": [
    "# Set the parameters by cross-validation\n",
    "tuned_parameters = [{'criterion':['gini','entropy'],'max_leaf_nodes': [20,40,80]}]\n",
    "\n",
    "scores = ['accuracy']\n",
    "\n",
    "for score in scores:\n",
    "    print(\"# Tuning hyper-parameters for %s\" % score)\n",
    "    print()\n",
    "\n",
    "    clf_DTC = GridSearchCV(\n",
    "        DecisionTreeClassifier(), tuned_parameters, cv=5, scoring='%s' % score)\n",
    "    clf_DTC.fit(X_train, y_train)\n",
    "\n",
    "    print(\"Best parameters set found on Train set:\")\n",
    "    print()\n",
    "    print(clf_DTC.best_params_)\n",
    "    print()\n",
    "    print(\"Grid scores on Train set:\")\n",
    "    print()\n",
    "    means = clf_DTC.cv_results_['mean_test_score']\n",
    "    stds = clf_DTC.cv_results_['std_test_score']\n",
    "    for mean, std, params in zip(means, stds, clf_DTC.cv_results_['params']):\n",
    "        print(\"%0.3f (+/-%0.03f) for %r\"\n",
    "              % (mean, std * 2, params))\n",
    "    print()\n",
    "\n",
    "    print(\"Detailed classification report on Test Set:\")\n",
    "    pred = clf_DTC.predict(X_test)\n",
    "    print(classification_report(y_test, pred,target_names=labels))\n",
    "    print()"
   ]
  },
  {
   "cell_type": "code",
   "execution_count": 18,
   "metadata": {},
   "outputs": [
    {
     "data": {
      "text/html": [
       "<img src=\"clf_DTC.png?1808512480\" alt=\"clf_DTC.png\" height=\"100\">"
      ],
      "text/plain": [
       "<IPython.core.display.HTML object>"
      ]
     },
     "metadata": {},
     "output_type": "display_data"
    }
   ],
   "source": [
    "clf_DTC = DecisionTreeClassifier(criterion='entropy',max_leaf_nodes=80)\n",
    "clf_DTC.fit(X_train, y_train)\n",
    "dot_data = tree.export_graphviz(clf_DTC, out_file=\"clf_DTC.dot\",\n",
    "                                feature_names=one_hot.columns,\n",
    "                                class_names=labels,\n",
    "                                filled=True, rounded=True,\n",
    "                                special_characters=True)\n",
    "(clf_DTC_graph,) = pydot.graph_from_dot_file('clf_DTC.dot')\n",
    "clf_DTC_graph.write_png('clf_DTC.png')\n",
    "display(HTML('<img src=\"clf_DTC.png?%d\" alt=\"clf_DTC.png\" height=\"100\">' % random.randint(0,2e9)))"
   ]
  },
  {
   "cell_type": "code",
   "execution_count": 19,
   "metadata": {},
   "outputs": [
    {
     "name": "stdout",
     "output_type": "stream",
     "text": [
      "Confusion matrix, without normalization\n"
     ]
    },
    {
     "data": {
      "image/png": "[encoded data removed]",
      "text/plain": [
       "<Figure size 432x288 with 2 Axes>"
      ]
     },
     "metadata": {
      "needs_background": "light"
     },
     "output_type": "display_data"
    }
   ],
   "source": [
    "cm = metrics.confusion_matrix(y_test, pred, labels=labels)\n",
    "plot_confusion_matrix(cm, classes=labels)"
   ]
  },
  {
   "cell_type": "markdown",
   "metadata": {},
   "source": [
    "### Linear SVM"
   ]
  },
  {
   "cell_type": "code",
   "execution_count": 20,
   "metadata": {},
   "outputs": [
    {
     "name": "stdout",
     "output_type": "stream",
     "text": [
      "# Tuning hyper-parameters for precision_macro\n",
      "\n",
      "Best parameters set found on Train set:\n",
      "\n",
      "{'alpha': 0.001, 'loss': 'hinge', 'penalty': 'l1'}\n",
      "\n",
      "Grid scores on Train set:\n",
      "\n",
      "0.469 (+/-0.053) for {'alpha': 0.1, 'loss': 'hinge', 'penalty': 'l2'}\n",
      "0.111 (+/-0.001) for {'alpha': 0.1, 'loss': 'hinge', 'penalty': 'l1'}\n",
      "0.394 (+/-0.045) for {'alpha': 0.1, 'loss': 'squared_hinge', 'penalty': 'l2'}\n",
      "0.405 (+/-0.040) for {'alpha': 0.1, 'loss': 'squared_hinge', 'penalty': 'l1'}\n",
      "0.445 (+/-0.023) for {'alpha': 0.01, 'loss': 'hinge', 'penalty': 'l2'}\n",
      "0.324 (+/-0.169) for {'alpha': 0.01, 'loss': 'hinge', 'penalty': 'l1'}\n",
      "0.405 (+/-0.021) for {'alpha': 0.01, 'loss': 'squared_hinge', 'penalty': 'l2'}\n",
      "0.398 (+/-0.028) for {'alpha': 0.01, 'loss': 'squared_hinge', 'penalty': 'l1'}\n",
      "0.458 (+/-0.048) for {'alpha': 0.001, 'loss': 'hinge', 'penalty': 'l2'}\n",
      "0.478 (+/-0.043) for {'alpha': 0.001, 'loss': 'hinge', 'penalty': 'l1'}\n",
      "0.392 (+/-0.016) for {'alpha': 0.001, 'loss': 'squared_hinge', 'penalty': 'l2'}\n",
      "0.392 (+/-0.053) for {'alpha': 0.001, 'loss': 'squared_hinge', 'penalty': 'l1'}\n",
      "0.459 (+/-0.024) for {'alpha': 0.0001, 'loss': 'hinge', 'penalty': 'l2'}\n",
      "0.465 (+/-0.025) for {'alpha': 0.0001, 'loss': 'hinge', 'penalty': 'l1'}\n",
      "0.390 (+/-0.034) for {'alpha': 0.0001, 'loss': 'squared_hinge', 'penalty': 'l2'}\n",
      "0.378 (+/-0.063) for {'alpha': 0.0001, 'loss': 'squared_hinge', 'penalty': 'l1'}\n",
      "0.419 (+/-0.049) for {'alpha': 1e-05, 'loss': 'hinge', 'penalty': 'l2'}\n",
      "0.445 (+/-0.052) for {'alpha': 1e-05, 'loss': 'hinge', 'penalty': 'l1'}\n",
      "0.406 (+/-0.034) for {'alpha': 1e-05, 'loss': 'squared_hinge', 'penalty': 'l2'}\n",
      "0.419 (+/-0.013) for {'alpha': 1e-05, 'loss': 'squared_hinge', 'penalty': 'l1'}\n",
      "0.412 (+/-0.028) for {'alpha': 1e-06, 'loss': 'hinge', 'penalty': 'l2'}\n",
      "0.419 (+/-0.093) for {'alpha': 1e-06, 'loss': 'hinge', 'penalty': 'l1'}\n",
      "0.442 (+/-0.149) for {'alpha': 1e-06, 'loss': 'squared_hinge', 'penalty': 'l2'}\n",
      "0.422 (+/-0.034) for {'alpha': 1e-06, 'loss': 'squared_hinge', 'penalty': 'l1'}\n",
      "\n",
      "Detailed classification report on Test Set:\n",
      "                    precision    recall  f1-score   support\n",
      "\n",
      "  instant adoption       0.40      0.51      0.45       580\n",
      "  delayed adoption       0.56      0.14      0.22       582\n",
      "very late adoption       0.43      0.64      0.51       554\n",
      "\n",
      "          accuracy                           0.43      1716\n",
      "         macro avg       0.46      0.43      0.39      1716\n",
      "      weighted avg       0.46      0.43      0.39      1716\n",
      "\n",
      "\n"
     ]
    }
   ],
   "source": [
    "# Set the parameters by cross-validation\n",
    "tuned_parameters = [{'loss':['hinge','squared_hinge'],'alpha': 10.0**-np.arange(1,7),'penalty':['l2','l1']}]\n",
    "\n",
    "scores = ['precision_macro']\n",
    "\n",
    "for score in scores:\n",
    "    print(\"# Tuning hyper-parameters for %s\" % score)\n",
    "    print()\n",
    "\n",
    "    sgd_clf = GridSearchCV(\n",
    "        SGDClassifier(max_iter= np.ceil(10**6 / X_train.shape[0])), tuned_parameters, cv=5, scoring='%s' % score)\n",
    "    sgd_clf.fit(X_train, y_train)\n",
    "\n",
    "    print(\"Best parameters set found on Train set:\")\n",
    "    print()\n",
    "    print(sgd_clf.best_params_)\n",
    "    print()\n",
    "    print(\"Grid scores on Train set:\")\n",
    "    print()\n",
    "    means = sgd_clf.cv_results_['mean_test_score']\n",
    "    stds = sgd_clf.cv_results_['std_test_score']\n",
    "    for mean, std, params in zip(means, stds, sgd_clf.cv_results_['params']):\n",
    "        print(\"%0.3f (+/-%0.03f) for %r\"\n",
    "              % (mean, std * 2, params))\n",
    "    print()\n",
    "\n",
    "    print(\"Detailed classification report on Test Set:\")\n",
    "    pred = sgd_clf.predict(X_test)\n",
    "    print(classification_report(y_test, pred,target_names=labels))\n",
    "    print()"
   ]
  },
  {
   "cell_type": "code",
   "execution_count": 21,
   "metadata": {},
   "outputs": [
    {
     "name": "stdout",
     "output_type": "stream",
     "text": [
      "Confusion matrix, without normalization\n"
     ]
    },
    {
     "data": {
      "image/png": "[encoded data removed]",
      "text/plain": [
       "<Figure size 432x288 with 2 Axes>"
      ]
     },
     "metadata": {
      "needs_background": "light"
     },
     "output_type": "display_data"
    }
   ],
   "source": [
    "cm = metrics.confusion_matrix(y_test, pred, labels=labels)\n",
    "plot_confusion_matrix(cm, classes=labels)"
   ]
  },
  {
   "cell_type": "markdown",
   "metadata": {},
   "source": [
    "### Logistic Regression"
   ]
  },
  {
   "cell_type": "code",
   "execution_count": 22,
   "metadata": {},
   "outputs": [
    {
     "name": "stdout",
     "output_type": "stream",
     "text": [
      "# Tuning hyper-parameters for accuracy\n",
      "\n",
      "Best parameters set found on Train set:\n",
      "\n",
      "{'C': 100.0, 'penalty': 'l2', 'solver': 'lbfgs'}\n",
      "\n",
      "Grid scores on Train set:\n",
      "\n",
      "0.464 (+/-0.022) for {'C': 1.0, 'penalty': 'l2', 'solver': 'liblinear'}\n",
      "0.466 (+/-0.021) for {'C': 1.0, 'penalty': 'l2', 'solver': 'lbfgs'}\n",
      "0.466 (+/-0.016) for {'C': 1.0, 'penalty': 'l1', 'solver': 'liblinear'}\n",
      "nan (+/-nan) for {'C': 1.0, 'penalty': 'l1', 'solver': 'lbfgs'}\n",
      "0.468 (+/-0.017) for {'C': 10.0, 'penalty': 'l2', 'solver': 'liblinear'}\n",
      "0.467 (+/-0.015) for {'C': 10.0, 'penalty': 'l2', 'solver': 'lbfgs'}\n",
      "0.467 (+/-0.017) for {'C': 10.0, 'penalty': 'l1', 'solver': 'liblinear'}\n",
      "nan (+/-nan) for {'C': 10.0, 'penalty': 'l1', 'solver': 'lbfgs'}\n",
      "0.468 (+/-0.018) for {'C': 100.0, 'penalty': 'l2', 'solver': 'liblinear'}\n",
      "0.468 (+/-0.017) for {'C': 100.0, 'penalty': 'l2', 'solver': 'lbfgs'}\n",
      "0.468 (+/-0.017) for {'C': 100.0, 'penalty': 'l1', 'solver': 'liblinear'}\n",
      "nan (+/-nan) for {'C': 100.0, 'penalty': 'l1', 'solver': 'lbfgs'}\n",
      "0.468 (+/-0.017) for {'C': 1000.0, 'penalty': 'l2', 'solver': 'liblinear'}\n",
      "0.468 (+/-0.017) for {'C': 1000.0, 'penalty': 'l2', 'solver': 'lbfgs'}\n",
      "0.468 (+/-0.017) for {'C': 1000.0, 'penalty': 'l1', 'solver': 'liblinear'}\n",
      "nan (+/-nan) for {'C': 1000.0, 'penalty': 'l1', 'solver': 'lbfgs'}\n",
      "0.468 (+/-0.017) for {'C': 10000.0, 'penalty': 'l2', 'solver': 'liblinear'}\n",
      "0.467 (+/-0.018) for {'C': 10000.0, 'penalty': 'l2', 'solver': 'lbfgs'}\n",
      "0.468 (+/-0.017) for {'C': 10000.0, 'penalty': 'l1', 'solver': 'liblinear'}\n",
      "nan (+/-nan) for {'C': 10000.0, 'penalty': 'l1', 'solver': 'lbfgs'}\n",
      "0.468 (+/-0.017) for {'C': 100000.0, 'penalty': 'l2', 'solver': 'liblinear'}\n",
      "0.467 (+/-0.016) for {'C': 100000.0, 'penalty': 'l2', 'solver': 'lbfgs'}\n",
      "0.468 (+/-0.018) for {'C': 100000.0, 'penalty': 'l1', 'solver': 'liblinear'}\n",
      "nan (+/-nan) for {'C': 100000.0, 'penalty': 'l1', 'solver': 'lbfgs'}\n",
      "0.468 (+/-0.017) for {'C': 1000000.0, 'penalty': 'l2', 'solver': 'liblinear'}\n",
      "0.467 (+/-0.019) for {'C': 1000000.0, 'penalty': 'l2', 'solver': 'lbfgs'}\n",
      "0.468 (+/-0.018) for {'C': 1000000.0, 'penalty': 'l1', 'solver': 'liblinear'}\n",
      "nan (+/-nan) for {'C': 1000000.0, 'penalty': 'l1', 'solver': 'lbfgs'}\n",
      "\n",
      "Detailed classification report on Test Set:\n",
      "                    precision    recall  f1-score   support\n",
      "\n",
      "  instant adoption       0.46      0.41      0.43       580\n",
      "  delayed adoption       0.47      0.47      0.47       582\n",
      "very late adoption       0.46      0.51      0.48       554\n",
      "\n",
      "          accuracy                           0.46      1716\n",
      "         macro avg       0.46      0.46      0.46      1716\n",
      "      weighted avg       0.46      0.46      0.46      1716\n",
      "\n",
      "\n"
     ]
    }
   ],
   "source": [
    "# Set the parameters by cross-validation\n",
    "tuned_parameters = [{'C': 10.0**np.arange(0,7),'penalty':['l2','l1'],'solver':['liblinear','lbfgs']}]\n",
    "\n",
    "scores = ['accuracy']\n",
    "\n",
    "for score in scores:\n",
    "    print(\"# Tuning hyper-parameters for %s\" % score)\n",
    "    print()\n",
    "\n",
    "    lr_clf = GridSearchCV(\n",
    "        LogisticRegression(max_iter= np.ceil(10**6 / X_train.shape[0])), tuned_parameters, cv=5, scoring='%s' % score)\n",
    "    lr_clf.fit(X_train, y_train)\n",
    "\n",
    "    print(\"Best parameters set found on Train set:\")\n",
    "    print()\n",
    "    print(lr_clf.best_params_)\n",
    "    print()\n",
    "    print(\"Grid scores on Train set:\")\n",
    "    print()\n",
    "    means = lr_clf.cv_results_['mean_test_score']\n",
    "    stds = lr_clf.cv_results_['std_test_score']\n",
    "    for mean, std, params in zip(means, stds, lr_clf.cv_results_['params']):\n",
    "        print(\"%0.3f (+/-%0.03f) for %r\"\n",
    "              % (mean, std * 2, params))\n",
    "    print()\n",
    "\n",
    "    print(\"Detailed classification report on Test Set:\")\n",
    "    pred = lr_clf.predict(X_test)\n",
    "    print(classification_report(y_test, pred,target_names=labels))\n",
    "    print()"
   ]
  },
  {
   "cell_type": "code",
   "execution_count": 23,
   "metadata": {},
   "outputs": [
    {
     "name": "stdout",
     "output_type": "stream",
     "text": [
      "Confusion matrix, without normalization\n"
     ]
    },
    {
     "data": {
      "image/png": "[encoded data removed]",
      "text/plain": [
       "<Figure size 432x288 with 2 Axes>"
      ]
     },
     "metadata": {
      "needs_background": "light"
     },
     "output_type": "display_data"
    }
   ],
   "source": [
    "cm = metrics.confusion_matrix(y_test, pred, labels=labels)\n",
    "plot_confusion_matrix(cm, classes=labels)"
   ]
  },
  {
   "cell_type": "markdown",
   "metadata": {},
   "source": [
    "### Random Forest Classifier"
   ]
  },
  {
   "cell_type": "code",
   "execution_count": 24,
   "metadata": {},
   "outputs": [
    {
     "name": "stdout",
     "output_type": "stream",
     "text": [
      "# Tuning hyper-parameters for accuracy\n",
      "\n",
      "Best parameters set found on Train set:\n",
      "\n",
      "{'n_estimators': 400}\n",
      "\n",
      "Grid scores on Train set:\n",
      "\n",
      "0.713 (+/-0.013) for {'n_estimators': 400}\n",
      "0.710 (+/-0.016) for {'n_estimators': 500}\n",
      "\n",
      "Detailed classification report on Test Set:\n",
      "                    precision    recall  f1-score   support\n",
      "\n",
      "  instant adoption       0.79      0.71      0.74       580\n",
      "  delayed adoption       0.68      0.69      0.68       582\n",
      "very late adoption       0.73      0.80      0.76       554\n",
      "\n",
      "          accuracy                           0.73      1716\n",
      "         macro avg       0.73      0.73      0.73      1716\n",
      "      weighted avg       0.73      0.73      0.73      1716\n",
      "\n",
      "\n"
     ]
    }
   ],
   "source": [
    "# Set the parameters by cross-validation\n",
    "tuned_parameters = [{'n_estimators': [400,500]}]\n",
    "\n",
    "scores = ['accuracy']\n",
    "\n",
    "for score in scores:\n",
    "    print(\"# Tuning hyper-parameters for %s\" % score)\n",
    "    print()\n",
    "\n",
    "    rf_clf = GridSearchCV(\n",
    "        RandomForestClassifier(), tuned_parameters, cv=5, scoring='%s' % score)\n",
    "    rf_clf.fit(X_train, y_train)\n",
    "\n",
    "    print(\"Best parameters set found on Train set:\")\n",
    "    print()\n",
    "    print(rf_clf.best_params_)\n",
    "    print()\n",
    "    print(\"Grid scores on Train set:\")\n",
    "    print()\n",
    "    means = rf_clf.cv_results_['mean_test_score']\n",
    "    stds = rf_clf.cv_results_['std_test_score']\n",
    "    for mean, std, params in zip(means, stds, rf_clf.cv_results_['params']):\n",
    "        print(\"%0.3f (+/-%0.03f) for %r\"\n",
    "              % (mean, std * 2, params))\n",
    "    print()\n",
    "\n",
    "    print(\"Detailed classification report on Test Set:\")\n",
    "    pred = rf_clf.predict(X_test)\n",
    "    print(classification_report(y_test, pred,target_names=labels))\n",
    "    print()"
   ]
  },
  {
   "cell_type": "code",
   "execution_count": 25,
   "metadata": {},
   "outputs": [
    {
     "name": "stdout",
     "output_type": "stream",
     "text": [
      "Confusion matrix, without normalization\n"
     ]
    },
    {
     "data": {
      "image/png": "[encoded data removed]",
      "text/plain": [
       "<Figure size 432x288 with 2 Axes>"
      ]
     },
     "metadata": {
      "needs_background": "light"
     },
     "output_type": "display_data"
    }
   ],
   "source": [
    "cm = metrics.confusion_matrix(y_test, pred, labels=labels)\n",
    "plot_confusion_matrix(cm, classes=labels)"
   ]
  },
  {
   "cell_type": "markdown",
   "metadata": {},
   "source": [
    "### KNN Classifier"
   ]
  },
  {
   "cell_type": "code",
   "execution_count": 26,
   "metadata": {},
   "outputs": [
    {
     "name": "stdout",
     "output_type": "stream",
     "text": [
      "# Tuning hyper-parameters for accuracy\n",
      "\n",
      "Best parameters set found on Train set:\n",
      "\n",
      "{'n_neighbors': 20, 'weights': 'distance'}\n",
      "\n",
      "Grid scores on Train set:\n",
      "\n",
      "0.479 (+/-0.011) for {'n_neighbors': 5, 'weights': 'uniform'}\n",
      "0.641 (+/-0.012) for {'n_neighbors': 5, 'weights': 'distance'}\n",
      "0.472 (+/-0.015) for {'n_neighbors': 10, 'weights': 'uniform'}\n",
      "0.642 (+/-0.011) for {'n_neighbors': 10, 'weights': 'distance'}\n",
      "0.459 (+/-0.039) for {'n_neighbors': 20, 'weights': 'uniform'}\n",
      "0.652 (+/-0.028) for {'n_neighbors': 20, 'weights': 'distance'}\n",
      "\n",
      "Detailed classification report on Test Set:\n",
      "                    precision    recall  f1-score   support\n",
      "\n",
      "  instant adoption       0.66      0.73      0.69       580\n",
      "  delayed adoption       0.64      0.60      0.62       582\n",
      "very late adoption       0.72      0.68      0.70       554\n",
      "\n",
      "          accuracy                           0.67      1716\n",
      "         macro avg       0.67      0.67      0.67      1716\n",
      "      weighted avg       0.67      0.67      0.67      1716\n",
      "\n",
      "\n"
     ]
    }
   ],
   "source": [
    "# Set the parameters by cross-validation\n",
    "tuned_parameters = [{'n_neighbors': [5,10,20],'weights':['uniform','distance']}]\n",
    "\n",
    "scores = ['accuracy']\n",
    "\n",
    "for score in scores:\n",
    "    print(\"# Tuning hyper-parameters for %s\" % score)\n",
    "    print()\n",
    "\n",
    "    knn_clf = GridSearchCV(\n",
    "        KNeighborsClassifier(), tuned_parameters, cv=5, scoring='%s' % score)\n",
    "    knn_clf.fit(X_train, y_train)\n",
    "\n",
    "    print(\"Best parameters set found on Train set:\")\n",
    "    print()\n",
    "    print(knn_clf.best_params_)\n",
    "    print()\n",
    "    print(\"Grid scores on Train set:\")\n",
    "    print()\n",
    "    means = knn_clf.cv_results_['mean_test_score']\n",
    "    stds = knn_clf.cv_results_['std_test_score']\n",
    "    for mean, std, params in zip(means, stds, knn_clf.cv_results_['params']):\n",
    "        print(\"%0.3f (+/-%0.03f) for %r\"\n",
    "              % (mean, std * 2, params))\n",
    "    print()\n",
    "\n",
    "    print(\"Detailed classification report on Test Set:\")\n",
    "    pred = knn_clf.predict(X_test)\n",
    "    print(classification_report(y_test, pred,target_names=labels))\n",
    "    print()"
   ]
  },
  {
   "cell_type": "code",
   "execution_count": 27,
   "metadata": {},
   "outputs": [
    {
     "name": "stdout",
     "output_type": "stream",
     "text": [
      "Confusion matrix, without normalization\n"
     ]
    },
    {
     "data": {
      "image/png": "[encoded data removed]",
      "text/plain": [
       "<Figure size 432x288 with 2 Axes>"
      ]
     },
     "metadata": {
      "needs_background": "light"
     },
     "output_type": "display_data"
    }
   ],
   "source": [
    "cm = metrics.confusion_matrix(y_test, pred, labels=labels)\n",
    "plot_confusion_matrix(cm, classes=labels)"
   ]
  },
  {
   "cell_type": "markdown",
   "metadata": {},
   "source": [
    "### Adaboost Classifier"
   ]
  },
  {
   "cell_type": "code",
   "execution_count": 28,
   "metadata": {},
   "outputs": [],
   "source": [
    "ada_clf = AdaBoostClassifier(n_estimators=100, random_state=0)"
   ]
  },
  {
   "cell_type": "code",
   "execution_count": 29,
   "metadata": {},
   "outputs": [
    {
     "name": "stdout",
     "output_type": "stream",
     "text": [
      "Accuracy: 0.50 (+/- 0.03)\n"
     ]
    }
   ],
   "source": [
    "ada_clf.fit(X_train, y_train)\n",
    "scores = cross_val_score(ada_clf, X_train, y_train, cv=5)\n",
    "print(\"Accuracy: %0.2f (+/- %0.2f)\" % (scores.mean(), scores.std() * 2))"
   ]
  },
  {
   "cell_type": "code",
   "execution_count": 30,
   "metadata": {},
   "outputs": [
    {
     "name": "stdout",
     "output_type": "stream",
     "text": [
      "                    precision    recall  f1-score   support\n",
      "\n",
      "  instant adoption       0.46      0.38      0.42       580\n",
      "  delayed adoption       0.49      0.53      0.51       582\n",
      "very late adoption       0.52      0.57      0.54       554\n",
      "\n",
      "          accuracy                           0.49      1716\n",
      "         macro avg       0.49      0.49      0.49      1716\n",
      "      weighted avg       0.49      0.49      0.49      1716\n",
      "\n"
     ]
    }
   ],
   "source": [
    "pred = ada_clf.predict(X_test)\n",
    "print(classification_report(y_test, pred,target_names=labels))"
   ]
  },
  {
   "cell_type": "code",
   "execution_count": 31,
   "metadata": {
    "scrolled": true
   },
   "outputs": [
    {
     "name": "stdout",
     "output_type": "stream",
     "text": [
      "Confusion matrix, without normalization\n"
     ]
    },
    {
     "data": {
      "image/png": "[encoded data removed]",
      "text/plain": [
       "<Figure size 432x288 with 2 Axes>"
      ]
     },
     "metadata": {
      "needs_background": "light"
     },
     "output_type": "display_data"
    }
   ],
   "source": [
    "cm = metrics.confusion_matrix(y_test, pred, labels=labels)\n",
    "plot_confusion_matrix(cm, classes=labels)"
   ]
  },
  {
   "cell_type": "markdown",
   "metadata": {},
   "source": [
    "## 1.3. Classification - Results and Discussion "
   ]
  },
  {
   "cell_type": "markdown",
   "metadata": {},
   "source": [
    "The best result in this case of multi-class classification is from Random Forest Classifier. It also gives best results against precision, recall, support and confusion matrix.\n",
    "This time the results are not as well as binary class classification because predicting multiple classes is a tough task but still the results is good enough for prediction task.\n",
    "In this task we have also performed best transformations on our input data to make it good and useful for ML Algorithm.\n",
    "Cross validation and other hyper parameter tuning is also performed here."
   ]
  }
 ],
 "metadata": {
  "kernelspec": {
   "display_name": "Python 3",
   "language": "python",
   "name": "python3"
  },
  "language_info": {
   "codemirror_mode": {
    "name": "ipython",
    "version": 3
   },
   "file_extension": ".py",
   "mimetype": "text/x-python",
   "name": "python",
   "nbconvert_exporter": "python",
   "pygments_lexer": "ipython3",
   "version": "3.8.3"
  }
 },
 "nbformat": 4,
 "nbformat_minor": 2
}
