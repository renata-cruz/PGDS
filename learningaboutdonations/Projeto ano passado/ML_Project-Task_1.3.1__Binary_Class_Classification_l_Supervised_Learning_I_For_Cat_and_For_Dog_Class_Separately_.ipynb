{
 "cells": [
  {
   "cell_type": "markdown",
   "metadata": {},
   "source": [
    "## Task 1.3.1 (Supervised Learning) - Predicting Adoption For Cats and Dogs Separately\n",
    "3.1 **Train specialized models for cats and dogs**: train with cat/dog instances and check whether the classification performance changes when Predicting Adoption and Predicting AdoptionSpeed."
   ]
  },
  {
   "cell_type": "code",
   "execution_count": 1,
   "metadata": {},
   "outputs": [],
   "source": [
    "import numpy as np\n",
    "import scipy as sp\n",
    "import pandas as pd\n",
    "import matplotlib.pyplot as plt\n",
    "import matplotlib\n",
    "import seaborn as sns\n",
    "import pandas_profiling\n",
    "from sklearn.metrics import accuracy_score\n",
    "from sklearn.model_selection import train_test_split\n",
    "from sklearn.tree import DecisionTreeClassifier\n",
    "from sklearn.model_selection import cross_val_score\n",
    "from sklearn.linear_model import LinearRegression\n",
    "from sklearn.metrics import accuracy_score\n",
    "from sklearn.metrics import classification_report\n",
    "from sklearn import metrics\n",
    "from sklearn.pipeline import Pipeline\n",
    "from sklearn.linear_model import LogisticRegression\n",
    "from sklearn.decomposition import PCA\n",
    "from sklearn.naive_bayes import MultinomialNB\n",
    "from xgboost import XGBClassifier\n",
    "from sklearn.ensemble import RandomForestClassifier\n",
    "from sklearn.gaussian_process import GaussianProcessClassifier\n",
    "import itertools\n",
    "from nltk import NaiveBayesClassifier\n",
    "from sklearn.feature_extraction.text import CountVectorizer, TfidfVectorizer, HashingVectorizer\n",
    "from sklearn.model_selection import train_test_split\n",
    "from sklearn.linear_model import PassiveAggressiveClassifier, SGDClassifier\n",
    "from sklearn.svm import LinearSVC\n",
    "from sklearn.naive_bayes import MultinomialNB\n",
    "from sklearn.naive_bayes import GaussianNB\n",
    "from sklearn.naive_bayes import BernoulliNB\n",
    "from sklearn.model_selection import GridSearchCV\n",
    "from sklearn import metrics\n",
    "import matplotlib.pyplot as plt\n",
    "import warnings\n",
    "from sklearn.neighbors import KNeighborsClassifier\n",
    "from textblob import TextBlob\n",
    "from sklearn.ensemble import AdaBoostClassifier , VotingClassifier\n",
    "from sklearn import preprocessing\n",
    "from sklearn import tree\n",
    "import warnings\n",
    "import pydot\n",
    "from imblearn.over_sampling import RandomOverSampler\n",
    "from imblearn.over_sampling import SMOTE,ADASYN,SMOTENC\n",
    "from collections import Counter\n",
    "import random\n",
    "from IPython.display import HTML, display\n",
    "%matplotlib inline\n",
    "warnings.filterwarnings('ignore')"
   ]
  },
  {
   "cell_type": "markdown",
   "metadata": {},
   "source": [
    "## Read the preprocessed dataset"
   ]
  },
  {
   "cell_type": "code",
   "execution_count": 2,
   "metadata": {},
   "outputs": [],
   "source": [
    "PetFinder_dataset = pd.read_csv(\"PetFinder_dataset_pp.csv\")"
   ]
  },
  {
   "cell_type": "code",
   "execution_count": 3,
   "metadata": {},
   "outputs": [],
   "source": [
    "BinaryClassification = PetFinder_dataset.drop(['AdoptionSpeed','InitialAdoptionSpeed','AgeBin','FeeBin','PhotoAmtBin','PolarityBin','DescwordsBin','SubjectivityBin'],axis=1).copy(deep=True)"
   ]
  },
  {
   "cell_type": "code",
   "execution_count": 4,
   "metadata": {},
   "outputs": [
    {
     "data": {
      "text/html": [
       "<div>\n",
       "<style scoped>\n",
       "    .dataframe tbody tr th:only-of-type {\n",
       "        vertical-align: middle;\n",
       "    }\n",
       "\n",
       "    .dataframe tbody tr th {\n",
       "        vertical-align: top;\n",
       "    }\n",
       "\n",
       "    .dataframe thead th {\n",
       "        text-align: right;\n",
       "    }\n",
       "</style>\n",
       "<table border=\"1\" class=\"dataframe\">\n",
       "  <thead>\n",
       "    <tr style=\"text-align: right;\">\n",
       "      <th></th>\n",
       "      <th>Type</th>\n",
       "      <th>Age</th>\n",
       "      <th>Gender</th>\n",
       "      <th>MaturitySize</th>\n",
       "      <th>FurLength</th>\n",
       "      <th>Vaccinated</th>\n",
       "      <th>Dewormed</th>\n",
       "      <th>Sterilized</th>\n",
       "      <th>Health</th>\n",
       "      <th>Quantity</th>\n",
       "      <th>Fee</th>\n",
       "      <th>State</th>\n",
       "      <th>PhotoAmt</th>\n",
       "      <th>Hasname</th>\n",
       "      <th>Breed</th>\n",
       "      <th>Color</th>\n",
       "      <th>Polarity</th>\n",
       "      <th>Subjectivity</th>\n",
       "      <th>DescWords</th>\n",
       "      <th>Adopted</th>\n",
       "    </tr>\n",
       "  </thead>\n",
       "  <tbody>\n",
       "    <tr>\n",
       "      <th>0</th>\n",
       "      <td>Cat</td>\n",
       "      <td>3</td>\n",
       "      <td>Male</td>\n",
       "      <td>Small</td>\n",
       "      <td>Short</td>\n",
       "      <td>No</td>\n",
       "      <td>No</td>\n",
       "      <td>No</td>\n",
       "      <td>Healthy</td>\n",
       "      <td>1</td>\n",
       "      <td>100</td>\n",
       "      <td>Selangor</td>\n",
       "      <td>1.0</td>\n",
       "      <td>1</td>\n",
       "      <td>Purebreed</td>\n",
       "      <td>BlackOther</td>\n",
       "      <td>0.130357</td>\n",
       "      <td>0.407143</td>\n",
       "      <td>69</td>\n",
       "      <td>True</td>\n",
       "    </tr>\n",
       "    <tr>\n",
       "      <th>1</th>\n",
       "      <td>Cat</td>\n",
       "      <td>1</td>\n",
       "      <td>Male</td>\n",
       "      <td>Medium</td>\n",
       "      <td>Medium</td>\n",
       "      <td>Not Sure</td>\n",
       "      <td>Not Sure</td>\n",
       "      <td>Not Sure</td>\n",
       "      <td>Healthy</td>\n",
       "      <td>1</td>\n",
       "      <td>0</td>\n",
       "      <td>Kuala Lumpur</td>\n",
       "      <td>2.0</td>\n",
       "      <td>0</td>\n",
       "      <td>Domestic</td>\n",
       "      <td>BlackOther</td>\n",
       "      <td>0.100000</td>\n",
       "      <td>0.400000</td>\n",
       "      <td>23</td>\n",
       "      <td>True</td>\n",
       "    </tr>\n",
       "    <tr>\n",
       "      <th>2</th>\n",
       "      <td>Dog</td>\n",
       "      <td>1</td>\n",
       "      <td>Male</td>\n",
       "      <td>Medium</td>\n",
       "      <td>Medium</td>\n",
       "      <td>Yes</td>\n",
       "      <td>Yes</td>\n",
       "      <td>No</td>\n",
       "      <td>Healthy</td>\n",
       "      <td>1</td>\n",
       "      <td>0</td>\n",
       "      <td>Selangor</td>\n",
       "      <td>7.0</td>\n",
       "      <td>1</td>\n",
       "      <td>Mixed Breed</td>\n",
       "      <td>BrownOther</td>\n",
       "      <td>0.261905</td>\n",
       "      <td>0.542857</td>\n",
       "      <td>69</td>\n",
       "      <td>True</td>\n",
       "    </tr>\n",
       "  </tbody>\n",
       "</table>\n",
       "</div>"
      ],
      "text/plain": [
       "  Type  Age Gender MaturitySize FurLength Vaccinated  Dewormed Sterilized  \\\n",
       "0  Cat    3   Male        Small     Short         No        No         No   \n",
       "1  Cat    1   Male       Medium    Medium   Not Sure  Not Sure   Not Sure   \n",
       "2  Dog    1   Male       Medium    Medium        Yes       Yes         No   \n",
       "\n",
       "    Health  Quantity  Fee         State  PhotoAmt  Hasname        Breed  \\\n",
       "0  Healthy         1  100      Selangor       1.0        1    Purebreed   \n",
       "1  Healthy         1    0  Kuala Lumpur       2.0        0     Domestic   \n",
       "2  Healthy         1    0      Selangor       7.0        1  Mixed Breed   \n",
       "\n",
       "        Color  Polarity  Subjectivity  DescWords  Adopted  \n",
       "0  BlackOther  0.130357      0.407143         69     True  \n",
       "1  BlackOther  0.100000      0.400000         23     True  \n",
       "2  BrownOther  0.261905      0.542857         69     True  "
      ]
     },
     "execution_count": 4,
     "metadata": {},
     "output_type": "execute_result"
    }
   ],
   "source": [
    "BinaryClassification.head(3)"
   ]
  },
  {
   "cell_type": "code",
   "execution_count": 5,
   "metadata": {
    "scrolled": true
   },
   "outputs": [
    {
     "data": {
      "text/plain": [
       "Type            0\n",
       "Age             0\n",
       "Gender          0\n",
       "MaturitySize    0\n",
       "FurLength       0\n",
       "Vaccinated      0\n",
       "Dewormed        0\n",
       "Sterilized      0\n",
       "Health          0\n",
       "Quantity        0\n",
       "Fee             0\n",
       "State           0\n",
       "PhotoAmt        0\n",
       "Hasname         0\n",
       "Breed           0\n",
       "Color           0\n",
       "Polarity        0\n",
       "Subjectivity    0\n",
       "DescWords       0\n",
       "Adopted         0\n",
       "dtype: int64"
      ]
     },
     "execution_count": 5,
     "metadata": {},
     "output_type": "execute_result"
    }
   ],
   "source": [
    "BinaryClassification.isnull().sum()"
   ]
  },
  {
   "cell_type": "code",
   "execution_count": 6,
   "metadata": {
    "scrolled": false
   },
   "outputs": [
    {
     "data": {
      "text/plain": [
       "Type             object\n",
       "Age               int64\n",
       "Gender           object\n",
       "MaturitySize     object\n",
       "FurLength        object\n",
       "Vaccinated       object\n",
       "Dewormed         object\n",
       "Sterilized       object\n",
       "Health           object\n",
       "Quantity          int64\n",
       "Fee               int64\n",
       "State            object\n",
       "PhotoAmt        float64\n",
       "Hasname           int64\n",
       "Breed            object\n",
       "Color            object\n",
       "Polarity        float64\n",
       "Subjectivity    float64\n",
       "DescWords         int64\n",
       "Adopted            bool\n",
       "dtype: object"
      ]
     },
     "execution_count": 6,
     "metadata": {},
     "output_type": "execute_result"
    }
   ],
   "source": [
    "BinaryClassification.dtypes"
   ]
  },
  {
   "cell_type": "code",
   "execution_count": 7,
   "metadata": {},
   "outputs": [
    {
     "data": {
      "text/plain": [
       "(12987, 20)"
      ]
     },
     "execution_count": 7,
     "metadata": {},
     "output_type": "execute_result"
    }
   ],
   "source": [
    "BinaryClassification.shape"
   ]
  },
  {
   "cell_type": "code",
   "execution_count": 8,
   "metadata": {},
   "outputs": [
    {
     "data": {
      "image/png": "[encoded data removed]",
      "text/plain": [
       "<Figure size 432x288 with 1 Axes>"
      ]
     },
     "metadata": {
      "needs_background": "light"
     },
     "output_type": "display_data"
    }
   ],
   "source": [
    "sns.countplot(x=BinaryClassification['Adopted'])\n",
    "plt.show()"
   ]
  },
  {
   "cell_type": "code",
   "execution_count": 9,
   "metadata": {},
   "outputs": [
    {
     "data": {
      "text/plain": [
       "True     9479\n",
       "False    3508\n",
       "Name: Adopted, dtype: int64"
      ]
     },
     "execution_count": 9,
     "metadata": {},
     "output_type": "execute_result"
    }
   ],
   "source": [
    "BinaryClassification['Adopted'].value_counts()"
   ]
  },
  {
   "cell_type": "code",
   "execution_count": 10,
   "metadata": {},
   "outputs": [],
   "source": [
    "mm_scaler = preprocessing.MinMaxScaler()\n",
    "BinaryClassification[['Age','Quantity' , 'Fee' , 'PhotoAmt','DescWords']] = mm_scaler.fit_transform(BinaryClassification[['Age','Quantity' , 'Fee' , 'PhotoAmt','DescWords']])"
   ]
  },
  {
   "cell_type": "code",
   "execution_count": 11,
   "metadata": {},
   "outputs": [
    {
     "data": {
      "text/html": [
       "<div>\n",
       "<style scoped>\n",
       "    .dataframe tbody tr th:only-of-type {\n",
       "        vertical-align: middle;\n",
       "    }\n",
       "\n",
       "    .dataframe tbody tr th {\n",
       "        vertical-align: top;\n",
       "    }\n",
       "\n",
       "    .dataframe thead th {\n",
       "        text-align: right;\n",
       "    }\n",
       "</style>\n",
       "<table border=\"1\" class=\"dataframe\">\n",
       "  <thead>\n",
       "    <tr style=\"text-align: right;\">\n",
       "      <th></th>\n",
       "      <th>Type</th>\n",
       "      <th>Age</th>\n",
       "      <th>Gender</th>\n",
       "      <th>MaturitySize</th>\n",
       "      <th>FurLength</th>\n",
       "      <th>Vaccinated</th>\n",
       "      <th>Dewormed</th>\n",
       "      <th>Sterilized</th>\n",
       "      <th>Health</th>\n",
       "      <th>Quantity</th>\n",
       "      <th>Fee</th>\n",
       "      <th>State</th>\n",
       "      <th>PhotoAmt</th>\n",
       "      <th>Hasname</th>\n",
       "      <th>Breed</th>\n",
       "      <th>Color</th>\n",
       "      <th>Polarity</th>\n",
       "      <th>Subjectivity</th>\n",
       "      <th>DescWords</th>\n",
       "      <th>Adopted</th>\n",
       "    </tr>\n",
       "  </thead>\n",
       "  <tbody>\n",
       "    <tr>\n",
       "      <th>0</th>\n",
       "      <td>Cat</td>\n",
       "      <td>0.011765</td>\n",
       "      <td>Male</td>\n",
       "      <td>Small</td>\n",
       "      <td>Short</td>\n",
       "      <td>No</td>\n",
       "      <td>No</td>\n",
       "      <td>No</td>\n",
       "      <td>Healthy</td>\n",
       "      <td>0.0</td>\n",
       "      <td>0.033333</td>\n",
       "      <td>Selangor</td>\n",
       "      <td>0.033333</td>\n",
       "      <td>1</td>\n",
       "      <td>Purebreed</td>\n",
       "      <td>BlackOther</td>\n",
       "      <td>0.130357</td>\n",
       "      <td>0.407143</td>\n",
       "      <td>0.054893</td>\n",
       "      <td>True</td>\n",
       "    </tr>\n",
       "    <tr>\n",
       "      <th>1</th>\n",
       "      <td>Cat</td>\n",
       "      <td>0.003922</td>\n",
       "      <td>Male</td>\n",
       "      <td>Medium</td>\n",
       "      <td>Medium</td>\n",
       "      <td>Not Sure</td>\n",
       "      <td>Not Sure</td>\n",
       "      <td>Not Sure</td>\n",
       "      <td>Healthy</td>\n",
       "      <td>0.0</td>\n",
       "      <td>0.000000</td>\n",
       "      <td>Kuala Lumpur</td>\n",
       "      <td>0.066667</td>\n",
       "      <td>0</td>\n",
       "      <td>Domestic</td>\n",
       "      <td>BlackOther</td>\n",
       "      <td>0.100000</td>\n",
       "      <td>0.400000</td>\n",
       "      <td>0.018298</td>\n",
       "      <td>True</td>\n",
       "    </tr>\n",
       "    <tr>\n",
       "      <th>2</th>\n",
       "      <td>Dog</td>\n",
       "      <td>0.003922</td>\n",
       "      <td>Male</td>\n",
       "      <td>Medium</td>\n",
       "      <td>Medium</td>\n",
       "      <td>Yes</td>\n",
       "      <td>Yes</td>\n",
       "      <td>No</td>\n",
       "      <td>Healthy</td>\n",
       "      <td>0.0</td>\n",
       "      <td>0.000000</td>\n",
       "      <td>Selangor</td>\n",
       "      <td>0.233333</td>\n",
       "      <td>1</td>\n",
       "      <td>Mixed Breed</td>\n",
       "      <td>BrownOther</td>\n",
       "      <td>0.261905</td>\n",
       "      <td>0.542857</td>\n",
       "      <td>0.054893</td>\n",
       "      <td>True</td>\n",
       "    </tr>\n",
       "  </tbody>\n",
       "</table>\n",
       "</div>"
      ],
      "text/plain": [
       "  Type       Age Gender MaturitySize FurLength Vaccinated  Dewormed  \\\n",
       "0  Cat  0.011765   Male        Small     Short         No        No   \n",
       "1  Cat  0.003922   Male       Medium    Medium   Not Sure  Not Sure   \n",
       "2  Dog  0.003922   Male       Medium    Medium        Yes       Yes   \n",
       "\n",
       "  Sterilized   Health  Quantity       Fee         State  PhotoAmt  Hasname  \\\n",
       "0         No  Healthy       0.0  0.033333      Selangor  0.033333        1   \n",
       "1   Not Sure  Healthy       0.0  0.000000  Kuala Lumpur  0.066667        0   \n",
       "2         No  Healthy       0.0  0.000000      Selangor  0.233333        1   \n",
       "\n",
       "         Breed       Color  Polarity  Subjectivity  DescWords  Adopted  \n",
       "0    Purebreed  BlackOther  0.130357      0.407143   0.054893     True  \n",
       "1     Domestic  BlackOther  0.100000      0.400000   0.018298     True  \n",
       "2  Mixed Breed  BrownOther  0.261905      0.542857   0.054893     True  "
      ]
     },
     "execution_count": 11,
     "metadata": {},
     "output_type": "execute_result"
    }
   ],
   "source": [
    "BinaryClassification.head(3)"
   ]
  },
  {
   "cell_type": "code",
   "execution_count": 12,
   "metadata": {},
   "outputs": [],
   "source": [
    "grouped = BinaryClassification.groupby('Type') \n",
    "cat = grouped.get_group('Cat') \n",
    "dog = grouped.get_group('Dog') "
   ]
  },
  {
   "cell_type": "code",
   "execution_count": 13,
   "metadata": {},
   "outputs": [
    {
     "data": {
      "text/plain": [
       "True     4315\n",
       "False    1439\n",
       "Name: Adopted, dtype: int64"
      ]
     },
     "execution_count": 13,
     "metadata": {},
     "output_type": "execute_result"
    }
   ],
   "source": [
    "cat['Adopted'].value_counts()"
   ]
  },
  {
   "cell_type": "code",
   "execution_count": 14,
   "metadata": {},
   "outputs": [],
   "source": [
    "n=min(cat[cat['Adopted']]['Adopted'].count(),cat[~cat['Adopted']]['Adopted'].count())\n",
    "sample_0 = cat.ix[~cat.Adopted].sample(n=n, replace=True, random_state=0)\n",
    "sample_1 = cat.ix[cat.Adopted].sample(n=n, replace=True, random_state=0)\n",
    "cat = pd.concat([sample_0, sample_1 ])"
   ]
  },
  {
   "cell_type": "code",
   "execution_count": 15,
   "metadata": {},
   "outputs": [
    {
     "data": {
      "text/plain": [
       "True     1439\n",
       "False    1439\n",
       "Name: Adopted, dtype: int64"
      ]
     },
     "execution_count": 15,
     "metadata": {},
     "output_type": "execute_result"
    }
   ],
   "source": [
    "cat['Adopted'].value_counts()"
   ]
  },
  {
   "cell_type": "code",
   "execution_count": 16,
   "metadata": {},
   "outputs": [
    {
     "data": {
      "text/plain": [
       "True     5164\n",
       "False    2069\n",
       "Name: Adopted, dtype: int64"
      ]
     },
     "execution_count": 16,
     "metadata": {},
     "output_type": "execute_result"
    }
   ],
   "source": [
    "dog['Adopted'].value_counts()"
   ]
  },
  {
   "cell_type": "code",
   "execution_count": 17,
   "metadata": {},
   "outputs": [],
   "source": [
    "n = n=min(dog[dog['Adopted']]['Adopted'].count(),dog[~dog['Adopted']]['Adopted'].count())\n",
    "sample_0 = dog.ix[~dog.Adopted].sample(n=n, replace=True, random_state=0)\n",
    "sample_1 = dog.ix[dog.Adopted].sample(n=n, replace=True, random_state=0)\n",
    "dog = pd.concat([sample_0, sample_1 ])"
   ]
  },
  {
   "cell_type": "code",
   "execution_count": 18,
   "metadata": {},
   "outputs": [],
   "source": [
    "y_cat = cat['Adopted']\n",
    "y_dog = dog['Adopted']"
   ]
  },
  {
   "cell_type": "code",
   "execution_count": null,
   "metadata": {},
   "outputs": [],
   "source": []
  },
  {
   "cell_type": "code",
   "execution_count": 19,
   "metadata": {},
   "outputs": [],
   "source": [
    "cat.drop([ 'Adopted'], axis=1 , inplace=True)\n",
    "dog.drop([ 'Adopted'], axis=1 , inplace=True)"
   ]
  },
  {
   "cell_type": "code",
   "execution_count": 20,
   "metadata": {},
   "outputs": [],
   "source": [
    "#BinaryClassification.profile_report(style={'full_width':True})"
   ]
  },
  {
   "cell_type": "code",
   "execution_count": 21,
   "metadata": {},
   "outputs": [],
   "source": [
    "one_hot = pd.get_dummies(cat)"
   ]
  },
  {
   "cell_type": "code",
   "execution_count": 22,
   "metadata": {},
   "outputs": [
    {
     "data": {
      "text/html": [
       "<div>\n",
       "<style scoped>\n",
       "    .dataframe tbody tr th:only-of-type {\n",
       "        vertical-align: middle;\n",
       "    }\n",
       "\n",
       "    .dataframe tbody tr th {\n",
       "        vertical-align: top;\n",
       "    }\n",
       "\n",
       "    .dataframe thead th {\n",
       "        text-align: right;\n",
       "    }\n",
       "</style>\n",
       "<table border=\"1\" class=\"dataframe\">\n",
       "  <thead>\n",
       "    <tr style=\"text-align: right;\">\n",
       "      <th></th>\n",
       "      <th>Age</th>\n",
       "      <th>Quantity</th>\n",
       "      <th>Fee</th>\n",
       "      <th>PhotoAmt</th>\n",
       "      <th>Hasname</th>\n",
       "      <th>Polarity</th>\n",
       "      <th>Subjectivity</th>\n",
       "      <th>DescWords</th>\n",
       "      <th>Type_Cat</th>\n",
       "      <th>Gender_Female</th>\n",
       "      <th>...</th>\n",
       "      <th>Color_BrownOther</th>\n",
       "      <th>Color_Cream</th>\n",
       "      <th>Color_CreamOther</th>\n",
       "      <th>Color_Golden</th>\n",
       "      <th>Color_GoldenOther</th>\n",
       "      <th>Color_Gray</th>\n",
       "      <th>Color_GrayOther</th>\n",
       "      <th>Color_White</th>\n",
       "      <th>Color_Yellow</th>\n",
       "      <th>Color_YellowOther</th>\n",
       "    </tr>\n",
       "  </thead>\n",
       "  <tbody>\n",
       "    <tr>\n",
       "      <th>5903</th>\n",
       "      <td>0.019608</td>\n",
       "      <td>0.0</td>\n",
       "      <td>0.00</td>\n",
       "      <td>0.033333</td>\n",
       "      <td>1</td>\n",
       "      <td>0.256667</td>\n",
       "      <td>0.588889</td>\n",
       "      <td>0.046937</td>\n",
       "      <td>1</td>\n",
       "      <td>1</td>\n",
       "      <td>...</td>\n",
       "      <td>0</td>\n",
       "      <td>0</td>\n",
       "      <td>0</td>\n",
       "      <td>0</td>\n",
       "      <td>0</td>\n",
       "      <td>0</td>\n",
       "      <td>0</td>\n",
       "      <td>0</td>\n",
       "      <td>0</td>\n",
       "      <td>0</td>\n",
       "    </tr>\n",
       "    <tr>\n",
       "      <th>4790</th>\n",
       "      <td>0.003922</td>\n",
       "      <td>0.0</td>\n",
       "      <td>0.00</td>\n",
       "      <td>0.133333</td>\n",
       "      <td>0</td>\n",
       "      <td>0.500000</td>\n",
       "      <td>1.000000</td>\n",
       "      <td>0.007160</td>\n",
       "      <td>1</td>\n",
       "      <td>1</td>\n",
       "      <td>...</td>\n",
       "      <td>1</td>\n",
       "      <td>0</td>\n",
       "      <td>0</td>\n",
       "      <td>0</td>\n",
       "      <td>0</td>\n",
       "      <td>0</td>\n",
       "      <td>0</td>\n",
       "      <td>0</td>\n",
       "      <td>0</td>\n",
       "      <td>0</td>\n",
       "    </tr>\n",
       "    <tr>\n",
       "      <th>10980</th>\n",
       "      <td>0.188235</td>\n",
       "      <td>0.0</td>\n",
       "      <td>0.10</td>\n",
       "      <td>0.066667</td>\n",
       "      <td>1</td>\n",
       "      <td>0.295417</td>\n",
       "      <td>0.620556</td>\n",
       "      <td>0.047733</td>\n",
       "      <td>1</td>\n",
       "      <td>1</td>\n",
       "      <td>...</td>\n",
       "      <td>0</td>\n",
       "      <td>0</td>\n",
       "      <td>0</td>\n",
       "      <td>0</td>\n",
       "      <td>0</td>\n",
       "      <td>1</td>\n",
       "      <td>0</td>\n",
       "      <td>0</td>\n",
       "      <td>0</td>\n",
       "      <td>0</td>\n",
       "    </tr>\n",
       "    <tr>\n",
       "      <th>7397</th>\n",
       "      <td>0.086275</td>\n",
       "      <td>0.0</td>\n",
       "      <td>0.03</td>\n",
       "      <td>0.066667</td>\n",
       "      <td>1</td>\n",
       "      <td>0.105844</td>\n",
       "      <td>0.493003</td>\n",
       "      <td>0.606205</td>\n",
       "      <td>1</td>\n",
       "      <td>1</td>\n",
       "      <td>...</td>\n",
       "      <td>0</td>\n",
       "      <td>0</td>\n",
       "      <td>0</td>\n",
       "      <td>0</td>\n",
       "      <td>0</td>\n",
       "      <td>0</td>\n",
       "      <td>0</td>\n",
       "      <td>0</td>\n",
       "      <td>0</td>\n",
       "      <td>0</td>\n",
       "    </tr>\n",
       "    <tr>\n",
       "      <th>6660</th>\n",
       "      <td>0.141176</td>\n",
       "      <td>0.0</td>\n",
       "      <td>0.00</td>\n",
       "      <td>0.166667</td>\n",
       "      <td>1</td>\n",
       "      <td>0.104394</td>\n",
       "      <td>0.540794</td>\n",
       "      <td>0.162291</td>\n",
       "      <td>1</td>\n",
       "      <td>1</td>\n",
       "      <td>...</td>\n",
       "      <td>0</td>\n",
       "      <td>0</td>\n",
       "      <td>0</td>\n",
       "      <td>0</td>\n",
       "      <td>0</td>\n",
       "      <td>0</td>\n",
       "      <td>0</td>\n",
       "      <td>0</td>\n",
       "      <td>0</td>\n",
       "      <td>0</td>\n",
       "    </tr>\n",
       "    <tr>\n",
       "      <th>...</th>\n",
       "      <td>...</td>\n",
       "      <td>...</td>\n",
       "      <td>...</td>\n",
       "      <td>...</td>\n",
       "      <td>...</td>\n",
       "      <td>...</td>\n",
       "      <td>...</td>\n",
       "      <td>...</td>\n",
       "      <td>...</td>\n",
       "      <td>...</td>\n",
       "      <td>...</td>\n",
       "      <td>...</td>\n",
       "      <td>...</td>\n",
       "      <td>...</td>\n",
       "      <td>...</td>\n",
       "      <td>...</td>\n",
       "      <td>...</td>\n",
       "      <td>...</td>\n",
       "      <td>...</td>\n",
       "      <td>...</td>\n",
       "      <td>...</td>\n",
       "    </tr>\n",
       "    <tr>\n",
       "      <th>10679</th>\n",
       "      <td>0.011765</td>\n",
       "      <td>0.0</td>\n",
       "      <td>0.00</td>\n",
       "      <td>0.133333</td>\n",
       "      <td>1</td>\n",
       "      <td>0.000000</td>\n",
       "      <td>0.000000</td>\n",
       "      <td>0.038186</td>\n",
       "      <td>1</td>\n",
       "      <td>0</td>\n",
       "      <td>...</td>\n",
       "      <td>0</td>\n",
       "      <td>0</td>\n",
       "      <td>0</td>\n",
       "      <td>0</td>\n",
       "      <td>0</td>\n",
       "      <td>0</td>\n",
       "      <td>0</td>\n",
       "      <td>0</td>\n",
       "      <td>0</td>\n",
       "      <td>0</td>\n",
       "    </tr>\n",
       "    <tr>\n",
       "      <th>11200</th>\n",
       "      <td>0.011765</td>\n",
       "      <td>0.0</td>\n",
       "      <td>0.01</td>\n",
       "      <td>0.266667</td>\n",
       "      <td>1</td>\n",
       "      <td>0.174502</td>\n",
       "      <td>0.568982</td>\n",
       "      <td>0.280032</td>\n",
       "      <td>1</td>\n",
       "      <td>1</td>\n",
       "      <td>...</td>\n",
       "      <td>1</td>\n",
       "      <td>0</td>\n",
       "      <td>0</td>\n",
       "      <td>0</td>\n",
       "      <td>0</td>\n",
       "      <td>0</td>\n",
       "      <td>0</td>\n",
       "      <td>0</td>\n",
       "      <td>0</td>\n",
       "      <td>0</td>\n",
       "    </tr>\n",
       "    <tr>\n",
       "      <th>8440</th>\n",
       "      <td>0.047059</td>\n",
       "      <td>0.0</td>\n",
       "      <td>0.00</td>\n",
       "      <td>0.033333</td>\n",
       "      <td>0</td>\n",
       "      <td>0.608333</td>\n",
       "      <td>0.816667</td>\n",
       "      <td>0.005569</td>\n",
       "      <td>1</td>\n",
       "      <td>0</td>\n",
       "      <td>...</td>\n",
       "      <td>0</td>\n",
       "      <td>0</td>\n",
       "      <td>0</td>\n",
       "      <td>0</td>\n",
       "      <td>0</td>\n",
       "      <td>0</td>\n",
       "      <td>0</td>\n",
       "      <td>0</td>\n",
       "      <td>0</td>\n",
       "      <td>0</td>\n",
       "    </tr>\n",
       "    <tr>\n",
       "      <th>807</th>\n",
       "      <td>0.007843</td>\n",
       "      <td>0.0</td>\n",
       "      <td>0.00</td>\n",
       "      <td>0.100000</td>\n",
       "      <td>1</td>\n",
       "      <td>-0.016667</td>\n",
       "      <td>0.500000</td>\n",
       "      <td>0.002387</td>\n",
       "      <td>1</td>\n",
       "      <td>0</td>\n",
       "      <td>...</td>\n",
       "      <td>0</td>\n",
       "      <td>0</td>\n",
       "      <td>0</td>\n",
       "      <td>0</td>\n",
       "      <td>1</td>\n",
       "      <td>0</td>\n",
       "      <td>0</td>\n",
       "      <td>0</td>\n",
       "      <td>0</td>\n",
       "      <td>0</td>\n",
       "    </tr>\n",
       "    <tr>\n",
       "      <th>11038</th>\n",
       "      <td>0.023529</td>\n",
       "      <td>0.0</td>\n",
       "      <td>0.00</td>\n",
       "      <td>0.133333</td>\n",
       "      <td>1</td>\n",
       "      <td>0.000000</td>\n",
       "      <td>0.000000</td>\n",
       "      <td>0.002387</td>\n",
       "      <td>1</td>\n",
       "      <td>0</td>\n",
       "      <td>...</td>\n",
       "      <td>0</td>\n",
       "      <td>0</td>\n",
       "      <td>0</td>\n",
       "      <td>0</td>\n",
       "      <td>0</td>\n",
       "      <td>0</td>\n",
       "      <td>0</td>\n",
       "      <td>0</td>\n",
       "      <td>0</td>\n",
       "      <td>0</td>\n",
       "    </tr>\n",
       "  </tbody>\n",
       "</table>\n",
       "<p>2878 rows × 60 columns</p>\n",
       "</div>"
      ],
      "text/plain": [
       "            Age  Quantity   Fee  PhotoAmt  Hasname  Polarity  Subjectivity  \\\n",
       "5903   0.019608       0.0  0.00  0.033333        1  0.256667      0.588889   \n",
       "4790   0.003922       0.0  0.00  0.133333        0  0.500000      1.000000   \n",
       "10980  0.188235       0.0  0.10  0.066667        1  0.295417      0.620556   \n",
       "7397   0.086275       0.0  0.03  0.066667        1  0.105844      0.493003   \n",
       "6660   0.141176       0.0  0.00  0.166667        1  0.104394      0.540794   \n",
       "...         ...       ...   ...       ...      ...       ...           ...   \n",
       "10679  0.011765       0.0  0.00  0.133333        1  0.000000      0.000000   \n",
       "11200  0.011765       0.0  0.01  0.266667        1  0.174502      0.568982   \n",
       "8440   0.047059       0.0  0.00  0.033333        0  0.608333      0.816667   \n",
       "807    0.007843       0.0  0.00  0.100000        1 -0.016667      0.500000   \n",
       "11038  0.023529       0.0  0.00  0.133333        1  0.000000      0.000000   \n",
       "\n",
       "       DescWords  Type_Cat  Gender_Female  ...  Color_BrownOther  Color_Cream  \\\n",
       "5903    0.046937         1              1  ...                 0            0   \n",
       "4790    0.007160         1              1  ...                 1            0   \n",
       "10980   0.047733         1              1  ...                 0            0   \n",
       "7397    0.606205         1              1  ...                 0            0   \n",
       "6660    0.162291         1              1  ...                 0            0   \n",
       "...          ...       ...            ...  ...               ...          ...   \n",
       "10679   0.038186         1              0  ...                 0            0   \n",
       "11200   0.280032         1              1  ...                 1            0   \n",
       "8440    0.005569         1              0  ...                 0            0   \n",
       "807     0.002387         1              0  ...                 0            0   \n",
       "11038   0.002387         1              0  ...                 0            0   \n",
       "\n",
       "       Color_CreamOther  Color_Golden  Color_GoldenOther  Color_Gray  \\\n",
       "5903                  0             0                  0           0   \n",
       "4790                  0             0                  0           0   \n",
       "10980                 0             0                  0           1   \n",
       "7397                  0             0                  0           0   \n",
       "6660                  0             0                  0           0   \n",
       "...                 ...           ...                ...         ...   \n",
       "10679                 0             0                  0           0   \n",
       "11200                 0             0                  0           0   \n",
       "8440                  0             0                  0           0   \n",
       "807                   0             0                  1           0   \n",
       "11038                 0             0                  0           0   \n",
       "\n",
       "       Color_GrayOther  Color_White  Color_Yellow  Color_YellowOther  \n",
       "5903                 0            0             0                  0  \n",
       "4790                 0            0             0                  0  \n",
       "10980                0            0             0                  0  \n",
       "7397                 0            0             0                  0  \n",
       "6660                 0            0             0                  0  \n",
       "...                ...          ...           ...                ...  \n",
       "10679                0            0             0                  0  \n",
       "11200                0            0             0                  0  \n",
       "8440                 0            0             0                  0  \n",
       "807                  0            0             0                  0  \n",
       "11038                0            0             0                  0  \n",
       "\n",
       "[2878 rows x 60 columns]"
      ]
     },
     "execution_count": 22,
     "metadata": {},
     "output_type": "execute_result"
    }
   ],
   "source": [
    "one_hot"
   ]
  },
  {
   "cell_type": "code",
   "execution_count": 23,
   "metadata": {},
   "outputs": [],
   "source": [
    "X_train, X_test, y_train, y_test = train_test_split(one_hot, y_cat, test_size=0.20, shuffle = True)"
   ]
  },
  {
   "cell_type": "code",
   "execution_count": 24,
   "metadata": {},
   "outputs": [],
   "source": [
    "def plot_confusion_matrix(cm, classes,\n",
    "                          normalize=False,\n",
    "                          title='Confusion matrix',\n",
    "                          cmap=plt.cm.Blues):\n",
    "    \"\"\"\n",
    "    See full source and example: \n",
    "    http://scikit-learn.org/stable/auto_examples/model_selection/plot_confusion_matrix.html\n",
    "    \n",
    "    This function prints and plots the confusion matrix.\n",
    "    Normalization can be applied by setting `normalize=True`.\n",
    "    \"\"\"\n",
    "    plt.imshow(cm, interpolation='nearest', cmap=cmap)\n",
    "    plt.title(title)\n",
    "    plt.colorbar()\n",
    "    tick_marks = np.arange(len(classes))\n",
    "    plt.xticks(tick_marks, classes, rotation=45)\n",
    "    plt.yticks(tick_marks, classes)\n",
    "\n",
    "    if normalize:\n",
    "        cm = cm.astype('float') / cm.sum(axis=1)[:, np.newaxis]\n",
    "        print(\"Normalized confusion matrix\")\n",
    "    else:\n",
    "        print('Confusion matrix, without normalization')\n",
    "\n",
    "    thresh = cm.max() / 2.\n",
    "    for i, j in itertools.product(range(cm.shape[0]), range(cm.shape[1])):\n",
    "        plt.text(j, i, cm[i, j],\n",
    "                 horizontalalignment=\"center\",\n",
    "                 color=\"white\" if cm[i, j] > thresh else \"black\")\n",
    "\n",
    "    plt.tight_layout()\n",
    "    plt.ylabel('True label')\n",
    "    plt.xlabel('Predicted label')"
   ]
  },
  {
   "cell_type": "markdown",
   "metadata": {},
   "source": [
    "## 1.2. Learning Classifiers"
   ]
  },
  {
   "cell_type": "markdown",
   "metadata": {},
   "source": [
    "## Results on Cat Data"
   ]
  },
  {
   "cell_type": "markdown",
   "metadata": {},
   "source": [
    "### Decision Tree Classifier"
   ]
  },
  {
   "cell_type": "code",
   "execution_count": 25,
   "metadata": {},
   "outputs": [
    {
     "name": "stdout",
     "output_type": "stream",
     "text": [
      "# Tuning hyper-parameters for accuracy\n",
      "\n",
      "Best parameters set found on Train set:\n",
      "\n",
      "{'criterion': 'gini', 'max_leaf_nodes': 80}\n",
      "\n",
      "Grid scores on Train set:\n",
      "\n",
      "0.662 (+/-0.033) for {'criterion': 'gini', 'max_leaf_nodes': 20}\n",
      "0.663 (+/-0.046) for {'criterion': 'gini', 'max_leaf_nodes': 40}\n",
      "0.677 (+/-0.036) for {'criterion': 'gini', 'max_leaf_nodes': 80}\n",
      "0.661 (+/-0.042) for {'criterion': 'entropy', 'max_leaf_nodes': 20}\n",
      "0.662 (+/-0.045) for {'criterion': 'entropy', 'max_leaf_nodes': 40}\n",
      "0.674 (+/-0.051) for {'criterion': 'entropy', 'max_leaf_nodes': 80}\n",
      "\n",
      "Detailed classification report on Test Set:\n",
      "              precision    recall  f1-score   support\n",
      "\n",
      "           0       0.73      0.67      0.70       299\n",
      "           1       0.67      0.73      0.70       277\n",
      "\n",
      "    accuracy                           0.70       576\n",
      "   macro avg       0.70      0.70      0.70       576\n",
      "weighted avg       0.70      0.70      0.70       576\n",
      "\n",
      "\n"
     ]
    }
   ],
   "source": [
    "# Set the parameters by cross-validation\n",
    "tuned_parameters = [{'criterion':['gini','entropy'],'max_leaf_nodes': [20,40,80]}]\n",
    "\n",
    "scores = ['accuracy']\n",
    "\n",
    "for score in scores:\n",
    "    print(\"# Tuning hyper-parameters for %s\" % score)\n",
    "    print()\n",
    "\n",
    "    clf_DTC = GridSearchCV(\n",
    "        DecisionTreeClassifier(), tuned_parameters, cv=5, scoring='%s' % score)\n",
    "    clf_DTC.fit(X_train, y_train)\n",
    "\n",
    "    print(\"Best parameters set found on Train set:\")\n",
    "    print()\n",
    "    print(clf_DTC.best_params_)\n",
    "    print()\n",
    "    print(\"Grid scores on Train set:\")\n",
    "    print()\n",
    "    means = clf_DTC.cv_results_['mean_test_score']\n",
    "    stds = clf_DTC.cv_results_['std_test_score']\n",
    "    for mean, std, params in zip(means, stds, clf_DTC.cv_results_['params']):\n",
    "        print(\"%0.3f (+/-%0.03f) for %r\"\n",
    "              % (mean, std * 2, params))\n",
    "    print()\n",
    "\n",
    "    print(\"Detailed classification report on Test Set:\")\n",
    "    pred = clf_DTC.predict(X_test)\n",
    "    print(classification_report(y_test, pred,target_names=['0' , '1']))\n",
    "    print()"
   ]
  },
  {
   "cell_type": "code",
   "execution_count": 26,
   "metadata": {},
   "outputs": [
    {
     "data": {
      "text/html": [
       "<img src=\"clf_DTC.png?540744673\" alt=\"clf_DTC.png\" height=\"100\">"
      ],
      "text/plain": [
       "<IPython.core.display.HTML object>"
      ]
     },
     "metadata": {},
     "output_type": "display_data"
    }
   ],
   "source": [
    "clf_DTC = DecisionTreeClassifier(criterion='gini',max_leaf_nodes=80)\n",
    "clf_DTC.fit(X_train, y_train)\n",
    "dot_data = tree.export_graphviz(clf_DTC, out_file=\"clf_DTC.dot\",\n",
    "                                feature_names=one_hot.columns,\n",
    "                                class_names=['0' , '1'],\n",
    "                                filled=True, rounded=True,\n",
    "                                special_characters=True)\n",
    "(clf_DTC_graph,) = pydot.graph_from_dot_file('clf_DTC.dot')\n",
    "clf_DTC_graph.write_png('clf_DTC.png')\n",
    "display(HTML('<img src=\"clf_DTC.png?%d\" alt=\"clf_DTC.png\" height=\"100\">' % random.randint(0,2e9)))"
   ]
  },
  {
   "cell_type": "code",
   "execution_count": 27,
   "metadata": {},
   "outputs": [],
   "source": [
    "scores = cross_val_score(clf_DTC, X_train, y_train, cv=5)"
   ]
  },
  {
   "cell_type": "code",
   "execution_count": 28,
   "metadata": {},
   "outputs": [
    {
     "name": "stdout",
     "output_type": "stream",
     "text": [
      "Accuracy: 0.68 (+/- 0.04)\n"
     ]
    }
   ],
   "source": [
    "print(\"Accuracy: %0.2f (+/- %0.2f)\" % (scores.mean(), scores.std() * 2))"
   ]
  },
  {
   "cell_type": "code",
   "execution_count": 29,
   "metadata": {},
   "outputs": [
    {
     "name": "stdout",
     "output_type": "stream",
     "text": [
      "              precision    recall  f1-score   support\n",
      "\n",
      "           1       0.72      0.67      0.69       299\n",
      "           0       0.67      0.73      0.70       277\n",
      "\n",
      "    accuracy                           0.69       576\n",
      "   macro avg       0.70      0.70      0.69       576\n",
      "weighted avg       0.70      0.69      0.69       576\n",
      "\n"
     ]
    }
   ],
   "source": [
    "pred = clf_DTC.predict(X_test)\n",
    "#generate classification report\n",
    "print(classification_report(y_test, pred, target_names=['1', '0']))"
   ]
  },
  {
   "cell_type": "code",
   "execution_count": 30,
   "metadata": {},
   "outputs": [
    {
     "name": "stdout",
     "output_type": "stream",
     "text": [
      "Confusion matrix, without normalization\n"
     ]
    },
    {
     "data": {
      "image/png": "[encoded data removed]",
      "text/plain": [
       "<Figure size 432x288 with 2 Axes>"
      ]
     },
     "metadata": {
      "needs_background": "light"
     },
     "output_type": "display_data"
    }
   ],
   "source": [
    "cm = metrics.confusion_matrix(y_test, pred, labels=[1, 0])\n",
    "plot_confusion_matrix(cm, classes=[1, 0])"
   ]
  },
  {
   "cell_type": "markdown",
   "metadata": {},
   "source": [
    "### Linear SVM"
   ]
  },
  {
   "cell_type": "code",
   "execution_count": 31,
   "metadata": {},
   "outputs": [
    {
     "name": "stdout",
     "output_type": "stream",
     "text": [
      "# Tuning hyper-parameters for accuracy\n",
      "\n",
      "Best parameters set found on Train set:\n",
      "\n",
      "{'alpha': 0.001, 'loss': 'hinge', 'penalty': 'l2'}\n",
      "\n",
      "Grid scores on Train set:\n",
      "\n",
      "0.616 (+/-0.035) for {'alpha': 0.1, 'loss': 'hinge', 'penalty': 'l2'}\n",
      "0.505 (+/-0.001) for {'alpha': 0.1, 'loss': 'hinge', 'penalty': 'l1'}\n",
      "0.549 (+/-0.078) for {'alpha': 0.1, 'loss': 'squared_hinge', 'penalty': 'l2'}\n",
      "0.589 (+/-0.047) for {'alpha': 0.1, 'loss': 'squared_hinge', 'penalty': 'l1'}\n",
      "0.613 (+/-0.031) for {'alpha': 0.01, 'loss': 'hinge', 'penalty': 'l2'}\n",
      "0.612 (+/-0.029) for {'alpha': 0.01, 'loss': 'hinge', 'penalty': 'l1'}\n",
      "0.554 (+/-0.055) for {'alpha': 0.01, 'loss': 'squared_hinge', 'penalty': 'l2'}\n",
      "0.588 (+/-0.023) for {'alpha': 0.01, 'loss': 'squared_hinge', 'penalty': 'l1'}\n",
      "0.638 (+/-0.023) for {'alpha': 0.001, 'loss': 'hinge', 'penalty': 'l2'}\n",
      "0.637 (+/-0.050) for {'alpha': 0.001, 'loss': 'hinge', 'penalty': 'l1'}\n",
      "0.585 (+/-0.019) for {'alpha': 0.001, 'loss': 'squared_hinge', 'penalty': 'l2'}\n",
      "0.606 (+/-0.052) for {'alpha': 0.001, 'loss': 'squared_hinge', 'penalty': 'l1'}\n",
      "0.606 (+/-0.064) for {'alpha': 0.0001, 'loss': 'hinge', 'penalty': 'l2'}\n",
      "0.606 (+/-0.066) for {'alpha': 0.0001, 'loss': 'hinge', 'penalty': 'l1'}\n",
      "0.566 (+/-0.041) for {'alpha': 0.0001, 'loss': 'squared_hinge', 'penalty': 'l2'}\n",
      "0.591 (+/-0.065) for {'alpha': 0.0001, 'loss': 'squared_hinge', 'penalty': 'l1'}\n",
      "0.583 (+/-0.103) for {'alpha': 1e-05, 'loss': 'hinge', 'penalty': 'l2'}\n",
      "0.606 (+/-0.063) for {'alpha': 1e-05, 'loss': 'hinge', 'penalty': 'l1'}\n",
      "0.577 (+/-0.066) for {'alpha': 1e-05, 'loss': 'squared_hinge', 'penalty': 'l2'}\n",
      "0.590 (+/-0.068) for {'alpha': 1e-05, 'loss': 'squared_hinge', 'penalty': 'l1'}\n",
      "0.582 (+/-0.083) for {'alpha': 1e-06, 'loss': 'hinge', 'penalty': 'l2'}\n",
      "0.587 (+/-0.054) for {'alpha': 1e-06, 'loss': 'hinge', 'penalty': 'l1'}\n",
      "0.566 (+/-0.058) for {'alpha': 1e-06, 'loss': 'squared_hinge', 'penalty': 'l2'}\n",
      "0.563 (+/-0.068) for {'alpha': 1e-06, 'loss': 'squared_hinge', 'penalty': 'l1'}\n",
      "\n",
      "Detailed classification report on Test Set:\n",
      "              precision    recall  f1-score   support\n",
      "\n",
      "           0       0.69      0.48      0.57       299\n",
      "           1       0.58      0.76      0.66       277\n",
      "\n",
      "    accuracy                           0.62       576\n",
      "   macro avg       0.63      0.62      0.61       576\n",
      "weighted avg       0.63      0.62      0.61       576\n",
      "\n",
      "\n"
     ]
    }
   ],
   "source": [
    "# Set the parameters by cross-validation\n",
    "tuned_parameters = [{'loss':['hinge','squared_hinge'],'alpha': 10.0**-np.arange(1,7),'penalty':['l2','l1']}]\n",
    "\n",
    "scores = ['accuracy']\n",
    "\n",
    "for score in scores:\n",
    "    print(\"# Tuning hyper-parameters for %s\" % score)\n",
    "    print()\n",
    "\n",
    "    sgd_clf = GridSearchCV(\n",
    "        SGDClassifier(max_iter= np.ceil(10**6 / X_train.shape[0])), tuned_parameters, cv=5, scoring='%s' % score)\n",
    "    sgd_clf.fit(X_train, y_train)\n",
    "\n",
    "    print(\"Best parameters set found on Train set:\")\n",
    "    print()\n",
    "    print(sgd_clf.best_params_)\n",
    "    print()\n",
    "    print(\"Grid scores on Train set:\")\n",
    "    print()\n",
    "    means = sgd_clf.cv_results_['mean_test_score']\n",
    "    stds = sgd_clf.cv_results_['std_test_score']\n",
    "    for mean, std, params in zip(means, stds, sgd_clf.cv_results_['params']):\n",
    "        print(\"%0.3f (+/-%0.03f) for %r\"\n",
    "              % (mean, std * 2, params))\n",
    "    print()\n",
    "\n",
    "    print(\"Detailed classification report on Test Set:\")\n",
    "    pred = sgd_clf.predict(X_test)\n",
    "    print(classification_report(y_test, pred,target_names=['0' , '1']))\n",
    "    print()"
   ]
  },
  {
   "cell_type": "code",
   "execution_count": 32,
   "metadata": {},
   "outputs": [
    {
     "name": "stdout",
     "output_type": "stream",
     "text": [
      "Confusion matrix, without normalization\n"
     ]
    },
    {
     "data": {
      "image/png": "[encoded data removed]",
      "text/plain": [
       "<Figure size 432x288 with 2 Axes>"
      ]
     },
     "metadata": {
      "needs_background": "light"
     },
     "output_type": "display_data"
    }
   ],
   "source": [
    "cm = metrics.confusion_matrix(y_test, pred, labels=[0, 1])\n",
    "plot_confusion_matrix(cm, classes=[0, 1])"
   ]
  },
  {
   "cell_type": "markdown",
   "metadata": {},
   "source": [
    "### Logistic Regression"
   ]
  },
  {
   "cell_type": "code",
   "execution_count": 33,
   "metadata": {},
   "outputs": [
    {
     "name": "stdout",
     "output_type": "stream",
     "text": [
      "# Tuning hyper-parameters for accuracy\n",
      "\n",
      "Best parameters set found on Train set:\n",
      "\n",
      "{'C': 1000.0, 'penalty': 'l2', 'solver': 'liblinear'}\n",
      "\n",
      "Grid scores on Train set:\n",
      "\n",
      "0.638 (+/-0.044) for {'C': 1.0, 'penalty': 'l2', 'solver': 'liblinear'}\n",
      "0.639 (+/-0.045) for {'C': 1.0, 'penalty': 'l2', 'solver': 'lbfgs'}\n",
      "0.642 (+/-0.053) for {'C': 1.0, 'penalty': 'l1', 'solver': 'liblinear'}\n",
      "nan (+/-nan) for {'C': 1.0, 'penalty': 'l1', 'solver': 'lbfgs'}\n",
      "0.645 (+/-0.047) for {'C': 10.0, 'penalty': 'l2', 'solver': 'liblinear'}\n",
      "0.645 (+/-0.047) for {'C': 10.0, 'penalty': 'l2', 'solver': 'lbfgs'}\n",
      "0.645 (+/-0.054) for {'C': 10.0, 'penalty': 'l1', 'solver': 'liblinear'}\n",
      "nan (+/-nan) for {'C': 10.0, 'penalty': 'l1', 'solver': 'lbfgs'}\n",
      "0.644 (+/-0.056) for {'C': 100.0, 'penalty': 'l2', 'solver': 'liblinear'}\n",
      "0.644 (+/-0.056) for {'C': 100.0, 'penalty': 'l2', 'solver': 'lbfgs'}\n",
      "0.645 (+/-0.054) for {'C': 100.0, 'penalty': 'l1', 'solver': 'liblinear'}\n",
      "nan (+/-nan) for {'C': 100.0, 'penalty': 'l1', 'solver': 'lbfgs'}\n",
      "0.645 (+/-0.055) for {'C': 1000.0, 'penalty': 'l2', 'solver': 'liblinear'}\n",
      "0.645 (+/-0.055) for {'C': 1000.0, 'penalty': 'l2', 'solver': 'lbfgs'}\n",
      "0.645 (+/-0.054) for {'C': 1000.0, 'penalty': 'l1', 'solver': 'liblinear'}\n",
      "nan (+/-nan) for {'C': 1000.0, 'penalty': 'l1', 'solver': 'lbfgs'}\n",
      "0.645 (+/-0.054) for {'C': 10000.0, 'penalty': 'l2', 'solver': 'liblinear'}\n",
      "0.645 (+/-0.054) for {'C': 10000.0, 'penalty': 'l2', 'solver': 'lbfgs'}\n",
      "0.645 (+/-0.054) for {'C': 10000.0, 'penalty': 'l1', 'solver': 'liblinear'}\n",
      "nan (+/-nan) for {'C': 10000.0, 'penalty': 'l1', 'solver': 'lbfgs'}\n",
      "0.645 (+/-0.054) for {'C': 100000.0, 'penalty': 'l2', 'solver': 'liblinear'}\n",
      "0.645 (+/-0.054) for {'C': 100000.0, 'penalty': 'l2', 'solver': 'lbfgs'}\n",
      "0.645 (+/-0.054) for {'C': 100000.0, 'penalty': 'l1', 'solver': 'liblinear'}\n",
      "nan (+/-nan) for {'C': 100000.0, 'penalty': 'l1', 'solver': 'lbfgs'}\n",
      "0.645 (+/-0.054) for {'C': 1000000.0, 'penalty': 'l2', 'solver': 'liblinear'}\n",
      "0.644 (+/-0.053) for {'C': 1000000.0, 'penalty': 'l2', 'solver': 'lbfgs'}\n",
      "0.645 (+/-0.054) for {'C': 1000000.0, 'penalty': 'l1', 'solver': 'liblinear'}\n",
      "nan (+/-nan) for {'C': 1000000.0, 'penalty': 'l1', 'solver': 'lbfgs'}\n",
      "\n",
      "Detailed classification report on Test Set:\n",
      "              precision    recall  f1-score   support\n",
      "\n",
      "           0       0.67      0.61      0.64       299\n",
      "           1       0.61      0.68      0.64       277\n",
      "\n",
      "    accuracy                           0.64       576\n",
      "   macro avg       0.64      0.64      0.64       576\n",
      "weighted avg       0.64      0.64      0.64       576\n",
      "\n",
      "\n"
     ]
    }
   ],
   "source": [
    "# Set the parameters by cross-validation\n",
    "tuned_parameters = [{'C': 10.0**np.arange(0,7),'penalty':['l2','l1'],'solver':['liblinear','lbfgs']}]\n",
    "\n",
    "scores = ['accuracy']\n",
    "\n",
    "for score in scores:\n",
    "    print(\"# Tuning hyper-parameters for %s\" % score)\n",
    "    print()\n",
    "\n",
    "    lr_clf = GridSearchCV(\n",
    "        LogisticRegression(max_iter= np.ceil(10**6 / X_train.shape[0])), tuned_parameters, cv=5, scoring='%s' % score)\n",
    "    lr_clf.fit(X_train, y_train)\n",
    "\n",
    "    print(\"Best parameters set found on Train set:\")\n",
    "    print()\n",
    "    print(lr_clf.best_params_)\n",
    "    print()\n",
    "    print(\"Grid scores on Train set:\")\n",
    "    print()\n",
    "    means = lr_clf.cv_results_['mean_test_score']\n",
    "    stds = lr_clf.cv_results_['std_test_score']\n",
    "    for mean, std, params in zip(means, stds, lr_clf.cv_results_['params']):\n",
    "        print(\"%0.3f (+/-%0.03f) for %r\"\n",
    "              % (mean, std * 2, params))\n",
    "    print()\n",
    "\n",
    "    print(\"Detailed classification report on Test Set:\")\n",
    "    pred = lr_clf.predict(X_test)\n",
    "    print(classification_report(y_test, pred,target_names=['0' , '1']))\n",
    "    print()"
   ]
  },
  {
   "cell_type": "code",
   "execution_count": 34,
   "metadata": {},
   "outputs": [
    {
     "name": "stdout",
     "output_type": "stream",
     "text": [
      "Confusion matrix, without normalization\n"
     ]
    },
    {
     "data": {
      "image/png": "[encoded data removed]",
      "text/plain": [
       "<Figure size 432x288 with 2 Axes>"
      ]
     },
     "metadata": {
      "needs_background": "light"
     },
     "output_type": "display_data"
    }
   ],
   "source": [
    "cm = metrics.confusion_matrix(y_test, pred, labels=[0, 1])\n",
    "plot_confusion_matrix(cm, classes=[0, 1])"
   ]
  },
  {
   "cell_type": "markdown",
   "metadata": {},
   "source": [
    "### Random Forest Classifier"
   ]
  },
  {
   "cell_type": "code",
   "execution_count": 35,
   "metadata": {},
   "outputs": [
    {
     "name": "stdout",
     "output_type": "stream",
     "text": [
      "# Tuning hyper-parameters for accuracy\n",
      "\n",
      "Best parameters set found on Train set:\n",
      "\n",
      "{'n_estimators': 400}\n",
      "\n",
      "Grid scores on Train set:\n",
      "\n",
      "0.777 (+/-0.034) for {'n_estimators': 400}\n",
      "0.775 (+/-0.030) for {'n_estimators': 500}\n",
      "\n",
      "Detailed classification report on Test Set:\n",
      "              precision    recall  f1-score   support\n",
      "\n",
      "           0       0.83      0.85      0.84       299\n",
      "           1       0.84      0.81      0.82       277\n",
      "\n",
      "    accuracy                           0.83       576\n",
      "   macro avg       0.83      0.83      0.83       576\n",
      "weighted avg       0.83      0.83      0.83       576\n",
      "\n",
      "\n"
     ]
    }
   ],
   "source": [
    "# Set the parameters by cross-validation\n",
    "tuned_parameters = [{'n_estimators': [400,500]}]\n",
    "\n",
    "scores = ['accuracy']\n",
    "\n",
    "for score in scores:\n",
    "    print(\"# Tuning hyper-parameters for %s\" % score)\n",
    "    print()\n",
    "\n",
    "    rf_clf = GridSearchCV(\n",
    "        RandomForestClassifier(), tuned_parameters, cv=5, scoring='%s' % score)\n",
    "    rf_clf.fit(X_train, y_train)\n",
    "\n",
    "    print(\"Best parameters set found on Train set:\")\n",
    "    print()\n",
    "    print(rf_clf.best_params_)\n",
    "    print()\n",
    "    print(\"Grid scores on Train set:\")\n",
    "    print()\n",
    "    means = rf_clf.cv_results_['mean_test_score']\n",
    "    stds = rf_clf.cv_results_['std_test_score']\n",
    "    for mean, std, params in zip(means, stds, rf_clf.cv_results_['params']):\n",
    "        print(\"%0.3f (+/-%0.03f) for %r\"\n",
    "              % (mean, std * 2, params))\n",
    "    print()\n",
    "\n",
    "    print(\"Detailed classification report on Test Set:\")\n",
    "    pred = rf_clf.predict(X_test)\n",
    "    print(classification_report(y_test, pred,target_names=['0' , '1']))\n",
    "    print()"
   ]
  },
  {
   "cell_type": "code",
   "execution_count": 36,
   "metadata": {},
   "outputs": [
    {
     "name": "stdout",
     "output_type": "stream",
     "text": [
      "Confusion matrix, without normalization\n"
     ]
    },
    {
     "data": {
      "image/png": "[encoded data removed]",
      "text/plain": [
       "<Figure size 432x288 with 2 Axes>"
      ]
     },
     "metadata": {
      "needs_background": "light"
     },
     "output_type": "display_data"
    }
   ],
   "source": [
    "cm = metrics.confusion_matrix(y_test, pred, labels=[0, 1])\n",
    "plot_confusion_matrix(cm, classes=[0, 1])"
   ]
  },
  {
   "cell_type": "markdown",
   "metadata": {},
   "source": [
    "### KNN Classifier"
   ]
  },
  {
   "cell_type": "code",
   "execution_count": 37,
   "metadata": {},
   "outputs": [
    {
     "name": "stdout",
     "output_type": "stream",
     "text": [
      "# Tuning hyper-parameters for accuracy\n",
      "\n",
      "Best parameters set found on Train set:\n",
      "\n",
      "{'n_neighbors': 20, 'weights': 'distance'}\n",
      "\n",
      "Grid scores on Train set:\n",
      "\n",
      "0.620 (+/-0.032) for {'n_neighbors': 5, 'weights': 'uniform'}\n",
      "0.710 (+/-0.030) for {'n_neighbors': 5, 'weights': 'distance'}\n",
      "0.597 (+/-0.043) for {'n_neighbors': 10, 'weights': 'uniform'}\n",
      "0.717 (+/-0.034) for {'n_neighbors': 10, 'weights': 'distance'}\n",
      "0.597 (+/-0.038) for {'n_neighbors': 20, 'weights': 'uniform'}\n",
      "0.718 (+/-0.028) for {'n_neighbors': 20, 'weights': 'distance'}\n",
      "\n",
      "Detailed classification report on Test Set:\n",
      "              precision    recall  f1-score   support\n",
      "\n",
      "           0       0.75      0.77      0.76       299\n",
      "           1       0.75      0.72      0.73       277\n",
      "\n",
      "    accuracy                           0.75       576\n",
      "   macro avg       0.75      0.75      0.75       576\n",
      "weighted avg       0.75      0.75      0.75       576\n",
      "\n",
      "\n"
     ]
    }
   ],
   "source": [
    "# Set the parameters by cross-validation\n",
    "tuned_parameters = [{'n_neighbors': [5,10,20],'weights':['uniform','distance']}]\n",
    "\n",
    "scores = ['accuracy']\n",
    "\n",
    "for score in scores:\n",
    "    print(\"# Tuning hyper-parameters for %s\" % score)\n",
    "    print()\n",
    "\n",
    "    knn_clf = GridSearchCV(\n",
    "        KNeighborsClassifier(), tuned_parameters, cv=5, scoring='%s' % score)\n",
    "    knn_clf.fit(X_train, y_train)\n",
    "\n",
    "    print(\"Best parameters set found on Train set:\")\n",
    "    print()\n",
    "    print(knn_clf.best_params_)\n",
    "    print()\n",
    "    print(\"Grid scores on Train set:\")\n",
    "    print()\n",
    "    means = knn_clf.cv_results_['mean_test_score']\n",
    "    stds = knn_clf.cv_results_['std_test_score']\n",
    "    for mean, std, params in zip(means, stds, knn_clf.cv_results_['params']):\n",
    "        print(\"%0.3f (+/-%0.03f) for %r\"\n",
    "              % (mean, std * 2, params))\n",
    "    print()\n",
    "\n",
    "    print(\"Detailed classification report on Test Set:\")\n",
    "    pred = knn_clf.predict(X_test)\n",
    "    print(classification_report(y_test, pred,target_names=['0' , '1']))\n",
    "    print()"
   ]
  },
  {
   "cell_type": "code",
   "execution_count": 38,
   "metadata": {},
   "outputs": [
    {
     "name": "stdout",
     "output_type": "stream",
     "text": [
      "Confusion matrix, without normalization\n"
     ]
    },
    {
     "data": {
      "image/png": "[encoded data removed]",
      "text/plain": [
       "<Figure size 432x288 with 2 Axes>"
      ]
     },
     "metadata": {
      "needs_background": "light"
     },
     "output_type": "display_data"
    }
   ],
   "source": [
    "cm = metrics.confusion_matrix(y_test, pred, labels=[0, 1])\n",
    "plot_confusion_matrix(cm, classes=[0, 1])"
   ]
  },
  {
   "cell_type": "markdown",
   "metadata": {},
   "source": [
    "### Adaboost Classifier"
   ]
  },
  {
   "cell_type": "code",
   "execution_count": 39,
   "metadata": {},
   "outputs": [],
   "source": [
    "ada_clf = AdaBoostClassifier(n_estimators=100, random_state=0)"
   ]
  },
  {
   "cell_type": "code",
   "execution_count": 40,
   "metadata": {},
   "outputs": [
    {
     "name": "stdout",
     "output_type": "stream",
     "text": [
      "Accuracy: 0.67 (+/- 0.04)\n"
     ]
    }
   ],
   "source": [
    "ada_clf.fit(X_train, y_train)\n",
    "scores = cross_val_score(ada_clf, X_train, y_train, cv=5)\n",
    "print(\"Accuracy: %0.2f (+/- %0.2f)\" % (scores.mean(), scores.std() * 2))"
   ]
  },
  {
   "cell_type": "code",
   "execution_count": 41,
   "metadata": {},
   "outputs": [
    {
     "name": "stdout",
     "output_type": "stream",
     "text": [
      "              precision    recall  f1-score   support\n",
      "\n",
      "           0       0.72      0.68      0.70       299\n",
      "           1       0.67      0.71      0.69       277\n",
      "\n",
      "    accuracy                           0.69       576\n",
      "   macro avg       0.69      0.69      0.69       576\n",
      "weighted avg       0.69      0.69      0.69       576\n",
      "\n"
     ]
    }
   ],
   "source": [
    "pred = ada_clf.predict(X_test)\n",
    "#generate classification report\n",
    "print(classification_report(y_test, pred, target_names=['0', '1']))"
   ]
  },
  {
   "cell_type": "code",
   "execution_count": 42,
   "metadata": {
    "scrolled": true
   },
   "outputs": [
    {
     "name": "stdout",
     "output_type": "stream",
     "text": [
      "Confusion matrix, without normalization\n"
     ]
    },
    {
     "data": {
      "image/png": "[encoded data removed]",
      "text/plain": [
       "<Figure size 432x288 with 2 Axes>"
      ]
     },
     "metadata": {
      "needs_background": "light"
     },
     "output_type": "display_data"
    }
   ],
   "source": [
    "cm = metrics.confusion_matrix(y_test, pred, labels=[0, 1])\n",
    "plot_confusion_matrix(cm, classes=[0, 1])"
   ]
  },
  {
   "cell_type": "markdown",
   "metadata": {},
   "source": [
    "### Voting Classifier"
   ]
  },
  {
   "cell_type": "code",
   "execution_count": 43,
   "metadata": {},
   "outputs": [
    {
     "name": "stdout",
     "output_type": "stream",
     "text": [
      "Accuracy: 0.59 (+/- 0.06) [DecisionTree]\n",
      "Accuracy: 0.61 (+/- 0.03) [Logistic Regression]\n",
      "Accuracy: 0.68 (+/- 0.04) [Random Forest]\n",
      "Accuracy: 0.65 (+/- 0.01) [Knn]\n",
      "Accuracy: 0.65 (+/- 0.03) [Adaboost]\n",
      "Accuracy: 0.63 (+/- 0.04) [Voting]\n"
     ]
    }
   ],
   "source": [
    "eclf = VotingClassifier(estimators=[('onehot-clf1', clf_DTC), ('onehot-clf3', lr_clf) , ('onehot-clf4', rf_clf) , ('onehot-clf5', knn_clf) ,('onehot-clf6', ada_clf)], voting='soft')\n",
    "eclf.fit(X_train, y_train)\n",
    "for clf, label in zip([clf_DTC, lr_clf, rf_clf, knn_clf, ada_clf, eclf], ['DecisionTree', 'Logistic Regression', 'Random Forest', 'Knn', 'Adaboost','Voting']):\n",
    "    scores = cross_val_score(clf, X_test, y_test, scoring='accuracy', cv=5)\n",
    "    print(\"Accuracy: %0.2f (+/- %0.2f) [%s]\" % (scores.mean(), scores.std(), label))"
   ]
  },
  {
   "cell_type": "code",
   "execution_count": 44,
   "metadata": {
    "scrolled": true
   },
   "outputs": [
    {
     "name": "stdout",
     "output_type": "stream",
     "text": [
      "Confusion matrix, without normalization\n"
     ]
    },
    {
     "data": {
      "image/png": "[encoded data removed]",
      "text/plain": [
       "<Figure size 432x288 with 2 Axes>"
      ]
     },
     "metadata": {
      "needs_background": "light"
     },
     "output_type": "display_data"
    }
   ],
   "source": [
    "pred=eclf.predict(X_test)\n",
    "cm = metrics.confusion_matrix(y_test, pred, labels=[0, 1])\n",
    "plot_confusion_matrix(cm, classes=[0, 1])"
   ]
  },
  {
   "cell_type": "markdown",
   "metadata": {},
   "source": [
    "## Results on Dog Group"
   ]
  },
  {
   "cell_type": "code",
   "execution_count": 45,
   "metadata": {},
   "outputs": [],
   "source": [
    "one_hot = pd.get_dummies(dog)"
   ]
  },
  {
   "cell_type": "code",
   "execution_count": 46,
   "metadata": {},
   "outputs": [],
   "source": [
    "X_train, X_test, y_train, y_test = train_test_split(one_hot, y_dog, test_size=0.20, shuffle = True)"
   ]
  },
  {
   "cell_type": "code",
   "execution_count": 47,
   "metadata": {},
   "outputs": [
    {
     "name": "stdout",
     "output_type": "stream",
     "text": [
      "# Tuning hyper-parameters for accuracy\n",
      "\n",
      "Best parameters set found on Train set:\n",
      "\n",
      "{'criterion': 'gini', 'max_leaf_nodes': 20}\n",
      "\n",
      "Grid scores on Train set:\n",
      "\n",
      "0.714 (+/-0.030) for {'criterion': 'gini', 'max_leaf_nodes': 20}\n",
      "0.704 (+/-0.022) for {'criterion': 'gini', 'max_leaf_nodes': 40}\n",
      "0.708 (+/-0.028) for {'criterion': 'gini', 'max_leaf_nodes': 80}\n",
      "0.710 (+/-0.015) for {'criterion': 'entropy', 'max_leaf_nodes': 20}\n",
      "0.712 (+/-0.030) for {'criterion': 'entropy', 'max_leaf_nodes': 40}\n",
      "0.711 (+/-0.023) for {'criterion': 'entropy', 'max_leaf_nodes': 80}\n",
      "\n",
      "Detailed classification report on Test Set:\n",
      "              precision    recall  f1-score   support\n",
      "\n",
      "           0       0.62      0.76      0.68       391\n",
      "           1       0.73      0.58      0.65       437\n",
      "\n",
      "    accuracy                           0.66       828\n",
      "   macro avg       0.67      0.67      0.66       828\n",
      "weighted avg       0.68      0.66      0.66       828\n",
      "\n",
      "\n"
     ]
    }
   ],
   "source": [
    "# Set the parameters by cross-validation\n",
    "tuned_parameters = [{'criterion':['gini','entropy'],'max_leaf_nodes': [20,40,80]}]\n",
    "\n",
    "scores = ['accuracy']\n",
    "\n",
    "for score in scores:\n",
    "    print(\"# Tuning hyper-parameters for %s\" % score)\n",
    "    print()\n",
    "\n",
    "    clf_DTC = GridSearchCV(\n",
    "        DecisionTreeClassifier(), tuned_parameters, cv=5, scoring='%s' % score)\n",
    "    clf_DTC.fit(X_train, y_train)\n",
    "\n",
    "    print(\"Best parameters set found on Train set:\")\n",
    "    print()\n",
    "    print(clf_DTC.best_params_)\n",
    "    print()\n",
    "    print(\"Grid scores on Train set:\")\n",
    "    print()\n",
    "    means = clf_DTC.cv_results_['mean_test_score']\n",
    "    stds = clf_DTC.cv_results_['std_test_score']\n",
    "    for mean, std, params in zip(means, stds, clf_DTC.cv_results_['params']):\n",
    "        print(\"%0.3f (+/-%0.03f) for %r\"\n",
    "              % (mean, std * 2, params))\n",
    "    print()\n",
    "\n",
    "    print(\"Detailed classification report on Test Set:\")\n",
    "    pred = clf_DTC.predict(X_test)\n",
    "    print(classification_report(y_test, pred,target_names=['0' , '1']))\n",
    "    print()"
   ]
  },
  {
   "cell_type": "code",
   "execution_count": 48,
   "metadata": {},
   "outputs": [
    {
     "data": {
      "text/html": [
       "<img src=\"clf_DTC.png?232798565\" alt=\"clf_DTC.png\" height=\"100\">"
      ],
      "text/plain": [
       "<IPython.core.display.HTML object>"
      ]
     },
     "metadata": {},
     "output_type": "display_data"
    }
   ],
   "source": [
    "clf_DTC = DecisionTreeClassifier(criterion='gini',max_leaf_nodes=80)\n",
    "clf_DTC.fit(X_train, y_train)\n",
    "dot_data = tree.export_graphviz(clf_DTC, out_file=\"clf_DTC.dot\",\n",
    "                                feature_names=one_hot.columns,\n",
    "                                class_names=['0' , '1'],\n",
    "                                filled=True, rounded=True,\n",
    "                                special_characters=True)\n",
    "(clf_DTC_graph,) = pydot.graph_from_dot_file('clf_DTC.dot')\n",
    "clf_DTC_graph.write_png('clf_DTC.png')\n",
    "display(HTML('<img src=\"clf_DTC.png?%d\" alt=\"clf_DTC.png\" height=\"100\">' % random.randint(0,2e9)))"
   ]
  },
  {
   "cell_type": "code",
   "execution_count": 49,
   "metadata": {},
   "outputs": [],
   "source": [
    "scores = cross_val_score(clf_DTC, X_train, y_train, cv=5)"
   ]
  },
  {
   "cell_type": "code",
   "execution_count": 50,
   "metadata": {},
   "outputs": [
    {
     "name": "stdout",
     "output_type": "stream",
     "text": [
      "Accuracy: 0.71 (+/- 0.03)\n"
     ]
    }
   ],
   "source": [
    "print(\"Accuracy: %0.2f (+/- %0.2f)\" % (scores.mean(), scores.std() * 2))"
   ]
  },
  {
   "cell_type": "code",
   "execution_count": 51,
   "metadata": {},
   "outputs": [
    {
     "name": "stdout",
     "output_type": "stream",
     "text": [
      "              precision    recall  f1-score   support\n",
      "\n",
      "           1       0.66      0.72      0.69       391\n",
      "           0       0.73      0.67      0.70       437\n",
      "\n",
      "    accuracy                           0.69       828\n",
      "   macro avg       0.69      0.69      0.69       828\n",
      "weighted avg       0.70      0.69      0.69       828\n",
      "\n"
     ]
    }
   ],
   "source": [
    "pred = clf_DTC.predict(X_test)\n",
    "#generate classification report\n",
    "print(classification_report(y_test, pred, target_names=['1', '0']))"
   ]
  },
  {
   "cell_type": "code",
   "execution_count": 52,
   "metadata": {},
   "outputs": [
    {
     "name": "stdout",
     "output_type": "stream",
     "text": [
      "Confusion matrix, without normalization\n"
     ]
    },
    {
     "data": {
      "image/png": "[encoded data removed]",
      "text/plain": [
       "<Figure size 432x288 with 2 Axes>"
      ]
     },
     "metadata": {
      "needs_background": "light"
     },
     "output_type": "display_data"
    }
   ],
   "source": [
    "cm = metrics.confusion_matrix(y_test, pred, labels=[1, 0])\n",
    "plot_confusion_matrix(cm, classes=[1, 0])"
   ]
  },
  {
   "cell_type": "markdown",
   "metadata": {},
   "source": [
    "### Linear SVM"
   ]
  },
  {
   "cell_type": "code",
   "execution_count": 53,
   "metadata": {},
   "outputs": [
    {
     "name": "stdout",
     "output_type": "stream",
     "text": [
      "# Tuning hyper-parameters for accuracy\n",
      "\n",
      "Best parameters set found on Train set:\n",
      "\n",
      "{'alpha': 0.001, 'loss': 'hinge', 'penalty': 'l2'}\n",
      "\n",
      "Grid scores on Train set:\n",
      "\n",
      "0.628 (+/-0.029) for {'alpha': 0.1, 'loss': 'hinge', 'penalty': 'l2'}\n",
      "0.507 (+/-0.001) for {'alpha': 0.1, 'loss': 'hinge', 'penalty': 'l1'}\n",
      "0.515 (+/-0.035) for {'alpha': 0.1, 'loss': 'squared_hinge', 'penalty': 'l2'}\n",
      "0.597 (+/-0.048) for {'alpha': 0.1, 'loss': 'squared_hinge', 'penalty': 'l1'}\n",
      "0.641 (+/-0.025) for {'alpha': 0.01, 'loss': 'hinge', 'penalty': 'l2'}\n",
      "0.618 (+/-0.028) for {'alpha': 0.01, 'loss': 'hinge', 'penalty': 'l1'}\n",
      "0.557 (+/-0.039) for {'alpha': 0.01, 'loss': 'squared_hinge', 'penalty': 'l2'}\n",
      "0.602 (+/-0.055) for {'alpha': 0.01, 'loss': 'squared_hinge', 'penalty': 'l1'}\n",
      "0.651 (+/-0.017) for {'alpha': 0.001, 'loss': 'hinge', 'penalty': 'l2'}\n",
      "0.646 (+/-0.024) for {'alpha': 0.001, 'loss': 'hinge', 'penalty': 'l1'}\n",
      "0.567 (+/-0.017) for {'alpha': 0.001, 'loss': 'squared_hinge', 'penalty': 'l2'}\n",
      "0.605 (+/-0.039) for {'alpha': 0.001, 'loss': 'squared_hinge', 'penalty': 'l1'}\n",
      "0.622 (+/-0.031) for {'alpha': 0.0001, 'loss': 'hinge', 'penalty': 'l2'}\n",
      "0.626 (+/-0.057) for {'alpha': 0.0001, 'loss': 'hinge', 'penalty': 'l1'}\n",
      "0.557 (+/-0.050) for {'alpha': 0.0001, 'loss': 'squared_hinge', 'penalty': 'l2'}\n",
      "0.627 (+/-0.052) for {'alpha': 0.0001, 'loss': 'squared_hinge', 'penalty': 'l1'}\n",
      "0.601 (+/-0.057) for {'alpha': 1e-05, 'loss': 'hinge', 'penalty': 'l2'}\n",
      "0.605 (+/-0.070) for {'alpha': 1e-05, 'loss': 'hinge', 'penalty': 'l1'}\n",
      "0.565 (+/-0.058) for {'alpha': 1e-05, 'loss': 'squared_hinge', 'penalty': 'l2'}\n",
      "0.596 (+/-0.063) for {'alpha': 1e-05, 'loss': 'squared_hinge', 'penalty': 'l1'}\n",
      "0.598 (+/-0.093) for {'alpha': 1e-06, 'loss': 'hinge', 'penalty': 'l2'}\n",
      "0.593 (+/-0.087) for {'alpha': 1e-06, 'loss': 'hinge', 'penalty': 'l1'}\n",
      "0.568 (+/-0.092) for {'alpha': 1e-06, 'loss': 'squared_hinge', 'penalty': 'l2'}\n",
      "0.599 (+/-0.058) for {'alpha': 1e-06, 'loss': 'squared_hinge', 'penalty': 'l1'}\n",
      "\n",
      "Detailed classification report on Test Set:\n",
      "              precision    recall  f1-score   support\n",
      "\n",
      "           0       0.63      0.51      0.57       391\n",
      "           1       0.63      0.73      0.68       437\n",
      "\n",
      "    accuracy                           0.63       828\n",
      "   macro avg       0.63      0.62      0.62       828\n",
      "weighted avg       0.63      0.63      0.62       828\n",
      "\n",
      "\n"
     ]
    }
   ],
   "source": [
    "# Set the parameters by cross-validation\n",
    "tuned_parameters = [{'loss':['hinge','squared_hinge'],'alpha': 10.0**-np.arange(1,7),'penalty':['l2','l1']}]\n",
    "\n",
    "scores = ['accuracy']\n",
    "\n",
    "for score in scores:\n",
    "    print(\"# Tuning hyper-parameters for %s\" % score)\n",
    "    print()\n",
    "\n",
    "    sgd_clf = GridSearchCV(\n",
    "        SGDClassifier(max_iter= np.ceil(10**6 / X_train.shape[0])), tuned_parameters, cv=5, scoring='%s' % score)\n",
    "    sgd_clf.fit(X_train, y_train)\n",
    "\n",
    "    print(\"Best parameters set found on Train set:\")\n",
    "    print()\n",
    "    print(sgd_clf.best_params_)\n",
    "    print()\n",
    "    print(\"Grid scores on Train set:\")\n",
    "    print()\n",
    "    means = sgd_clf.cv_results_['mean_test_score']\n",
    "    stds = sgd_clf.cv_results_['std_test_score']\n",
    "    for mean, std, params in zip(means, stds, sgd_clf.cv_results_['params']):\n",
    "        print(\"%0.3f (+/-%0.03f) for %r\"\n",
    "              % (mean, std * 2, params))\n",
    "    print()\n",
    "\n",
    "    print(\"Detailed classification report on Test Set:\")\n",
    "    pred = sgd_clf.predict(X_test)\n",
    "    print(classification_report(y_test, pred,target_names=['0' , '1']))\n",
    "    print()"
   ]
  },
  {
   "cell_type": "code",
   "execution_count": 54,
   "metadata": {},
   "outputs": [
    {
     "name": "stdout",
     "output_type": "stream",
     "text": [
      "Confusion matrix, without normalization\n"
     ]
    },
    {
     "data": {
      "image/png": "[encoded data removed]",
      "text/plain": [
       "<Figure size 432x288 with 2 Axes>"
      ]
     },
     "metadata": {
      "needs_background": "light"
     },
     "output_type": "display_data"
    }
   ],
   "source": [
    "cm = metrics.confusion_matrix(y_test, pred, labels=[0, 1])\n",
    "plot_confusion_matrix(cm, classes=[0, 1])"
   ]
  },
  {
   "cell_type": "markdown",
   "metadata": {},
   "source": [
    "### Logistic Regression"
   ]
  },
  {
   "cell_type": "code",
   "execution_count": 55,
   "metadata": {},
   "outputs": [
    {
     "name": "stdout",
     "output_type": "stream",
     "text": [
      "# Tuning hyper-parameters for accuracy\n",
      "\n",
      "Best parameters set found on Train set:\n",
      "\n",
      "{'C': 10.0, 'penalty': 'l2', 'solver': 'liblinear'}\n",
      "\n",
      "Grid scores on Train set:\n",
      "\n",
      "0.657 (+/-0.039) for {'C': 1.0, 'penalty': 'l2', 'solver': 'liblinear'}\n",
      "0.657 (+/-0.039) for {'C': 1.0, 'penalty': 'l2', 'solver': 'lbfgs'}\n",
      "0.652 (+/-0.037) for {'C': 1.0, 'penalty': 'l1', 'solver': 'liblinear'}\n",
      "nan (+/-nan) for {'C': 1.0, 'penalty': 'l1', 'solver': 'lbfgs'}\n",
      "0.661 (+/-0.036) for {'C': 10.0, 'penalty': 'l2', 'solver': 'liblinear'}\n",
      "0.661 (+/-0.038) for {'C': 10.0, 'penalty': 'l2', 'solver': 'lbfgs'}\n",
      "0.660 (+/-0.039) for {'C': 10.0, 'penalty': 'l1', 'solver': 'liblinear'}\n",
      "nan (+/-nan) for {'C': 10.0, 'penalty': 'l1', 'solver': 'lbfgs'}\n",
      "0.661 (+/-0.036) for {'C': 100.0, 'penalty': 'l2', 'solver': 'liblinear'}\n",
      "0.660 (+/-0.036) for {'C': 100.0, 'penalty': 'l2', 'solver': 'lbfgs'}\n",
      "0.661 (+/-0.037) for {'C': 100.0, 'penalty': 'l1', 'solver': 'liblinear'}\n",
      "nan (+/-nan) for {'C': 100.0, 'penalty': 'l1', 'solver': 'lbfgs'}\n",
      "0.661 (+/-0.036) for {'C': 1000.0, 'penalty': 'l2', 'solver': 'liblinear'}\n",
      "0.661 (+/-0.037) for {'C': 1000.0, 'penalty': 'l2', 'solver': 'lbfgs'}\n",
      "0.661 (+/-0.037) for {'C': 1000.0, 'penalty': 'l1', 'solver': 'liblinear'}\n",
      "nan (+/-nan) for {'C': 1000.0, 'penalty': 'l1', 'solver': 'lbfgs'}\n",
      "0.661 (+/-0.037) for {'C': 10000.0, 'penalty': 'l2', 'solver': 'liblinear'}\n",
      "0.661 (+/-0.037) for {'C': 10000.0, 'penalty': 'l2', 'solver': 'lbfgs'}\n",
      "0.661 (+/-0.037) for {'C': 10000.0, 'penalty': 'l1', 'solver': 'liblinear'}\n",
      "nan (+/-nan) for {'C': 10000.0, 'penalty': 'l1', 'solver': 'lbfgs'}\n",
      "0.661 (+/-0.037) for {'C': 100000.0, 'penalty': 'l2', 'solver': 'liblinear'}\n",
      "0.661 (+/-0.037) for {'C': 100000.0, 'penalty': 'l2', 'solver': 'lbfgs'}\n",
      "0.661 (+/-0.037) for {'C': 100000.0, 'penalty': 'l1', 'solver': 'liblinear'}\n",
      "nan (+/-nan) for {'C': 100000.0, 'penalty': 'l1', 'solver': 'lbfgs'}\n",
      "0.661 (+/-0.037) for {'C': 1000000.0, 'penalty': 'l2', 'solver': 'liblinear'}\n",
      "0.661 (+/-0.037) for {'C': 1000000.0, 'penalty': 'l2', 'solver': 'lbfgs'}\n",
      "0.661 (+/-0.037) for {'C': 1000000.0, 'penalty': 'l1', 'solver': 'liblinear'}\n",
      "nan (+/-nan) for {'C': 1000000.0, 'penalty': 'l1', 'solver': 'lbfgs'}\n",
      "\n",
      "Detailed classification report on Test Set:\n",
      "              precision    recall  f1-score   support\n",
      "\n",
      "           0       0.60      0.61      0.61       391\n",
      "           1       0.65      0.63      0.64       437\n",
      "\n",
      "    accuracy                           0.62       828\n",
      "   macro avg       0.62      0.62      0.62       828\n",
      "weighted avg       0.62      0.62      0.62       828\n",
      "\n",
      "\n"
     ]
    }
   ],
   "source": [
    "# Set the parameters by cross-validation\n",
    "tuned_parameters = [{'C': 10.0**np.arange(0,7),'penalty':['l2','l1'],'solver':['liblinear','lbfgs']}]\n",
    "\n",
    "scores = ['accuracy']\n",
    "\n",
    "for score in scores:\n",
    "    print(\"# Tuning hyper-parameters for %s\" % score)\n",
    "    print()\n",
    "\n",
    "    lr_clf = GridSearchCV(\n",
    "        LogisticRegression(max_iter= np.ceil(10**6 / X_train.shape[0])), tuned_parameters, cv=5, scoring='%s' % score)\n",
    "    lr_clf.fit(X_train, y_train)\n",
    "\n",
    "    print(\"Best parameters set found on Train set:\")\n",
    "    print()\n",
    "    print(lr_clf.best_params_)\n",
    "    print()\n",
    "    print(\"Grid scores on Train set:\")\n",
    "    print()\n",
    "    means = lr_clf.cv_results_['mean_test_score']\n",
    "    stds = lr_clf.cv_results_['std_test_score']\n",
    "    for mean, std, params in zip(means, stds, lr_clf.cv_results_['params']):\n",
    "        print(\"%0.3f (+/-%0.03f) for %r\"\n",
    "              % (mean, std * 2, params))\n",
    "    print()\n",
    "\n",
    "    print(\"Detailed classification report on Test Set:\")\n",
    "    pred = lr_clf.predict(X_test)\n",
    "    print(classification_report(y_test, pred,target_names=['0' , '1']))\n",
    "    print()"
   ]
  },
  {
   "cell_type": "code",
   "execution_count": 56,
   "metadata": {},
   "outputs": [
    {
     "name": "stdout",
     "output_type": "stream",
     "text": [
      "Confusion matrix, without normalization\n"
     ]
    },
    {
     "data": {
      "image/png": "[encoded data removed]",
      "text/plain": [
       "<Figure size 432x288 with 2 Axes>"
      ]
     },
     "metadata": {
      "needs_background": "light"
     },
     "output_type": "display_data"
    }
   ],
   "source": [
    "cm = metrics.confusion_matrix(y_test, pred, labels=[0, 1])\n",
    "plot_confusion_matrix(cm, classes=[0, 1])"
   ]
  },
  {
   "cell_type": "markdown",
   "metadata": {},
   "source": [
    "### Random Forest Classifier"
   ]
  },
  {
   "cell_type": "code",
   "execution_count": 57,
   "metadata": {},
   "outputs": [
    {
     "name": "stdout",
     "output_type": "stream",
     "text": [
      "# Tuning hyper-parameters for accuracy\n",
      "\n",
      "Best parameters set found on Train set:\n",
      "\n",
      "{'n_estimators': 500}\n",
      "\n",
      "Grid scores on Train set:\n",
      "\n",
      "0.811 (+/-0.027) for {'n_estimators': 400}\n",
      "0.811 (+/-0.024) for {'n_estimators': 500}\n",
      "\n",
      "Detailed classification report on Test Set:\n",
      "              precision    recall  f1-score   support\n",
      "\n",
      "           0       0.78      0.87      0.82       391\n",
      "           1       0.87      0.78      0.82       437\n",
      "\n",
      "    accuracy                           0.82       828\n",
      "   macro avg       0.82      0.82      0.82       828\n",
      "weighted avg       0.82      0.82      0.82       828\n",
      "\n",
      "\n"
     ]
    }
   ],
   "source": [
    "# Set the parameters by cross-validation\n",
    "tuned_parameters = [{'n_estimators': [400,500]}]\n",
    "\n",
    "scores = ['accuracy']\n",
    "\n",
    "for score in scores:\n",
    "    print(\"# Tuning hyper-parameters for %s\" % score)\n",
    "    print()\n",
    "\n",
    "    rf_clf = GridSearchCV(\n",
    "        RandomForestClassifier(), tuned_parameters, cv=5, scoring='%s' % score)\n",
    "    rf_clf.fit(X_train, y_train)\n",
    "\n",
    "    print(\"Best parameters set found on Train set:\")\n",
    "    print()\n",
    "    print(rf_clf.best_params_)\n",
    "    print()\n",
    "    print(\"Grid scores on Train set:\")\n",
    "    print()\n",
    "    means = rf_clf.cv_results_['mean_test_score']\n",
    "    stds = rf_clf.cv_results_['std_test_score']\n",
    "    for mean, std, params in zip(means, stds, rf_clf.cv_results_['params']):\n",
    "        print(\"%0.3f (+/-%0.03f) for %r\"\n",
    "              % (mean, std * 2, params))\n",
    "    print()\n",
    "\n",
    "    print(\"Detailed classification report on Test Set:\")\n",
    "    pred = rf_clf.predict(X_test)\n",
    "    print(classification_report(y_test, pred,target_names=['0' , '1']))\n",
    "    print()"
   ]
  },
  {
   "cell_type": "code",
   "execution_count": 58,
   "metadata": {},
   "outputs": [
    {
     "name": "stdout",
     "output_type": "stream",
     "text": [
      "Confusion matrix, without normalization\n"
     ]
    },
    {
     "data": {
      "image/png": "[encoded data removed]",
      "text/plain": [
       "<Figure size 432x288 with 2 Axes>"
      ]
     },
     "metadata": {
      "needs_background": "light"
     },
     "output_type": "display_data"
    }
   ],
   "source": [
    "cm = metrics.confusion_matrix(y_test, pred, labels=[0, 1])\n",
    "plot_confusion_matrix(cm, classes=[0, 1])"
   ]
  },
  {
   "cell_type": "markdown",
   "metadata": {},
   "source": [
    "### KNN Classifier"
   ]
  },
  {
   "cell_type": "code",
   "execution_count": 59,
   "metadata": {},
   "outputs": [
    {
     "name": "stdout",
     "output_type": "stream",
     "text": [
      "# Tuning hyper-parameters for accuracy\n",
      "\n",
      "Best parameters set found on Train set:\n",
      "\n",
      "{'n_neighbors': 20, 'weights': 'distance'}\n",
      "\n",
      "Grid scores on Train set:\n",
      "\n",
      "0.670 (+/-0.035) for {'n_neighbors': 5, 'weights': 'uniform'}\n",
      "0.760 (+/-0.026) for {'n_neighbors': 5, 'weights': 'distance'}\n",
      "0.666 (+/-0.022) for {'n_neighbors': 10, 'weights': 'uniform'}\n",
      "0.766 (+/-0.020) for {'n_neighbors': 10, 'weights': 'distance'}\n",
      "0.649 (+/-0.026) for {'n_neighbors': 20, 'weights': 'uniform'}\n",
      "0.773 (+/-0.022) for {'n_neighbors': 20, 'weights': 'distance'}\n",
      "\n",
      "Detailed classification report on Test Set:\n",
      "              precision    recall  f1-score   support\n",
      "\n",
      "           0       0.75      0.81      0.77       391\n",
      "           1       0.81      0.76      0.78       437\n",
      "\n",
      "    accuracy                           0.78       828\n",
      "   macro avg       0.78      0.78      0.78       828\n",
      "weighted avg       0.78      0.78      0.78       828\n",
      "\n",
      "\n"
     ]
    }
   ],
   "source": [
    "# Set the parameters by cross-validation\n",
    "tuned_parameters = [{'n_neighbors': [5,10,20],'weights':['uniform','distance']}]\n",
    "\n",
    "scores = ['accuracy']\n",
    "\n",
    "for score in scores:\n",
    "    print(\"# Tuning hyper-parameters for %s\" % score)\n",
    "    print()\n",
    "\n",
    "    knn_clf = GridSearchCV(\n",
    "        KNeighborsClassifier(), tuned_parameters, cv=5, scoring='%s' % score)\n",
    "    knn_clf.fit(X_train, y_train)\n",
    "\n",
    "    print(\"Best parameters set found on Train set:\")\n",
    "    print()\n",
    "    print(knn_clf.best_params_)\n",
    "    print()\n",
    "    print(\"Grid scores on Train set:\")\n",
    "    print()\n",
    "    means = knn_clf.cv_results_['mean_test_score']\n",
    "    stds = knn_clf.cv_results_['std_test_score']\n",
    "    for mean, std, params in zip(means, stds, knn_clf.cv_results_['params']):\n",
    "        print(\"%0.3f (+/-%0.03f) for %r\"\n",
    "              % (mean, std * 2, params))\n",
    "    print()\n",
    "\n",
    "    print(\"Detailed classification report on Test Set:\")\n",
    "    pred = knn_clf.predict(X_test)\n",
    "    print(classification_report(y_test, pred,target_names=['0' , '1']))\n",
    "    print()"
   ]
  },
  {
   "cell_type": "code",
   "execution_count": 60,
   "metadata": {},
   "outputs": [
    {
     "name": "stdout",
     "output_type": "stream",
     "text": [
      "Confusion matrix, without normalization\n"
     ]
    },
    {
     "data": {
      "image/png": "[encoded data removed]",
      "text/plain": [
       "<Figure size 432x288 with 2 Axes>"
      ]
     },
     "metadata": {
      "needs_background": "light"
     },
     "output_type": "display_data"
    }
   ],
   "source": [
    "cm = metrics.confusion_matrix(y_test, pred, labels=[0, 1])\n",
    "plot_confusion_matrix(cm, classes=[0, 1])"
   ]
  },
  {
   "cell_type": "markdown",
   "metadata": {},
   "source": [
    "### Adaboost Classifier"
   ]
  },
  {
   "cell_type": "code",
   "execution_count": 61,
   "metadata": {},
   "outputs": [],
   "source": [
    "ada_clf = AdaBoostClassifier(n_estimators=100, random_state=0)"
   ]
  },
  {
   "cell_type": "code",
   "execution_count": 62,
   "metadata": {},
   "outputs": [
    {
     "name": "stdout",
     "output_type": "stream",
     "text": [
      "Accuracy: 0.70 (+/- 0.03)\n"
     ]
    }
   ],
   "source": [
    "ada_clf.fit(X_train, y_train)\n",
    "scores = cross_val_score(ada_clf, X_train, y_train, cv=5)\n",
    "print(\"Accuracy: %0.2f (+/- %0.2f)\" % (scores.mean(), scores.std() * 2))"
   ]
  },
  {
   "cell_type": "code",
   "execution_count": 63,
   "metadata": {},
   "outputs": [
    {
     "name": "stdout",
     "output_type": "stream",
     "text": [
      "              precision    recall  f1-score   support\n",
      "\n",
      "           0       0.64      0.69      0.66       391\n",
      "           1       0.70      0.65      0.67       437\n",
      "\n",
      "    accuracy                           0.67       828\n",
      "   macro avg       0.67      0.67      0.67       828\n",
      "weighted avg       0.67      0.67      0.67       828\n",
      "\n"
     ]
    }
   ],
   "source": [
    "pred = ada_clf.predict(X_test)\n",
    "#generate classification report\n",
    "print(classification_report(y_test, pred, target_names=['0', '1']))"
   ]
  },
  {
   "cell_type": "code",
   "execution_count": 64,
   "metadata": {
    "scrolled": true
   },
   "outputs": [
    {
     "name": "stdout",
     "output_type": "stream",
     "text": [
      "Confusion matrix, without normalization\n"
     ]
    },
    {
     "data": {
      "image/png": "[encoded data removed]",
      "text/plain": [
       "<Figure size 432x288 with 2 Axes>"
      ]
     },
     "metadata": {
      "needs_background": "light"
     },
     "output_type": "display_data"
    }
   ],
   "source": [
    "cm = metrics.confusion_matrix(y_test, pred, labels=[0, 1])\n",
    "plot_confusion_matrix(cm, classes=[0, 1])"
   ]
  },
  {
   "cell_type": "markdown",
   "metadata": {},
   "source": [
    "### Voting Classifier"
   ]
  },
  {
   "cell_type": "code",
   "execution_count": 65,
   "metadata": {},
   "outputs": [
    {
     "name": "stdout",
     "output_type": "stream",
     "text": [
      "Accuracy: 0.63 (+/- 0.03) [DecisionTree]\n",
      "Accuracy: 0.59 (+/- 0.01) [Logistic Regression]\n",
      "Accuracy: 0.69 (+/- 0.02) [Random Forest]\n",
      "Accuracy: 0.62 (+/- 0.02) [Knn]\n",
      "Accuracy: 0.64 (+/- 0.02) [Adaboost]\n",
      "Accuracy: 0.65 (+/- 0.03) [Voting]\n"
     ]
    }
   ],
   "source": [
    "eclf = VotingClassifier(estimators=[('onehot-clf1', clf_DTC), ('onehot-clf3', lr_clf) , ('onehot-clf4', rf_clf) , ('onehot-clf5', knn_clf) ,('onehot-clf6', ada_clf)], voting='soft')\n",
    "eclf.fit(X_train, y_train)\n",
    "for clf, label in zip([clf_DTC, lr_clf, rf_clf, knn_clf, ada_clf, eclf], ['DecisionTree', 'Logistic Regression', 'Random Forest', 'Knn', 'Adaboost','Voting']):\n",
    "    scores = cross_val_score(clf, X_test, y_test, scoring='accuracy', cv=5)\n",
    "    print(\"Accuracy: %0.2f (+/- %0.2f) [%s]\" % (scores.mean(), scores.std(), label))"
   ]
  },
  {
   "cell_type": "code",
   "execution_count": 66,
   "metadata": {
    "scrolled": true
   },
   "outputs": [
    {
     "name": "stdout",
     "output_type": "stream",
     "text": [
      "Confusion matrix, without normalization\n"
     ]
    },
    {
     "data": {
      "image/png": "[encoded data removed]",
      "text/plain": [
       "<Figure size 432x288 with 2 Axes>"
      ]
     },
     "metadata": {
      "needs_background": "light"
     },
     "output_type": "display_data"
    }
   ],
   "source": [
    "pred=eclf.predict(X_test)\n",
    "cm = metrics.confusion_matrix(y_test, pred, labels=[0, 1])\n",
    "plot_confusion_matrix(cm, classes=[0, 1])"
   ]
  },
  {
   "cell_type": "markdown",
   "metadata": {},
   "source": [
    "## 1.3. Classification - Results and Discussion "
   ]
  },
  {
   "cell_type": "markdown",
   "metadata": {},
   "source": [
    "In this task we first divided the data in separate cat class and dog class and then performed binary classification on the target variable of AdoptionSpeed.\n",
    "We have performed complete Exploratory Data Analysis and feature pre-processing to make a good input for ML Algorithm.\n",
    "We have applied one classifier from each of the category described as well as the cross validation and hyper parameter tuning to get best results out of our Algorithms."
   ]
  },
  {
   "cell_type": "code",
   "execution_count": null,
   "metadata": {},
   "outputs": [],
   "source": []
  }
 ],
 "metadata": {
  "kernelspec": {
   "display_name": "Python 3",
   "language": "python",
   "name": "python3"
  },
  "language_info": {
   "codemirror_mode": {
    "name": "ipython",
    "version": 3
   },
   "file_extension": ".py",
   "mimetype": "text/x-python",
   "name": "python",
   "nbconvert_exporter": "python",
   "pygments_lexer": "ipython3",
   "version": "3.8.3"
  }
 },
 "nbformat": 4,
 "nbformat_minor": 2
}
