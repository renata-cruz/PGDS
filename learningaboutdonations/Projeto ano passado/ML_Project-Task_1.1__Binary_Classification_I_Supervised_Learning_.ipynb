{
 "cells": [
  {
   "cell_type": "markdown",
   "metadata": {},
   "source": [
    "## Task 1.1 (Supervised Learning) - Predicting Adoption\n",
    "\n",
    "1. **Predicting  Adoption (binary classification task)**: create a new target from AdoptionSpeed that is 1 if AdoptionSpeed <> 4 and 0 otherwise."
   ]
  },
  {
   "cell_type": "code",
   "execution_count": 1,
   "metadata": {},
   "outputs": [],
   "source": [
    "import numpy as np\n",
    "import scipy as sp\n",
    "import pandas as pd\n",
    "import matplotlib.pyplot as plt\n",
    "import matplotlib\n",
    "import seaborn as sns\n",
    "import pandas_profiling\n",
    "from sklearn.metrics import accuracy_score\n",
    "from sklearn.model_selection import train_test_split\n",
    "from sklearn.tree import DecisionTreeClassifier\n",
    "from sklearn.model_selection import cross_val_score\n",
    "from sklearn.linear_model import LinearRegression\n",
    "from sklearn.metrics import classification_report\n",
    "from sklearn import metrics\n",
    "from sklearn.pipeline import Pipeline\n",
    "from sklearn.linear_model import LogisticRegression\n",
    "from sklearn.decomposition import PCA\n",
    "from sklearn.naive_bayes import MultinomialNB\n",
    "from xgboost import XGBClassifier\n",
    "from sklearn.ensemble import RandomForestClassifier\n",
    "from sklearn.gaussian_process import GaussianProcessClassifier\n",
    "import itertools\n",
    "from nltk import NaiveBayesClassifier\n",
    "from sklearn.feature_extraction.text import CountVectorizer, TfidfVectorizer, HashingVectorizer\n",
    "from sklearn.model_selection import train_test_split\n",
    "from sklearn.linear_model import PassiveAggressiveClassifier, SGDClassifier\n",
    "from sklearn.naive_bayes import GaussianNB\n",
    "from sklearn.naive_bayes import BernoulliNB\n",
    "from sklearn.model_selection import GridSearchCV\n",
    "from sklearn.svm import LinearSVC\n",
    "from sklearn import metrics\n",
    "import matplotlib.pyplot as plt\n",
    "import warnings\n",
    "from sklearn.neighbors import KNeighborsClassifier\n",
    "from textblob import TextBlob\n",
    "from sklearn.ensemble import AdaBoostClassifier , VotingClassifier\n",
    "from sklearn import preprocessing\n",
    "from sklearn import tree\n",
    "import warnings\n",
    "import pydot\n",
    "from imblearn.over_sampling import RandomOverSampler\n",
    "from imblearn.over_sampling import SMOTE,ADASYN,SMOTENC\n",
    "from collections import Counter\n",
    "import random\n",
    "from IPython.display import HTML, display\n",
    "%matplotlib inline\n",
    "warnings.filterwarnings('ignore')"
   ]
  },
  {
   "cell_type": "markdown",
   "metadata": {},
   "source": [
    "## Read the preprocessed dataset"
   ]
  },
  {
   "cell_type": "code",
   "execution_count": 2,
   "metadata": {},
   "outputs": [],
   "source": [
    "PetFinder_dataset = pd.read_csv(\"PetFinder_dataset_pp.csv\")"
   ]
  },
  {
   "cell_type": "code",
   "execution_count": 3,
   "metadata": {},
   "outputs": [
    {
     "data": {
      "text/html": [
       "<div>\n",
       "<style scoped>\n",
       "    .dataframe tbody tr th:only-of-type {\n",
       "        vertical-align: middle;\n",
       "    }\n",
       "\n",
       "    .dataframe tbody tr th {\n",
       "        vertical-align: top;\n",
       "    }\n",
       "\n",
       "    .dataframe thead th {\n",
       "        text-align: right;\n",
       "    }\n",
       "</style>\n",
       "<table border=\"1\" class=\"dataframe\">\n",
       "  <thead>\n",
       "    <tr style=\"text-align: right;\">\n",
       "      <th></th>\n",
       "      <th>Type</th>\n",
       "      <th>Age</th>\n",
       "      <th>Gender</th>\n",
       "      <th>MaturitySize</th>\n",
       "      <th>FurLength</th>\n",
       "      <th>Vaccinated</th>\n",
       "      <th>Dewormed</th>\n",
       "      <th>Sterilized</th>\n",
       "      <th>Health</th>\n",
       "      <th>Quantity</th>\n",
       "      <th>...</th>\n",
       "      <th>DescWords</th>\n",
       "      <th>AgeBin</th>\n",
       "      <th>FeeBin</th>\n",
       "      <th>PhotoAmtBin</th>\n",
       "      <th>PolarityBin</th>\n",
       "      <th>SubjectivityBin</th>\n",
       "      <th>DescwordsBin</th>\n",
       "      <th>Adopted</th>\n",
       "      <th>AdoptionSpeed</th>\n",
       "      <th>InitialAdoptionSpeed</th>\n",
       "    </tr>\n",
       "  </thead>\n",
       "  <tbody>\n",
       "    <tr>\n",
       "      <th>0</th>\n",
       "      <td>Cat</td>\n",
       "      <td>3</td>\n",
       "      <td>Male</td>\n",
       "      <td>Small</td>\n",
       "      <td>Short</td>\n",
       "      <td>No</td>\n",
       "      <td>No</td>\n",
       "      <td>No</td>\n",
       "      <td>Healthy</td>\n",
       "      <td>1</td>\n",
       "      <td>...</td>\n",
       "      <td>69</td>\n",
       "      <td>(-0.1, 3.0]</td>\n",
       "      <td>(0.0, 300.0]</td>\n",
       "      <td>(0.99, 3.99]</td>\n",
       "      <td>(0.1, 0.15]</td>\n",
       "      <td>(0.379, 0.442]</td>\n",
       "      <td>(56.0, 71.0]</td>\n",
       "      <td>True</td>\n",
       "      <td>instant adoption</td>\n",
       "      <td>2</td>\n",
       "    </tr>\n",
       "    <tr>\n",
       "      <th>1</th>\n",
       "      <td>Cat</td>\n",
       "      <td>1</td>\n",
       "      <td>Male</td>\n",
       "      <td>Medium</td>\n",
       "      <td>Medium</td>\n",
       "      <td>Not Sure</td>\n",
       "      <td>Not Sure</td>\n",
       "      <td>Not Sure</td>\n",
       "      <td>Healthy</td>\n",
       "      <td>1</td>\n",
       "      <td>...</td>\n",
       "      <td>23</td>\n",
       "      <td>(-0.1, 3.0]</td>\n",
       "      <td>(-0.1, 0.0]</td>\n",
       "      <td>(0.99, 3.99]</td>\n",
       "      <td>(0.0333, 0.1]</td>\n",
       "      <td>(0.379, 0.442]</td>\n",
       "      <td>(17.0, 25.0]</td>\n",
       "      <td>True</td>\n",
       "      <td>instant adoption</td>\n",
       "      <td>0</td>\n",
       "    </tr>\n",
       "    <tr>\n",
       "      <th>2</th>\n",
       "      <td>Dog</td>\n",
       "      <td>1</td>\n",
       "      <td>Male</td>\n",
       "      <td>Medium</td>\n",
       "      <td>Medium</td>\n",
       "      <td>Yes</td>\n",
       "      <td>Yes</td>\n",
       "      <td>No</td>\n",
       "      <td>Healthy</td>\n",
       "      <td>1</td>\n",
       "      <td>...</td>\n",
       "      <td>69</td>\n",
       "      <td>(-0.1, 3.0]</td>\n",
       "      <td>(-0.1, 0.0]</td>\n",
       "      <td>(3.99, 30.0]</td>\n",
       "      <td>(0.239, 0.288]</td>\n",
       "      <td>(0.521, 0.562]</td>\n",
       "      <td>(56.0, 71.0]</td>\n",
       "      <td>True</td>\n",
       "      <td>delayed adoption</td>\n",
       "      <td>3</td>\n",
       "    </tr>\n",
       "    <tr>\n",
       "      <th>3</th>\n",
       "      <td>Dog</td>\n",
       "      <td>4</td>\n",
       "      <td>Female</td>\n",
       "      <td>Medium</td>\n",
       "      <td>Short</td>\n",
       "      <td>Yes</td>\n",
       "      <td>Yes</td>\n",
       "      <td>No</td>\n",
       "      <td>Healthy</td>\n",
       "      <td>1</td>\n",
       "      <td>...</td>\n",
       "      <td>25</td>\n",
       "      <td>(3.0, 12.0]</td>\n",
       "      <td>(0.0, 300.0]</td>\n",
       "      <td>(3.99, 30.0]</td>\n",
       "      <td>(0.288, 0.35]</td>\n",
       "      <td>(0.379, 0.442]</td>\n",
       "      <td>(17.0, 25.0]</td>\n",
       "      <td>True</td>\n",
       "      <td>instant adoption</td>\n",
       "      <td>2</td>\n",
       "    </tr>\n",
       "    <tr>\n",
       "      <th>4</th>\n",
       "      <td>Dog</td>\n",
       "      <td>1</td>\n",
       "      <td>Male</td>\n",
       "      <td>Medium</td>\n",
       "      <td>Short</td>\n",
       "      <td>No</td>\n",
       "      <td>No</td>\n",
       "      <td>No</td>\n",
       "      <td>Healthy</td>\n",
       "      <td>1</td>\n",
       "      <td>...</td>\n",
       "      <td>81</td>\n",
       "      <td>(-0.1, 3.0]</td>\n",
       "      <td>(-0.1, 0.0]</td>\n",
       "      <td>(0.99, 3.99]</td>\n",
       "      <td>(0.35, 0.434]</td>\n",
       "      <td>(0.734, 1.0]</td>\n",
       "      <td>(71.0, 93.0]</td>\n",
       "      <td>True</td>\n",
       "      <td>instant adoption</td>\n",
       "      <td>2</td>\n",
       "    </tr>\n",
       "    <tr>\n",
       "      <th>...</th>\n",
       "      <td>...</td>\n",
       "      <td>...</td>\n",
       "      <td>...</td>\n",
       "      <td>...</td>\n",
       "      <td>...</td>\n",
       "      <td>...</td>\n",
       "      <td>...</td>\n",
       "      <td>...</td>\n",
       "      <td>...</td>\n",
       "      <td>...</td>\n",
       "      <td>...</td>\n",
       "      <td>...</td>\n",
       "      <td>...</td>\n",
       "      <td>...</td>\n",
       "      <td>...</td>\n",
       "      <td>...</td>\n",
       "      <td>...</td>\n",
       "      <td>...</td>\n",
       "      <td>...</td>\n",
       "      <td>...</td>\n",
       "      <td>...</td>\n",
       "    </tr>\n",
       "    <tr>\n",
       "      <th>12982</th>\n",
       "      <td>Cat</td>\n",
       "      <td>1</td>\n",
       "      <td>Female</td>\n",
       "      <td>Medium</td>\n",
       "      <td>Short</td>\n",
       "      <td>No</td>\n",
       "      <td>Yes</td>\n",
       "      <td>No</td>\n",
       "      <td>Healthy</td>\n",
       "      <td>1</td>\n",
       "      <td>...</td>\n",
       "      <td>81</td>\n",
       "      <td>(-0.1, 3.0]</td>\n",
       "      <td>(-0.1, 0.0]</td>\n",
       "      <td>(0.99, 3.99]</td>\n",
       "      <td>(0.15, 0.193]</td>\n",
       "      <td>(0.2, 0.379]</td>\n",
       "      <td>(71.0, 93.0]</td>\n",
       "      <td>True</td>\n",
       "      <td>delayed adoption</td>\n",
       "      <td>3</td>\n",
       "    </tr>\n",
       "    <tr>\n",
       "      <th>12983</th>\n",
       "      <td>Dog</td>\n",
       "      <td>6</td>\n",
       "      <td>Female</td>\n",
       "      <td>Small</td>\n",
       "      <td>Long</td>\n",
       "      <td>Yes</td>\n",
       "      <td>Yes</td>\n",
       "      <td>No</td>\n",
       "      <td>Healthy</td>\n",
       "      <td>1</td>\n",
       "      <td>...</td>\n",
       "      <td>1</td>\n",
       "      <td>(3.0, 12.0]</td>\n",
       "      <td>(-0.1, 0.0]</td>\n",
       "      <td>(0.99, 3.99]</td>\n",
       "      <td>(-1.001, 0.0]</td>\n",
       "      <td>(-0.001, 0.2]</td>\n",
       "      <td>(-0.001, 9.0]</td>\n",
       "      <td>True</td>\n",
       "      <td>instant adoption</td>\n",
       "      <td>0</td>\n",
       "    </tr>\n",
       "    <tr>\n",
       "      <th>12984</th>\n",
       "      <td>Cat</td>\n",
       "      <td>60</td>\n",
       "      <td>Mixed</td>\n",
       "      <td>Medium</td>\n",
       "      <td>Medium</td>\n",
       "      <td>Yes</td>\n",
       "      <td>Yes</td>\n",
       "      <td>Yes</td>\n",
       "      <td>Healthy</td>\n",
       "      <td>2</td>\n",
       "      <td>...</td>\n",
       "      <td>31</td>\n",
       "      <td>(12.0, 255.0]</td>\n",
       "      <td>(-0.1, 0.0]</td>\n",
       "      <td>(0.99, 3.99]</td>\n",
       "      <td>(0.15, 0.193]</td>\n",
       "      <td>(0.2, 0.379]</td>\n",
       "      <td>(25.0, 34.0]</td>\n",
       "      <td>False</td>\n",
       "      <td>very late adoption</td>\n",
       "      <td>4</td>\n",
       "    </tr>\n",
       "    <tr>\n",
       "      <th>12985</th>\n",
       "      <td>Cat</td>\n",
       "      <td>9</td>\n",
       "      <td>Female</td>\n",
       "      <td>Small</td>\n",
       "      <td>Short</td>\n",
       "      <td>Yes</td>\n",
       "      <td>Yes</td>\n",
       "      <td>Yes</td>\n",
       "      <td>Healthy</td>\n",
       "      <td>1</td>\n",
       "      <td>...</td>\n",
       "      <td>18</td>\n",
       "      <td>(3.0, 12.0]</td>\n",
       "      <td>(-0.1, 0.0]</td>\n",
       "      <td>(0.99, 3.99]</td>\n",
       "      <td>(0.434, 1.0]</td>\n",
       "      <td>(0.6, 0.65]</td>\n",
       "      <td>(17.0, 25.0]</td>\n",
       "      <td>False</td>\n",
       "      <td>very late adoption</td>\n",
       "      <td>4</td>\n",
       "    </tr>\n",
       "    <tr>\n",
       "      <th>12986</th>\n",
       "      <td>Dog</td>\n",
       "      <td>1</td>\n",
       "      <td>Male</td>\n",
       "      <td>Medium</td>\n",
       "      <td>Short</td>\n",
       "      <td>No</td>\n",
       "      <td>No</td>\n",
       "      <td>No</td>\n",
       "      <td>Healthy</td>\n",
       "      <td>1</td>\n",
       "      <td>...</td>\n",
       "      <td>16</td>\n",
       "      <td>(-0.1, 3.0]</td>\n",
       "      <td>(-0.1, 0.0]</td>\n",
       "      <td>(0.99, 3.99]</td>\n",
       "      <td>(0.0333, 0.1]</td>\n",
       "      <td>(0.2, 0.379]</td>\n",
       "      <td>(9.0, 17.0]</td>\n",
       "      <td>True</td>\n",
       "      <td>delayed adoption</td>\n",
       "      <td>3</td>\n",
       "    </tr>\n",
       "  </tbody>\n",
       "</table>\n",
       "<p>12987 rows × 28 columns</p>\n",
       "</div>"
      ],
      "text/plain": [
       "      Type  Age  Gender MaturitySize FurLength Vaccinated  Dewormed  \\\n",
       "0      Cat    3    Male        Small     Short         No        No   \n",
       "1      Cat    1    Male       Medium    Medium   Not Sure  Not Sure   \n",
       "2      Dog    1    Male       Medium    Medium        Yes       Yes   \n",
       "3      Dog    4  Female       Medium     Short        Yes       Yes   \n",
       "4      Dog    1    Male       Medium     Short         No        No   \n",
       "...    ...  ...     ...          ...       ...        ...       ...   \n",
       "12982  Cat    1  Female       Medium     Short         No       Yes   \n",
       "12983  Dog    6  Female        Small      Long        Yes       Yes   \n",
       "12984  Cat   60   Mixed       Medium    Medium        Yes       Yes   \n",
       "12985  Cat    9  Female        Small     Short        Yes       Yes   \n",
       "12986  Dog    1    Male       Medium     Short         No        No   \n",
       "\n",
       "      Sterilized   Health  Quantity  ...  DescWords         AgeBin  \\\n",
       "0             No  Healthy         1  ...         69    (-0.1, 3.0]   \n",
       "1       Not Sure  Healthy         1  ...         23    (-0.1, 3.0]   \n",
       "2             No  Healthy         1  ...         69    (-0.1, 3.0]   \n",
       "3             No  Healthy         1  ...         25    (3.0, 12.0]   \n",
       "4             No  Healthy         1  ...         81    (-0.1, 3.0]   \n",
       "...          ...      ...       ...  ...        ...            ...   \n",
       "12982         No  Healthy         1  ...         81    (-0.1, 3.0]   \n",
       "12983         No  Healthy         1  ...          1    (3.0, 12.0]   \n",
       "12984        Yes  Healthy         2  ...         31  (12.0, 255.0]   \n",
       "12985        Yes  Healthy         1  ...         18    (3.0, 12.0]   \n",
       "12986         No  Healthy         1  ...         16    (-0.1, 3.0]   \n",
       "\n",
       "             FeeBin   PhotoAmtBin     PolarityBin SubjectivityBin  \\\n",
       "0      (0.0, 300.0]  (0.99, 3.99]     (0.1, 0.15]  (0.379, 0.442]   \n",
       "1       (-0.1, 0.0]  (0.99, 3.99]   (0.0333, 0.1]  (0.379, 0.442]   \n",
       "2       (-0.1, 0.0]  (3.99, 30.0]  (0.239, 0.288]  (0.521, 0.562]   \n",
       "3      (0.0, 300.0]  (3.99, 30.0]   (0.288, 0.35]  (0.379, 0.442]   \n",
       "4       (-0.1, 0.0]  (0.99, 3.99]   (0.35, 0.434]    (0.734, 1.0]   \n",
       "...             ...           ...             ...             ...   \n",
       "12982   (-0.1, 0.0]  (0.99, 3.99]   (0.15, 0.193]    (0.2, 0.379]   \n",
       "12983   (-0.1, 0.0]  (0.99, 3.99]   (-1.001, 0.0]   (-0.001, 0.2]   \n",
       "12984   (-0.1, 0.0]  (0.99, 3.99]   (0.15, 0.193]    (0.2, 0.379]   \n",
       "12985   (-0.1, 0.0]  (0.99, 3.99]    (0.434, 1.0]     (0.6, 0.65]   \n",
       "12986   (-0.1, 0.0]  (0.99, 3.99]   (0.0333, 0.1]    (0.2, 0.379]   \n",
       "\n",
       "        DescwordsBin  Adopted       AdoptionSpeed InitialAdoptionSpeed  \n",
       "0       (56.0, 71.0]     True    instant adoption                    2  \n",
       "1       (17.0, 25.0]     True    instant adoption                    0  \n",
       "2       (56.0, 71.0]     True    delayed adoption                    3  \n",
       "3       (17.0, 25.0]     True    instant adoption                    2  \n",
       "4       (71.0, 93.0]     True    instant adoption                    2  \n",
       "...              ...      ...                 ...                  ...  \n",
       "12982   (71.0, 93.0]     True    delayed adoption                    3  \n",
       "12983  (-0.001, 9.0]     True    instant adoption                    0  \n",
       "12984   (25.0, 34.0]    False  very late adoption                    4  \n",
       "12985   (17.0, 25.0]    False  very late adoption                    4  \n",
       "12986    (9.0, 17.0]     True    delayed adoption                    3  \n",
       "\n",
       "[12987 rows x 28 columns]"
      ]
     },
     "execution_count": 3,
     "metadata": {},
     "output_type": "execute_result"
    }
   ],
   "source": [
    "PetFinder_dataset"
   ]
  },
  {
   "cell_type": "code",
   "execution_count": 4,
   "metadata": {
    "scrolled": false
   },
   "outputs": [
    {
     "data": {
      "image/png": "[encoded data removed]",
      "text/plain": [
       "<Figure size 432x288 with 1 Axes>"
      ]
     },
     "metadata": {
      "needs_background": "light"
     },
     "output_type": "display_data"
    }
   ],
   "source": [
    "sns.countplot(x=PetFinder_dataset['Adopted'])\n",
    "plt.show()"
   ]
  },
  {
   "cell_type": "markdown",
   "metadata": {},
   "source": [
    "## Perform undersampling of the majority class"
   ]
  },
  {
   "cell_type": "code",
   "execution_count": 5,
   "metadata": {},
   "outputs": [],
   "source": [
    "PetFinder_dataset = pd.concat([PetFinder_dataset[~PetFinder_dataset['Adopted']], \n",
    "    PetFinder_dataset[PetFinder_dataset['Adopted']].sample(n=PetFinder_dataset[~PetFinder_dataset['Adopted']]['Adopted'].count(), replace=False, random_state=None)])\n"
   ]
  },
  {
   "cell_type": "code",
   "execution_count": 6,
   "metadata": {
    "scrolled": false
   },
   "outputs": [
    {
     "data": {
      "image/png": "[encoded data removed]",
      "text/plain": [
       "<Figure size 432x288 with 1 Axes>"
      ]
     },
     "metadata": {
      "needs_background": "light"
     },
     "output_type": "display_data"
    }
   ],
   "source": [
    "sns.countplot(x=PetFinder_dataset['Adopted'])\n",
    "plt.show()"
   ]
  },
  {
   "cell_type": "code",
   "execution_count": 7,
   "metadata": {},
   "outputs": [],
   "source": [
    "BinaryClassification = PetFinder_dataset.drop(['AdoptionSpeed','InitialAdoptionSpeed','AgeBin','FeeBin','PhotoAmtBin','PolarityBin','DescwordsBin','SubjectivityBin'],axis=1).copy(deep=True)"
   ]
  },
  {
   "cell_type": "code",
   "execution_count": 8,
   "metadata": {},
   "outputs": [
    {
     "data": {
      "text/html": [
       "<div>\n",
       "<style scoped>\n",
       "    .dataframe tbody tr th:only-of-type {\n",
       "        vertical-align: middle;\n",
       "    }\n",
       "\n",
       "    .dataframe tbody tr th {\n",
       "        vertical-align: top;\n",
       "    }\n",
       "\n",
       "    .dataframe thead th {\n",
       "        text-align: right;\n",
       "    }\n",
       "</style>\n",
       "<table border=\"1\" class=\"dataframe\">\n",
       "  <thead>\n",
       "    <tr style=\"text-align: right;\">\n",
       "      <th></th>\n",
       "      <th>Type</th>\n",
       "      <th>Age</th>\n",
       "      <th>Gender</th>\n",
       "      <th>MaturitySize</th>\n",
       "      <th>FurLength</th>\n",
       "      <th>Vaccinated</th>\n",
       "      <th>Dewormed</th>\n",
       "      <th>Sterilized</th>\n",
       "      <th>Health</th>\n",
       "      <th>Quantity</th>\n",
       "      <th>Fee</th>\n",
       "      <th>State</th>\n",
       "      <th>PhotoAmt</th>\n",
       "      <th>Hasname</th>\n",
       "      <th>Breed</th>\n",
       "      <th>Color</th>\n",
       "      <th>Polarity</th>\n",
       "      <th>Subjectivity</th>\n",
       "      <th>DescWords</th>\n",
       "      <th>Adopted</th>\n",
       "    </tr>\n",
       "  </thead>\n",
       "  <tbody>\n",
       "    <tr>\n",
       "      <th>8</th>\n",
       "      <td>Cat</td>\n",
       "      <td>12</td>\n",
       "      <td>Female</td>\n",
       "      <td>Medium</td>\n",
       "      <td>Medium</td>\n",
       "      <td>Not Sure</td>\n",
       "      <td>Not Sure</td>\n",
       "      <td>Not Sure</td>\n",
       "      <td>Healthy</td>\n",
       "      <td>1</td>\n",
       "      <td>0</td>\n",
       "      <td>Selangor</td>\n",
       "      <td>2.0</td>\n",
       "      <td>1</td>\n",
       "      <td>Domestic</td>\n",
       "      <td>BlackOther</td>\n",
       "      <td>0.213750</td>\n",
       "      <td>0.511250</td>\n",
       "      <td>45</td>\n",
       "      <td>False</td>\n",
       "    </tr>\n",
       "    <tr>\n",
       "      <th>13</th>\n",
       "      <td>Dog</td>\n",
       "      <td>78</td>\n",
       "      <td>Male</td>\n",
       "      <td>Medium</td>\n",
       "      <td>Medium</td>\n",
       "      <td>Not Sure</td>\n",
       "      <td>Not Sure</td>\n",
       "      <td>Not Sure</td>\n",
       "      <td>Healthy</td>\n",
       "      <td>1</td>\n",
       "      <td>0</td>\n",
       "      <td>Selangor</td>\n",
       "      <td>2.0</td>\n",
       "      <td>1</td>\n",
       "      <td>Mixed Breed</td>\n",
       "      <td>BlackOther</td>\n",
       "      <td>0.502083</td>\n",
       "      <td>0.645833</td>\n",
       "      <td>68</td>\n",
       "      <td>False</td>\n",
       "    </tr>\n",
       "    <tr>\n",
       "      <th>15</th>\n",
       "      <td>Dog</td>\n",
       "      <td>8</td>\n",
       "      <td>Female</td>\n",
       "      <td>Medium</td>\n",
       "      <td>Short</td>\n",
       "      <td>No</td>\n",
       "      <td>Yes</td>\n",
       "      <td>Yes</td>\n",
       "      <td>Healthy</td>\n",
       "      <td>1</td>\n",
       "      <td>10</td>\n",
       "      <td>Perak</td>\n",
       "      <td>2.0</td>\n",
       "      <td>1</td>\n",
       "      <td>Mixed Breed</td>\n",
       "      <td>Brown</td>\n",
       "      <td>0.213333</td>\n",
       "      <td>0.460000</td>\n",
       "      <td>71</td>\n",
       "      <td>False</td>\n",
       "    </tr>\n",
       "  </tbody>\n",
       "</table>\n",
       "</div>"
      ],
      "text/plain": [
       "   Type  Age  Gender MaturitySize FurLength Vaccinated  Dewormed Sterilized  \\\n",
       "8   Cat   12  Female       Medium    Medium   Not Sure  Not Sure   Not Sure   \n",
       "13  Dog   78    Male       Medium    Medium   Not Sure  Not Sure   Not Sure   \n",
       "15  Dog    8  Female       Medium     Short         No       Yes        Yes   \n",
       "\n",
       "     Health  Quantity  Fee     State  PhotoAmt  Hasname        Breed  \\\n",
       "8   Healthy         1    0  Selangor       2.0        1     Domestic   \n",
       "13  Healthy         1    0  Selangor       2.0        1  Mixed Breed   \n",
       "15  Healthy         1   10     Perak       2.0        1  Mixed Breed   \n",
       "\n",
       "         Color  Polarity  Subjectivity  DescWords  Adopted  \n",
       "8   BlackOther  0.213750      0.511250         45    False  \n",
       "13  BlackOther  0.502083      0.645833         68    False  \n",
       "15       Brown  0.213333      0.460000         71    False  "
      ]
     },
     "execution_count": 8,
     "metadata": {},
     "output_type": "execute_result"
    }
   ],
   "source": [
    "BinaryClassification.head(3)"
   ]
  },
  {
   "cell_type": "code",
   "execution_count": 9,
   "metadata": {},
   "outputs": [
    {
     "data": {
      "text/plain": [
       "Type            0\n",
       "Age             0\n",
       "Gender          0\n",
       "MaturitySize    0\n",
       "FurLength       0\n",
       "Vaccinated      0\n",
       "Dewormed        0\n",
       "Sterilized      0\n",
       "Health          0\n",
       "Quantity        0\n",
       "Fee             0\n",
       "State           0\n",
       "PhotoAmt        0\n",
       "Hasname         0\n",
       "Breed           0\n",
       "Color           0\n",
       "Polarity        0\n",
       "Subjectivity    0\n",
       "DescWords       0\n",
       "Adopted         0\n",
       "dtype: int64"
      ]
     },
     "execution_count": 9,
     "metadata": {},
     "output_type": "execute_result"
    }
   ],
   "source": [
    "BinaryClassification.isnull().sum()"
   ]
  },
  {
   "cell_type": "code",
   "execution_count": 10,
   "metadata": {},
   "outputs": [
    {
     "data": {
      "text/plain": [
       "Type             object\n",
       "Age               int64\n",
       "Gender           object\n",
       "MaturitySize     object\n",
       "FurLength        object\n",
       "Vaccinated       object\n",
       "Dewormed         object\n",
       "Sterilized       object\n",
       "Health           object\n",
       "Quantity          int64\n",
       "Fee               int64\n",
       "State            object\n",
       "PhotoAmt        float64\n",
       "Hasname           int64\n",
       "Breed            object\n",
       "Color            object\n",
       "Polarity        float64\n",
       "Subjectivity    float64\n",
       "DescWords         int64\n",
       "Adopted            bool\n",
       "dtype: object"
      ]
     },
     "execution_count": 10,
     "metadata": {},
     "output_type": "execute_result"
    }
   ],
   "source": [
    "BinaryClassification.dtypes"
   ]
  },
  {
   "cell_type": "code",
   "execution_count": 11,
   "metadata": {},
   "outputs": [
    {
     "data": {
      "text/plain": [
       "(7016, 20)"
      ]
     },
     "execution_count": 11,
     "metadata": {},
     "output_type": "execute_result"
    }
   ],
   "source": [
    "BinaryClassification.shape"
   ]
  },
  {
   "cell_type": "code",
   "execution_count": 12,
   "metadata": {},
   "outputs": [],
   "source": [
    "mm_scaler = preprocessing.MinMaxScaler()\n",
    "BinaryClassification[['Age','Quantity' , 'Fee' , 'PhotoAmt','DescWords']] = mm_scaler.fit_transform(BinaryClassification[['Age','Quantity' , 'Fee' , 'PhotoAmt','DescWords']])"
   ]
  },
  {
   "cell_type": "code",
   "execution_count": 13,
   "metadata": {},
   "outputs": [],
   "source": [
    "y = BinaryClassification['Adopted']"
   ]
  },
  {
   "cell_type": "code",
   "execution_count": 14,
   "metadata": {},
   "outputs": [],
   "source": [
    "BinaryClassification.drop([ 'Adopted'], axis=1 , inplace=True)"
   ]
  },
  {
   "cell_type": "markdown",
   "metadata": {},
   "source": [
    "## Encoding the categorical variables"
   ]
  },
  {
   "cell_type": "code",
   "execution_count": 15,
   "metadata": {},
   "outputs": [],
   "source": [
    "one_hot = pd.get_dummies(BinaryClassification)"
   ]
  },
  {
   "cell_type": "code",
   "execution_count": 16,
   "metadata": {},
   "outputs": [
    {
     "data": {
      "text/html": [
       "<div>\n",
       "<style scoped>\n",
       "    .dataframe tbody tr th:only-of-type {\n",
       "        vertical-align: middle;\n",
       "    }\n",
       "\n",
       "    .dataframe tbody tr th {\n",
       "        vertical-align: top;\n",
       "    }\n",
       "\n",
       "    .dataframe thead th {\n",
       "        text-align: right;\n",
       "    }\n",
       "</style>\n",
       "<table border=\"1\" class=\"dataframe\">\n",
       "  <thead>\n",
       "    <tr style=\"text-align: right;\">\n",
       "      <th></th>\n",
       "      <th>Age</th>\n",
       "      <th>Quantity</th>\n",
       "      <th>Fee</th>\n",
       "      <th>PhotoAmt</th>\n",
       "      <th>Hasname</th>\n",
       "      <th>Polarity</th>\n",
       "      <th>Subjectivity</th>\n",
       "      <th>DescWords</th>\n",
       "      <th>Type_Cat</th>\n",
       "      <th>Type_Dog</th>\n",
       "      <th>...</th>\n",
       "      <th>Color_BrownOther</th>\n",
       "      <th>Color_Cream</th>\n",
       "      <th>Color_CreamOther</th>\n",
       "      <th>Color_Golden</th>\n",
       "      <th>Color_GoldenOther</th>\n",
       "      <th>Color_Gray</th>\n",
       "      <th>Color_GrayOther</th>\n",
       "      <th>Color_White</th>\n",
       "      <th>Color_Yellow</th>\n",
       "      <th>Color_YellowOther</th>\n",
       "    </tr>\n",
       "  </thead>\n",
       "  <tbody>\n",
       "    <tr>\n",
       "      <th>8</th>\n",
       "      <td>0.047059</td>\n",
       "      <td>0.0</td>\n",
       "      <td>0.0000</td>\n",
       "      <td>0.066667</td>\n",
       "      <td>1</td>\n",
       "      <td>0.213750</td>\n",
       "      <td>0.511250</td>\n",
       "      <td>0.035800</td>\n",
       "      <td>1</td>\n",
       "      <td>0</td>\n",
       "      <td>...</td>\n",
       "      <td>0</td>\n",
       "      <td>0</td>\n",
       "      <td>0</td>\n",
       "      <td>0</td>\n",
       "      <td>0</td>\n",
       "      <td>0</td>\n",
       "      <td>0</td>\n",
       "      <td>0</td>\n",
       "      <td>0</td>\n",
       "      <td>0</td>\n",
       "    </tr>\n",
       "    <tr>\n",
       "      <th>13</th>\n",
       "      <td>0.305882</td>\n",
       "      <td>0.0</td>\n",
       "      <td>0.0000</td>\n",
       "      <td>0.066667</td>\n",
       "      <td>1</td>\n",
       "      <td>0.502083</td>\n",
       "      <td>0.645833</td>\n",
       "      <td>0.054097</td>\n",
       "      <td>0</td>\n",
       "      <td>1</td>\n",
       "      <td>...</td>\n",
       "      <td>0</td>\n",
       "      <td>0</td>\n",
       "      <td>0</td>\n",
       "      <td>0</td>\n",
       "      <td>0</td>\n",
       "      <td>0</td>\n",
       "      <td>0</td>\n",
       "      <td>0</td>\n",
       "      <td>0</td>\n",
       "      <td>0</td>\n",
       "    </tr>\n",
       "    <tr>\n",
       "      <th>15</th>\n",
       "      <td>0.031373</td>\n",
       "      <td>0.0</td>\n",
       "      <td>0.0050</td>\n",
       "      <td>0.066667</td>\n",
       "      <td>1</td>\n",
       "      <td>0.213333</td>\n",
       "      <td>0.460000</td>\n",
       "      <td>0.056484</td>\n",
       "      <td>0</td>\n",
       "      <td>1</td>\n",
       "      <td>...</td>\n",
       "      <td>0</td>\n",
       "      <td>0</td>\n",
       "      <td>0</td>\n",
       "      <td>0</td>\n",
       "      <td>0</td>\n",
       "      <td>0</td>\n",
       "      <td>0</td>\n",
       "      <td>0</td>\n",
       "      <td>0</td>\n",
       "      <td>0</td>\n",
       "    </tr>\n",
       "    <tr>\n",
       "      <th>18</th>\n",
       "      <td>0.039216</td>\n",
       "      <td>0.0</td>\n",
       "      <td>0.0000</td>\n",
       "      <td>0.000000</td>\n",
       "      <td>1</td>\n",
       "      <td>0.191667</td>\n",
       "      <td>0.266667</td>\n",
       "      <td>0.051710</td>\n",
       "      <td>0</td>\n",
       "      <td>1</td>\n",
       "      <td>...</td>\n",
       "      <td>0</td>\n",
       "      <td>0</td>\n",
       "      <td>0</td>\n",
       "      <td>0</td>\n",
       "      <td>0</td>\n",
       "      <td>0</td>\n",
       "      <td>0</td>\n",
       "      <td>0</td>\n",
       "      <td>0</td>\n",
       "      <td>0</td>\n",
       "    </tr>\n",
       "    <tr>\n",
       "      <th>28</th>\n",
       "      <td>0.011765</td>\n",
       "      <td>0.0</td>\n",
       "      <td>0.0005</td>\n",
       "      <td>0.166667</td>\n",
       "      <td>1</td>\n",
       "      <td>0.000000</td>\n",
       "      <td>0.500000</td>\n",
       "      <td>0.002387</td>\n",
       "      <td>1</td>\n",
       "      <td>0</td>\n",
       "      <td>...</td>\n",
       "      <td>0</td>\n",
       "      <td>0</td>\n",
       "      <td>0</td>\n",
       "      <td>0</td>\n",
       "      <td>0</td>\n",
       "      <td>0</td>\n",
       "      <td>0</td>\n",
       "      <td>0</td>\n",
       "      <td>0</td>\n",
       "      <td>0</td>\n",
       "    </tr>\n",
       "    <tr>\n",
       "      <th>...</th>\n",
       "      <td>...</td>\n",
       "      <td>...</td>\n",
       "      <td>...</td>\n",
       "      <td>...</td>\n",
       "      <td>...</td>\n",
       "      <td>...</td>\n",
       "      <td>...</td>\n",
       "      <td>...</td>\n",
       "      <td>...</td>\n",
       "      <td>...</td>\n",
       "      <td>...</td>\n",
       "      <td>...</td>\n",
       "      <td>...</td>\n",
       "      <td>...</td>\n",
       "      <td>...</td>\n",
       "      <td>...</td>\n",
       "      <td>...</td>\n",
       "      <td>...</td>\n",
       "      <td>...</td>\n",
       "      <td>...</td>\n",
       "      <td>...</td>\n",
       "    </tr>\n",
       "    <tr>\n",
       "      <th>1948</th>\n",
       "      <td>0.007843</td>\n",
       "      <td>0.0</td>\n",
       "      <td>0.0000</td>\n",
       "      <td>0.100000</td>\n",
       "      <td>1</td>\n",
       "      <td>0.524074</td>\n",
       "      <td>0.711111</td>\n",
       "      <td>0.042164</td>\n",
       "      <td>0</td>\n",
       "      <td>1</td>\n",
       "      <td>...</td>\n",
       "      <td>0</td>\n",
       "      <td>0</td>\n",
       "      <td>0</td>\n",
       "      <td>0</td>\n",
       "      <td>0</td>\n",
       "      <td>0</td>\n",
       "      <td>0</td>\n",
       "      <td>0</td>\n",
       "      <td>0</td>\n",
       "      <td>0</td>\n",
       "    </tr>\n",
       "    <tr>\n",
       "      <th>3263</th>\n",
       "      <td>0.007843</td>\n",
       "      <td>0.0</td>\n",
       "      <td>0.0000</td>\n",
       "      <td>0.033333</td>\n",
       "      <td>0</td>\n",
       "      <td>0.000000</td>\n",
       "      <td>0.000000</td>\n",
       "      <td>0.001591</td>\n",
       "      <td>0</td>\n",
       "      <td>1</td>\n",
       "      <td>...</td>\n",
       "      <td>0</td>\n",
       "      <td>0</td>\n",
       "      <td>0</td>\n",
       "      <td>0</td>\n",
       "      <td>0</td>\n",
       "      <td>0</td>\n",
       "      <td>0</td>\n",
       "      <td>1</td>\n",
       "      <td>0</td>\n",
       "      <td>0</td>\n",
       "    </tr>\n",
       "    <tr>\n",
       "      <th>1757</th>\n",
       "      <td>0.007843</td>\n",
       "      <td>1.0</td>\n",
       "      <td>0.0000</td>\n",
       "      <td>0.166667</td>\n",
       "      <td>1</td>\n",
       "      <td>0.098718</td>\n",
       "      <td>0.483333</td>\n",
       "      <td>0.066030</td>\n",
       "      <td>1</td>\n",
       "      <td>0</td>\n",
       "      <td>...</td>\n",
       "      <td>0</td>\n",
       "      <td>0</td>\n",
       "      <td>0</td>\n",
       "      <td>0</td>\n",
       "      <td>0</td>\n",
       "      <td>0</td>\n",
       "      <td>0</td>\n",
       "      <td>0</td>\n",
       "      <td>0</td>\n",
       "      <td>0</td>\n",
       "    </tr>\n",
       "    <tr>\n",
       "      <th>1514</th>\n",
       "      <td>0.047059</td>\n",
       "      <td>0.0</td>\n",
       "      <td>0.0000</td>\n",
       "      <td>0.066667</td>\n",
       "      <td>1</td>\n",
       "      <td>0.300000</td>\n",
       "      <td>0.587500</td>\n",
       "      <td>0.009547</td>\n",
       "      <td>1</td>\n",
       "      <td>0</td>\n",
       "      <td>...</td>\n",
       "      <td>0</td>\n",
       "      <td>0</td>\n",
       "      <td>0</td>\n",
       "      <td>0</td>\n",
       "      <td>0</td>\n",
       "      <td>0</td>\n",
       "      <td>0</td>\n",
       "      <td>0</td>\n",
       "      <td>1</td>\n",
       "      <td>0</td>\n",
       "    </tr>\n",
       "    <tr>\n",
       "      <th>1926</th>\n",
       "      <td>0.094118</td>\n",
       "      <td>0.0</td>\n",
       "      <td>0.2000</td>\n",
       "      <td>0.033333</td>\n",
       "      <td>1</td>\n",
       "      <td>0.416667</td>\n",
       "      <td>0.500000</td>\n",
       "      <td>0.012729</td>\n",
       "      <td>0</td>\n",
       "      <td>1</td>\n",
       "      <td>...</td>\n",
       "      <td>0</td>\n",
       "      <td>0</td>\n",
       "      <td>0</td>\n",
       "      <td>0</td>\n",
       "      <td>0</td>\n",
       "      <td>0</td>\n",
       "      <td>0</td>\n",
       "      <td>0</td>\n",
       "      <td>0</td>\n",
       "      <td>0</td>\n",
       "    </tr>\n",
       "  </tbody>\n",
       "</table>\n",
       "<p>7016 rows × 61 columns</p>\n",
       "</div>"
      ],
      "text/plain": [
       "           Age  Quantity     Fee  PhotoAmt  Hasname  Polarity  Subjectivity  \\\n",
       "8     0.047059       0.0  0.0000  0.066667        1  0.213750      0.511250   \n",
       "13    0.305882       0.0  0.0000  0.066667        1  0.502083      0.645833   \n",
       "15    0.031373       0.0  0.0050  0.066667        1  0.213333      0.460000   \n",
       "18    0.039216       0.0  0.0000  0.000000        1  0.191667      0.266667   \n",
       "28    0.011765       0.0  0.0005  0.166667        1  0.000000      0.500000   \n",
       "...        ...       ...     ...       ...      ...       ...           ...   \n",
       "1948  0.007843       0.0  0.0000  0.100000        1  0.524074      0.711111   \n",
       "3263  0.007843       0.0  0.0000  0.033333        0  0.000000      0.000000   \n",
       "1757  0.007843       1.0  0.0000  0.166667        1  0.098718      0.483333   \n",
       "1514  0.047059       0.0  0.0000  0.066667        1  0.300000      0.587500   \n",
       "1926  0.094118       0.0  0.2000  0.033333        1  0.416667      0.500000   \n",
       "\n",
       "      DescWords  Type_Cat  Type_Dog  ...  Color_BrownOther  Color_Cream  \\\n",
       "8      0.035800         1         0  ...                 0            0   \n",
       "13     0.054097         0         1  ...                 0            0   \n",
       "15     0.056484         0         1  ...                 0            0   \n",
       "18     0.051710         0         1  ...                 0            0   \n",
       "28     0.002387         1         0  ...                 0            0   \n",
       "...         ...       ...       ...  ...               ...          ...   \n",
       "1948   0.042164         0         1  ...                 0            0   \n",
       "3263   0.001591         0         1  ...                 0            0   \n",
       "1757   0.066030         1         0  ...                 0            0   \n",
       "1514   0.009547         1         0  ...                 0            0   \n",
       "1926   0.012729         0         1  ...                 0            0   \n",
       "\n",
       "      Color_CreamOther  Color_Golden  Color_GoldenOther  Color_Gray  \\\n",
       "8                    0             0                  0           0   \n",
       "13                   0             0                  0           0   \n",
       "15                   0             0                  0           0   \n",
       "18                   0             0                  0           0   \n",
       "28                   0             0                  0           0   \n",
       "...                ...           ...                ...         ...   \n",
       "1948                 0             0                  0           0   \n",
       "3263                 0             0                  0           0   \n",
       "1757                 0             0                  0           0   \n",
       "1514                 0             0                  0           0   \n",
       "1926                 0             0                  0           0   \n",
       "\n",
       "      Color_GrayOther  Color_White  Color_Yellow  Color_YellowOther  \n",
       "8                   0            0             0                  0  \n",
       "13                  0            0             0                  0  \n",
       "15                  0            0             0                  0  \n",
       "18                  0            0             0                  0  \n",
       "28                  0            0             0                  0  \n",
       "...               ...          ...           ...                ...  \n",
       "1948                0            0             0                  0  \n",
       "3263                0            1             0                  0  \n",
       "1757                0            0             0                  0  \n",
       "1514                0            0             1                  0  \n",
       "1926                0            0             0                  0  \n",
       "\n",
       "[7016 rows x 61 columns]"
      ]
     },
     "execution_count": 16,
     "metadata": {},
     "output_type": "execute_result"
    }
   ],
   "source": [
    "one_hot"
   ]
  },
  {
   "cell_type": "code",
   "execution_count": 17,
   "metadata": {},
   "outputs": [],
   "source": [
    "X_train, X_test, y_train, y_test = train_test_split(one_hot, y, test_size=0.20, shuffle = True)"
   ]
  },
  {
   "cell_type": "code",
   "execution_count": 18,
   "metadata": {},
   "outputs": [],
   "source": [
    "def plot_confusion_matrix(cm, classes,\n",
    "                          normalize=False,\n",
    "                          title='Confusion matrix',\n",
    "                          cmap=plt.cm.Blues):\n",
    "    \"\"\"\n",
    "    See full source and example: \n",
    "    http://scikit-learn.org/stable/auto_examples/model_selection/plot_confusion_matrix.html\n",
    "    \n",
    "    This function prints and plots the confusion matrix.\n",
    "    Normalization can be applied by setting `normalize=True`.\n",
    "    \"\"\"\n",
    "    plt.imshow(cm, interpolation='nearest', cmap=cmap)\n",
    "    plt.title(title)\n",
    "    plt.colorbar()\n",
    "    tick_marks = np.arange(len(classes))\n",
    "    plt.xticks(tick_marks, classes, rotation=45)\n",
    "    plt.yticks(tick_marks, classes)\n",
    "\n",
    "    if normalize:\n",
    "        cm = cm.astype('float') / cm.sum(axis=1)[:, np.newaxis]\n",
    "        print(\"Normalized confusion matrix\")\n",
    "    else:\n",
    "        print('Confusion matrix, without normalization')\n",
    "\n",
    "    thresh = cm.max() / 2.\n",
    "    for i, j in itertools.product(range(cm.shape[0]), range(cm.shape[1])):\n",
    "        plt.text(j, i, cm[i, j],\n",
    "                 horizontalalignment=\"center\",\n",
    "                 color=\"white\" if cm[i, j] > thresh else \"black\")\n",
    "\n",
    "    plt.tight_layout()\n",
    "    plt.ylabel('True label')\n",
    "    plt.xlabel('Predicted label')"
   ]
  },
  {
   "cell_type": "markdown",
   "metadata": {},
   "source": [
    "## 1.2. Learning Classifiers"
   ]
  },
  {
   "cell_type": "markdown",
   "metadata": {},
   "source": [
    "### Decision Tree Classifier"
   ]
  },
  {
   "cell_type": "code",
   "execution_count": 19,
   "metadata": {
    "scrolled": true
   },
   "outputs": [
    {
     "name": "stdout",
     "output_type": "stream",
     "text": [
      "# Tuning hyper-parameters for accuracy\n",
      "\n",
      "Best parameters set found on Train set:\n",
      "\n",
      "{'criterion': 'entropy', 'max_leaf_nodes': 20}\n",
      "\n",
      "Grid scores on Train set:\n",
      "\n",
      "0.663 (+/-0.025) for {'criterion': 'gini', 'max_leaf_nodes': 20}\n",
      "0.662 (+/-0.029) for {'criterion': 'gini', 'max_leaf_nodes': 40}\n",
      "0.660 (+/-0.030) for {'criterion': 'gini', 'max_leaf_nodes': 80}\n",
      "0.664 (+/-0.017) for {'criterion': 'entropy', 'max_leaf_nodes': 20}\n",
      "0.663 (+/-0.023) for {'criterion': 'entropy', 'max_leaf_nodes': 40}\n",
      "0.659 (+/-0.020) for {'criterion': 'entropy', 'max_leaf_nodes': 80}\n",
      "\n",
      "Detailed classification report on Test Set:\n",
      "              precision    recall  f1-score   support\n",
      "\n",
      "           0       0.66      0.70      0.68       700\n",
      "           1       0.69      0.64      0.66       704\n",
      "\n",
      "    accuracy                           0.67      1404\n",
      "   macro avg       0.67      0.67      0.67      1404\n",
      "weighted avg       0.67      0.67      0.67      1404\n",
      "\n",
      "\n"
     ]
    }
   ],
   "source": [
    "# Set the parameters by cross-validation\n",
    "tuned_parameters = [{'criterion':['gini','entropy'],'max_leaf_nodes': [20,40,80]}]\n",
    "\n",
    "scores = ['accuracy']\n",
    "\n",
    "for score in scores:\n",
    "    print(\"# Tuning hyper-parameters for %s\" % score)\n",
    "    print()\n",
    "\n",
    "    clf_DTC = GridSearchCV(\n",
    "        DecisionTreeClassifier(), tuned_parameters, cv=5, scoring='%s' % score)\n",
    "    clf_DTC.fit(X_train, y_train)\n",
    "\n",
    "    print(\"Best parameters set found on Train set:\")\n",
    "    print()\n",
    "    print(clf_DTC.best_params_)\n",
    "    print()\n",
    "    print(\"Grid scores on Train set:\")\n",
    "    print()\n",
    "    means = clf_DTC.cv_results_['mean_test_score']\n",
    "    stds = clf_DTC.cv_results_['std_test_score']\n",
    "    for mean, std, params in zip(means, stds, clf_DTC.cv_results_['params']):\n",
    "        print(\"%0.3f (+/-%0.03f) for %r\"\n",
    "              % (mean, std * 2, params))\n",
    "    print()\n",
    "\n",
    "    print(\"Detailed classification report on Test Set:\")\n",
    "    pred = clf_DTC.predict(X_test)\n",
    "    print(classification_report(y_test, pred,target_names=['0' , '1']))\n",
    "    print()"
   ]
  },
  {
   "cell_type": "markdown",
   "metadata": {},
   "source": [
    "### Dsiplay the Decision Tree based on the best parameters found"
   ]
  },
  {
   "cell_type": "code",
   "execution_count": 20,
   "metadata": {},
   "outputs": [],
   "source": [
    "clf_DTC = DecisionTreeClassifier(criterion='entropy',max_leaf_nodes=80)\n",
    "clf_DTC.fit(X_train, y_train)\n",
    "dot_data = tree.export_graphviz(clf_DTC, out_file=\"clf_DTC.dot\",\n",
    "                                feature_names=one_hot.columns,\n",
    "                                class_names=['0' , '1'],\n",
    "                                filled=True, rounded=True,\n",
    "                                special_characters=True)"
   ]
  },
  {
   "cell_type": "code",
   "execution_count": 21,
   "metadata": {},
   "outputs": [],
   "source": [
    "(clf_DTC_graph,) = pydot.graph_from_dot_file('clf_DTC.dot')\n",
    "clf_DTC_graph.write_png('clf_DTC.png')"
   ]
  },
  {
   "cell_type": "code",
   "execution_count": 22,
   "metadata": {
    "scrolled": true
   },
   "outputs": [
    {
     "data": {
      "text/html": [
       "<img src=\"clf_DTC.png?919197740\" alt=\"clf_DTC.png\" height=\"100\">"
      ],
      "text/plain": [
       "<IPython.core.display.HTML object>"
      ]
     },
     "metadata": {},
     "output_type": "display_data"
    }
   ],
   "source": [
    "display(HTML('<img src=\"clf_DTC.png?%d\" alt=\"clf_DTC.png\" height=\"100\">' % random.randint(0,2e9)))"
   ]
  },
  {
   "cell_type": "code",
   "execution_count": 23,
   "metadata": {},
   "outputs": [],
   "source": [
    "scores = cross_val_score(clf_DTC, X_train, y_train, cv=5)"
   ]
  },
  {
   "cell_type": "code",
   "execution_count": 24,
   "metadata": {},
   "outputs": [
    {
     "name": "stdout",
     "output_type": "stream",
     "text": [
      "Accuracy: 0.66 (+/- 0.02)\n"
     ]
    }
   ],
   "source": [
    "print(\"Accuracy: %0.2f (+/- %0.2f)\" % (scores.mean(), scores.std() * 2))"
   ]
  },
  {
   "cell_type": "code",
   "execution_count": 25,
   "metadata": {},
   "outputs": [
    {
     "name": "stdout",
     "output_type": "stream",
     "text": [
      "              precision    recall  f1-score   support\n",
      "\n",
      "           0       0.69      0.57      0.62       700\n",
      "           1       0.63      0.74      0.68       704\n",
      "\n",
      "    accuracy                           0.66      1404\n",
      "   macro avg       0.66      0.66      0.65      1404\n",
      "weighted avg       0.66      0.66      0.65      1404\n",
      "\n"
     ]
    }
   ],
   "source": [
    "pred = clf_DTC.predict(X_test)\n",
    "#generate classification report\n",
    "print(classification_report(y_test, pred, target_names=['0' , '1']))"
   ]
  },
  {
   "cell_type": "code",
   "execution_count": 26,
   "metadata": {},
   "outputs": [
    {
     "name": "stdout",
     "output_type": "stream",
     "text": [
      "Confusion matrix, without normalization\n"
     ]
    },
    {
     "data": {
      "image/png": "[encoded data removed]",
      "text/plain": [
       "<Figure size 432x288 with 2 Axes>"
      ]
     },
     "metadata": {
      "needs_background": "light"
     },
     "output_type": "display_data"
    }
   ],
   "source": [
    "cm = metrics.confusion_matrix(y_test, pred, labels=[0, 1])\n",
    "plot_confusion_matrix(cm, classes=[0, 1])"
   ]
  },
  {
   "cell_type": "markdown",
   "metadata": {},
   "source": [
    "### Linear SVM"
   ]
  },
  {
   "cell_type": "code",
   "execution_count": 27,
   "metadata": {},
   "outputs": [
    {
     "name": "stdout",
     "output_type": "stream",
     "text": [
      "# Tuning hyper-parameters for accuracy\n",
      "\n",
      "Best parameters set found on Train set:\n",
      "\n",
      "{'alpha': 0.001, 'loss': 'hinge', 'penalty': 'l2'}\n",
      "\n",
      "Grid scores on Train set:\n",
      "\n",
      "0.612 (+/-0.036) for {'alpha': 0.1, 'loss': 'hinge', 'penalty': 'l2'}\n",
      "0.562 (+/-0.102) for {'alpha': 0.1, 'loss': 'hinge', 'penalty': 'l1'}\n",
      "0.542 (+/-0.054) for {'alpha': 0.1, 'loss': 'squared_hinge', 'penalty': 'l2'}\n",
      "0.574 (+/-0.041) for {'alpha': 0.1, 'loss': 'squared_hinge', 'penalty': 'l1'}\n",
      "0.612 (+/-0.036) for {'alpha': 0.01, 'loss': 'hinge', 'penalty': 'l2'}\n",
      "0.612 (+/-0.036) for {'alpha': 0.01, 'loss': 'hinge', 'penalty': 'l1'}\n",
      "0.537 (+/-0.027) for {'alpha': 0.01, 'loss': 'squared_hinge', 'penalty': 'l2'}\n",
      "0.581 (+/-0.015) for {'alpha': 0.01, 'loss': 'squared_hinge', 'penalty': 'l1'}\n",
      "0.622 (+/-0.042) for {'alpha': 0.001, 'loss': 'hinge', 'penalty': 'l2'}\n",
      "0.620 (+/-0.040) for {'alpha': 0.001, 'loss': 'hinge', 'penalty': 'l1'}\n",
      "0.546 (+/-0.036) for {'alpha': 0.001, 'loss': 'squared_hinge', 'penalty': 'l2'}\n",
      "0.534 (+/-0.091) for {'alpha': 0.001, 'loss': 'squared_hinge', 'penalty': 'l1'}\n",
      "0.601 (+/-0.050) for {'alpha': 0.0001, 'loss': 'hinge', 'penalty': 'l2'}\n",
      "0.622 (+/-0.027) for {'alpha': 0.0001, 'loss': 'hinge', 'penalty': 'l1'}\n",
      "0.563 (+/-0.044) for {'alpha': 0.0001, 'loss': 'squared_hinge', 'penalty': 'l2'}\n",
      "0.574 (+/-0.045) for {'alpha': 0.0001, 'loss': 'squared_hinge', 'penalty': 'l1'}\n",
      "0.550 (+/-0.080) for {'alpha': 1e-05, 'loss': 'hinge', 'penalty': 'l2'}\n",
      "0.568 (+/-0.041) for {'alpha': 1e-05, 'loss': 'hinge', 'penalty': 'l1'}\n",
      "0.536 (+/-0.044) for {'alpha': 1e-05, 'loss': 'squared_hinge', 'penalty': 'l2'}\n",
      "0.557 (+/-0.043) for {'alpha': 1e-05, 'loss': 'squared_hinge', 'penalty': 'l1'}\n",
      "0.566 (+/-0.045) for {'alpha': 1e-06, 'loss': 'hinge', 'penalty': 'l2'}\n",
      "0.575 (+/-0.079) for {'alpha': 1e-06, 'loss': 'hinge', 'penalty': 'l1'}\n",
      "0.565 (+/-0.070) for {'alpha': 1e-06, 'loss': 'squared_hinge', 'penalty': 'l2'}\n",
      "0.541 (+/-0.050) for {'alpha': 1e-06, 'loss': 'squared_hinge', 'penalty': 'l1'}\n",
      "\n",
      "Detailed classification report on Test Set:\n",
      "              precision    recall  f1-score   support\n",
      "\n",
      "           0       0.65      0.51      0.57       700\n",
      "           1       0.60      0.73      0.66       704\n",
      "\n",
      "    accuracy                           0.62      1404\n",
      "   macro avg       0.63      0.62      0.62      1404\n",
      "weighted avg       0.63      0.62      0.62      1404\n",
      "\n",
      "\n"
     ]
    }
   ],
   "source": [
    "# Set the parameters by cross-validation\n",
    "tuned_parameters = [{'loss':['hinge','squared_hinge'],'alpha': 10.0**-np.arange(1,7),'penalty':['l2','l1']}]\n",
    "\n",
    "scores = ['accuracy']\n",
    "\n",
    "for score in scores:\n",
    "    print(\"# Tuning hyper-parameters for %s\" % score)\n",
    "    print()\n",
    "\n",
    "    sgd_clf = GridSearchCV(\n",
    "        SGDClassifier(max_iter= np.ceil(10**6 / X_train.shape[0])), tuned_parameters, cv=5, scoring='%s' % score)\n",
    "    sgd_clf.fit(X_train, y_train)\n",
    "\n",
    "    print(\"Best parameters set found on Train set:\")\n",
    "    print()\n",
    "    print(sgd_clf.best_params_)\n",
    "    print()\n",
    "    print(\"Grid scores on Train set:\")\n",
    "    print()\n",
    "    means = sgd_clf.cv_results_['mean_test_score']\n",
    "    stds = sgd_clf.cv_results_['std_test_score']\n",
    "    for mean, std, params in zip(means, stds, sgd_clf.cv_results_['params']):\n",
    "        print(\"%0.3f (+/-%0.03f) for %r\"\n",
    "              % (mean, std * 2, params))\n",
    "    print()\n",
    "\n",
    "    print(\"Detailed classification report on Test Set:\")\n",
    "    pred = sgd_clf.predict(X_test)\n",
    "    print(classification_report(y_test, pred,target_names=['0' , '1']))\n",
    "    print()"
   ]
  },
  {
   "cell_type": "code",
   "execution_count": 28,
   "metadata": {},
   "outputs": [
    {
     "name": "stdout",
     "output_type": "stream",
     "text": [
      "Confusion matrix, without normalization\n"
     ]
    },
    {
     "data": {
      "image/png": "[encoded data removed]",
      "text/plain": [
       "<Figure size 432x288 with 2 Axes>"
      ]
     },
     "metadata": {
      "needs_background": "light"
     },
     "output_type": "display_data"
    }
   ],
   "source": [
    "cm = metrics.confusion_matrix(y_test, pred, labels=[0, 1])\n",
    "plot_confusion_matrix(cm, classes=[0, 1])"
   ]
  },
  {
   "cell_type": "markdown",
   "metadata": {},
   "source": [
    "### Logistic Regression"
   ]
  },
  {
   "cell_type": "code",
   "execution_count": 29,
   "metadata": {},
   "outputs": [
    {
     "name": "stdout",
     "output_type": "stream",
     "text": [
      "# Tuning hyper-parameters for accuracy\n",
      "\n",
      "Best parameters set found on Train set:\n",
      "\n",
      "{'C': 10.0, 'penalty': 'l2', 'solver': 'liblinear'}\n",
      "\n",
      "Grid scores on Train set:\n",
      "\n",
      "0.637 (+/-0.036) for {'C': 1.0, 'penalty': 'l2', 'solver': 'liblinear'}\n",
      "0.638 (+/-0.037) for {'C': 1.0, 'penalty': 'l2', 'solver': 'lbfgs'}\n",
      "0.639 (+/-0.039) for {'C': 1.0, 'penalty': 'l1', 'solver': 'liblinear'}\n",
      "nan (+/-nan) for {'C': 1.0, 'penalty': 'l1', 'solver': 'lbfgs'}\n",
      "0.641 (+/-0.037) for {'C': 10.0, 'penalty': 'l2', 'solver': 'liblinear'}\n",
      "0.640 (+/-0.037) for {'C': 10.0, 'penalty': 'l2', 'solver': 'lbfgs'}\n",
      "0.640 (+/-0.038) for {'C': 10.0, 'penalty': 'l1', 'solver': 'liblinear'}\n",
      "nan (+/-nan) for {'C': 10.0, 'penalty': 'l1', 'solver': 'lbfgs'}\n",
      "0.640 (+/-0.038) for {'C': 100.0, 'penalty': 'l2', 'solver': 'liblinear'}\n",
      "0.640 (+/-0.038) for {'C': 100.0, 'penalty': 'l2', 'solver': 'lbfgs'}\n",
      "0.640 (+/-0.038) for {'C': 100.0, 'penalty': 'l1', 'solver': 'liblinear'}\n",
      "nan (+/-nan) for {'C': 100.0, 'penalty': 'l1', 'solver': 'lbfgs'}\n",
      "0.640 (+/-0.038) for {'C': 1000.0, 'penalty': 'l2', 'solver': 'liblinear'}\n",
      "0.640 (+/-0.037) for {'C': 1000.0, 'penalty': 'l2', 'solver': 'lbfgs'}\n",
      "0.640 (+/-0.038) for {'C': 1000.0, 'penalty': 'l1', 'solver': 'liblinear'}\n",
      "nan (+/-nan) for {'C': 1000.0, 'penalty': 'l1', 'solver': 'lbfgs'}\n",
      "0.640 (+/-0.038) for {'C': 10000.0, 'penalty': 'l2', 'solver': 'liblinear'}\n",
      "0.640 (+/-0.040) for {'C': 10000.0, 'penalty': 'l2', 'solver': 'lbfgs'}\n",
      "0.640 (+/-0.038) for {'C': 10000.0, 'penalty': 'l1', 'solver': 'liblinear'}\n",
      "nan (+/-nan) for {'C': 10000.0, 'penalty': 'l1', 'solver': 'lbfgs'}\n",
      "0.640 (+/-0.038) for {'C': 100000.0, 'penalty': 'l2', 'solver': 'liblinear'}\n",
      "0.640 (+/-0.039) for {'C': 100000.0, 'penalty': 'l2', 'solver': 'lbfgs'}\n",
      "0.640 (+/-0.038) for {'C': 100000.0, 'penalty': 'l1', 'solver': 'liblinear'}\n",
      "nan (+/-nan) for {'C': 100000.0, 'penalty': 'l1', 'solver': 'lbfgs'}\n",
      "0.640 (+/-0.038) for {'C': 1000000.0, 'penalty': 'l2', 'solver': 'liblinear'}\n",
      "0.640 (+/-0.039) for {'C': 1000000.0, 'penalty': 'l2', 'solver': 'lbfgs'}\n",
      "0.640 (+/-0.038) for {'C': 1000000.0, 'penalty': 'l1', 'solver': 'liblinear'}\n",
      "nan (+/-nan) for {'C': 1000000.0, 'penalty': 'l1', 'solver': 'lbfgs'}\n",
      "\n",
      "Detailed classification report on Test Set:\n",
      "              precision    recall  f1-score   support\n",
      "\n",
      "           0       0.66      0.59      0.62       700\n",
      "           1       0.63      0.70      0.66       704\n",
      "\n",
      "    accuracy                           0.64      1404\n",
      "   macro avg       0.65      0.64      0.64      1404\n",
      "weighted avg       0.65      0.64      0.64      1404\n",
      "\n",
      "\n"
     ]
    }
   ],
   "source": [
    "# Set the parameters by cross-validation\n",
    "tuned_parameters = [{'C': 10.0**np.arange(0,7),'penalty':['l2','l1'],'solver':['liblinear','lbfgs']}]\n",
    "\n",
    "scores = ['accuracy']\n",
    "\n",
    "for score in scores:\n",
    "    print(\"# Tuning hyper-parameters for %s\" % score)\n",
    "    print()\n",
    "\n",
    "    lr_clf = GridSearchCV(\n",
    "        LogisticRegression(max_iter= np.ceil(10**6 / X_train.shape[0])), tuned_parameters, cv=5, scoring='%s' % score)\n",
    "    lr_clf.fit(X_train, y_train)\n",
    "\n",
    "    print(\"Best parameters set found on Train set:\")\n",
    "    print()\n",
    "    print(lr_clf.best_params_)\n",
    "    print()\n",
    "    print(\"Grid scores on Train set:\")\n",
    "    print()\n",
    "    means = lr_clf.cv_results_['mean_test_score']\n",
    "    stds = lr_clf.cv_results_['std_test_score']\n",
    "    for mean, std, params in zip(means, stds, lr_clf.cv_results_['params']):\n",
    "        print(\"%0.3f (+/-%0.03f) for %r\"\n",
    "              % (mean, std * 2, params))\n",
    "    print()\n",
    "\n",
    "    print(\"Detailed classification report on Test Set:\")\n",
    "    pred = lr_clf.predict(X_test)\n",
    "    print(classification_report(y_test, pred,target_names=['0' , '1']))\n",
    "    print()"
   ]
  },
  {
   "cell_type": "code",
   "execution_count": 30,
   "metadata": {},
   "outputs": [
    {
     "name": "stdout",
     "output_type": "stream",
     "text": [
      "Confusion matrix, without normalization\n"
     ]
    },
    {
     "data": {
      "image/png": "[encoded data removed]",
      "text/plain": [
       "<Figure size 432x288 with 2 Axes>"
      ]
     },
     "metadata": {
      "needs_background": "light"
     },
     "output_type": "display_data"
    }
   ],
   "source": [
    "cm = metrics.confusion_matrix(y_test, pred, labels=[0, 1])\n",
    "plot_confusion_matrix(cm, classes=[0, 1])"
   ]
  },
  {
   "cell_type": "markdown",
   "metadata": {},
   "source": [
    "### Random Forest Classifier"
   ]
  },
  {
   "cell_type": "code",
   "execution_count": 31,
   "metadata": {},
   "outputs": [
    {
     "name": "stdout",
     "output_type": "stream",
     "text": [
      "# Tuning hyper-parameters for accuracy\n",
      "\n",
      "Best parameters set found on Train set:\n",
      "\n",
      "{'n_estimators': 500}\n",
      "\n",
      "Grid scores on Train set:\n",
      "\n",
      "0.698 (+/-0.033) for {'n_estimators': 400}\n",
      "0.700 (+/-0.035) for {'n_estimators': 500}\n",
      "\n",
      "Detailed classification report on Test Set:\n",
      "              precision    recall  f1-score   support\n",
      "\n",
      "           0       0.70      0.71      0.71       700\n",
      "           1       0.71      0.70      0.70       704\n",
      "\n",
      "    accuracy                           0.70      1404\n",
      "   macro avg       0.70      0.70      0.70      1404\n",
      "weighted avg       0.70      0.70      0.70      1404\n",
      "\n",
      "\n"
     ]
    }
   ],
   "source": [
    "# Set the parameters by cross-validation\n",
    "tuned_parameters = [{'n_estimators': [400,500]}]\n",
    "\n",
    "scores = ['accuracy']\n",
    "\n",
    "for score in scores:\n",
    "    print(\"# Tuning hyper-parameters for %s\" % score)\n",
    "    print()\n",
    "\n",
    "    rf_clf = GridSearchCV(\n",
    "        RandomForestClassifier(), tuned_parameters, cv=5, scoring='%s' % score)\n",
    "    rf_clf.fit(X_train, y_train)\n",
    "\n",
    "    print(\"Best parameters set found on Train set:\")\n",
    "    print()\n",
    "    print(rf_clf.best_params_)\n",
    "    print()\n",
    "    print(\"Grid scores on Train set:\")\n",
    "    print()\n",
    "    means = rf_clf.cv_results_['mean_test_score']\n",
    "    stds = rf_clf.cv_results_['std_test_score']\n",
    "    for mean, std, params in zip(means, stds, rf_clf.cv_results_['params']):\n",
    "        print(\"%0.3f (+/-%0.03f) for %r\"\n",
    "              % (mean, std * 2, params))\n",
    "    print()\n",
    "\n",
    "    print(\"Detailed classification report on Test Set:\")\n",
    "    pred = rf_clf.predict(X_test)\n",
    "    print(classification_report(y_test, pred,target_names=['0' , '1']))\n",
    "    print()"
   ]
  },
  {
   "cell_type": "code",
   "execution_count": 32,
   "metadata": {},
   "outputs": [
    {
     "name": "stdout",
     "output_type": "stream",
     "text": [
      "Confusion matrix, without normalization\n"
     ]
    },
    {
     "data": {
      "image/png": "[encoded data removed]",
      "text/plain": [
       "<Figure size 432x288 with 2 Axes>"
      ]
     },
     "metadata": {
      "needs_background": "light"
     },
     "output_type": "display_data"
    }
   ],
   "source": [
    "cm = metrics.confusion_matrix(y_test, pred, labels=[0, 1])\n",
    "plot_confusion_matrix(cm, classes=[0, 1])"
   ]
  },
  {
   "cell_type": "markdown",
   "metadata": {},
   "source": [
    "### KNN Classifier"
   ]
  },
  {
   "cell_type": "code",
   "execution_count": 33,
   "metadata": {},
   "outputs": [
    {
     "name": "stdout",
     "output_type": "stream",
     "text": [
      "# Tuning hyper-parameters for accuracy\n",
      "\n",
      "Best parameters set found on Train set:\n",
      "\n",
      "{'n_neighbors': 20, 'weights': 'uniform'}\n",
      "\n",
      "Grid scores on Train set:\n",
      "\n",
      "0.598 (+/-0.018) for {'n_neighbors': 5, 'weights': 'uniform'}\n",
      "0.602 (+/-0.010) for {'n_neighbors': 5, 'weights': 'distance'}\n",
      "0.606 (+/-0.014) for {'n_neighbors': 10, 'weights': 'uniform'}\n",
      "0.605 (+/-0.014) for {'n_neighbors': 10, 'weights': 'distance'}\n",
      "0.620 (+/-0.016) for {'n_neighbors': 20, 'weights': 'uniform'}\n",
      "0.615 (+/-0.016) for {'n_neighbors': 20, 'weights': 'distance'}\n",
      "\n",
      "Detailed classification report on Test Set:\n",
      "              precision    recall  f1-score   support\n",
      "\n",
      "           0       0.62      0.61      0.62       700\n",
      "           1       0.62      0.63      0.62       704\n",
      "\n",
      "    accuracy                           0.62      1404\n",
      "   macro avg       0.62      0.62      0.62      1404\n",
      "weighted avg       0.62      0.62      0.62      1404\n",
      "\n",
      "\n"
     ]
    }
   ],
   "source": [
    "# Set the parameters by cross-validation\n",
    "tuned_parameters = [{'n_neighbors': [5,10,20],'weights':['uniform','distance']}]\n",
    "\n",
    "scores = ['accuracy']\n",
    "\n",
    "for score in scores:\n",
    "    print(\"# Tuning hyper-parameters for %s\" % score)\n",
    "    print()\n",
    "\n",
    "    knn_clf = GridSearchCV(\n",
    "        KNeighborsClassifier(), tuned_parameters, cv=5, scoring='%s' % score)\n",
    "    knn_clf.fit(X_train, y_train)\n",
    "\n",
    "    print(\"Best parameters set found on Train set:\")\n",
    "    print()\n",
    "    print(knn_clf.best_params_)\n",
    "    print()\n",
    "    print(\"Grid scores on Train set:\")\n",
    "    print()\n",
    "    means = knn_clf.cv_results_['mean_test_score']\n",
    "    stds = knn_clf.cv_results_['std_test_score']\n",
    "    for mean, std, params in zip(means, stds, knn_clf.cv_results_['params']):\n",
    "        print(\"%0.3f (+/-%0.03f) for %r\"\n",
    "              % (mean, std * 2, params))\n",
    "    print()\n",
    "\n",
    "    print(\"Detailed classification report on Test Set:\")\n",
    "    pred = knn_clf.predict(X_test)\n",
    "    print(classification_report(y_test, pred,target_names=['0' , '1']))\n",
    "    print()"
   ]
  },
  {
   "cell_type": "code",
   "execution_count": 34,
   "metadata": {},
   "outputs": [
    {
     "name": "stdout",
     "output_type": "stream",
     "text": [
      "Confusion matrix, without normalization\n"
     ]
    },
    {
     "data": {
      "image/png": "[encoded data removed]",
      "text/plain": [
       "<Figure size 432x288 with 2 Axes>"
      ]
     },
     "metadata": {
      "needs_background": "light"
     },
     "output_type": "display_data"
    }
   ],
   "source": [
    "cm = metrics.confusion_matrix(y_test, pred, labels=[0, 1])\n",
    "plot_confusion_matrix(cm, classes=[0, 1])"
   ]
  },
  {
   "cell_type": "markdown",
   "metadata": {},
   "source": [
    "### Adaboost Classifier"
   ]
  },
  {
   "cell_type": "code",
   "execution_count": 35,
   "metadata": {},
   "outputs": [],
   "source": [
    "ada_clf = AdaBoostClassifier(n_estimators=100, random_state=0)"
   ]
  },
  {
   "cell_type": "code",
   "execution_count": 36,
   "metadata": {},
   "outputs": [
    {
     "name": "stdout",
     "output_type": "stream",
     "text": [
      "Accuracy: 0.68 (+/- 0.04)\n"
     ]
    }
   ],
   "source": [
    "ada_clf.fit(X_train, y_train)\n",
    "scores = cross_val_score(ada_clf, X_train, y_train, cv=5)\n",
    "print(\"Accuracy: %0.2f (+/- %0.2f)\" % (scores.mean(), scores.std() * 2))"
   ]
  },
  {
   "cell_type": "code",
   "execution_count": 37,
   "metadata": {},
   "outputs": [
    {
     "name": "stdout",
     "output_type": "stream",
     "text": [
      "              precision    recall  f1-score   support\n",
      "\n",
      "           0       0.67      0.64      0.66       700\n",
      "           1       0.66      0.69      0.68       704\n",
      "\n",
      "    accuracy                           0.67      1404\n",
      "   macro avg       0.67      0.67      0.67      1404\n",
      "weighted avg       0.67      0.67      0.67      1404\n",
      "\n"
     ]
    }
   ],
   "source": [
    "pred = ada_clf.predict(X_test)\n",
    "#generate classification report\n",
    "print(classification_report(y_test, pred, target_names=['0' , '1']))"
   ]
  },
  {
   "cell_type": "code",
   "execution_count": 38,
   "metadata": {},
   "outputs": [
    {
     "name": "stdout",
     "output_type": "stream",
     "text": [
      "Confusion matrix, without normalization\n"
     ]
    },
    {
     "data": {
      "image/png": "[encoded data removed]",
      "text/plain": [
       "<Figure size 432x288 with 2 Axes>"
      ]
     },
     "metadata": {
      "needs_background": "light"
     },
     "output_type": "display_data"
    }
   ],
   "source": [
    "cm = metrics.confusion_matrix(y_test, pred, labels=[0, 1])\n",
    "plot_confusion_matrix(cm, classes=[0, 1])"
   ]
  },
  {
   "cell_type": "markdown",
   "metadata": {},
   "source": [
    "### Naive Bayes Classifier"
   ]
  },
  {
   "cell_type": "code",
   "execution_count": 39,
   "metadata": {},
   "outputs": [
    {
     "name": "stdout",
     "output_type": "stream",
     "text": [
      "# Tuning hyper-parameters for accuracy\n",
      "\n",
      "Best parameters set found on Train set:\n",
      "\n",
      "{'var_smoothing': 0.1}\n",
      "\n",
      "Grid scores on Train set:\n",
      "\n",
      "0.610 (+/-0.036) for {'var_smoothing': 10.0}\n",
      "0.609 (+/-0.035) for {'var_smoothing': 1.0}\n",
      "0.612 (+/-0.030) for {'var_smoothing': 0.1}\n",
      "0.594 (+/-0.041) for {'var_smoothing': 0.01}\n",
      "\n",
      "Detailed classification report on Test Set:\n",
      "              precision    recall  f1-score   support\n",
      "\n",
      "           0       0.63      0.50      0.56       700\n",
      "           1       0.59      0.71      0.64       704\n",
      "\n",
      "    accuracy                           0.60      1404\n",
      "   macro avg       0.61      0.60      0.60      1404\n",
      "weighted avg       0.61      0.60      0.60      1404\n",
      "\n",
      "\n"
     ]
    }
   ],
   "source": [
    "# Set the parameters by cross-validation\n",
    "tuned_parameters = [{'var_smoothing': 10.0**-np.arange(-1,3)}]\n",
    "\n",
    "scores = ['accuracy']\n",
    "\n",
    "for score in scores:\n",
    "    print(\"# Tuning hyper-parameters for %s\" % score)\n",
    "    print()\n",
    "\n",
    "    NB_clf = GridSearchCV(\n",
    "        GaussianNB(), tuned_parameters, cv=5, scoring='%s' % score)\n",
    "    NB_clf.fit(X_train, y_train)\n",
    "\n",
    "    print(\"Best parameters set found on Train set:\")\n",
    "    print()\n",
    "    print(NB_clf.best_params_)\n",
    "    print()\n",
    "    print(\"Grid scores on Train set:\")\n",
    "    print()\n",
    "    means = NB_clf.cv_results_['mean_test_score']\n",
    "    stds = NB_clf.cv_results_['std_test_score']\n",
    "    for mean, std, params in zip(means, stds, NB_clf.cv_results_['params']):\n",
    "        print(\"%0.3f (+/-%0.03f) for %r\"\n",
    "              % (mean, std * 2, params))\n",
    "    print()\n",
    "\n",
    "    print(\"Detailed classification report on Test Set:\")\n",
    "    pred = NB_clf.predict(X_test)\n",
    "    print(classification_report(y_test, pred,target_names=['0' , '1']))\n",
    "    print()"
   ]
  },
  {
   "cell_type": "code",
   "execution_count": 40,
   "metadata": {},
   "outputs": [
    {
     "name": "stdout",
     "output_type": "stream",
     "text": [
      "Confusion matrix, without normalization\n"
     ]
    },
    {
     "data": {
      "image/png": "[encoded data removed]",
      "text/plain": [
       "<Figure size 432x288 with 2 Axes>"
      ]
     },
     "metadata": {
      "needs_background": "light"
     },
     "output_type": "display_data"
    }
   ],
   "source": [
    "cm = metrics.confusion_matrix(y_test, pred, labels=[0, 1])\n",
    "plot_confusion_matrix(cm, classes=[0, 1])"
   ]
  },
  {
   "cell_type": "markdown",
   "metadata": {},
   "source": [
    "## Voting Classifier"
   ]
  },
  {
   "cell_type": "code",
   "execution_count": 41,
   "metadata": {},
   "outputs": [
    {
     "name": "stdout",
     "output_type": "stream",
     "text": [
      "Accuracy: 0.66 (+/- 0.02) [DecisionTree]\n",
      "Accuracy: 0.63 (+/- 0.03) [Logistic Regression]\n",
      "Accuracy: 0.66 (+/- 0.03) [Random Forest]\n",
      "Accuracy: 0.58 (+/- 0.01) [Knn]\n",
      "Accuracy: 0.65 (+/- 0.02) [Adaboost]\n",
      "Accuracy: 0.65 (+/- 0.02) [Voting]\n"
     ]
    }
   ],
   "source": [
    "eclf = VotingClassifier(estimators=[('onehot-clf1', clf_DTC), ('onehot-clf3', lr_clf) , ('onehot-clf4', rf_clf) , ('onehot-clf5', knn_clf) ,('onehot-clf6', ada_clf)], voting='soft')\n",
    "eclf.fit(X_train, y_train)\n",
    "for clf, label in zip([clf_DTC, lr_clf, rf_clf, knn_clf, ada_clf, eclf], ['DecisionTree', 'Logistic Regression', 'Random Forest', 'Knn', 'Adaboost','Voting']):\n",
    "    scores = cross_val_score(clf, X_test, y_test, scoring='accuracy', cv=5)\n",
    "    print(\"Accuracy: %0.2f (+/- %0.2f) [%s]\" % (scores.mean(), scores.std(), label))"
   ]
  },
  {
   "cell_type": "code",
   "execution_count": 42,
   "metadata": {},
   "outputs": [
    {
     "name": "stdout",
     "output_type": "stream",
     "text": [
      "Confusion matrix, without normalization\n"
     ]
    },
    {
     "data": {
      "image/png": "[encoded data removed]",
      "text/plain": [
       "<Figure size 432x288 with 2 Axes>"
      ]
     },
     "metadata": {
      "needs_background": "light"
     },
     "output_type": "display_data"
    }
   ],
   "source": [
    "pred=eclf.predict(X_test)\n",
    "cm = metrics.confusion_matrix(y_test, pred, labels=[0, 1])\n",
    "plot_confusion_matrix(cm, classes=[0, 1])"
   ]
  },
  {
   "cell_type": "markdown",
   "metadata": {},
   "source": [
    "## 1.3. Classification - Results and Discussion "
   ]
  },
  {
   "cell_type": "markdown",
   "metadata": {},
   "source": [
    "In this task we have solved the problem of binary classification and our best accuracy from Random Forest and Adaboost. This accuracy score is calculated via voting classifier which checks not only the accuracy but other evaluation measures of different classifiers and then vote for the best one.\n",
    "In the voting classifier the Linear SVM classifier was not used, since it does not provide probability classification and thus can't be used in soft voting.\n",
    "We have performed detailed Analysis of features and applied the best practices on them to make most out of them. We have used cross validation to get the best accuracy scores against every classifier we have used.We have also checked the results against different hyper-parameters for classifiers and have reported their best values here."
   ]
  },
  {
   "cell_type": "code",
   "execution_count": null,
   "metadata": {},
   "outputs": [],
   "source": []
  }
 ],
 "metadata": {
  "kernelspec": {
   "display_name": "Python 3",
   "language": "python",
   "name": "python3"
  },
  "language_info": {
   "codemirror_mode": {
    "name": "ipython",
    "version": 3
   },
   "file_extension": ".py",
   "mimetype": "text/x-python",
   "name": "python",
   "nbconvert_exporter": "python",
   "pygments_lexer": "ipython3",
   "version": "3.7.7"
  },
  "toc": {
   "base_numbering": 1,
   "nav_menu": {},
   "number_sections": true,
   "sideBar": true,
   "skip_h1_title": false,
   "title_cell": "Table of Contents",
   "title_sidebar": "Contents",
   "toc_cell": false,
   "toc_position": {},
   "toc_section_display": true,
   "toc_window_display": true
  }
 },
 "nbformat": 4,
 "nbformat_minor": 2
}
