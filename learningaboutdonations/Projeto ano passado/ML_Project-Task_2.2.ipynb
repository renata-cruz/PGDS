{
 "cells": [
  {
   "cell_type": "markdown",
   "metadata": {},
   "source": [
    "## Task 2.1 - Unsupervised Learning - Clustering"
   ]
  },
  {
   "cell_type": "code",
   "execution_count": 1,
   "metadata": {},
   "outputs": [],
   "source": [
    "import numpy as np\n",
    "import pandas as pd\n",
    "from sklearn.cluster import KMeans\n",
    "import seaborn as sns\n",
    "import matplotlib.pyplot as plt\n",
    "# from kmodes.kmodes import KModes not used!\n",
    "from imblearn.under_sampling import TomekLinks"
   ]
  },
  {
   "cell_type": "markdown",
   "metadata": {},
   "source": [
    "## Read the preprocessed dataset"
   ]
  },
  {
   "cell_type": "code",
   "execution_count": 2,
   "metadata": {},
   "outputs": [
    {
     "data": {
      "text/plain": [
       "(12987, 28)"
      ]
     },
     "execution_count": 2,
     "metadata": {},
     "output_type": "execute_result"
    }
   ],
   "source": [
    "PetFinder_dataset = pd.read_csv(\"PetFinder_dataset_pp.csv\")\n",
    "PetFinder_dataset.shape"
   ]
  },
  {
   "cell_type": "code",
   "execution_count": 3,
   "metadata": {},
   "outputs": [
    {
     "name": "stdout",
     "output_type": "stream",
     "text": [
      "<class 'pandas.core.frame.DataFrame'>\n",
      "RangeIndex: 12987 entries, 0 to 12986\n",
      "Data columns (total 28 columns):\n",
      "Type                    12987 non-null object\n",
      "Age                     12987 non-null int64\n",
      "Gender                  12987 non-null object\n",
      "MaturitySize            12987 non-null object\n",
      "FurLength               12987 non-null object\n",
      "Vaccinated              12987 non-null object\n",
      "Dewormed                12987 non-null object\n",
      "Sterilized              12987 non-null object\n",
      "Health                  12987 non-null object\n",
      "Quantity                12987 non-null int64\n",
      "Fee                     12987 non-null int64\n",
      "State                   12987 non-null object\n",
      "PhotoAmt                12987 non-null float64\n",
      "Hasname                 12987 non-null int64\n",
      "Breed                   12987 non-null object\n",
      "Color                   12987 non-null object\n",
      "Polarity                12987 non-null float64\n",
      "Subjectivity            12987 non-null float64\n",
      "DescWords               12987 non-null int64\n",
      "AgeBin                  12987 non-null object\n",
      "FeeBin                  12987 non-null object\n",
      "PhotoAmtBin             12987 non-null object\n",
      "PolarityBin             12987 non-null object\n",
      "SubjectivityBin         12987 non-null object\n",
      "DescwordsBin            12987 non-null object\n",
      "Adopted                 12987 non-null bool\n",
      "AdoptionSpeed           12987 non-null object\n",
      "InitialAdoptionSpeed    12987 non-null int64\n",
      "dtypes: bool(1), float64(3), int64(6), object(18)\n",
      "memory usage: 2.7+ MB\n"
     ]
    }
   ],
   "source": [
    "PetFinder_dataset.info()"
   ]
  },
  {
   "cell_type": "code",
   "execution_count": 4,
   "metadata": {},
   "outputs": [
    {
     "data": {
      "text/html": [
       "<div>\n",
       "<style scoped>\n",
       "    .dataframe tbody tr th:only-of-type {\n",
       "        vertical-align: middle;\n",
       "    }\n",
       "\n",
       "    .dataframe tbody tr th {\n",
       "        vertical-align: top;\n",
       "    }\n",
       "\n",
       "    .dataframe thead th {\n",
       "        text-align: right;\n",
       "    }\n",
       "</style>\n",
       "<table border=\"1\" class=\"dataframe\">\n",
       "  <thead>\n",
       "    <tr style=\"text-align: right;\">\n",
       "      <th></th>\n",
       "      <th>Type</th>\n",
       "      <th>Age</th>\n",
       "      <th>Gender</th>\n",
       "      <th>MaturitySize</th>\n",
       "      <th>FurLength</th>\n",
       "      <th>Vaccinated</th>\n",
       "      <th>Dewormed</th>\n",
       "      <th>Sterilized</th>\n",
       "      <th>Health</th>\n",
       "      <th>Quantity</th>\n",
       "      <th>...</th>\n",
       "      <th>DescWords</th>\n",
       "      <th>AgeBin</th>\n",
       "      <th>FeeBin</th>\n",
       "      <th>PhotoAmtBin</th>\n",
       "      <th>PolarityBin</th>\n",
       "      <th>SubjectivityBin</th>\n",
       "      <th>DescwordsBin</th>\n",
       "      <th>Adopted</th>\n",
       "      <th>AdoptionSpeed</th>\n",
       "      <th>InitialAdoptionSpeed</th>\n",
       "    </tr>\n",
       "  </thead>\n",
       "  <tbody>\n",
       "    <tr>\n",
       "      <th>0</th>\n",
       "      <td>Cat</td>\n",
       "      <td>3</td>\n",
       "      <td>Male</td>\n",
       "      <td>Small</td>\n",
       "      <td>Short</td>\n",
       "      <td>No</td>\n",
       "      <td>No</td>\n",
       "      <td>No</td>\n",
       "      <td>Healthy</td>\n",
       "      <td>1</td>\n",
       "      <td>...</td>\n",
       "      <td>69</td>\n",
       "      <td>(-0.1, 3.0]</td>\n",
       "      <td>(0.0, 300.0]</td>\n",
       "      <td>(0.99, 3.99]</td>\n",
       "      <td>(0.1, 0.15]</td>\n",
       "      <td>(0.379, 0.442]</td>\n",
       "      <td>(56.0, 71.0]</td>\n",
       "      <td>True</td>\n",
       "      <td>instant adoption</td>\n",
       "      <td>2</td>\n",
       "    </tr>\n",
       "    <tr>\n",
       "      <th>1</th>\n",
       "      <td>Cat</td>\n",
       "      <td>1</td>\n",
       "      <td>Male</td>\n",
       "      <td>Medium</td>\n",
       "      <td>Medium</td>\n",
       "      <td>Not Sure</td>\n",
       "      <td>Not Sure</td>\n",
       "      <td>Not Sure</td>\n",
       "      <td>Healthy</td>\n",
       "      <td>1</td>\n",
       "      <td>...</td>\n",
       "      <td>23</td>\n",
       "      <td>(-0.1, 3.0]</td>\n",
       "      <td>(-0.1, 0.0]</td>\n",
       "      <td>(0.99, 3.99]</td>\n",
       "      <td>(0.0333, 0.1]</td>\n",
       "      <td>(0.379, 0.442]</td>\n",
       "      <td>(17.0, 25.0]</td>\n",
       "      <td>True</td>\n",
       "      <td>instant adoption</td>\n",
       "      <td>0</td>\n",
       "    </tr>\n",
       "    <tr>\n",
       "      <th>2</th>\n",
       "      <td>Dog</td>\n",
       "      <td>1</td>\n",
       "      <td>Male</td>\n",
       "      <td>Medium</td>\n",
       "      <td>Medium</td>\n",
       "      <td>Yes</td>\n",
       "      <td>Yes</td>\n",
       "      <td>No</td>\n",
       "      <td>Healthy</td>\n",
       "      <td>1</td>\n",
       "      <td>...</td>\n",
       "      <td>69</td>\n",
       "      <td>(-0.1, 3.0]</td>\n",
       "      <td>(-0.1, 0.0]</td>\n",
       "      <td>(3.99, 30.0]</td>\n",
       "      <td>(0.239, 0.288]</td>\n",
       "      <td>(0.521, 0.562]</td>\n",
       "      <td>(56.0, 71.0]</td>\n",
       "      <td>True</td>\n",
       "      <td>delayed adoption</td>\n",
       "      <td>3</td>\n",
       "    </tr>\n",
       "    <tr>\n",
       "      <th>3</th>\n",
       "      <td>Dog</td>\n",
       "      <td>4</td>\n",
       "      <td>Female</td>\n",
       "      <td>Medium</td>\n",
       "      <td>Short</td>\n",
       "      <td>Yes</td>\n",
       "      <td>Yes</td>\n",
       "      <td>No</td>\n",
       "      <td>Healthy</td>\n",
       "      <td>1</td>\n",
       "      <td>...</td>\n",
       "      <td>25</td>\n",
       "      <td>(3.0, 12.0]</td>\n",
       "      <td>(0.0, 300.0]</td>\n",
       "      <td>(3.99, 30.0]</td>\n",
       "      <td>(0.288, 0.35]</td>\n",
       "      <td>(0.379, 0.442]</td>\n",
       "      <td>(17.0, 25.0]</td>\n",
       "      <td>True</td>\n",
       "      <td>instant adoption</td>\n",
       "      <td>2</td>\n",
       "    </tr>\n",
       "    <tr>\n",
       "      <th>4</th>\n",
       "      <td>Dog</td>\n",
       "      <td>1</td>\n",
       "      <td>Male</td>\n",
       "      <td>Medium</td>\n",
       "      <td>Short</td>\n",
       "      <td>No</td>\n",
       "      <td>No</td>\n",
       "      <td>No</td>\n",
       "      <td>Healthy</td>\n",
       "      <td>1</td>\n",
       "      <td>...</td>\n",
       "      <td>81</td>\n",
       "      <td>(-0.1, 3.0]</td>\n",
       "      <td>(-0.1, 0.0]</td>\n",
       "      <td>(0.99, 3.99]</td>\n",
       "      <td>(0.35, 0.434]</td>\n",
       "      <td>(0.734, 1.0]</td>\n",
       "      <td>(71.0, 93.0]</td>\n",
       "      <td>True</td>\n",
       "      <td>instant adoption</td>\n",
       "      <td>2</td>\n",
       "    </tr>\n",
       "    <tr>\n",
       "      <th>5</th>\n",
       "      <td>Cat</td>\n",
       "      <td>3</td>\n",
       "      <td>Female</td>\n",
       "      <td>Medium</td>\n",
       "      <td>Short</td>\n",
       "      <td>No</td>\n",
       "      <td>No</td>\n",
       "      <td>No</td>\n",
       "      <td>Healthy</td>\n",
       "      <td>1</td>\n",
       "      <td>...</td>\n",
       "      <td>18</td>\n",
       "      <td>(-0.1, 3.0]</td>\n",
       "      <td>(-0.1, 0.0]</td>\n",
       "      <td>(0.99, 3.99]</td>\n",
       "      <td>(-1.001, 0.0]</td>\n",
       "      <td>(-0.001, 0.2]</td>\n",
       "      <td>(17.0, 25.0]</td>\n",
       "      <td>True</td>\n",
       "      <td>instant adoption</td>\n",
       "      <td>2</td>\n",
       "    </tr>\n",
       "    <tr>\n",
       "      <th>6</th>\n",
       "      <td>Cat</td>\n",
       "      <td>12</td>\n",
       "      <td>Male</td>\n",
       "      <td>Medium</td>\n",
       "      <td>Long</td>\n",
       "      <td>No</td>\n",
       "      <td>No</td>\n",
       "      <td>Not Sure</td>\n",
       "      <td>Healthy</td>\n",
       "      <td>1</td>\n",
       "      <td>...</td>\n",
       "      <td>78</td>\n",
       "      <td>(3.0, 12.0]</td>\n",
       "      <td>(0.0, 300.0]</td>\n",
       "      <td>(0.99, 3.99]</td>\n",
       "      <td>(0.239, 0.288]</td>\n",
       "      <td>(0.379, 0.442]</td>\n",
       "      <td>(71.0, 93.0]</td>\n",
       "      <td>True</td>\n",
       "      <td>instant adoption</td>\n",
       "      <td>1</td>\n",
       "    </tr>\n",
       "    <tr>\n",
       "      <th>7</th>\n",
       "      <td>Cat</td>\n",
       "      <td>2</td>\n",
       "      <td>Female</td>\n",
       "      <td>Medium</td>\n",
       "      <td>Medium</td>\n",
       "      <td>No</td>\n",
       "      <td>No</td>\n",
       "      <td>No</td>\n",
       "      <td>Healthy</td>\n",
       "      <td>1</td>\n",
       "      <td>...</td>\n",
       "      <td>13</td>\n",
       "      <td>(-0.1, 3.0]</td>\n",
       "      <td>(-0.1, 0.0]</td>\n",
       "      <td>(3.99, 30.0]</td>\n",
       "      <td>(0.0333, 0.1]</td>\n",
       "      <td>(0.65, 0.734]</td>\n",
       "      <td>(9.0, 17.0]</td>\n",
       "      <td>True</td>\n",
       "      <td>instant adoption</td>\n",
       "      <td>1</td>\n",
       "    </tr>\n",
       "    <tr>\n",
       "      <th>8</th>\n",
       "      <td>Cat</td>\n",
       "      <td>12</td>\n",
       "      <td>Female</td>\n",
       "      <td>Medium</td>\n",
       "      <td>Medium</td>\n",
       "      <td>Not Sure</td>\n",
       "      <td>Not Sure</td>\n",
       "      <td>Not Sure</td>\n",
       "      <td>Healthy</td>\n",
       "      <td>1</td>\n",
       "      <td>...</td>\n",
       "      <td>45</td>\n",
       "      <td>(3.0, 12.0]</td>\n",
       "      <td>(-0.1, 0.0]</td>\n",
       "      <td>(0.99, 3.99]</td>\n",
       "      <td>(0.193, 0.239]</td>\n",
       "      <td>(0.486, 0.521]</td>\n",
       "      <td>(44.0, 56.0]</td>\n",
       "      <td>False</td>\n",
       "      <td>very late adoption</td>\n",
       "      <td>4</td>\n",
       "    </tr>\n",
       "    <tr>\n",
       "      <th>9</th>\n",
       "      <td>Dog</td>\n",
       "      <td>2</td>\n",
       "      <td>Male</td>\n",
       "      <td>Medium</td>\n",
       "      <td>Short</td>\n",
       "      <td>No</td>\n",
       "      <td>Yes</td>\n",
       "      <td>No</td>\n",
       "      <td>Healthy</td>\n",
       "      <td>1</td>\n",
       "      <td>...</td>\n",
       "      <td>12</td>\n",
       "      <td>(-0.1, 3.0]</td>\n",
       "      <td>(-0.1, 0.0]</td>\n",
       "      <td>(3.99, 30.0]</td>\n",
       "      <td>(0.1, 0.15]</td>\n",
       "      <td>(0.442, 0.486]</td>\n",
       "      <td>(9.0, 17.0]</td>\n",
       "      <td>True</td>\n",
       "      <td>instant adoption</td>\n",
       "      <td>1</td>\n",
       "    </tr>\n",
       "  </tbody>\n",
       "</table>\n",
       "<p>10 rows × 28 columns</p>\n",
       "</div>"
      ],
      "text/plain": [
       "  Type  Age  Gender MaturitySize FurLength Vaccinated  Dewormed Sterilized  \\\n",
       "0  Cat    3    Male        Small     Short         No        No         No   \n",
       "1  Cat    1    Male       Medium    Medium   Not Sure  Not Sure   Not Sure   \n",
       "2  Dog    1    Male       Medium    Medium        Yes       Yes         No   \n",
       "3  Dog    4  Female       Medium     Short        Yes       Yes         No   \n",
       "4  Dog    1    Male       Medium     Short         No        No         No   \n",
       "5  Cat    3  Female       Medium     Short         No        No         No   \n",
       "6  Cat   12    Male       Medium      Long         No        No   Not Sure   \n",
       "7  Cat    2  Female       Medium    Medium         No        No         No   \n",
       "8  Cat   12  Female       Medium    Medium   Not Sure  Not Sure   Not Sure   \n",
       "9  Dog    2    Male       Medium     Short         No       Yes         No   \n",
       "\n",
       "    Health  Quantity  ...  DescWords       AgeBin        FeeBin   PhotoAmtBin  \\\n",
       "0  Healthy         1  ...         69  (-0.1, 3.0]  (0.0, 300.0]  (0.99, 3.99]   \n",
       "1  Healthy         1  ...         23  (-0.1, 3.0]   (-0.1, 0.0]  (0.99, 3.99]   \n",
       "2  Healthy         1  ...         69  (-0.1, 3.0]   (-0.1, 0.0]  (3.99, 30.0]   \n",
       "3  Healthy         1  ...         25  (3.0, 12.0]  (0.0, 300.0]  (3.99, 30.0]   \n",
       "4  Healthy         1  ...         81  (-0.1, 3.0]   (-0.1, 0.0]  (0.99, 3.99]   \n",
       "5  Healthy         1  ...         18  (-0.1, 3.0]   (-0.1, 0.0]  (0.99, 3.99]   \n",
       "6  Healthy         1  ...         78  (3.0, 12.0]  (0.0, 300.0]  (0.99, 3.99]   \n",
       "7  Healthy         1  ...         13  (-0.1, 3.0]   (-0.1, 0.0]  (3.99, 30.0]   \n",
       "8  Healthy         1  ...         45  (3.0, 12.0]   (-0.1, 0.0]  (0.99, 3.99]   \n",
       "9  Healthy         1  ...         12  (-0.1, 3.0]   (-0.1, 0.0]  (3.99, 30.0]   \n",
       "\n",
       "      PolarityBin SubjectivityBin  DescwordsBin  Adopted       AdoptionSpeed  \\\n",
       "0     (0.1, 0.15]  (0.379, 0.442]  (56.0, 71.0]     True    instant adoption   \n",
       "1   (0.0333, 0.1]  (0.379, 0.442]  (17.0, 25.0]     True    instant adoption   \n",
       "2  (0.239, 0.288]  (0.521, 0.562]  (56.0, 71.0]     True    delayed adoption   \n",
       "3   (0.288, 0.35]  (0.379, 0.442]  (17.0, 25.0]     True    instant adoption   \n",
       "4   (0.35, 0.434]    (0.734, 1.0]  (71.0, 93.0]     True    instant adoption   \n",
       "5   (-1.001, 0.0]   (-0.001, 0.2]  (17.0, 25.0]     True    instant adoption   \n",
       "6  (0.239, 0.288]  (0.379, 0.442]  (71.0, 93.0]     True    instant adoption   \n",
       "7   (0.0333, 0.1]   (0.65, 0.734]   (9.0, 17.0]     True    instant adoption   \n",
       "8  (0.193, 0.239]  (0.486, 0.521]  (44.0, 56.0]    False  very late adoption   \n",
       "9     (0.1, 0.15]  (0.442, 0.486]   (9.0, 17.0]     True    instant adoption   \n",
       "\n",
       "  InitialAdoptionSpeed  \n",
       "0                    2  \n",
       "1                    0  \n",
       "2                    3  \n",
       "3                    2  \n",
       "4                    2  \n",
       "5                    2  \n",
       "6                    1  \n",
       "7                    1  \n",
       "8                    4  \n",
       "9                    1  \n",
       "\n",
       "[10 rows x 28 columns]"
      ]
     },
     "execution_count": 4,
     "metadata": {},
     "output_type": "execute_result"
    }
   ],
   "source": [
    "PetFinder_dataset.head(10)"
   ]
  },
  {
   "cell_type": "markdown",
   "metadata": {},
   "source": [
    "### Drop non Categorical Attributes "
   ]
  },
  {
   "cell_type": "code",
   "execution_count": 5,
   "metadata": {},
   "outputs": [],
   "source": [
    "PetFinder_dataset.drop(['Age','Quantity','Fee','State','PhotoAmt','Polarity','Subjectivity','DescWords','Health',],axis=1,inplace=True)"
   ]
  },
  {
   "cell_type": "code",
   "execution_count": 6,
   "metadata": {},
   "outputs": [],
   "source": [
    "one_hot=pd.get_dummies(PetFinder_dataset.drop(['Adopted','AdoptionSpeed','InitialAdoptionSpeed'],axis=1))"
   ]
  },
  {
   "cell_type": "code",
   "execution_count": 7,
   "metadata": {
    "scrolled": false
   },
   "outputs": [
    {
     "data": {
      "text/html": [
       "<div>\n",
       "<style scoped>\n",
       "    .dataframe tbody tr th:only-of-type {\n",
       "        vertical-align: middle;\n",
       "    }\n",
       "\n",
       "    .dataframe tbody tr th {\n",
       "        vertical-align: top;\n",
       "    }\n",
       "\n",
       "    .dataframe thead th {\n",
       "        text-align: right;\n",
       "    }\n",
       "</style>\n",
       "<table border=\"1\" class=\"dataframe\">\n",
       "  <thead>\n",
       "    <tr style=\"text-align: right;\">\n",
       "      <th></th>\n",
       "      <th>Hasname</th>\n",
       "      <th>Type_Cat</th>\n",
       "      <th>Type_Dog</th>\n",
       "      <th>Gender_Female</th>\n",
       "      <th>Gender_Male</th>\n",
       "      <th>Gender_Mixed</th>\n",
       "      <th>MaturitySize_Extra Large</th>\n",
       "      <th>MaturitySize_Large</th>\n",
       "      <th>MaturitySize_Medium</th>\n",
       "      <th>MaturitySize_Small</th>\n",
       "      <th>...</th>\n",
       "      <th>DescwordsBin_(-0.001, 9.0]</th>\n",
       "      <th>DescwordsBin_(135.0, 1257.0]</th>\n",
       "      <th>DescwordsBin_(17.0, 25.0]</th>\n",
       "      <th>DescwordsBin_(25.0, 34.0]</th>\n",
       "      <th>DescwordsBin_(34.0, 44.0]</th>\n",
       "      <th>DescwordsBin_(44.0, 56.0]</th>\n",
       "      <th>DescwordsBin_(56.0, 71.0]</th>\n",
       "      <th>DescwordsBin_(71.0, 93.0]</th>\n",
       "      <th>DescwordsBin_(9.0, 17.0]</th>\n",
       "      <th>DescwordsBin_(93.0, 135.0]</th>\n",
       "    </tr>\n",
       "  </thead>\n",
       "  <tbody>\n",
       "    <tr>\n",
       "      <th>0</th>\n",
       "      <td>1</td>\n",
       "      <td>1</td>\n",
       "      <td>0</td>\n",
       "      <td>0</td>\n",
       "      <td>1</td>\n",
       "      <td>0</td>\n",
       "      <td>0</td>\n",
       "      <td>0</td>\n",
       "      <td>0</td>\n",
       "      <td>1</td>\n",
       "      <td>...</td>\n",
       "      <td>0</td>\n",
       "      <td>0</td>\n",
       "      <td>0</td>\n",
       "      <td>0</td>\n",
       "      <td>0</td>\n",
       "      <td>0</td>\n",
       "      <td>1</td>\n",
       "      <td>0</td>\n",
       "      <td>0</td>\n",
       "      <td>0</td>\n",
       "    </tr>\n",
       "    <tr>\n",
       "      <th>1</th>\n",
       "      <td>0</td>\n",
       "      <td>1</td>\n",
       "      <td>0</td>\n",
       "      <td>0</td>\n",
       "      <td>1</td>\n",
       "      <td>0</td>\n",
       "      <td>0</td>\n",
       "      <td>0</td>\n",
       "      <td>1</td>\n",
       "      <td>0</td>\n",
       "      <td>...</td>\n",
       "      <td>0</td>\n",
       "      <td>0</td>\n",
       "      <td>1</td>\n",
       "      <td>0</td>\n",
       "      <td>0</td>\n",
       "      <td>0</td>\n",
       "      <td>0</td>\n",
       "      <td>0</td>\n",
       "      <td>0</td>\n",
       "      <td>0</td>\n",
       "    </tr>\n",
       "    <tr>\n",
       "      <th>2</th>\n",
       "      <td>1</td>\n",
       "      <td>0</td>\n",
       "      <td>1</td>\n",
       "      <td>0</td>\n",
       "      <td>1</td>\n",
       "      <td>0</td>\n",
       "      <td>0</td>\n",
       "      <td>0</td>\n",
       "      <td>1</td>\n",
       "      <td>0</td>\n",
       "      <td>...</td>\n",
       "      <td>0</td>\n",
       "      <td>0</td>\n",
       "      <td>0</td>\n",
       "      <td>0</td>\n",
       "      <td>0</td>\n",
       "      <td>0</td>\n",
       "      <td>1</td>\n",
       "      <td>0</td>\n",
       "      <td>0</td>\n",
       "      <td>0</td>\n",
       "    </tr>\n",
       "    <tr>\n",
       "      <th>3</th>\n",
       "      <td>1</td>\n",
       "      <td>0</td>\n",
       "      <td>1</td>\n",
       "      <td>1</td>\n",
       "      <td>0</td>\n",
       "      <td>0</td>\n",
       "      <td>0</td>\n",
       "      <td>0</td>\n",
       "      <td>1</td>\n",
       "      <td>0</td>\n",
       "      <td>...</td>\n",
       "      <td>0</td>\n",
       "      <td>0</td>\n",
       "      <td>1</td>\n",
       "      <td>0</td>\n",
       "      <td>0</td>\n",
       "      <td>0</td>\n",
       "      <td>0</td>\n",
       "      <td>0</td>\n",
       "      <td>0</td>\n",
       "      <td>0</td>\n",
       "    </tr>\n",
       "    <tr>\n",
       "      <th>4</th>\n",
       "      <td>1</td>\n",
       "      <td>0</td>\n",
       "      <td>1</td>\n",
       "      <td>0</td>\n",
       "      <td>1</td>\n",
       "      <td>0</td>\n",
       "      <td>0</td>\n",
       "      <td>0</td>\n",
       "      <td>1</td>\n",
       "      <td>0</td>\n",
       "      <td>...</td>\n",
       "      <td>0</td>\n",
       "      <td>0</td>\n",
       "      <td>0</td>\n",
       "      <td>0</td>\n",
       "      <td>0</td>\n",
       "      <td>0</td>\n",
       "      <td>0</td>\n",
       "      <td>1</td>\n",
       "      <td>0</td>\n",
       "      <td>0</td>\n",
       "    </tr>\n",
       "  </tbody>\n",
       "</table>\n",
       "<p>5 rows × 77 columns</p>\n",
       "</div>"
      ],
      "text/plain": [
       "   Hasname  Type_Cat  Type_Dog  Gender_Female  Gender_Male  Gender_Mixed  \\\n",
       "0        1         1         0              0            1             0   \n",
       "1        0         1         0              0            1             0   \n",
       "2        1         0         1              0            1             0   \n",
       "3        1         0         1              1            0             0   \n",
       "4        1         0         1              0            1             0   \n",
       "\n",
       "   MaturitySize_Extra Large  MaturitySize_Large  MaturitySize_Medium  \\\n",
       "0                         0                   0                    0   \n",
       "1                         0                   0                    1   \n",
       "2                         0                   0                    1   \n",
       "3                         0                   0                    1   \n",
       "4                         0                   0                    1   \n",
       "\n",
       "   MaturitySize_Small  ...  DescwordsBin_(-0.001, 9.0]  \\\n",
       "0                   1  ...                           0   \n",
       "1                   0  ...                           0   \n",
       "2                   0  ...                           0   \n",
       "3                   0  ...                           0   \n",
       "4                   0  ...                           0   \n",
       "\n",
       "   DescwordsBin_(135.0, 1257.0]  DescwordsBin_(17.0, 25.0]  \\\n",
       "0                             0                          0   \n",
       "1                             0                          1   \n",
       "2                             0                          0   \n",
       "3                             0                          1   \n",
       "4                             0                          0   \n",
       "\n",
       "   DescwordsBin_(25.0, 34.0]  DescwordsBin_(34.0, 44.0]  \\\n",
       "0                          0                          0   \n",
       "1                          0                          0   \n",
       "2                          0                          0   \n",
       "3                          0                          0   \n",
       "4                          0                          0   \n",
       "\n",
       "   DescwordsBin_(44.0, 56.0]  DescwordsBin_(56.0, 71.0]  \\\n",
       "0                          0                          1   \n",
       "1                          0                          0   \n",
       "2                          0                          1   \n",
       "3                          0                          0   \n",
       "4                          0                          0   \n",
       "\n",
       "   DescwordsBin_(71.0, 93.0]  DescwordsBin_(9.0, 17.0]  \\\n",
       "0                          0                         0   \n",
       "1                          0                         0   \n",
       "2                          0                         0   \n",
       "3                          0                         0   \n",
       "4                          1                         0   \n",
       "\n",
       "   DescwordsBin_(93.0, 135.0]  \n",
       "0                           0  \n",
       "1                           0  \n",
       "2                           0  \n",
       "3                           0  \n",
       "4                           0  \n",
       "\n",
       "[5 rows x 77 columns]"
      ]
     },
     "execution_count": 7,
     "metadata": {},
     "output_type": "execute_result"
    }
   ],
   "source": [
    "one_hot.head(5)"
   ]
  },
  {
   "cell_type": "markdown",
   "metadata": {
    "collapsed": true
   },
   "source": [
    "## 2.5. Finding Groups\n",
    "### 2.5.1 - 5 clusters"
   ]
  },
  {
   "cell_type": "code",
   "execution_count": 8,
   "metadata": {},
   "outputs": [],
   "source": [
    "kmeans5 = KMeans(n_clusters=5,n_init=100,max_iter=3000,random_state=0)"
   ]
  },
  {
   "cell_type": "code",
   "execution_count": 9,
   "metadata": {},
   "outputs": [],
   "source": [
    "kmeans5 = kmeans5.fit(one_hot)"
   ]
  },
  {
   "cell_type": "code",
   "execution_count": 10,
   "metadata": {},
   "outputs": [
    {
     "data": {
      "text/plain": [
       "array([[ 8.72955975e-01,  2.93501048e-03,  9.97064990e-01,\n",
       "         5.85324948e-01,  3.70649895e-01,  4.40251572e-02,\n",
       "        -7.37257477e-17,  4.40251572e-02,  8.54507338e-01,\n",
       "         1.01467505e-01,  1.38364780e-02,  3.55974843e-01,\n",
       "         6.30188679e-01,  9.73584906e-01,  1.42557652e-02,\n",
       "         1.21593291e-02,  6.38155136e-01,  6.28930818e-03,\n",
       "         3.55555556e-01,  9.32494759e-01,  3.01886792e-02,\n",
       "         3.73165618e-02, -1.16573418e-15,  9.70649895e-01,\n",
       "         2.93501048e-02,  9.01467505e-02,  4.26834382e-01,\n",
       "         1.77358491e-01,  1.54716981e-01,  4.06708595e-02,\n",
       "         2.18029350e-02,  1.29979036e-02,  1.09014675e-02,\n",
       "         1.67714885e-03,  3.35429769e-03,  4.02515723e-02,\n",
       "         9.64360587e-03,  9.64360587e-03,  8.28511530e-01,\n",
       "         4.77987421e-02,  1.23689727e-01,  8.81341719e-01,\n",
       "         1.16142558e-01,  2.51572327e-03,  1.50943396e-02,\n",
       "         6.03773585e-01,  3.81132075e-01,  1.90356394e-01,\n",
       "         2.38993711e-02,  9.85324948e-02,  9.68553459e-02,\n",
       "         8.21802935e-02,  9.51781971e-02,  1.02725367e-01,\n",
       "         1.12788260e-01,  9.72746331e-02,  1.00209644e-01,\n",
       "         1.32075472e-01,  8.34381551e-02,  9.76939203e-02,\n",
       "         1.18238994e-01,  8.63731656e-02,  1.03563941e-01,\n",
       "         1.07756813e-01,  8.46960168e-02,  9.01467505e-02,\n",
       "         9.60167715e-02,  1.42557652e-01,  6.24737945e-02,\n",
       "         1.40041929e-01,  1.11949686e-01,  1.03144654e-01,\n",
       "         8.72117400e-02,  8.25995807e-02,  9.05660377e-02,\n",
       "         9.26624738e-02,  8.67924528e-02],\n",
       "       [ 8.93656145e-01,  9.99693534e-01,  3.06466442e-04,\n",
       "         4.80845847e-01,  4.25681888e-01,  9.34722648e-02,\n",
       "         6.12932884e-04,  5.73092246e-02,  5.88415568e-01,\n",
       "         3.53662274e-01,  5.60833589e-02,  3.48452344e-01,\n",
       "         5.95464297e-01,  9.84676678e-01,  9.50045970e-03,\n",
       "         5.82286240e-03,  6.17223414e-01,  1.10327919e-02,\n",
       "         3.71743794e-01,  9.34416181e-01,  3.76953724e-02,\n",
       "         2.78884462e-02,  7.37358259e-01,  1.45571560e-01,\n",
       "         1.17070181e-01,  5.97609562e-02,  4.40698743e-01,\n",
       "         2.42108489e-02,  1.31780570e-01,  1.31780570e-02,\n",
       "         2.94207784e-02,  2.72755133e-02,  6.80355501e-02,\n",
       "         3.95341710e-02,  5.08734294e-02,  4.35182348e-02,\n",
       "         1.59362550e-02,  5.57768924e-02,  6.84339565e-01,\n",
       "         3.98406375e-02,  2.75819798e-01,  8.46766779e-01,\n",
       "         1.47103892e-01,  6.12932884e-03,  1.71621207e-02,\n",
       "         5.21299418e-01,  4.61538462e-01,  1.90009194e-01,\n",
       "         3.43242415e-02,  1.18296047e-01,  1.14618449e-01,\n",
       "         1.20441312e-01,  1.01133926e-01,  8.55041373e-02,\n",
       "         8.15200736e-02,  7.11002145e-02,  8.30524058e-02,\n",
       "         1.13086117e-01,  9.59239963e-02,  1.17683114e-01,\n",
       "         1.02972724e-01,  9.92951272e-02,  9.10205333e-02,\n",
       "         9.62304628e-02,  8.94882010e-02,  9.50045970e-02,\n",
       "         9.92951272e-02,  1.13392584e-01,  1.01133926e-01,\n",
       "         9.50045970e-02,  9.59239963e-02,  9.46981306e-02,\n",
       "         1.04198590e-01,  9.65369292e-02,  9.34722648e-02,\n",
       "         9.89886607e-02,  1.06650322e-01],\n",
       "       [ 9.56973294e-01,  1.00000000e+00,  2.77555756e-15,\n",
       "         5.13847676e-01,  4.35707221e-01,  5.04451039e-02,\n",
       "         3.46191889e-03,  1.08308605e-01,  6.77546983e-01,\n",
       "         2.10682493e-01,  7.91295747e-02,  3.13550940e-01,\n",
       "         6.07319486e-01,  6.28090999e-02,  4.00593472e-02,\n",
       "         8.97131553e-01,  1.43422354e-02,  1.18694362e-02,\n",
       "         9.73788328e-01,  4.28288823e-01,  5.39070227e-02,\n",
       "         5.17804154e-01,  6.57764590e-01,  1.66172107e-01,\n",
       "         1.76063304e-01,  5.24233432e-02,  3.98615232e-01,\n",
       "         3.85756677e-02,  1.30563798e-01,  2.02769535e-02,\n",
       "         3.11572700e-02,  3.31355094e-02,  6.03363007e-02,\n",
       "         4.94559842e-02,  5.53907023e-02,  5.24233432e-02,\n",
       "         2.02769535e-02,  5.73689416e-02,  2.24530168e-01,\n",
       "         2.70524233e-01,  5.04945598e-01,  7.60633037e-01,\n",
       "         2.24035608e-01,  1.53313551e-02,  1.82987141e-02,\n",
       "         5.08407517e-01,  4.73293769e-01,  1.53808111e-01,\n",
       "         2.76953511e-02,  9.59446093e-02,  1.08803165e-01,\n",
       "         1.06330366e-01,  1.10286845e-01,  1.06824926e-01,\n",
       "         1.06330366e-01,  9.34718101e-02,  9.05044510e-02,\n",
       "         8.35806133e-02,  1.08308605e-01,  8.70425321e-02,\n",
       "         8.55588526e-02,  1.09297725e-01,  1.17705242e-01,\n",
       "         1.16221563e-01,  1.01384768e-01,  9.44609298e-02,\n",
       "         9.64391691e-02,  1.07319486e-01,  1.47378833e-01,\n",
       "         9.24826904e-02,  7.91295747e-02,  9.29772502e-02,\n",
       "         8.40751731e-02,  1.10286845e-01,  9.49554896e-02,\n",
       "         7.61622156e-02,  1.15232443e-01],\n",
       "       [ 9.46101518e-01,  2.52020627e-14,  1.00000000e+00,\n",
       "         5.65934066e-01,  4.09733124e-01,  2.43328100e-02,\n",
       "         4.44793302e-03,  1.20617478e-01,  7.09837781e-01,\n",
       "         1.65096808e-01,  6.90737834e-02,  3.81475667e-01,\n",
       "         5.49450549e-01,  2.27629513e-02,  1.67451596e-02,\n",
       "         9.60491889e-01,  1.51753009e-02,  1.49136578e-02,\n",
       "         9.69911041e-01,  5.12558870e-01,  6.77655678e-02,\n",
       "         4.19675563e-01, -1.22679644e-14,  7.80481423e-01,\n",
       "         2.19518577e-01,  8.55572998e-02,  3.40659341e-01,\n",
       "         1.69544741e-01,  1.76085819e-01,  5.65149137e-02,\n",
       "         2.66875981e-02,  3.53218210e-02,  2.38095238e-02,\n",
       "         7.84929356e-03,  6.27943485e-03,  5.07587650e-02,\n",
       "         9.41915228e-03,  1.15122972e-02,  3.09785453e-01,\n",
       "         3.60805861e-01,  3.29408687e-01,  8.04552590e-01,\n",
       "         1.64311879e-01,  3.11355311e-02,  2.30245945e-02,\n",
       "         5.74045003e-01,  4.02930403e-01,  1.29251701e-01,\n",
       "         2.43328100e-02,  9.41915228e-02,  8.03244375e-02,\n",
       "         9.75928833e-02,  1.11459969e-01,  1.10413396e-01,\n",
       "         1.21664050e-01,  1.15646259e-01,  1.15122972e-01,\n",
       "         8.50340136e-02,  7.69230769e-02,  9.18367347e-02,\n",
       "         1.01255887e-01,  1.01779173e-01,  1.15122972e-01,\n",
       "         1.09105181e-01,  1.09105181e-01,  1.12506541e-01,\n",
       "         9.73312402e-02,  1.02825746e-01,  1.05442177e-01,\n",
       "         8.68655154e-02,  9.39298796e-02,  1.06227106e-01,\n",
       "         1.10675039e-01,  1.07273679e-01,  1.02825746e-01,\n",
       "         8.73888017e-02,  9.65463108e-02],\n",
       "       [ 8.64882943e-01,  3.09698997e-01,  6.90301003e-01,\n",
       "         5.22408027e-01,  4.38795987e-01,  3.87959866e-02,\n",
       "         2.67558528e-03,  1.15050167e-01,  6.44147157e-01,\n",
       "         2.38127090e-01,  8.56187291e-02,  3.94648829e-01,\n",
       "         5.19732441e-01,  1.27090301e-02,  9.65217391e-01,\n",
       "         2.20735786e-02,  1.00334448e-02,  9.49832776e-01,\n",
       "         4.01337793e-02,  2.70234114e-01,  6.42809365e-01,\n",
       "         8.69565217e-02,  1.97324415e-01,  5.69230769e-01,\n",
       "         2.33444816e-01,  6.95652174e-02,  3.65217391e-01,\n",
       "         1.07692308e-01,  1.70568562e-01,  4.74916388e-02,\n",
       "         3.01003344e-02,  2.67558528e-02,  3.74581940e-02,\n",
       "         1.73913043e-02,  2.87625418e-02,  6.75585284e-02,\n",
       "         1.33779264e-02,  1.80602007e-02,  3.51839465e-01,\n",
       "         3.17056856e-01,  3.31103679e-01,  9.14381271e-01,\n",
       "         7.35785953e-02,  1.20401338e-02,  3.34448161e-02,\n",
       "         6.72240803e-01,  2.94314381e-01,  1.80602007e-01,\n",
       "         3.27759197e-02,  9.03010033e-02,  8.02675585e-02,\n",
       "         8.29431438e-02,  6.68896321e-02,  1.01672241e-01,\n",
       "         8.69565217e-02,  1.58528428e-01,  1.19063545e-01,\n",
       "         1.04347826e-01,  8.96321070e-02,  8.56187291e-02,\n",
       "         8.56187291e-02,  1.01003344e-01,  7.89297659e-02,\n",
       "         8.29431438e-02,  1.40468227e-01,  1.05685619e-01,\n",
       "         1.25752508e-01,  1.08361204e-01,  8.22742475e-02,\n",
       "         1.27759197e-01,  8.56187291e-02,  7.95986622e-02,\n",
       "         9.23076923e-02,  8.96321070e-02,  8.96321070e-02,\n",
       "         1.47826087e-01,  9.69899666e-02]])"
      ]
     },
     "execution_count": 10,
     "metadata": {},
     "output_type": "execute_result"
    }
   ],
   "source": [
    "PetFinder_dataset.insert(PetFinder_dataset.shape[1],'5Clusters',kmeans5.labels_)\n",
    "kmeans5.cluster_centers_"
   ]
  },
  {
   "cell_type": "markdown",
   "metadata": {},
   "source": [
    "### 2.5.2 - 2 Clusters"
   ]
  },
  {
   "cell_type": "code",
   "execution_count": 11,
   "metadata": {},
   "outputs": [
    {
     "data": {
      "text/plain": [
       "array([[ 9.13447783e-01,  9.99821173e-01,  1.78826896e-04,\n",
       "         4.97138770e-01,  4.27932761e-01,  7.49284692e-02,\n",
       "         1.25178827e-03,  7.56437768e-02,  6.17131617e-01,\n",
       "         3.05972818e-01,  6.59871245e-02,  3.34406295e-01,\n",
       "         5.99606581e-01,  5.99964235e-01,  9.81759657e-02,\n",
       "         3.01859800e-01,  3.66952790e-01,  8.99499285e-02,\n",
       "         5.43097282e-01,  7.09763948e-01,  1.00321888e-01,\n",
       "         1.89914163e-01,  7.20851216e-01,  1.28397711e-01,\n",
       "         1.50751073e-01,  5.77610873e-02,  4.24892704e-01,\n",
       "         2.89699571e-02,  1.28576538e-01,  1.43061516e-02,\n",
       "         3.04005722e-02,  3.00429185e-02,  6.52718169e-02,\n",
       "         4.20243205e-02,  5.40057225e-02,  5.07868383e-02,\n",
       "         1.77038627e-02,  5.52575107e-02,  5.06437768e-01,\n",
       "         1.19992847e-01,  3.73569385e-01,  8.24213162e-01,\n",
       "         1.67024320e-01,  8.76251788e-03,  1.82403433e-02,\n",
       "         5.23605150e-01,  4.58154506e-01,  1.83476395e-01,\n",
       "         3.29041488e-02,  1.09620887e-01,  1.09442060e-01,\n",
       "         1.11051502e-01,  1.02646638e-01,  9.33476395e-02,\n",
       "         8.85193133e-02,  7.97567954e-02,  8.92346209e-02,\n",
       "         1.08190272e-01,  1.00143062e-01,  1.06223176e-01,\n",
       "         9.45994278e-02,  1.01573677e-01,  9.92489270e-02,\n",
       "         1.01573677e-01,  9.01287554e-02,  9.54935622e-02,\n",
       "         1.02825465e-01,  1.17668097e-01,  1.12660944e-01,\n",
       "         9.45994278e-02,  8.95922747e-02,  9.44206009e-02,\n",
       "         9.60300429e-02,  1.00500715e-01,  9.24535050e-02,\n",
       "         9.33476395e-02,  1.08726753e-01],\n",
       "       [ 9.10615281e-01,  2.20419202e-02,  9.77958080e-01,\n",
       "         5.63624070e-01,  4.03380663e-01,  3.29952671e-02,\n",
       "         3.11020960e-03,  9.74983097e-02,  7.50912779e-01,\n",
       "         1.48478702e-01,  5.39553753e-02,  3.78363759e-01,\n",
       "         5.67680865e-01,  3.26301555e-01,  1.49290061e-01,\n",
       "         5.24408384e-01,  2.14469236e-01,  1.41852603e-01,\n",
       "         6.43678161e-01,  6.12981744e-01,  1.30223124e-01,\n",
       "         2.56795132e-01, -2.11497486e-14,  8.44083840e-01,\n",
       "         1.55916160e-01,  8.43813387e-02,  3.69709263e-01,\n",
       "         1.65922921e-01,  1.72008114e-01,  5.24678837e-02,\n",
       "         2.54225828e-02,  2.62339419e-02,  2.05544287e-02,\n",
       "         7.30223124e-03,  6.89655172e-03,  4.80054091e-02,\n",
       "         9.87153482e-03,  1.12237999e-02,  4.78837052e-01,\n",
       "         2.66801893e-01,  2.54361055e-01,  8.43272481e-01,\n",
       "         1.37119675e-01,  1.96078431e-02,  2.23123732e-02,\n",
       "         6.00405680e-01,  3.77281947e-01,  1.51859364e-01,\n",
       "         2.47464503e-02,  9.42528736e-02,  8.65449628e-02,\n",
       "         9.19540230e-02,  9.89858012e-02,  1.07099391e-01,\n",
       "         1.14942529e-01,  1.19810683e-01,  1.09803922e-01,\n",
       "         9.85801217e-02,  8.10006761e-02,  9.16835700e-02,\n",
       "         1.05070994e-01,  9.77687627e-02,  1.06152806e-01,\n",
       "         1.05341447e-01,  1.11156187e-01,  1.04124408e-01,\n",
       "         9.91210277e-02,  1.11426640e-01,  9.10074375e-02,\n",
       "         1.11561866e-01,  9.81744422e-02,  1.00067613e-01,\n",
       "         1.00338066e-01,  9.69574037e-02,  9.77687627e-02,\n",
       "         9.88505747e-02,  9.38471941e-02]])"
      ]
     },
     "execution_count": 11,
     "metadata": {},
     "output_type": "execute_result"
    }
   ],
   "source": [
    "kmeans2 = KMeans(n_clusters=2,n_init=100,max_iter=3000,random_state=0)\n",
    "kmeans2 = kmeans2.fit(one_hot)\n",
    "PetFinder_dataset.insert(PetFinder_dataset.shape[1],'2Clusters',kmeans2.labels_)\n",
    "kmeans2.cluster_centers_"
   ]
  },
  {
   "cell_type": "markdown",
   "metadata": {},
   "source": [
    "### 2.5.3 - 3 Clusters"
   ]
  },
  {
   "cell_type": "code",
   "execution_count": 12,
   "metadata": {},
   "outputs": [
    {
     "data": {
      "text/plain": [
       "array([[ 9.44997835e-01,  2.71979212e-01,  7.28020788e-01,\n",
       "         5.39844088e-01,  4.28323950e-01,  3.18319619e-02,\n",
       "         5.41359896e-03,  1.45084452e-01,  6.46383716e-01,\n",
       "         2.03118233e-01,  9.85275011e-02,  3.59679515e-01,\n",
       "         5.41792984e-01,  3.00996102e-02,  1.58943265e-01,\n",
       "         8.10957124e-01,  1.36422694e-02,  1.52230403e-01,\n",
       "         8.34127328e-01,  2.57470767e-01,  1.70636639e-01,\n",
       "         5.71892594e-01,  1.27977479e-01,  5.64746644e-01,\n",
       "         3.07275877e-01,  7.62234734e-02,  3.23949762e-01,\n",
       "         1.18233001e-01,  1.79298398e-01,  4.98051104e-02,\n",
       "         3.18319619e-02,  3.83282806e-02,  3.87613686e-02,\n",
       "         2.23040277e-02,  2.27371156e-02,  6.06323084e-02,\n",
       "         1.42919013e-02,  2.36032915e-02,  3.83282806e-02,\n",
       "         4.87873538e-01,  4.73798181e-01,  7.79558250e-01,\n",
       "         1.88609788e-01,  3.18319619e-02,  2.88003465e-02,\n",
       "         5.95279342e-01,  3.75920312e-01,  1.29493287e-01,\n",
       "         2.75010827e-02,  9.00822867e-02,  9.35469900e-02,\n",
       "         1.03291468e-01,  1.09138155e-01,  1.12819402e-01,\n",
       "         1.11303595e-01,  1.10437419e-01,  1.12386314e-01,\n",
       "         7.16760502e-02,  9.18146384e-02,  9.65786055e-02,\n",
       "         1.04157644e-01,  1.06323084e-01,  1.13685578e-01,\n",
       "         1.08055435e-01,  1.13035946e-01,  1.03508012e-01,\n",
       "         9.11650065e-02,  9.00822867e-02,  1.28410567e-01,\n",
       "         7.83889129e-02,  9.28973582e-02,  9.46297098e-02,\n",
       "         1.00692941e-01,  1.13902122e-01,  1.08921611e-01,\n",
       "         7.99047207e-02,  1.12169770e-01],\n",
       "       [ 9.03579418e-01,  9.98210291e-01,  1.78970917e-03,\n",
       "         4.85906040e-01,  4.33557047e-01,  8.05369128e-02,\n",
       "         4.47427293e-04,  5.97315436e-02,  5.99776286e-01,\n",
       "         3.40044743e-01,  5.86129754e-02,  3.41387025e-01,\n",
       "         6.00000000e-01,  7.40715884e-01,  1.00671141e-01,\n",
       "         1.58612975e-01,  4.57046980e-01,  9.14988814e-02,\n",
       "         4.51454139e-01,  8.47427293e-01,  1.00000000e-01,\n",
       "         5.25727069e-02,  7.69574944e-01,  1.18344519e-01,\n",
       "         1.12080537e-01,  5.92841163e-02,  4.30872483e-01,\n",
       "         2.61744966e-02,  1.27293065e-01,  1.47651007e-02,\n",
       "         3.04250559e-02,  2.99776286e-02,  6.57718121e-02,\n",
       "         3.93736018e-02,  5.30201342e-02,  4.94407159e-02,\n",
       "         1.70022371e-02,  5.65995526e-02,  6.23937360e-01,\n",
       "         5.61521253e-02,  3.19910515e-01,  8.42953020e-01,\n",
       "         1.50335570e-01,  6.71140940e-03,  1.70022371e-02,\n",
       "         5.16107383e-01,  4.66890380e-01,  1.91275168e-01,\n",
       "         3.28859060e-02,  1.14988814e-01,  1.10290828e-01,\n",
       "         1.15212528e-01,  1.02237136e-01,  9.06040268e-02,\n",
       "         8.36689038e-02,  7.31543624e-02,  8.56823266e-02,\n",
       "         1.12975391e-01,  9.73154362e-02,  1.08053691e-01,\n",
       "         9.68680089e-02,  1.03131991e-01,  9.88814318e-02,\n",
       "         9.75391499e-02,  8.36689038e-02,  9.57494407e-02,\n",
       "         1.05816555e-01,  1.19463087e-01,  1.05369128e-01,\n",
       "         9.46308725e-02,  8.92617450e-02,  9.55257271e-02,\n",
       "         9.97762864e-02,  9.75391499e-02,  8.99328859e-02,\n",
       "         9.84340045e-02,  1.10067114e-01],\n",
       "       [ 8.82021031e-01,  9.23313670e-03,  9.90766863e-01,\n",
       "         5.85534753e-01,  3.74454988e-01,  4.00102590e-02,\n",
       "         7.69428058e-04,  5.30905360e-02,  8.56116953e-01,\n",
       "         9.00230828e-02,  1.30802770e-02,  3.79840985e-01,\n",
       "         6.07078738e-01,  5.94511413e-01,  1.20287253e-01,\n",
       "         2.85201334e-01,  3.92921262e-01,  1.12849449e-01,\n",
       "         4.94229290e-01,  9.04077969e-01,  7.41215696e-02,\n",
       "         2.18004617e-02, -1.26010313e-14,  9.80507823e-01,\n",
       "         1.94921775e-02,  8.46370864e-02,  4.32931521e-01,\n",
       "         1.86201590e-01,  1.52346756e-01,  4.41138754e-02,\n",
       "         1.92357015e-02,  1.30802770e-02,  1.12849449e-02,\n",
       "         2.56476019e-03,  2.82123621e-03,  3.53936907e-02,\n",
       "         7.69428058e-03,  7.69428058e-03,  8.73813798e-01,\n",
       "         3.59066427e-02,  9.02795589e-02,  8.91767120e-01,\n",
       "         1.03872788e-01,  4.36009233e-03,  1.48756091e-02,\n",
       "         5.92972557e-01,  3.92151834e-01,  1.78507310e-01,\n",
       "         2.38522698e-02,  9.74608874e-02,  8.38676584e-02,\n",
       "         7.92510900e-02,  8.84842267e-02,  9.95126956e-02,\n",
       "         1.17209541e-01,  1.26955630e-01,  1.04898692e-01,\n",
       "         1.27725058e-01,  7.69428058e-02,  8.79712747e-02,\n",
       "         1.00538600e-01,  8.69453706e-02,  9.56655553e-02,\n",
       "         1.05668120e-01,  1.10284688e-01,  1.02077456e-01,\n",
       "         1.06181072e-01,  1.36445242e-01,  6.12977687e-02,\n",
       "         1.45934855e-01,  1.02333932e-01,  1.03616312e-01,\n",
       "         9.43831752e-02,  8.13028982e-02,  8.59194665e-02,\n",
       "         1.13875353e-01,  7.48909977e-02]])"
      ]
     },
     "execution_count": 12,
     "metadata": {},
     "output_type": "execute_result"
    }
   ],
   "source": [
    "kmeans3 = KMeans(n_clusters=3,n_init=100,max_iter=3000,random_state=0)\n",
    "kmeans3 = kmeans3.fit(one_hot)\n",
    "PetFinder_dataset.insert(PetFinder_dataset.shape[1],'3Clusters',kmeans3.labels_)\n",
    "kmeans3.cluster_centers_"
   ]
  },
  {
   "cell_type": "markdown",
   "metadata": {},
   "source": [
    "### 2.5.4 - 4 Clusters"
   ]
  },
  {
   "cell_type": "code",
   "execution_count": 13,
   "metadata": {},
   "outputs": [
    {
     "data": {
      "text/plain": [
       "array([[ 8.81779053e-01,  8.60832138e-03,  9.91391679e-01,\n",
       "         5.87374462e-01,  3.73888092e-01,  3.87374462e-02,\n",
       "         5.73888092e-04,  4.84935438e-02,  8.65136298e-01,\n",
       "         8.57962697e-02,  1.20516499e-02,  3.87374462e-01,\n",
       "         6.00573888e-01,  6.66857963e-01,  1.54949785e-02,\n",
       "         3.17647059e-01,  4.38737446e-01,  8.89526542e-03,\n",
       "         5.52367288e-01,  9.39454806e-01,  3.50071736e-02,\n",
       "         2.55380201e-02, -1.04360964e-14,  9.78766141e-01,\n",
       "         2.12338594e-02,  8.55093257e-02,  4.28694405e-01,\n",
       "         1.89383070e-01,  1.54375897e-01,  4.01721664e-02,\n",
       "         1.95121951e-02,  1.34863702e-02,  1.03299857e-02,\n",
       "         2.58249641e-03,  3.15638451e-03,  3.61549498e-02,\n",
       "         8.32137733e-03,  8.32137733e-03,  8.72883788e-01,\n",
       "         3.58680057e-02,  9.12482066e-02,  8.85509326e-01,\n",
       "         1.11047346e-01,  3.44332855e-03,  1.31994261e-02,\n",
       "         5.80487805e-01,  4.06312769e-01,  1.86800574e-01,\n",
       "         2.35294118e-02,  1.01004304e-01,  8.75179340e-02,\n",
       "         8.00573888e-02,  9.41176471e-02,  1.02439024e-01,\n",
       "         1.18794835e-01,  1.03299857e-01,  1.02439024e-01,\n",
       "         1.34002869e-01,  7.71879484e-02,  9.38307030e-02,\n",
       "         1.06456241e-01,  8.55093257e-02,  1.01004304e-01,\n",
       "         1.10760402e-01,  9.18220947e-02,  9.81348637e-02,\n",
       "         1.01291248e-01,  1.44332855e-01,  6.31276901e-02,\n",
       "         1.31420373e-01,  1.07030129e-01,  1.10186514e-01,\n",
       "         9.78479197e-02,  8.69440459e-02,  8.80918221e-02,\n",
       "         9.55523673e-02,  7.54662841e-02],\n",
       "       [ 8.66275277e-01,  3.15068493e-01,  6.84931507e-01,\n",
       "         5.23157208e-01,  4.39008480e-01,  3.78343118e-02,\n",
       "         3.26157860e-03,  1.16112198e-01,  6.41878669e-01,\n",
       "         2.38747554e-01,  8.67579909e-02,  4.01826484e-01,\n",
       "         5.11415525e-01,  1.23939987e-02,  9.56294847e-01,\n",
       "         3.13111546e-02,  1.04370515e-02,  9.34768428e-01,\n",
       "         5.47945205e-02,  2.77886497e-01,  6.35355512e-01,\n",
       "         8.67579909e-02,  1.98303979e-01,  5.62296151e-01,\n",
       "         2.39399870e-01,  6.91454664e-02,  3.64644488e-01,\n",
       "         1.09589041e-01,  1.69602087e-01,  4.69667319e-02,\n",
       "         2.93542074e-02,  2.80495760e-02,  3.71819961e-02,\n",
       "         1.69602087e-02,  2.93542074e-02,  6.78408350e-02,\n",
       "         1.30463144e-02,  1.82648402e-02,  3.43770385e-01,\n",
       "         3.21591650e-01,  3.34637965e-01,  9.13242009e-01,\n",
       "         7.50163079e-02,  1.17416830e-02,  3.39204175e-02,\n",
       "         6.74494455e-01,  2.91585127e-01,  1.80039139e-01,\n",
       "         3.26157860e-02,  9.06718852e-02,  8.15394651e-02,\n",
       "         8.28440965e-02,  6.65362035e-02,  1.02413568e-01,\n",
       "         8.80626223e-02,  1.57208089e-01,  1.18069145e-01,\n",
       "         1.01761252e-01,  9.19765166e-02,  8.41487280e-02,\n",
       "         8.48010437e-02,  1.01761252e-01,  7.82778865e-02,\n",
       "         8.41487280e-02,  1.40247880e-01,  1.05675147e-01,\n",
       "         1.27201566e-01,  1.08936725e-01,  8.08871494e-02,\n",
       "         1.27853881e-01,  8.48010437e-02,  7.89302022e-02,\n",
       "         9.39334638e-02,  9.06718852e-02,  8.87149380e-02,\n",
       "         1.46118721e-01,  9.91519896e-02],\n",
       "       [ 9.05163853e-01,  9.97517378e-01,  2.48262165e-03,\n",
       "         4.75918570e-01,  4.39424032e-01,  8.46573982e-02,\n",
       "         4.96524330e-04,  5.83416087e-02,  5.97815293e-01,\n",
       "         3.43346574e-01,  5.31281033e-02,  3.41857001e-01,\n",
       "         6.05014896e-01,  8.21002979e-01,  1.98609732e-02,\n",
       "         1.59136048e-01,  5.07944389e-01,  1.06752731e-02,\n",
       "         4.81380338e-01,  9.13356504e-01,  3.92254220e-02,\n",
       "         4.74180735e-02,  7.65143992e-01,  1.24379345e-01,\n",
       "         1.10476663e-01,  5.98311817e-02,  4.35451837e-01,\n",
       "         2.58192651e-02,  1.27855015e-01,  1.43992056e-02,\n",
       "         2.90466733e-02,  2.92949355e-02,  6.70307845e-02,\n",
       "         3.94736842e-02,  5.23833168e-02,  4.51837140e-02,\n",
       "         1.63853029e-02,  5.78450844e-02,  6.46474677e-01,\n",
       "         4.81628600e-02,  3.05362463e-01,  8.40119166e-01,\n",
       "         1.52929494e-01,  6.95134062e-03,  1.66335650e-02,\n",
       "         5.06951341e-01,  4.76415094e-01,  1.85700099e-01,\n",
       "         3.15292949e-02,  1.16931480e-01,  1.14448858e-01,\n",
       "         1.20655412e-01,  1.03525323e-01,  8.98709037e-02,\n",
       "         8.34160874e-02,  7.24925521e-02,  8.14299901e-02,\n",
       "         1.09483615e-01,  9.73187686e-02,  1.09731877e-01,\n",
       "         9.93048659e-02,  1.04766634e-01,  9.93048659e-02,\n",
       "         9.83118173e-02,  8.61469712e-02,  9.58291956e-02,\n",
       "         9.98013903e-02,  1.12711023e-01,  1.08490566e-01,\n",
       "         9.55809335e-02,  9.06156902e-02,  9.60774578e-02,\n",
       "         1.00049652e-01,  9.85600794e-02,  9.21052632e-02,\n",
       "         9.55809335e-02,  1.10228401e-01],\n",
       "       [ 9.62953565e-01,  3.10327328e-01,  6.89672672e-01,\n",
       "         5.53666582e-01,  4.13600609e-01,  3.27328089e-02,\n",
       "         5.32859680e-03,  1.42603400e-01,  6.58969805e-01,\n",
       "         1.93098198e-01,  9.61684852e-02,  3.36209084e-01,\n",
       "         5.67622431e-01,  2.99416392e-02,  1.34483634e-02,\n",
       "         9.56609997e-01,  1.19259071e-02,  1.14184217e-02,\n",
       "         9.76655671e-01,  2.84953058e-01,  6.85105303e-02,\n",
       "         6.46536412e-01,  1.63664045e-01,  5.54681553e-01,\n",
       "         2.81654402e-01,  7.66302969e-02,  3.30626744e-01,\n",
       "         1.15960416e-01,  1.72037554e-01,  5.02410556e-02,\n",
       "         3.24790662e-02,  3.90763766e-02,  3.90763766e-02,\n",
       "         2.41055570e-02,  2.18218726e-02,  5.75995940e-02,\n",
       "         1.44633342e-02,  2.58817559e-02,  5.07485410e-02,\n",
       "         4.64856635e-01,  4.84394824e-01,  7.54884547e-01,\n",
       "         2.10606445e-01,  3.45090079e-02,  2.58817559e-02,\n",
       "         5.75742197e-01,  3.98376047e-01,  1.20274042e-01,\n",
       "         2.74042121e-02,  8.83024613e-02,  9.16011165e-02,\n",
       "         1.03780766e-01,  1.16467902e-01,  1.11139305e-01,\n",
       "         1.16721644e-01,  1.11393047e-01,  1.12915504e-01,\n",
       "         6.85105303e-02,  9.05861456e-02,  9.48997716e-02,\n",
       "         1.02765795e-01,  1.05303223e-01,  1.18751586e-01,\n",
       "         1.10631819e-01,  1.12661761e-01,  1.05049480e-01,\n",
       "         9.08398884e-02,  9.08398884e-02,  1.32453692e-01,\n",
       "         7.99289520e-02,  9.10936311e-02,  9.54072570e-02,\n",
       "         9.92133976e-02,  1.11646790e-01,  1.08094392e-01,\n",
       "         7.89139812e-02,  1.12408018e-01]])"
      ]
     },
     "execution_count": 13,
     "metadata": {},
     "output_type": "execute_result"
    }
   ],
   "source": [
    "kmeans4 = KMeans(n_clusters=4,n_init=100,max_iter=3000,random_state=0)\n",
    "kmeans4 = kmeans4.fit(one_hot)\n",
    "PetFinder_dataset.insert(PetFinder_dataset.shape[1],'4Clusters',kmeans4.labels_)\n",
    "kmeans4.cluster_centers_"
   ]
  },
  {
   "cell_type": "code",
   "execution_count": 14,
   "metadata": {},
   "outputs": [
    {
     "data": {
      "text/plain": [
       "(3, 77)"
      ]
     },
     "execution_count": 14,
     "metadata": {},
     "output_type": "execute_result"
    }
   ],
   "source": [
    "kmeans3.cluster_centers_.shape"
   ]
  },
  {
   "cell_type": "markdown",
   "metadata": {},
   "source": [
    "## 2.6. Clustering - Results and Discussion "
   ]
  },
  {
   "cell_type": "markdown",
   "metadata": {},
   "source": [
    "### 2.6.1 Comparative Analysis for 2 Clusters"
   ]
  },
  {
   "cell_type": "code",
   "execution_count": 15,
   "metadata": {},
   "outputs": [
    {
     "data": {
      "image/png": "[encoded data removed]",
      "text/plain": [
       "<Figure size 432x288 with 1 Axes>"
      ]
     },
     "metadata": {
      "needs_background": "light"
     },
     "output_type": "display_data"
    }
   ],
   "source": [
    "sns.countplot(x=PetFinder_dataset[PetFinder_dataset['2Clusters']==0]['InitialAdoptionSpeed'])\n",
    "plt.show()"
   ]
  },
  {
   "cell_type": "code",
   "execution_count": 16,
   "metadata": {
    "scrolled": true
   },
   "outputs": [
    {
     "data": {
      "image/png": "[encoded data removed]",
      "text/plain": [
       "<Figure size 432x288 with 1 Axes>"
      ]
     },
     "metadata": {
      "needs_background": "light"
     },
     "output_type": "display_data"
    }
   ],
   "source": [
    "sns.countplot(x=PetFinder_dataset[PetFinder_dataset['2Clusters']==1]['InitialAdoptionSpeed'])\n",
    "plt.show()"
   ]
  },
  {
   "cell_type": "markdown",
   "metadata": {},
   "source": [
    "### 2.6.2 Comparative Analysis for 3 Clusters"
   ]
  },
  {
   "cell_type": "code",
   "execution_count": 17,
   "metadata": {},
   "outputs": [
    {
     "data": {
      "image/png": "[encoded data removed]",
      "text/plain": [
       "<Figure size 432x288 with 1 Axes>"
      ]
     },
     "metadata": {
      "needs_background": "light"
     },
     "output_type": "display_data"
    }
   ],
   "source": [
    "sns.countplot(x=PetFinder_dataset[PetFinder_dataset['3Clusters']==0]['InitialAdoptionSpeed'])\n",
    "plt.show()"
   ]
  },
  {
   "cell_type": "code",
   "execution_count": 18,
   "metadata": {
    "scrolled": true
   },
   "outputs": [
    {
     "data": {
      "image/png": "[encoded data removed]",
      "text/plain": [
       "<Figure size 432x288 with 1 Axes>"
      ]
     },
     "metadata": {
      "needs_background": "light"
     },
     "output_type": "display_data"
    }
   ],
   "source": [
    "sns.countplot(x=PetFinder_dataset[PetFinder_dataset['3Clusters']==1]['InitialAdoptionSpeed'])\n",
    "plt.show()"
   ]
  },
  {
   "cell_type": "code",
   "execution_count": 19,
   "metadata": {
    "scrolled": true
   },
   "outputs": [
    {
     "data": {
      "image/png": "[encoded data removed]",
      "text/plain": [
       "<Figure size 432x288 with 1 Axes>"
      ]
     },
     "metadata": {
      "needs_background": "light"
     },
     "output_type": "display_data"
    }
   ],
   "source": [
    "sns.countplot(x=PetFinder_dataset[PetFinder_dataset['3Clusters']==2]['InitialAdoptionSpeed'])\n",
    "plt.show()"
   ]
  },
  {
   "cell_type": "markdown",
   "metadata": {},
   "source": [
    "### 2.6.3 Comparative Analysis for 5 Clusters"
   ]
  },
  {
   "cell_type": "code",
   "execution_count": 20,
   "metadata": {},
   "outputs": [
    {
     "data": {
      "image/png": "[encoded data removed]",
      "text/plain": [
       "<Figure size 432x288 with 1 Axes>"
      ]
     },
     "metadata": {
      "needs_background": "light"
     },
     "output_type": "display_data"
    }
   ],
   "source": [
    "sns.countplot(x=PetFinder_dataset[PetFinder_dataset['5Clusters']==0]['InitialAdoptionSpeed'])\n",
    "plt.show()"
   ]
  },
  {
   "cell_type": "code",
   "execution_count": 21,
   "metadata": {
    "scrolled": true
   },
   "outputs": [
    {
     "data": {
      "image/png": "[encoded data removed]",
      "text/plain": [
       "<Figure size 432x288 with 1 Axes>"
      ]
     },
     "metadata": {
      "needs_background": "light"
     },
     "output_type": "display_data"
    }
   ],
   "source": [
    "sns.countplot(x=PetFinder_dataset[PetFinder_dataset['5Clusters']==1]['InitialAdoptionSpeed'])\n",
    "plt.show()"
   ]
  },
  {
   "cell_type": "code",
   "execution_count": 22,
   "metadata": {
    "scrolled": false
   },
   "outputs": [
    {
     "data": {
      "image/png": "[encoded data removed]",
      "text/plain": [
       "<Figure size 432x288 with 1 Axes>"
      ]
     },
     "metadata": {
      "needs_background": "light"
     },
     "output_type": "display_data"
    }
   ],
   "source": [
    "sns.countplot(x=PetFinder_dataset[PetFinder_dataset['5Clusters']==2]['InitialAdoptionSpeed'])\n",
    "plt.show()"
   ]
  },
  {
   "cell_type": "code",
   "execution_count": 23,
   "metadata": {
    "scrolled": false
   },
   "outputs": [
    {
     "data": {
      "image/png": "[encoded data removed]",
      "text/plain": [
       "<Figure size 432x288 with 1 Axes>"
      ]
     },
     "metadata": {
      "needs_background": "light"
     },
     "output_type": "display_data"
    }
   ],
   "source": [
    "sns.countplot(x=PetFinder_dataset[PetFinder_dataset['5Clusters']==3]['InitialAdoptionSpeed'])\n",
    "plt.show()"
   ]
  },
  {
   "cell_type": "code",
   "execution_count": 24,
   "metadata": {
    "scrolled": false
   },
   "outputs": [
    {
     "data": {
      "image/png": "[encoded data removed]",
      "text/plain": [
       "<Figure size 432x288 with 1 Axes>"
      ]
     },
     "metadata": {
      "needs_background": "light"
     },
     "output_type": "display_data"
    }
   ],
   "source": [
    "sns.countplot(x=PetFinder_dataset[PetFinder_dataset['5Clusters']==4]['InitialAdoptionSpeed'])\n",
    "plt.show()"
   ]
  },
  {
   "cell_type": "markdown",
   "metadata": {},
   "source": [
    "### 2.6.4 Comparative Analysis for 4 Clusters"
   ]
  },
  {
   "cell_type": "code",
   "execution_count": 25,
   "metadata": {},
   "outputs": [
    {
     "data": {
      "image/png": "[encoded data removed]",
      "text/plain": [
       "<Figure size 432x288 with 1 Axes>"
      ]
     },
     "metadata": {
      "needs_background": "light"
     },
     "output_type": "display_data"
    },
    {
     "name": "stdout",
     "output_type": "stream",
     "text": [
      "3485\n"
     ]
    }
   ],
   "source": [
    "sns.countplot(x=PetFinder_dataset[PetFinder_dataset['4Clusters']==0]['InitialAdoptionSpeed'])\n",
    "plt.show()\n",
    "print(PetFinder_dataset[PetFinder_dataset['4Clusters']==0]['InitialAdoptionSpeed'].count())"
   ]
  },
  {
   "cell_type": "code",
   "execution_count": 26,
   "metadata": {
    "scrolled": false
   },
   "outputs": [
    {
     "data": {
      "image/png": "[encoded data removed]",
      "text/plain": [
       "<Figure size 432x288 with 1 Axes>"
      ]
     },
     "metadata": {
      "needs_background": "light"
     },
     "output_type": "display_data"
    },
    {
     "name": "stdout",
     "output_type": "stream",
     "text": [
      "1533\n"
     ]
    }
   ],
   "source": [
    "sns.countplot(x=PetFinder_dataset[PetFinder_dataset['4Clusters']==1]['InitialAdoptionSpeed'])\n",
    "plt.show()\n",
    "print(PetFinder_dataset[PetFinder_dataset['4Clusters']==1]['InitialAdoptionSpeed'].count())"
   ]
  },
  {
   "cell_type": "code",
   "execution_count": 27,
   "metadata": {
    "scrolled": false
   },
   "outputs": [
    {
     "data": {
      "image/png": "[encoded data removed]",
      "text/plain": [
       "<Figure size 432x288 with 1 Axes>"
      ]
     },
     "metadata": {
      "needs_background": "light"
     },
     "output_type": "display_data"
    },
    {
     "name": "stdout",
     "output_type": "stream",
     "text": [
      "4028\n"
     ]
    }
   ],
   "source": [
    "sns.countplot(x=PetFinder_dataset[PetFinder_dataset['4Clusters']==2]['InitialAdoptionSpeed'])\n",
    "plt.show()\n",
    "print(PetFinder_dataset[PetFinder_dataset['4Clusters']==2]['InitialAdoptionSpeed'].count())"
   ]
  },
  {
   "cell_type": "code",
   "execution_count": 28,
   "metadata": {
    "scrolled": false
   },
   "outputs": [
    {
     "data": {
      "image/png": "[encoded data removed]",
      "text/plain": [
       "<Figure size 432x288 with 1 Axes>"
      ]
     },
     "metadata": {
      "needs_background": "light"
     },
     "output_type": "display_data"
    },
    {
     "name": "stdout",
     "output_type": "stream",
     "text": [
      "3941\n"
     ]
    }
   ],
   "source": [
    "sns.countplot(x=PetFinder_dataset[PetFinder_dataset['4Clusters']==3]['InitialAdoptionSpeed'])\n",
    "plt.show()\n",
    "print(PetFinder_dataset[PetFinder_dataset['4Clusters']==3]['InitialAdoptionSpeed'].count())"
   ]
  },
  {
   "cell_type": "markdown",
   "metadata": {},
   "source": [
    "### 2.6.5 Discussion\n",
    "The results are quite bad, in all computed clusters using Kmeans algorithm (no matter the number of clusters considered) there is no clear dominant class.\n",
    "Due to the subjective criteria use by the adopters when selecting a pet, pets with very similar characteristics end up being adopted at different rates. Clearly, one the of the most important factors in the adoption decision is missing in the fetures we have avaialble ... Adopter mindset!  "
   ]
  },
  {
   "cell_type": "code",
   "execution_count": null,
   "metadata": {},
   "outputs": [],
   "source": []
  }
 ],
 "metadata": {
  "kernelspec": {
   "display_name": "Python 3",
   "language": "python",
   "name": "python3"
  },
  "language_info": {
   "codemirror_mode": {
    "name": "ipython",
    "version": 3
   },
   "file_extension": ".py",
   "mimetype": "text/x-python",
   "name": "python",
   "nbconvert_exporter": "python",
   "pygments_lexer": "ipython3",
   "version": "3.8.3"
  },
  "toc": {
   "base_numbering": 1,
   "nav_menu": {},
   "number_sections": true,
   "sideBar": true,
   "skip_h1_title": false,
   "title_cell": "Table of Contents",
   "title_sidebar": "Contents",
   "toc_cell": false,
   "toc_position": {},
   "toc_section_display": true,
   "toc_window_display": true
  }
 },
 "nbformat": 4,
 "nbformat_minor": 2
}
