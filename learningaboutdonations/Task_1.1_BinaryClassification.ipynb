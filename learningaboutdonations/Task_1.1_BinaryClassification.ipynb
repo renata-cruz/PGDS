{
 "cells": [
  {
   "cell_type": "markdown",
   "metadata": {},
   "source": [
    "# Task 1 (Supervised Learning) - Predicting Donation and Donation Type\n",
    "\n",
    "In this task you should target 3 classification tasks:\n",
    "1. **Predicting  Donation (binary classification task)**; \n",
    "2. **Predicting Donation TYPE (multiclass classification)**; and\n",
    "3. **Train specialized models for SES (socioeconomic classification)**."
   ]
  },
  {
   "cell_type": "markdown",
   "metadata": {},
   "source": [
    "**You should:**\n",
    "\n",
    "* Choose **one classifier in each category**: Tree models, Rule models, Linear models, Distance-based models, and Probabilistic models.\n",
    "* Use cross-validation to evaluate the results. \n",
    "* Present and discuss the results for different evaluation measures, present confusion matrices. Remember that not only overall results are important. Check what happens when learning to predict each class.\n",
    "* Describe the parameters used for each classifier and how their choice impacted or not the results.\n",
    "* Choose the best classifier and fundament you choice.\n",
    "* **Discuss critically your choices and the results!**"
   ]
  },
  {
   "cell_type": "markdown",
   "metadata": {},
   "source": [
    "## Supervised Learning"
   ]
  },
  {
   "cell_type": "markdown",
   "metadata": {},
   "source": [
    "Supervised learning refers to the task of inferring a function model from labeled training data. The training data consists on a set of examples in which each example is a pair of an input object (typically a vector) and a desired output value. A supervised learning algorithm analyzes the training data and produces an inferred function, which can be used for mapping new examples. In an optimal scenario, the algorithm correctly determines the class labels for unseen instances. However, this requires the learning algorithm to be able to generalize from the training data to novel situations. "
   ]
  },
  {
   "cell_type": "code",
   "execution_count": 1,
   "metadata": {
    "ExecuteTime": {
     "end_time": "2020-12-30T23:48:33.931559Z",
     "start_time": "2020-12-30T23:48:30.448774Z"
    }
   },
   "outputs": [],
   "source": [
    "import pandas as pd\n",
    "import numpy as np\n",
    "import matplotlib.pyplot as plt\n",
    "import seaborn as sns\n",
    "from multi_imbalance.utils.plot import plot_cardinality_and_2d_data\n",
    "from sklearn.model_selection import cross_val_score\n",
    "from sklearn.model_selection import train_test_split\n",
    "from sklearn import tree\n",
    "import wittgenstein as lw\n",
    "from sklearn import neighbors\n",
    "from sklearn.naive_bayes import GaussianNB\n",
    "from sklearn.linear_model import LogisticRegression\n",
    "from sklearn.metrics import accuracy_score, recall_score, f1_score\n",
    "from sklearn.metrics import confusion_matrix"
   ]
  },
  {
   "cell_type": "markdown",
   "metadata": {},
   "source": [
    "### Preprocessing Data for Classification"
   ]
  },
  {
   "cell_type": "code",
   "execution_count": 2,
   "metadata": {
    "ExecuteTime": {
     "end_time": "2020-12-30T23:48:34.268980Z",
     "start_time": "2020-12-30T23:48:33.936137Z"
    }
   },
   "outputs": [
    {
     "data": {
      "text/html": [
       "<div>\n",
       "<style scoped>\n",
       "    .dataframe tbody tr th:only-of-type {\n",
       "        vertical-align: middle;\n",
       "    }\n",
       "\n",
       "    .dataframe tbody tr th {\n",
       "        vertical-align: top;\n",
       "    }\n",
       "\n",
       "    .dataframe thead th {\n",
       "        text-align: right;\n",
       "    }\n",
       "</style>\n",
       "<table border=\"1\" class=\"dataframe\">\n",
       "  <thead>\n",
       "    <tr style=\"text-align: right;\">\n",
       "      <th></th>\n",
       "      <th>TARGET_B</th>\n",
       "      <th>TARGET_D</th>\n",
       "      <th>MONTHS_SINCE_ORIGIN</th>\n",
       "      <th>DONOR_AGE</th>\n",
       "      <th>IN_HOUSE</th>\n",
       "      <th>SES</th>\n",
       "      <th>CLUSTER_CODE</th>\n",
       "      <th>INCOME_GROUP</th>\n",
       "      <th>MOR_HIT_RATE</th>\n",
       "      <th>MEDIAN_HOME_VALUE</th>\n",
       "      <th>...</th>\n",
       "      <th>LIFETIME_GIFT_RANGE_BIN</th>\n",
       "      <th>LAST_GIFT_AMT_BIN</th>\n",
       "      <th>CARD_PROM_12_BIN</th>\n",
       "      <th>NUMBER_PROM_12_BIN</th>\n",
       "      <th>MONTHS_SINCE_LAST_GIFT_BIN</th>\n",
       "      <th>MONTHS_SINCE_FIRST_GIFT_BIN</th>\n",
       "      <th>FILE_CARD_GIFT_BIN</th>\n",
       "      <th>INCOME_GROUP_BIN</th>\n",
       "      <th>RECENCY_STATUS_96NK_e</th>\n",
       "      <th>DONATION_TYPE</th>\n",
       "    </tr>\n",
       "  </thead>\n",
       "  <tbody>\n",
       "    <tr>\n",
       "      <th>0</th>\n",
       "      <td>1.0</td>\n",
       "      <td>10.0</td>\n",
       "      <td>137.0</td>\n",
       "      <td>79.000000</td>\n",
       "      <td>0.0</td>\n",
       "      <td>2.0</td>\n",
       "      <td>45.0</td>\n",
       "      <td>7.0</td>\n",
       "      <td>0.0</td>\n",
       "      <td>334.0</td>\n",
       "      <td>...</td>\n",
       "      <td>(15.0, 30.0]</td>\n",
       "      <td>(15.0, 30.0]</td>\n",
       "      <td>(3.0, 9.0]</td>\n",
       "      <td>(20.0, 30.0]</td>\n",
       "      <td>(-0.1, 8.0]</td>\n",
       "      <td>(120.0, 260.0]</td>\n",
       "      <td>(10.0, 20.0]</td>\n",
       "      <td>(6.4, 8.337]</td>\n",
       "      <td>4.0</td>\n",
       "      <td>D</td>\n",
       "    </tr>\n",
       "    <tr>\n",
       "      <th>1</th>\n",
       "      <td>0.0</td>\n",
       "      <td>0.0</td>\n",
       "      <td>113.0</td>\n",
       "      <td>75.000000</td>\n",
       "      <td>0.0</td>\n",
       "      <td>1.0</td>\n",
       "      <td>11.0</td>\n",
       "      <td>5.0</td>\n",
       "      <td>0.0</td>\n",
       "      <td>2388.0</td>\n",
       "      <td>...</td>\n",
       "      <td>(15.0, 30.0]</td>\n",
       "      <td>(15.0, 30.0]</td>\n",
       "      <td>(9.0, 14.0]</td>\n",
       "      <td>(30.0, 64.0]</td>\n",
       "      <td>(-0.1, 8.0]</td>\n",
       "      <td>(80.0, 120.0]</td>\n",
       "      <td>(10.0, 20.0]</td>\n",
       "      <td>(4.4, 5.4]</td>\n",
       "      <td>4.0</td>\n",
       "      <td>NaN</td>\n",
       "    </tr>\n",
       "    <tr>\n",
       "      <th>2</th>\n",
       "      <td>0.0</td>\n",
       "      <td>0.0</td>\n",
       "      <td>92.0</td>\n",
       "      <td>62.695162</td>\n",
       "      <td>0.0</td>\n",
       "      <td>2.0</td>\n",
       "      <td>4.0</td>\n",
       "      <td>6.0</td>\n",
       "      <td>0.0</td>\n",
       "      <td>1688.0</td>\n",
       "      <td>...</td>\n",
       "      <td>(-0.1, 15.0]</td>\n",
       "      <td>(-0.1, 15.0]</td>\n",
       "      <td>(9.0, 14.0]</td>\n",
       "      <td>(30.0, 64.0]</td>\n",
       "      <td>(-0.1, 8.0]</td>\n",
       "      <td>(80.0, 120.0]</td>\n",
       "      <td>(10.0, 20.0]</td>\n",
       "      <td>(5.4, 6.4]</td>\n",
       "      <td>0.0</td>\n",
       "      <td>NaN</td>\n",
       "    </tr>\n",
       "    <tr>\n",
       "      <th>3</th>\n",
       "      <td>0.0</td>\n",
       "      <td>0.0</td>\n",
       "      <td>101.0</td>\n",
       "      <td>74.000000</td>\n",
       "      <td>0.0</td>\n",
       "      <td>2.0</td>\n",
       "      <td>49.0</td>\n",
       "      <td>2.0</td>\n",
       "      <td>8.0</td>\n",
       "      <td>514.0</td>\n",
       "      <td>...</td>\n",
       "      <td>(15.0, 30.0]</td>\n",
       "      <td>(15.0, 30.0]</td>\n",
       "      <td>(3.0, 9.0]</td>\n",
       "      <td>(10.0, 20.0]</td>\n",
       "      <td>(16.0, 24.0]</td>\n",
       "      <td>(80.0, 120.0]</td>\n",
       "      <td>(-0.1, 10.0]</td>\n",
       "      <td>(1.4, 2.4]</td>\n",
       "      <td>0.0</td>\n",
       "      <td>NaN</td>\n",
       "    </tr>\n",
       "    <tr>\n",
       "      <th>4</th>\n",
       "      <td>0.0</td>\n",
       "      <td>0.0</td>\n",
       "      <td>101.0</td>\n",
       "      <td>63.000000</td>\n",
       "      <td>0.0</td>\n",
       "      <td>3.0</td>\n",
       "      <td>8.0</td>\n",
       "      <td>3.0</td>\n",
       "      <td>0.0</td>\n",
       "      <td>452.0</td>\n",
       "      <td>...</td>\n",
       "      <td>(-0.1, 15.0]</td>\n",
       "      <td>(-0.1, 15.0]</td>\n",
       "      <td>(3.0, 9.0]</td>\n",
       "      <td>(10.0, 20.0]</td>\n",
       "      <td>(16.0, 24.0]</td>\n",
       "      <td>(80.0, 120.0]</td>\n",
       "      <td>(-0.1, 10.0]</td>\n",
       "      <td>(2.4, 3.4]</td>\n",
       "      <td>0.0</td>\n",
       "      <td>NaN</td>\n",
       "    </tr>\n",
       "  </tbody>\n",
       "</table>\n",
       "<p>5 rows × 75 columns</p>\n",
       "</div>"
      ],
      "text/plain": [
       "   TARGET_B  TARGET_D  MONTHS_SINCE_ORIGIN  DONOR_AGE  IN_HOUSE  SES  \\\n",
       "0       1.0      10.0                137.0  79.000000       0.0  2.0   \n",
       "1       0.0       0.0                113.0  75.000000       0.0  1.0   \n",
       "2       0.0       0.0                 92.0  62.695162       0.0  2.0   \n",
       "3       0.0       0.0                101.0  74.000000       0.0  2.0   \n",
       "4       0.0       0.0                101.0  63.000000       0.0  3.0   \n",
       "\n",
       "   CLUSTER_CODE  INCOME_GROUP  MOR_HIT_RATE  MEDIAN_HOME_VALUE  ...  \\\n",
       "0          45.0           7.0           0.0              334.0  ...   \n",
       "1          11.0           5.0           0.0             2388.0  ...   \n",
       "2           4.0           6.0           0.0             1688.0  ...   \n",
       "3          49.0           2.0           8.0              514.0  ...   \n",
       "4           8.0           3.0           0.0              452.0  ...   \n",
       "\n",
       "   LIFETIME_GIFT_RANGE_BIN  LAST_GIFT_AMT_BIN  CARD_PROM_12_BIN  \\\n",
       "0             (15.0, 30.0]       (15.0, 30.0]        (3.0, 9.0]   \n",
       "1             (15.0, 30.0]       (15.0, 30.0]       (9.0, 14.0]   \n",
       "2             (-0.1, 15.0]       (-0.1, 15.0]       (9.0, 14.0]   \n",
       "3             (15.0, 30.0]       (15.0, 30.0]        (3.0, 9.0]   \n",
       "4             (-0.1, 15.0]       (-0.1, 15.0]        (3.0, 9.0]   \n",
       "\n",
       "   NUMBER_PROM_12_BIN  MONTHS_SINCE_LAST_GIFT_BIN  \\\n",
       "0        (20.0, 30.0]                 (-0.1, 8.0]   \n",
       "1        (30.0, 64.0]                 (-0.1, 8.0]   \n",
       "2        (30.0, 64.0]                 (-0.1, 8.0]   \n",
       "3        (10.0, 20.0]                (16.0, 24.0]   \n",
       "4        (10.0, 20.0]                (16.0, 24.0]   \n",
       "\n",
       "   MONTHS_SINCE_FIRST_GIFT_BIN  FILE_CARD_GIFT_BIN  INCOME_GROUP_BIN  \\\n",
       "0               (120.0, 260.0]        (10.0, 20.0]      (6.4, 8.337]   \n",
       "1                (80.0, 120.0]        (10.0, 20.0]        (4.4, 5.4]   \n",
       "2                (80.0, 120.0]        (10.0, 20.0]        (5.4, 6.4]   \n",
       "3                (80.0, 120.0]        (-0.1, 10.0]        (1.4, 2.4]   \n",
       "4                (80.0, 120.0]        (-0.1, 10.0]        (2.4, 3.4]   \n",
       "\n",
       "   RECENCY_STATUS_96NK_e  DONATION_TYPE  \n",
       "0                    4.0              D  \n",
       "1                    4.0            NaN  \n",
       "2                    0.0            NaN  \n",
       "3                    0.0            NaN  \n",
       "4                    0.0            NaN  \n",
       "\n",
       "[5 rows x 75 columns]"
      ]
     },
     "execution_count": 2,
     "metadata": {},
     "output_type": "execute_result"
    }
   ],
   "source": [
    "df_clean = pd.read_csv('donors_dataset_clean.csv') \n",
    "df_clean.head()"
   ]
  },
  {
   "cell_type": "markdown",
   "metadata": {},
   "source": [
    "#### Data and classes "
   ]
  },
  {
   "cell_type": "markdown",
   "metadata": {},
   "source": [
    "In this task, we only need to predict if the existance of donation. Thus we will use a subset of the dataset without considering the columns: DONATION_TYPE, TARGET_D and binned data."
   ]
  },
  {
   "cell_type": "code",
   "execution_count": 3,
   "metadata": {
    "ExecuteTime": {
     "end_time": "2020-12-30T23:48:34.279539Z",
     "start_time": "2020-12-30T23:48:34.272834Z"
    }
   },
   "outputs": [],
   "source": [
    "categorical_columns = ['DONOR_AGE_BIN', 'MONTHS_SINCE_ORIGIN_BIN', 'INCOME_GROUP_BIN','MOR_HIT_RATE_BIN', 'MEDIAN_HOME_VALUE_BIN', \n",
    "                       'MEDIAN_HOUSEHOLD_INCOME_BIN', 'PCT_OWNER_OCCUPIED_BIN', 'PER_CAPITA_INCOME_BIN', 'PCT_ATTRIBUTE1_BIN',\n",
    "                      'PCT_ATTRIBUTE2_BIN', 'PCT_ATTRIBUTE3_BIN', 'PCT_ATTRIBUTE4_BIN', 'RECENT_RESPONSE_PROP_BIN',\n",
    "                      'RECENT_AVG_GIFT_AMT_BIN', 'RECENT_CARD_RESPONSE_PROP_BIN', 'RECENT_AVG_CARD_GIFT_AMT_BIN',\n",
    "                      'RECENT_RESPONSE_COUNT_BIN', 'RECENT_CARD_RESPONSE_COUNT_BIN', 'MONTHS_SINCE_LAST_PROM_RESP_BIN',\n",
    "                      'LIFETIME_CARD_PROM_BIN', 'LIFETIME_PROM_BIN', 'LIFETIME_GIFT_AMOUNT_BIN','LIFETIME_GIFT_COUNT_BIN',\n",
    "                      'LIFETIME_AVG_GIFT_AMT_BIN', 'LIFETIME_GIFT_RANGE_BIN', 'LAST_GIFT_AMT_BIN', 'CARD_PROM_12_BIN',\n",
    "                      'NUMBER_PROM_12_BIN', 'MONTHS_SINCE_LAST_GIFT_BIN', 'MONTHS_SINCE_FIRST_GIFT_BIN', 'FILE_CARD_GIFT_BIN']"
   ]
  },
  {
   "cell_type": "code",
   "execution_count": 4,
   "metadata": {
    "ExecuteTime": {
     "end_time": "2020-12-30T23:48:34.306695Z",
     "start_time": "2020-12-30T23:48:34.283018Z"
    }
   },
   "outputs": [],
   "source": [
    "# Subset\n",
    "df_clean.drop(columns = ['DONATION_TYPE','TARGET_D'], inplace=True)\n",
    "df_clean.drop(columns = categorical_columns, inplace=True)"
   ]
  },
  {
   "cell_type": "code",
   "execution_count": 5,
   "metadata": {
    "ExecuteTime": {
     "end_time": "2020-12-30T23:48:34.318232Z",
     "start_time": "2020-12-30T23:48:34.310157Z"
    }
   },
   "outputs": [],
   "source": [
    "# Data preparation: from dataframe to arrays\n",
    "nc = df_clean.shape[1] \n",
    "matrix = df_clean.values\n",
    "X = matrix [:, 1:nc] \n",
    "y = matrix [:, 0]         \n",
    "features = df_clean.columns.values[1:nc] \n",
    "target = df_clean.columns.values[0]"
   ]
  },
  {
   "cell_type": "code",
   "execution_count": 6,
   "metadata": {
    "ExecuteTime": {
     "end_time": "2020-12-30T23:48:35.394732Z",
     "start_time": "2020-12-30T23:48:34.320733Z"
    }
   },
   "outputs": [
    {
     "data": {
      "image/png": "[encoded data removed]",
      "text/plain": [
       "<Figure size 864x432 with 2 Axes>"
      ]
     },
     "metadata": {},
     "output_type": "display_data"
    }
   ],
   "source": [
    "# Visualization of the classes\n",
    "# Plot 1 (left): Barplot with the cardinality of classes from y\n",
    "# Plot2 (right): Scatter plot of X transformed to two dimensions using PCA\n",
    "plot_cardinality_and_2d_data(X, y, 'Donors vs. Not donors')"
   ]
  },
  {
   "cell_type": "markdown",
   "metadata": {},
   "source": [
    "The data is imbalanced. The 'Not donors' class has more datapoints when compared to the 'Donors' class. Instead of resorting to under/oversampling, we will perform a data split with stratification and account for this difference. On the other hand, the sklearn.model_selection.cross_val_score() splitting strategy we will use (cv = int) also stratifies the data by appliyng a StratifiedKFold approach."
   ]
  },
  {
   "cell_type": "markdown",
   "metadata": {},
   "source": [
    "#### Traning and Testing Sets "
   ]
  },
  {
   "cell_type": "markdown",
   "metadata": {},
   "source": [
    "To evaluate the models, we need to test them on a testing set independent from the training set. This separate analysis allows for overfitting control."
   ]
  },
  {
   "cell_type": "code",
   "execution_count": 7,
   "metadata": {
    "ExecuteTime": {
     "end_time": "2020-12-30T23:48:35.429741Z",
     "start_time": "2020-12-30T23:48:35.397129Z"
    }
   },
   "outputs": [],
   "source": [
    "# Split the data \n",
    "# Training set: 0.75\n",
    "# Testing set: 0.25\n",
    "X_train, X_test, y_train, y_test = train_test_split(X, y, random_state=42, stratify=y) "
   ]
  },
  {
   "cell_type": "markdown",
   "metadata": {},
   "source": [
    "### Learning Classifiers"
   ]
  },
  {
   "cell_type": "markdown",
   "metadata": {},
   "source": [
    "Learning Classifiers are used for describing a set of predetermined classes. Each tuple/sample is assumed to belong to a predefined class, as determined by the class label attribute. For the present task we tested a Naive Bayes Classifier (NBC), a Decision Tree Classifier (DT), a Linear Regression (LR) model, the RIPPER algorithm and the K-Nearest Neighbours (KNN) algorithm as examples of probabilistic models, tree models, liner models, rule models and distance-based models, respectively.\n",
    "\n",
    "With more than three variables, it becomes difficult to visualize relations between variables. However, these relationships may be taken into account when we apply a machine learning model. The interesting aspect of the NBC, comparing to other models, is that it forgets about any type of correlation between variables. It assumes there is an independent relation between _Xi_ and Y. Due to this particularity, it is often used as a baseline model. If a model performs worse than NBC, it should be discarted.\n",
    "\n",
    "DT are very popular in machine learning. Their construction does not require any domain knowledge or parameter setting, and therefore it is appropriate for exploratory knowledge discovery. Their representation of acquired knowledge in tree form is intuitive and generally easy to interpret. The learning and classification steps of decision tree induction are simple and fast. In general, DT have good accuracy. It is advisable not to construct big decision trees.\n",
    "\n",
    "KNN classification is a conventional non-parametric classifier, which has been used as the baseline classifier in many pattern classification problems. It is based on measuring the distances between the test data and each training example to decide the final classification output. The most widely used distance metric in KNN is the Eucledian Distance. Even though KNN performes better as the dataset increases, it is extremely sensitive to the number of variables in the dataset, leading to a worse performance as the quantity of variables increases.\n",
    "\n",
    "LR is a linear model for binary classification predictive modeling. It is used to tell the probability and classify new samples using continuous and discrete measurements. It belongs to the linear models because it predicts the log-odds of an example belonging to class 1, which is converted to a probability via the logistic function. Thus, it predicts whether a data point is True or False rather then predicting continuous values. \n",
    "Instead of fitting a line to the data, LR fits an “S” shaped logistic function, which has a counter domain from 0 to 1 (the probability of Y given X). In addition, the data is modeled using the “maximum likelihood” in which we assume a probability distribution for the target variable to calculate the likelihood of observing the outcome, given the input data and the model. Then, the curve with the maximum value of likelihood is selected.\n",
    "\n",
    "Finally, rule models refer to a simple if-else statement consisting on a condition and a prediction. The induced rules are easily interpretable and thus these classifiers are generally used to generate descriptive models. Rules can be generated either using a general-to-specific approach or specific-to-general. In the first, we start with a rule with no antecedent and keep on adding conditions until major improvements are observed in the evaluation metrics. While in the second, the model keeps on removing the conditions from a rule covering a very specific case. For this task we chose the RIPPER model, which uses a post-processing phase (rule pruning) to optimize the decision list or set. RIPPER can run in ordered or unordered mode and generate either a decision list or decision set."
   ]
  },
  {
   "cell_type": "markdown",
   "metadata": {},
   "source": [
    "#### Model Evaluation"
   ]
  },
  {
   "cell_type": "code",
   "execution_count": 8,
   "metadata": {
    "ExecuteTime": {
     "end_time": "2020-12-30T23:48:35.442504Z",
     "start_time": "2020-12-30T23:48:35.434553Z"
    }
   },
   "outputs": [],
   "source": [
    "## Code to supress warnings. Since the Logistic Regression model does not converge, an warning is issued.\n",
    "from warnings import filterwarnings\n",
    "filterwarnings('ignore')"
   ]
  },
  {
   "cell_type": "code",
   "execution_count": 9,
   "metadata": {
    "ExecuteTime": {
     "end_time": "2020-12-30T23:48:35.461976Z",
     "start_time": "2020-12-30T23:48:35.454392Z"
    }
   },
   "outputs": [],
   "source": [
    "## Classifiers - Set the different parameters for each model\n",
    "\n",
    "# Decision Trees\n",
    "dt = tree.DecisionTreeClassifier(criterion='entropy', max_leaf_nodes=30)\n",
    "# Naive Bayes Classifier\n",
    "gnb = GaussianNB()\n",
    "# Rule Models: RIPPER\n",
    "ripper_clf = lw.RIPPER()\n",
    "# Linear Regression\n",
    "lr = LogisticRegression(max_iter=400)\n",
    "# K-Nearest Neighbours\n",
    "knn = neighbors.KNeighborsClassifier(n_neighbors=6)"
   ]
  },
  {
   "cell_type": "markdown",
   "metadata": {},
   "source": [
    "##### Cross-Validation "
   ]
  },
  {
   "cell_type": "code",
   "execution_count": 10,
   "metadata": {
    "ExecuteTime": {
     "end_time": "2020-12-30T23:49:36.020537Z",
     "start_time": "2020-12-30T23:48:35.465432Z"
    },
    "scrolled": false
   },
   "outputs": [
    {
     "name": "stdout",
     "output_type": "stream",
     "text": [
      "Cross-Validation Decision Tree - F1 Macro: 0.47 (+/- 0.05)\n",
      "Cross-Validation Decision Tree - F1 Weighted: 0.66 (+/- 0.02)\n",
      "Cross-Validation Decision Tree - Recall Macro: 0.51 (+/- 0.02)\n",
      "Cross-Validation Decision Tree - Recall Weighted: 0.75 (+/- 0.01)\n",
      "Cross-Validation Decision Tree - Accuracy: 0.75 (+/- 0.01) \n",
      "\n",
      "Cross-Validation Naive Bayes Classifier - F1 Macro: 0.55 (+/- 0.04)\n",
      "Cross-Validation Naive Bayes Classifier - F1 Weighted: 0.66 (+/- 0.09)\n",
      "Cross-Validation Naive Bayes Classifier - Recall Macro: 0.56 (+/- 0.05)\n",
      "Cross-Validation Naive Bayes Classifier - Recall Weighted: 0.67 (+/- 0.11)\n",
      "Cross-Validation Naive Bayes Classifier - Accuracy: 0.67 (+/- 0.11) \n",
      "\n",
      "Cross-Validation Linear Regression - F1 Macro: 0.43 (+/- 0.01)\n",
      "Cross-Validation Linear Regression - F1 Weighted: 0.65 (+/- 0.00)\n",
      "Cross-Validation Linear Regression - Recall Macro: 0.50 (+/- 0.00)\n",
      "Cross-Validation Linear Regression - Recall Weighted: 0.75 (+/- 0.01)\n",
      "Cross-Validation Linear Regression - Accuracy: 0.75 (+/- 0.01) \n",
      "\n",
      "Cross-Validation K-Nearest Neighbours - F1 Macro: 0.46 (+/- 0.02)\n",
      "Cross-Validation K-Nearest Neighbours - F1 Weighted: 0.65 (+/- 0.01)\n",
      "Cross-Validation K-Nearest Neighbours - Recall Macro: 0.50 (+/- 0.01)\n",
      "Cross-Validation K-Nearest Neighbours - Recall Weighted: 0.73 (+/- 0.03)\n",
      "Cross-Validation K-Nearest Neighbours - Accuracy: 0.73 (+/- 0.03) \n",
      "\n"
     ]
    }
   ],
   "source": [
    "# For Decision Tree, Naive Bayes Classifier, Linear Regression and K-Nearest Neighbours\n",
    "models = [dt, gnb, lr, knn]\n",
    "names = ['Decision Tree', 'Naive Bayes Classifier','Linear Regression','K-Nearest Neighbours']\n",
    "\n",
    "for model, name in zip(models, names):\n",
    "    f1_macro = cross_val_score(model, X, y, cv=10, scoring='f1_macro')\n",
    "    f1_weighted = cross_val_score(model, X, y, cv=10, scoring = 'f1_weighted')\n",
    "    recall_macro = cross_val_score(model, X, y, cv=10, scoring='recall_macro')\n",
    "    recall_weighted  = cross_val_score(model, X, y, cv=10, scoring = 'recall_weighted')\n",
    "    accuracy_cv = cross_val_score(model, X, y, cv=10, scoring='accuracy')\n",
    "    \n",
    "    print('Cross-Validation {name} - F1 Macro: %0.2f (+/- %0.2f)'.format(name=name) % (f1_macro.mean(), f1_macro.std() * 2))\n",
    "    print('Cross-Validation {name} - F1 Weighted: %0.2f (+/- %0.2f)'.format(name=name) % (f1_weighted.mean(), f1_weighted.std() * 2))\n",
    "    print('Cross-Validation {name} - Recall Macro: %0.2f (+/- %0.2f)'.format(name=name) % (recall_macro.mean(), recall_macro.std() * 2))\n",
    "    print('Cross-Validation {name} - Recall Weighted: %0.2f (+/- %0.2f)'.format(name=name) % (recall_weighted.mean(), recall_weighted.std() * 2))\n",
    "    print('Cross-Validation {name} - Accuracy: %0.2f (+/- %0.2f)'.format(name=name) % (accuracy_cv.mean(), accuracy_cv.std() * 2),'\\n')"
   ]
  },
  {
   "cell_type": "markdown",
   "metadata": {},
   "source": [
    "##### Training vs. Testing "
   ]
  },
  {
   "cell_type": "code",
   "execution_count": 11,
   "metadata": {
    "ExecuteTime": {
     "end_time": "2020-12-30T23:50:01.914112Z",
     "start_time": "2020-12-30T23:49:36.023112Z"
    }
   },
   "outputs": [
    {
     "data": {
      "text/plain": [
       "<Ruleset [PEP_STAR=1.0^LAST_GIFT_AMT=0.0-6.0^PCT_ATTRIBUTE2=36.0-40.0^RECENT_CARD_RESPONSE_PROP=0.36-0.5^RECENT_RESPONSE_COUNT=4.0-6.0^DONOR_GENDER_e=0.0]>"
      ]
     },
     "execution_count": 11,
     "metadata": {},
     "output_type": "execute_result"
    }
   ],
   "source": [
    "# Rule models\n",
    "rm_train, rm_test = train_test_split(df_clean,random_state=42)\n",
    "ripper_clf = lw.RIPPER()\n",
    "ripper_clf.fit(rm_train, class_feat='TARGET_B',pos_class=1)\n",
    "ripper_clf.ruleset_"
   ]
  },
  {
   "cell_type": "code",
   "execution_count": 12,
   "metadata": {
    "ExecuteTime": {
     "end_time": "2020-12-30T23:50:11.742368Z",
     "start_time": "2020-12-30T23:50:01.917311Z"
    },
    "scrolled": false
   },
   "outputs": [
    {
     "name": "stdout",
     "output_type": "stream",
     "text": [
      "Accuracy Score Training Set RIPPER - F1 Macro:  0.4319986915811424\n",
      "Accuracy Score Training Set RIPPER - F1 Weighted:  0.645665308999552\n",
      "Accuracy Score Training Set RIPPER - Recall Macro:  0.5014175861730609\n",
      "Accuracy Score Training Set RIPPER - Recall Weighted:  0.7514188422247446\n",
      "Accuracy Score Training Set RIPPER - Accuracy:  0.7514188422247446 \n",
      "\n",
      "Accuracy Score Training Set Decision Tree - F1 Macro:  0.4653030406985724\n",
      "Accuracy Score Training Set Decision Tree - F1 Weighted:  0.662449654701125\n",
      "Accuracy Score Training Set Decision Tree - Recall Macro:  0.5157240970277683\n",
      "Accuracy Score Training Set Decision Tree - Recall Weighted:  0.7550510783200908\n",
      "Accuracy Score Training Set Decision Tree - Accuracy:  0.7550510783200908 \n",
      "\n",
      "Accuracy Score Training Set Naive Bayes Classifier - F1 Macro:  0.5593394205350986\n",
      "Accuracy Score Training Set Naive Bayes Classifier - F1 Weighted:  0.6763018481498373\n",
      "Accuracy Score Training Set Naive Bayes Classifier - Recall Macro:  0.557530382710151\n",
      "Accuracy Score Training Set Naive Bayes Classifier - Recall Weighted:  0.6830874006810442\n",
      "Accuracy Score Training Set Naive Bayes Classifier - Accuracy:  0.6830874006810442 \n",
      "\n",
      "Accuracy Score Training Set Linear Regression - F1 Macro:  0.43249239393146915\n",
      "Accuracy Score Training Set Linear Regression - F1 Weighted:  0.6451995542009324\n",
      "Accuracy Score Training Set Linear Regression - Recall Macro:  0.5012146143494338\n",
      "Accuracy Score Training Set Linear Regression - Recall Weighted:  0.7502837684449489\n",
      "Accuracy Score Training Set Linear Regression - Accuracy:  0.7502837684449489 \n",
      "\n",
      "Accuracy Score Training Set K-Nearest Neighbours - F1 Macro:  0.5265161116776385\n",
      "Accuracy Score Training Set K-Nearest Neighbours - F1 Weighted:  0.6948658274751162\n",
      "Accuracy Score Training Set K-Nearest Neighbours - Recall Macro:  0.5467150086775421\n",
      "Accuracy Score Training Set K-Nearest Neighbours - Recall Weighted:  0.7651153991676125\n",
      "Accuracy Score Training Set K-Nearest Neighbours - Accuracy:  0.7651153991676125 \n",
      "\n"
     ]
    },
    {
     "data": {
      "image/png": "[encoded data removed]",
      "text/plain": [
       "<Figure size 720x720 with 5 Axes>"
      ]
     },
     "metadata": {},
     "output_type": "display_data"
    }
   ],
   "source": [
    "models = [ripper_clf, dt, gnb, lr, knn]\n",
    "names = ['RIPPER','Decision Tree', 'Naive Bayes Classifier','Linear Regression','K-Nearest Neighbours']\n",
    "\n",
    "f, axes = plt.subplots(1, 5, figsize=(10, 10))\n",
    "f.tight_layout()\n",
    "\n",
    "for model, name, i in zip(models, names, range(len(names))):\n",
    "    \n",
    "    if model == ripper_clf and name == 'RIPPER':\n",
    "        class_feat='TARGET_B'\n",
    "        rm_X_train = rm_train.drop(class_feat, axis=1)\n",
    "        rm_y_train = rm_train[class_feat]\n",
    "        rm_y_pred = ripper_clf.predict(rm_X_train)\n",
    "        \n",
    "        f1_macro = f1_score(rm_y_train, rm_y_pred, average='macro')\n",
    "        f1_wighted = f1_score(rm_y_train, rm_y_pred, average='weighted')\n",
    "        recall_macro = recall_score(rm_y_train, rm_y_pred, average='macro')\n",
    "        recall_wighted = recall_score(rm_y_train, rm_y_pred, average='weighted')\n",
    "        accuracy = accuracy_score(rm_y_train, rm_y_pred)\n",
    "        \n",
    "        print('Accuracy Score Training Set {name} - F1 Macro: '.format(name=name), f1_macro)\n",
    "        print('Accuracy Score Training Set {name} - F1 Weighted: '.format(name=name), f1_wighted)\n",
    "        print('Accuracy Score Training Set {name} - Recall Macro: '.format(name=name), recall_macro)\n",
    "        print('Accuracy Score Training Set {name} - Recall Weighted: '.format(name=name), recall_wighted)\n",
    "        print('Accuracy Score Training Set {name} - Accuracy: '.format(name=name), accuracy, '\\n')\n",
    "        \n",
    "        # Confusion Matrix\n",
    "        cm_train = confusion_matrix(rm_y_train, rm_y_pred)\n",
    "        sns.heatmap(cm_train.T, square=True, annot=True, fmt='d', cbar=False, ax=axes[i])\n",
    "        axes[i].set_xlabel('True Label')\n",
    "        axes[i].set_ylabel('Predicted Label');\n",
    "        axes[i].set_title(name)\n",
    "    \n",
    "    else:\n",
    "\n",
    "        model = model.fit(X_train, y_train)\n",
    "        y_pred = model.predict(X_train)\n",
    "        \n",
    "        f1_macro = f1_score(y_train, y_pred, average='macro')\n",
    "        f1_wighted = f1_score(y_train, y_pred, average='weighted')\n",
    "        recall_macro = recall_score(y_train, y_pred, average='macro')\n",
    "        recall_wighted = recall_score(y_train, y_pred, average='weighted')\n",
    "        accuracy = accuracy_score(y_train, y_pred)\n",
    "        \n",
    "        print('Accuracy Score Training Set {name} - F1 Macro: '.format(name=name), f1_macro)\n",
    "        print('Accuracy Score Training Set {name} - F1 Weighted: '.format(name=name), f1_wighted)\n",
    "        print('Accuracy Score Training Set {name} - Recall Macro: '.format(name=name), recall_macro)\n",
    "        print('Accuracy Score Training Set {name} - Recall Weighted: '.format(name=name), recall_wighted)\n",
    "        print('Accuracy Score Training Set {name} - Accuracy: '.format(name=name), accuracy, '\\n')\n",
    "        \n",
    "        cm_train = confusion_matrix(y_train, y_pred)\n",
    "\n",
    "        sns.heatmap(cm_train.T, square=True, annot=True, fmt='d', cbar=False, ax=axes[i])\n",
    "        axes[i].set_xlabel('True Label')\n",
    "        axes[i].set_ylabel('Predicted Label');\n",
    "        axes[i].set_title(name)"
   ]
  },
  {
   "cell_type": "code",
   "execution_count": 13,
   "metadata": {
    "ExecuteTime": {
     "end_time": "2020-12-30T23:50:17.064242Z",
     "start_time": "2020-12-30T23:50:11.745695Z"
    },
    "scrolled": false
   },
   "outputs": [
    {
     "name": "stdout",
     "output_type": "stream",
     "text": [
      "Accuracy Score Testing Set RIPPER - F1 Macro:  0.4283119242247308\n",
      "Accuracy Score Testing Set RIPPER - F1 Weighted:  0.6419818310440586\n",
      "Accuracy Score Testing Set RIPPER - Recall Macro:  0.4998485766202302\n",
      "Accuracy Score Testing Set RIPPER - Recall Weighted:  0.7492056286881525\n",
      "Accuracy Score Testing Set RIPPER - Accuracy:  0.7492056286881525 \n",
      "\n",
      "Accuracy Score Testing Set Decision Tree - F1 Macro:  0.4672414729122146\n",
      "Accuracy Score Testing Set Decision Tree - F1 Weighted:  0.6635709469830743\n",
      "Accuracy Score Testing Set Decision Tree - Recall Macro:  0.5165407263331181\n",
      "Accuracy Score Testing Set Decision Tree - Recall Weighted:  0.7553336359509759\n",
      "Accuracy Score Testing Set Decision Tree - Accuracy:  0.7553336359509759 \n",
      "\n",
      "Accuracy Score Testing Set Naive Bayes Classifier - F1 Macro:  0.5562527208535332\n",
      "Accuracy Score Testing Set Naive Bayes Classifier - F1 Weighted:  0.6732455432458829\n",
      "Accuracy Score Testing Set Naive Bayes Classifier - Recall Macro:  0.5547424287907223\n",
      "Accuracy Score Testing Set Naive Bayes Classifier - Recall Weighted:  0.6790739900136178\n",
      "Accuracy Score Testing Set Naive Bayes Classifier - Accuracy:  0.6790739900136178 \n",
      "\n",
      "Accuracy Score Testing Set Linear Regression - F1 Macro:  0.4330162272168004\n",
      "Accuracy Score Testing Set Linear Regression - F1 Weighted:  0.6455050702254149\n",
      "Accuracy Score Testing Set Linear Regression - Recall Macro:  0.5012164342161126\n",
      "Accuracy Score Testing Set Linear Regression - Recall Weighted:  0.7501134816159782\n",
      "Accuracy Score Testing Set Linear Regression - Accuracy:  0.7501134816159782 \n",
      "\n",
      "Accuracy Score Testing Set K-Nearest Neighbours - F1 Macro:  0.45794799233217776\n",
      "Accuracy Score Testing Set K-Nearest Neighbours - F1 Weighted:  0.6501189892047897\n",
      "Accuracy Score Testing Set K-Nearest Neighbours - Recall Macro:  0.500368424658533\n",
      "Accuracy Score Testing Set K-Nearest Neighbours - Recall Weighted:  0.7292328642759873\n",
      "Accuracy Score Testing Set K-Nearest Neighbours - Accuracy:  0.7292328642759873 \n",
      "\n"
     ]
    },
    {
     "data": {
      "image/png": "[encoded data removed]",
      "text/plain": [
       "<Figure size 720x720 with 5 Axes>"
      ]
     },
     "metadata": {},
     "output_type": "display_data"
    }
   ],
   "source": [
    "# Testing Data\n",
    "\n",
    "f, axes = plt.subplots(1, 5, figsize=(10, 10))\n",
    "f.tight_layout()\n",
    "\n",
    "for model, name, i in zip(models, names, range(len(names))):\n",
    "    \n",
    "    if model == ripper_clf and name == 'RIPPER':\n",
    "        class_feat='TARGET_B'\n",
    "        rm_X_test = rm_test.drop(class_feat, axis=1)\n",
    "        rm_y_test = rm_test[class_feat]\n",
    "        rm_y_pred = ripper_clf.predict(rm_X_test)\n",
    "        \n",
    "        f1_macro = f1_score(rm_y_test, rm_y_pred, average='macro')\n",
    "        f1_wighted = f1_score(rm_y_test, rm_y_pred, average='weighted')\n",
    "        recall_macro = recall_score(rm_y_test, rm_y_pred, average='macro')\n",
    "        recall_wighted = recall_score(rm_y_test, rm_y_pred, average='weighted')\n",
    "        accuracy = accuracy_score(rm_y_test, rm_y_pred)\n",
    "        \n",
    "        print('Accuracy Score Testing Set {name} - F1 Macro: '.format(name=name), f1_macro)\n",
    "        print('Accuracy Score Testing Set {name} - F1 Weighted: '.format(name=name), f1_wighted)\n",
    "        print('Accuracy Score Testing Set {name} - Recall Macro: '.format(name=name), recall_macro)\n",
    "        print('Accuracy Score Testing Set {name} - Recall Weighted: '.format(name=name), recall_wighted)\n",
    "        print('Accuracy Score Testing Set {name} - Accuracy: '.format(name=name), accuracy, '\\n')\n",
    "        \n",
    "        # Confusion Matrix\n",
    "        cm_test = confusion_matrix(rm_y_test, rm_y_pred)\n",
    "        sns.heatmap(cm_test.T, square=True, annot=True, fmt='d', cbar=False, ax=axes[i])\n",
    "        axes[i].set_xlabel('True Label')\n",
    "        axes[i].set_ylabel('Predicted Label');\n",
    "        axes[i].set_title(name)\n",
    "    \n",
    "    else:\n",
    "    \n",
    "        model = model.fit(X_train, y_train)\n",
    "        y_pred = model.predict(X_test)\n",
    "        \n",
    "        f1_macro = f1_score(y_test, y_pred, average='macro')\n",
    "        f1_wighted = f1_score(y_test, y_pred, average='weighted')\n",
    "        recall_macro = recall_score(y_test, y_pred, average='macro')\n",
    "        recall_wighted = recall_score(y_test, y_pred, average='weighted')\n",
    "        accuracy = accuracy_score(y_test, y_pred)\n",
    "        \n",
    "        print('Accuracy Score Testing Set {name} - F1 Macro: '.format(name=name), f1_macro)\n",
    "        print('Accuracy Score Testing Set {name} - F1 Weighted: '.format(name=name), f1_wighted)\n",
    "        print('Accuracy Score Testing Set {name} - Recall Macro: '.format(name=name), recall_macro)\n",
    "        print('Accuracy Score Testing Set {name} - Recall Weighted: '.format(name=name), recall_wighted)\n",
    "        print('Accuracy Score Testing Set {name} - Accuracy: '.format(name=name), accuracy, '\\n')\n",
    "        \n",
    "        cm_test = confusion_matrix(y_test, y_pred)\n",
    "\n",
    "        sns.heatmap(cm_test.T, square=True, annot=True, fmt='d', cbar=False, ax=axes[i])\n",
    "        axes[i].set_xlabel('True Label')\n",
    "        axes[i].set_ylabel('Predicted Label');\n",
    "        axes[i].set_title(name)"
   ]
  },
  {
   "cell_type": "markdown",
   "metadata": {},
   "source": [
    "### Results and Discussion "
   ]
  },
  {
   "cell_type": "markdown",
   "metadata": {},
   "source": [
    "**Setting the Parameters**\n",
    "\n",
    "The parameters chosen for each classifier were optimized to improve accuracy. For the DT classifier, using 'entropy' to determine the quality of a split displayed slightly better results than the gini impurity function (criterion='gini'). In addition, adjusting the max_leaf_nodes to 30 also proved beneficial, yet increasing this value did not show any further improvements. No other parameter seemed to have an impact on the scores. As for the Logistic Regression, increasing the maximum number of iterations did not lead to model convergence. Therefore, we established the minimum value for max_iter that would still display the best performance possible. Interestingly, this was the parameter that had greater impact on the scores. The adjustment of the solvers did not show any differences in performance. The algorithm choice for the KNN classifier did not affect the model scores. However, adjusting the number of neighbours did have an impact on performance. We found the optimal value of neighbours to be 6, as lower or higher values lead to worse results. Finally, default parameters were maintained for both NBC and RIPPER algorithm.\n",
    "\n",
    "**Metrics: F1 Macro, F1 Weighted, Recall Macro, Recall Weighted and Accuracy**\n",
    "\n",
    "Different metrics were applied to evaluate the performance of the different classifiers - F1 Macro, F1 Weighted, Recall Macro, Recall Weighted and Accuracy. A 'macro' average calculates the metric for each label and performs an unweighted average. This measurement is not appropriate for imbalanced data and, as such, metrics that include this averaging method will display poor results for our particular data. This is clear for both F1 and Recall scores. On the other hand, simply changing the averaging strategy to 'weighted', takes into account any imbalencement present in the data. Accordingly, the results for F1 Weighted and Recall Weighted are considerably better when compared to F1 Macro and Recall Macro, respectively. As for accuracy, it returned the best performance results from the three methods presented.\n",
    "This is due to the way these metrics are calculated. F1 is calculared from both precision and recall scores, and these consider false positives and false negatives to calculate the respective ratios. On the contrary, accuracy only matches true and predicted labels and thus, it does not account for any data imbalance, which is the reason behind such high scores. Overall, F1 Weighted not only contemplates precision and recall but is also better suited for imbalanced data. Therefore, we will use this metric to choose the best classifier for each task.\n",
    "\n",
    "**Evaluation Methods: 10-Fold Cross Validation and Test Split**\n",
    "\n",
    "To evaluate the models we performed cross validation (CV) and a test split. CV is a more sophisticated replacement for a single split, giving the model the opportunity to train on multiple train-test splits. However, the results were similar between both methods.\n",
    "\n",
    "**Comparison Between Classifiers**\n",
    "\n",
    "The F1 Weighted scores were similiar between the models and there seems to be no overfitting given the consistency with the testing set. As class imbalance increases, the impact of the least represented class is reduced when compared to that of the majority. This is clearly expressed by the confusion matrixes, as a large number of data points from class 1 (donors) are misclassified with class 0 (non-donors) - false negatives. The confusion matrix for the NBC stands out as it shows a greater number of both true and false positives. Consequently, the number of true and false negatives is lower in comparison to the other groups. This distiction might be due to the fact that NBC does not use any type of correlation between variables, displaying a worse performance when learning the majority class (Class 0) while accurately labeling a greater number of data points with the minority class (Class 1). This might indicate a lower sensibility towards data imbalancement. Interestingly, according to the confusion matrixes, KNN seems to be the next classifier to better classify our data, with a greater number of true and false positives after the NBC. \n",
    "In brief, considering the similar F1 Weighted scores all classifires are equally appropriate to perform this taks. However, the NBC presents higher consistency between all the evaluation methods described. In addition, the confusion matrix also shows a better handle on the imbalanced data. Thus, we will choose the NBC to perform binary classification in Task 1.3."
   ]
  },
  {
   "cell_type": "code",
   "execution_count": null,
   "metadata": {},
   "outputs": [],
   "source": []
  }
 ],
 "metadata": {
  "kernelspec": {
   "display_name": "Python 3",
   "language": "python",
   "name": "python3"
  },
  "language_info": {
   "codemirror_mode": {
    "name": "ipython",
    "version": 3
   },
   "file_extension": ".py",
   "mimetype": "text/x-python",
   "name": "python",
   "nbconvert_exporter": "python",
   "pygments_lexer": "ipython3",
   "version": "3.7.7"
  },
  "toc": {
   "base_numbering": 1,
   "nav_menu": {},
   "number_sections": true,
   "sideBar": true,
   "skip_h1_title": true,
   "title_cell": "Table of Contents",
   "title_sidebar": "Contents",
   "toc_cell": false,
   "toc_position": {
    "height": "calc(100% - 180px)",
    "left": "10px",
    "top": "150px",
    "width": "165px"
   },
   "toc_section_display": true,
   "toc_window_display": true
  }
 },
 "nbformat": 4,
 "nbformat_minor": 4
}
